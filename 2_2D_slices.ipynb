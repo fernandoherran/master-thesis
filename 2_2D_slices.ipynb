{
 "cells": [
  {
   "cell_type": "markdown",
   "metadata": {},
   "source": [
    "## 2D slices extraction\n",
    "This notebook is used to extract PNG images from MRI files (with nifti format), which will be used to train a convolutional neural network.  \n",
    "\n",
    "The process is as follows:\n",
    "   - Load Nifti file\n",
    "   - Skull stripping\n",
    "   - Get slices from coronal view\n",
    "   - Add slices in a 2D picture\n",
    "   - Save picture"
   ]
  },
  {
   "cell_type": "markdown",
   "metadata": {},
   "source": [
    "### Initial setup"
   ]
  },
  {
   "cell_type": "code",
   "execution_count": 1,
   "metadata": {},
   "outputs": [],
   "source": [
    "# Specify if user is working on Google Drive\n",
    "google_drive = False"
   ]
  },
  {
   "cell_type": "code",
   "execution_count": 2,
   "metadata": {},
   "outputs": [],
   "source": [
    "if google_drive == True:\n",
    "    \n",
    "    from google.colab import drive \n",
    "    drive.mount('/content/drive')\n",
    "    \n",
    "    path = \"./drive/MyDrive/TFM\"\n",
    "    \n",
    "    import sys\n",
    "    sys.path.append(path)\n",
    "\n",
    "else:\n",
    "    path = \".\"\n",
    "    \n",
    "    import sys\n",
    "    sys.path.append(path)"
   ]
  },
  {
   "cell_type": "markdown",
   "metadata": {},
   "source": [
    "#### Google Colab TPU session"
   ]
  },
  {
   "cell_type": "code",
   "execution_count": 3,
   "metadata": {},
   "outputs": [],
   "source": [
    "# Specify if user is working on a TPU session in Google Colab\n",
    "tpu_session = False"
   ]
  },
  {
   "cell_type": "code",
   "execution_count": 4,
   "metadata": {},
   "outputs": [],
   "source": [
    "if tpu_session == True:\n",
    "    \n",
    "    %tensorflow_version 2.x\n",
    "    import tensorflow as tf\n",
    "    print(\"Tensorflow version \" + tf.__version__)\n",
    "\n",
    "    try:\n",
    "        tpu = tf.distribute.cluster_resolver.TPUClusterResolver()  # TPU detection\n",
    "        print('Running on TPU ', tpu.cluster_spec().as_dict()['worker'])\n",
    "    except ValueError:\n",
    "        raise BaseException('ERROR: Not connected to a TPU runtime; please see the previous cell in this notebook for instructions!')\n",
    "\n",
    "    tf.config.experimental_connect_to_cluster(tpu)\n",
    "    tf.tpu.experimental.initialize_tpu_system(tpu)\n",
    "    tpu_strategy = tf.distribute.experimental.TPUStrategy(tpu)\n",
    "    \n",
    "else:\n",
    "    pass"
   ]
  },
  {
   "cell_type": "markdown",
   "metadata": {},
   "source": [
    "### Import libraries"
   ]
  },
  {
   "cell_type": "code",
   "execution_count": 5,
   "metadata": {},
   "outputs": [],
   "source": [
    "import os\n",
    "import numpy as np\n",
    "from random import randint\n",
    "import matplotlib.pyplot as plt\n",
    "import cv2\n",
    "\n",
    "# Neuroimaging packages\n",
    "import nibabel as nib # Access to neuroimaging data formats\n",
    "import med2image    # Convert medical images to jpg and png (pip install med2image)\n",
    "from scipy import ndimage\n",
    "\n",
    "# Extra utils\n",
    "from aux_functions.aux_functions_cleaning import *"
   ]
  },
  {
   "cell_type": "markdown",
   "metadata": {},
   "source": [
    "### Load Nifti files - Extract 2D slices"
   ]
  },
  {
   "cell_type": "markdown",
   "metadata": {},
   "source": [
    "#### Specify dataset path"
   ]
  },
  {
   "cell_type": "code",
   "execution_count": 24,
   "metadata": {},
   "outputs": [],
   "source": [
    "# Specify folders where there are the 3D zipped Nifti files of the brain \n",
    "root_nifti_files = [\"/datasets/Original_zips/ADNI1_Complete_2Yr_1.5T_images/Zip_3\",\n",
    "                    \"/datasets/Original_zips/ADNI1_Complete_2Yr_1.5T_images/Zip_4\",\n",
    "                    \"/datasets/Original_zips/ADNI1_Complete_2Yr_1.5T_images/Zip_5\"]\n",
    "root_nifti_files = [path + item_ for item_ in root_nifti_files]"
   ]
  },
  {
   "cell_type": "code",
   "execution_count": 30,
   "metadata": {},
   "outputs": [],
   "source": [
    "# Specify folders where to save the 2D slices in PNG format\n",
    "root_png_images = path + \"/datasets/New_png_images/\"\n",
    "\n",
    "# Check if folder where to save the slices exists. If not, create it.\n",
    "if not os.path.exists(root_png_images):\n",
    "    os.mkdir(root_png_images)   "
   ]
  },
  {
   "cell_type": "markdown",
   "metadata": {},
   "source": [
    "#### Extract 2D slice from each Nitfi file\n",
    "  - Titles of the 3D nitfi files have this format: *ADNI_137_S_0283_MR_MPR-R__GradWarp__N3__Scaled_Br_20070810182546038_S31798_I67027.nii.gz*\n",
    "      - Last item **_\"I67027\"_** of the file name specifies the Image ID, which will be used later on the project.\n",
    "  - 3D Nitfi files have three planes:\n",
    "      - 1st axis - **AXIAL**\n",
    "      - 2nd axis - **CORONAL**\n",
    "      - 3rd axis - **SAGGITAL**"
   ]
  },
  {
   "cell_type": "code",
   "execution_count": 33,
   "metadata": {},
   "outputs": [
    {
     "name": "stdout",
     "output_type": "stream",
     "text": [
      "[+] Folder: {'./datasets/Original_zips/ADNI1_Complete_2Yr_1.5T_images/Zip_3'}\n",
      "    [-] Number of files in the folder: 129\n",
      "        ./datasets/New_png_images/I112184.png was already converted to PNG\n",
      "        0 images converted to PNG\n",
      "        ./datasets/New_png_images/I121003.png was already converted to PNG\n",
      "        0 images converted to PNG\n",
      "        ./datasets/New_png_images/I136698.png was already converted to PNG\n",
      "        0 images converted to PNG\n",
      "        ./datasets/New_png_images/I102450.png was already converted to PNG\n",
      "        0 images converted to PNG\n",
      "        ./datasets/New_png_images/I104357.png was already converted to PNG\n",
      "        0 images converted to PNG\n",
      "        ./datasets/New_png_images/I83334.png was already converted to PNG\n",
      "        0 images converted to PNG\n",
      "        ./datasets/New_png_images/I140747.png was already converted to PNG\n",
      "        0 images converted to PNG\n",
      "        ./datasets/New_png_images/I124682.png was already converted to PNG\n",
      "        0 images converted to PNG\n",
      "        ./datasets/New_png_images/I66536.png was already converted to PNG\n",
      "        0 images converted to PNG\n",
      "        ./datasets/New_png_images/I101349.png was already converted to PNG\n",
      "        0 images converted to PNG\n",
      "        20 images converted to PNG\n"
     ]
    },
    {
     "ename": "KeyboardInterrupt",
     "evalue": "",
     "output_type": "error",
     "traceback": [
      "\u001b[0;31m---------------------------------------------------------------------------\u001b[0m",
      "\u001b[0;31mKeyboardInterrupt\u001b[0m                         Traceback (most recent call last)",
      "\u001b[0;32m<ipython-input-33-5843a5530021>\u001b[0m in \u001b[0;36m<module>\u001b[0;34m\u001b[0m\n\u001b[1;32m     26\u001b[0m         \u001b[0;32melse\u001b[0m\u001b[0;34m:\u001b[0m\u001b[0;34m\u001b[0m\u001b[0;34m\u001b[0m\u001b[0m\n\u001b[1;32m     27\u001b[0m             \u001b[0;31m# Get image with multiple slices and save it in PNG format\u001b[0m\u001b[0;34m\u001b[0m\u001b[0;34m\u001b[0m\u001b[0;34m\u001b[0m\u001b[0m\n\u001b[0;32m---> 28\u001b[0;31m             \u001b[0mextract_slice\u001b[0m\u001b[0;34m(\u001b[0m\u001b[0mimage\u001b[0m\u001b[0;34m,\u001b[0m \u001b[0mtitle\u001b[0m\u001b[0;34m)\u001b[0m\u001b[0;34m\u001b[0m\u001b[0;34m\u001b[0m\u001b[0m\n\u001b[0m\u001b[1;32m     29\u001b[0m             \u001b[0mcount_images\u001b[0m \u001b[0;34m+=\u001b[0m \u001b[0;36m1\u001b[0m\u001b[0;34m\u001b[0m\u001b[0;34m\u001b[0m\u001b[0m\n\u001b[1;32m     30\u001b[0m \u001b[0;34m\u001b[0m\u001b[0m\n",
      "\u001b[0;32m/Volumes/HardDrive/TFM/Code/aux_functions/aux_functions_cleaning.py\u001b[0m in \u001b[0;36mextract_slice\u001b[0;34m(image, title)\u001b[0m\n\u001b[1;32m    212\u001b[0m \u001b[0;34m\u001b[0m\u001b[0m\n\u001b[1;32m    213\u001b[0m             \u001b[0;31m# Extract slice after skull-stripping\u001b[0m\u001b[0;34m\u001b[0m\u001b[0;34m\u001b[0m\u001b[0;34m\u001b[0m\u001b[0m\n\u001b[0;32m--> 214\u001b[0;31m             \u001b[0mslice_cleaned\u001b[0m \u001b[0;34m=\u001b[0m \u001b[0mreturn_clean_slice\u001b[0m\u001b[0;34m(\u001b[0m\u001b[0mslice_original\u001b[0m\u001b[0;34m,\u001b[0m \u001b[0mslice_index\u001b[0m\u001b[0;34m,\u001b[0m \u001b[0mmask\u001b[0m\u001b[0;34m,\u001b[0m \u001b[0;36m2\u001b[0m\u001b[0;34m)\u001b[0m\u001b[0;34m\u001b[0m\u001b[0;34m\u001b[0m\u001b[0m\n\u001b[0m\u001b[1;32m    215\u001b[0m \u001b[0;34m\u001b[0m\u001b[0m\n\u001b[1;32m    216\u001b[0m             \u001b[0;31m# Cut margins slice\u001b[0m\u001b[0;34m\u001b[0m\u001b[0;34m\u001b[0m\u001b[0;34m\u001b[0m\u001b[0m\n",
      "\u001b[0;32m/Volumes/HardDrive/TFM/Code/aux_functions/aux_functions_cleaning.py\u001b[0m in \u001b[0;36mreturn_clean_slice\u001b[0;34m(slice_original, slice_index, mask, border_voxels)\u001b[0m\n\u001b[1;32m    254\u001b[0m                     \u001b[0mslice_cleaned\u001b[0m\u001b[0;34m[\u001b[0m\u001b[0mindex_i\u001b[0m\u001b[0;34m,\u001b[0m \u001b[0mindex_k\u001b[0m\u001b[0;34m]\u001b[0m \u001b[0;34m=\u001b[0m \u001b[0mslice_original\u001b[0m\u001b[0;34m[\u001b[0m\u001b[0mindex_i\u001b[0m\u001b[0;34m,\u001b[0m \u001b[0mindex_k\u001b[0m\u001b[0;34m]\u001b[0m\u001b[0;34m\u001b[0m\u001b[0;34m\u001b[0m\u001b[0m\n\u001b[1;32m    255\u001b[0m \u001b[0;34m\u001b[0m\u001b[0m\n\u001b[0;32m--> 256\u001b[0;31m                 \u001b[0;32melif\u001b[0m \u001b[0;34m(\u001b[0m\u001b[0mmask\u001b[0m\u001b[0;34m[\u001b[0m\u001b[0mindex_i\u001b[0m\u001b[0;34m,\u001b[0m  \u001b[0mslice_index\u001b[0m\u001b[0;34m,\u001b[0m \u001b[0mindex_k\u001b[0m\u001b[0;34m]\u001b[0m \u001b[0;34m==\u001b[0m \u001b[0;32mFalse\u001b[0m\u001b[0;34m)\u001b[0m \u001b[0;34m&\u001b[0m \u001b[0;34m(\u001b[0m\u001b[0mmask\u001b[0m\u001b[0;34m[\u001b[0m\u001b[0mindex_i\u001b[0m\u001b[0;34m,\u001b[0m  \u001b[0mslice_index\u001b[0m\u001b[0;34m,\u001b[0m \u001b[0mindex_k\u001b[0m \u001b[0;34m+\u001b[0m \u001b[0mborder_voxels\u001b[0m\u001b[0;34m]\u001b[0m \u001b[0;34m==\u001b[0m \u001b[0;32mTrue\u001b[0m\u001b[0;34m)\u001b[0m\u001b[0;34m:\u001b[0m\u001b[0;34m\u001b[0m\u001b[0;34m\u001b[0m\u001b[0m\n\u001b[0m\u001b[1;32m    257\u001b[0m                     \u001b[0mslice_cleaned\u001b[0m\u001b[0;34m[\u001b[0m\u001b[0mindex_i\u001b[0m\u001b[0;34m,\u001b[0m \u001b[0mindex_k\u001b[0m\u001b[0;34m]\u001b[0m \u001b[0;34m=\u001b[0m \u001b[0mslice_original\u001b[0m\u001b[0;34m[\u001b[0m\u001b[0mindex_i\u001b[0m\u001b[0;34m,\u001b[0m \u001b[0mindex_k\u001b[0m\u001b[0;34m]\u001b[0m\u001b[0;34m\u001b[0m\u001b[0;34m\u001b[0m\u001b[0m\n\u001b[1;32m    258\u001b[0m \u001b[0;34m\u001b[0m\u001b[0m\n",
      "\u001b[0;31mKeyboardInterrupt\u001b[0m: "
     ]
    },
    {
     "data": {
      "image/png": "[encoded data removed]",
      "text/plain": [
       "<Figure size 504x322.875 with 6 Axes>"
      ]
     },
     "metadata": {
      "needs_background": "light"
     },
     "output_type": "display_data"
    }
   ],
   "source": [
    "for folder in root_nifti_files:\n",
    "    \n",
    "    # Check number of files in the folder\n",
    "    print(f\"[+] Folder:\", {folder})\n",
    "    print(f\"    [-] Number of files in the folder:\", len(os.listdir(folder)))\n",
    "    \n",
    "    count_images = 0  # Initialize images counter\n",
    "    \n",
    "    for file in os.listdir(folder):\n",
    "    \n",
    "        # Avoid trigerring .DS_Store (when use macOS)\n",
    "        if file.startswith('.DS_Store'):\n",
    "            continue\n",
    "\n",
    "        if file.endswith('.nii.gz'):\n",
    "            \n",
    "            # Load Nifti file\n",
    "            image = nib.load(os.path.join(folder, file))\n",
    "\n",
    "        # Retrieve Image ID from the 3D nitfi file name\n",
    "        title = root_png_images + file.split(\"_\")[-1].split(\".\")[0] + '.png'\n",
    "\n",
    "        if os.path.exists(title):\n",
    "            print(f\"        {title} was already converted to PNG\")\n",
    "            \n",
    "        else:\n",
    "            # Get image with multiple slices and save it in PNG format\n",
    "            extract_slice(image, title)\n",
    "            count_images += 1\n",
    "                \n",
    "        # Print counter status\n",
    "        if(count_images % 20 == 0):\n",
    "            print(f\"        {count_images} images converted to PNG\")\n",
    "            \n",
    "\n",
    "    print(f\"    [-] Number of images converted to PNG:\", count_images)"
   ]
  },
  {
   "cell_type": "raw",
   "metadata": {},
   "source": [
    "for folder in root_nifti_files:\n",
    "    \n",
    "    # Check number of files in the folder\n",
    "    print(f\"[+] Folder:\", {folder})\n",
    "    print(f\"    [-] Number of files in the folder:\", len(os.listdir(folder)))\n",
    "    \n",
    "    # Load zipped 3D Nifti files from the folder\n",
    "    images, titles, shapes = load_images(folder)\n",
    "    print(f\"    [-] Number of images loaded:\", len(images))\n",
    "    print(f\"    [-] Shapes of images loaded:\", shapes)\n",
    "    \n",
    "    # Convert Nifti files to PNG format\n",
    "    count_images = 0  # Initialize images counter\n",
    "\n",
    "    for index, image in enumerate(images):\n",
    "\n",
    "        # Retrieve Image ID from the 3D nitfi file name (from titles list)\n",
    "        title = root_png_images + titles[index].split(\"_\")[-1].split(\".\")[0] + '.png'\n",
    "\n",
    "        if os.path.exists(title):\n",
    "            print(f\"    [-] {title} was already converted to PNG\")\n",
    "            \n",
    "        else:\n",
    "            # Get image with multiple slices and save it in PNG format\n",
    "            extract_slice(image, title)\n",
    "            count_images += 1\n",
    "                \n",
    "        # Print counter status\n",
    "        if(count_images % 20 == 0):\n",
    "            print(f\"        {count_images} images converted to PNG\")\n",
    "            \n",
    "\n",
    "    print(f\"    [-] Number of images converted to PNG:\", count_images)"
   ]
  },
  {
   "cell_type": "markdown",
   "metadata": {},
   "source": [
    "### Skull-stripping\n",
    "Below it can be seen how the skull-stripping process works for each individual Nifti file."
   ]
  },
  {
   "cell_type": "markdown",
   "metadata": {},
   "source": [
    "#### Load Nitfi file"
   ]
  },
  {
   "cell_type": "code",
   "execution_count": null,
   "metadata": {},
   "outputs": [],
   "source": [
    "# Specify folders where there are the 3D zipped Nifti file of the brain \n",
    "root_nifti_files = path + \"/Datasets/Original_zips/ADNI1_Complete_3Yr_1.5T_images\"\n",
    "file = \"ADNI_002_S_0295_MR_MPR__GradWarp__B1_Correction__N3__Scaled_Br_20081026123329555_S54061_I123685.nii.gz\""
   ]
  },
  {
   "cell_type": "code",
   "execution_count": null,
   "metadata": {},
   "outputs": [],
   "source": [
    "# Load Nitfi file\n",
    "image = nib.load(os.path.join(root_nifti_files, file))\n",
    "\n",
    "# Get image data\n",
    "data = image.get_fdata()"
   ]
  },
  {
   "cell_type": "markdown",
   "metadata": {},
   "source": [
    "#### Detect brain mass"
   ]
  },
  {
   "cell_type": "code",
   "execution_count": null,
   "metadata": {},
   "outputs": [],
   "source": [
    "# Initialize brain tissue extractor\n",
    "ext = Extractor()\n",
    "\n",
    "# Calculate probability of being brain tissue\n",
    "prob = ext.run(data) \n",
    "\n",
    "# Extract mask with probability higher than 0.5\n",
    "mask = prob > 0.5"
   ]
  },
  {
   "cell_type": "markdown",
   "metadata": {},
   "source": [
    "#### Extract slice before & after skull stripping"
   ]
  },
  {
   "cell_type": "code",
   "execution_count": null,
   "metadata": {},
   "outputs": [],
   "source": [
    "# Set-up slice\n",
    "slice_index  = 109\n",
    "slice_original = np.array(data[:, slice_index, :])\n",
    "\n",
    "# Extract slice after skull-stripping \n",
    "slice_cleaned = return_clean_slice(slice_original, slice_index, mask, 5)"
   ]
  },
  {
   "cell_type": "markdown",
   "metadata": {},
   "source": [
    "#### Plot figures with original slice and cleaned slice"
   ]
  },
  {
   "cell_type": "code",
   "execution_count": null,
   "metadata": {},
   "outputs": [],
   "source": [
    "# Set figure\n",
    "fig, axes = plt.subplots(1, 3, figsize = (10, 8))\n",
    "\n",
    "# Plot slice before cleaning\n",
    "axes[0].imshow(slice_original, cmap=\"gray\")\n",
    "axes[0].set_title('Brain slice')\n",
    "\n",
    "# Plot brain mass detected\n",
    "axes[1].imshow(mask[:, slice_index, :], cmap=\"gray\")\n",
    "axes[1].yaxis.set_visible(False)\n",
    "axes[1].set_title('Brain mass')\n",
    "\n",
    "# Plot slice after cleaning\n",
    "axes[2].imshow(slice_cleaned, cmap=\"gray\")\n",
    "axes[2].yaxis.set_visible(False)\n",
    "axes[2].set_title('Cleaned brain slice');"
   ]
  },
  {
   "cell_type": "markdown",
   "metadata": {},
   "source": [
    "### Extract 3D brain"
   ]
  },
  {
   "cell_type": "markdown",
   "metadata": {},
   "source": [
    "#### Load Nitfi file"
   ]
  },
  {
   "cell_type": "code",
   "execution_count": null,
   "metadata": {},
   "outputs": [],
   "source": [
    "# Specify folders where there are the 3D zipped Nifti file of the brain \n",
    "root_nifti_files = path + \"/datasets/\"\n",
    "file = \"ADNI_002_S_0295_MR_MPR__GradWarp__B1_Correction__N3__Scaled_Br_20070802163833409_S32678_I64025.nii.gz\""
   ]
  },
  {
   "cell_type": "code",
   "execution_count": null,
   "metadata": {},
   "outputs": [],
   "source": [
    "# Load Nitfi file\n",
    "image = nib.load(os.path.join(root_nifti_files, file))\n",
    "\n",
    "# Get image data\n",
    "data = image.get_fdata()"
   ]
  },
  {
   "cell_type": "markdown",
   "metadata": {},
   "source": [
    "#### Detect brain mass"
   ]
  },
  {
   "cell_type": "code",
   "execution_count": null,
   "metadata": {},
   "outputs": [],
   "source": [
    "# Initialize brain tissue extractor\n",
    "ext = Extractor()\n",
    "\n",
    "# Calculate probability of being brain tissue\n",
    "prob = ext.run(data) \n",
    "\n",
    "# Extract mask with probability higher than 0.5\n",
    "mask = prob > 0.5"
   ]
  },
  {
   "cell_type": "markdown",
   "metadata": {},
   "source": [
    "#### Remove skull stripping from brain"
   ]
  },
  {
   "cell_type": "code",
   "execution_count": null,
   "metadata": {},
   "outputs": [],
   "source": [
    "brain_cleaned = np.zeros((256,256,166), dtype = \"int16\")\n",
    "\n",
    "for index_i, i in enumerate(data):\n",
    "    for index_j, j in enumerate(i):\n",
    "        for index_k, k in enumerate(j):\n",
    "            \n",
    "            if mask[index_i, index_j, index_k] == True:\n",
    "                brain_cleaned[index_i, index_j, index_k] = data[index_i, index_j, index_k]"
   ]
  },
  {
   "cell_type": "markdown",
   "metadata": {},
   "source": [
    "#### Convert brain to Nifti file\n",
    "The following site can be used to visualize 3D Nifti files  \n",
    "https://socr.umich.edu/HTML5/BrainViewer/"
   ]
  },
  {
   "cell_type": "code",
   "execution_count": null,
   "metadata": {},
   "outputs": [],
   "source": [
    "nifti_image = nib.Nifti1Image(brain_cleaned, affine=np.eye(4))"
   ]
  },
  {
   "cell_type": "code",
   "execution_count": null,
   "metadata": {},
   "outputs": [],
   "source": [
    "nib.save(nifti_image, \"nifti_created_2.nii.gz\")  "
   ]
  },
  {
   "cell_type": "markdown",
   "metadata": {},
   "source": [
    "### Nifti files shapes"
   ]
  },
  {
   "cell_type": "markdown",
   "metadata": {},
   "source": [
    "(256, 256, 166)\n",
    "ADNI_002_S_0295_MR_MPR__GradWarp__B1_Correction__N3__Scaled_Br_20081026123329555_S54061_I123685.nii.gz\n",
    "\n",
    "(166, 256, 256)\n",
    "ADNI_002_S_1155_MR_MT1__GradWarp__N3m_Br_20120420155919867_S78071_I299371.nii.gz\n",
    "\n",
    "(160, 192, 192)\n",
    "ADNI_003_S_1122_MR_MT1__GradWarp__N3m_Br_20120308102241125_S80176_I288891.nii.gz\n",
    "\n",
    "(256, 256, 170)\n",
    "ADNI_010_S_0419_MR_MPR____N3__Scaled_Br_20091001170206632_S69112_I155919.nii.gz\n",
    "\n",
    "(192, 192, 160)\n",
    "ADNI_011_S_0003_MR_MPR__GradWarp__B1_Correction__N3__Scaled_Br_20080124113450407_S39296_I88252.nii.gz\n",
    "\n",
    "(170, 256, 256)\n",
    "ADNI_012_S_1133_MR_MT1__N3m_Br_20120308102406161_S84881_I288893.nii.gz\n",
    "\n",
    "(256, 256, 180)\n",
    "ADNI_021_S_0141_MR_MPR__GradWarp__N3__Scaled_Br_20090316133310029_S63464_I139026.nii.gz\n",
    "\n",
    "(256, 256, 184)\n",
    "ADNI_032_S_0214_MR_MPR____N3__Scaled_Br_20090420150801593_S63793_I142010.nii.gz\n",
    "\n",
    "(180, 256, 256)\n",
    "ADNI_116_S_1315_MR_MT1__GradWarp__N3m_Br_20120308104543026_S82700_I288917.nii.gz\n",
    "\n",
    "(256, 256, 162)\n",
    "ADNI_136_S_0107_MR_MPR__GradWarp__B1_Correction__N3__Scaled_Br_20091208153924724_S68219_I160555.nii.gz"
   ]
  },
  {
   "cell_type": "markdown",
   "metadata": {},
   "source": [
    "#### Load Nitfi file"
   ]
  },
  {
   "cell_type": "code",
   "execution_count": null,
   "metadata": {},
   "outputs": [],
   "source": [
    "# Specify folders where there are the 3D zipped Nifti file of the brain \n",
    "root_nifti_files = path + \"/Datasets/Original_zips/ADNI1_Complete_3Yr_1.5T_images\"\n",
    "file = \"ADNI_002_S_1155_MR_MT1__GradWarp__N3m_Br_20120420155919867_S78071_I299371.nii.gz\""
   ]
  },
  {
   "cell_type": "code",
   "execution_count": null,
   "metadata": {},
   "outputs": [],
   "source": [
    "# Load Nitfi file\n",
    "image = nib.load(os.path.join(root_nifti_files, file))\n",
    "\n",
    "# Get image data\n",
    "data = image.get_fdata()\n",
    "\n",
    "# Print image shape\n",
    "print(f\"[+] Shapes of image loaded:\", data.shape)"
   ]
  },
  {
   "cell_type": "markdown",
   "metadata": {},
   "source": [
    "#### Define slice to print"
   ]
  },
  {
   "cell_type": "code",
   "execution_count": null,
   "metadata": {},
   "outputs": [],
   "source": [
    "# Set-up slice\n",
    "slice_index  = 60\n",
    "slice_ = np.array(data[:, slice_index, :])"
   ]
  },
  {
   "cell_type": "markdown",
   "metadata": {},
   "source": [
    "#### Plot figure with 2D slice"
   ]
  },
  {
   "cell_type": "code",
   "execution_count": null,
   "metadata": {},
   "outputs": [],
   "source": [
    "# Set figure\n",
    "fig, axes = plt.subplots(1, 2, figsize = (10, 8))\n",
    "\n",
    "# Plot 2D slice\n",
    "axes[0].imshow(slice_, cmap=\"gray\")\n",
    "axes[0].set_title('Brain slice')\n",
    "\n",
    "rotated_img = ndimage.rotate(slice_, 90)\n",
    "\n",
    "axes[1].imshow(rotated_img, cmap=\"gray\")\n",
    "axes[1].set_title('Brain slice rotated');"
   ]
  },
  {
   "cell_type": "markdown",
   "metadata": {},
   "source": [
    "#### NO ROTATE\n",
    "(256, 256, 166) - face = 0  - DONE  \n",
    "(256, 256, 170) - face = 0  \n",
    "(192, 192, 160) - face = 0  - DONE (un poco justo de abajo)  \n",
    "(256, 256, 180) - face = 0  \n",
    "(256, 256, 184) - face = 0  - DONE  \n",
    "(256, 256, 162) - face = 0  \n",
    "\n",
    "#### ROTATE\n",
    "(166, 256, 256) - face = 256  - DONE  \n",
    "(160, 192, 192) - face = 192  - DONE   \n",
    "(170, 256, 256) - face = 256  - DONE\n",
    "(180, 256, 256) - face = 256  \n",
    "\n",
    "rotated_img = ndimage.rotate(slice_, 90)"
   ]
  },
  {
   "cell_type": "markdown",
   "metadata": {},
   "source": [
    "### Individual slices"
   ]
  },
  {
   "cell_type": "markdown",
   "metadata": {},
   "source": [
    "#### Load Nitfi file"
   ]
  },
  {
   "cell_type": "code",
   "execution_count": null,
   "metadata": {},
   "outputs": [],
   "source": [
    "# Specify folders where there are the 3D zipped Nifti file of the brain \n",
    "root_nifti_files = path + \"/Datasets/Original_zips/ADNI1_Complete_3Yr_1.5T_images\"\n",
    "file = \"ADNI_032_S_0214_MR_MPR____N3__Scaled_Br_20090420150801593_S63793_I142010.nii.gz\""
   ]
  },
  {
   "cell_type": "code",
   "execution_count": null,
   "metadata": {},
   "outputs": [],
   "source": [
    "# Load Nitfi file\n",
    "image = nib.load(os.path.join(root_nifti_files, file))\n",
    "\n",
    "# Print image shape\n",
    "print(f\"[+] Shapes of image loaded:\", image.get_fdata().shape)"
   ]
  },
  {
   "cell_type": "markdown",
   "metadata": {},
   "source": [
    "#### Extract collection of 2D slices"
   ]
  },
  {
   "cell_type": "code",
   "execution_count": null,
   "metadata": {
    "scrolled": false
   },
   "outputs": [],
   "source": [
    "extract_slice(image)"
   ]
  },
  {
   "cell_type": "code",
   "execution_count": null,
   "metadata": {},
   "outputs": [],
   "source": []
  },
  {
   "cell_type": "code",
   "execution_count": null,
   "metadata": {},
   "outputs": [],
   "source": []
  },
  {
   "cell_type": "code",
   "execution_count": null,
   "metadata": {},
   "outputs": [],
   "source": []
  },
  {
   "cell_type": "code",
   "execution_count": null,
   "metadata": {},
   "outputs": [],
   "source": [
    "def slices_matrix_2D(img):\n",
    "    ''' Transform a 3D MRI image into a 2D image, by obtaining 9 slices and placing them in a 4x4 two-dimensional grid.\n",
    "      \n",
    "      All 16 cuts are from a horizontal/axial view. They are selected from the 30th to the 60th level of the original 3D image.\n",
    "      \n",
    "      Parameters:\n",
    "        img -- np.ndarray with the 3D image\n",
    "        \n",
    "      Returns:\n",
    "        np.ndarray -- The resulting 2D image\n",
    "    '''\n",
    "  \n",
    "    # create the final 2D image \n",
    "    image_2D = np.empty(IMG_2D_SHAPE)\n",
    "  \n",
    "    # set the limits and the step\n",
    "    TOP = 60\n",
    "    BOTTOM = 30\n",
    "    STEP = 2\n",
    "    N_CUTS = 8\n",
    "  \n",
    "    # iterator for the cuts\n",
    "    cut_it = TOP\n",
    "    # iterator for the rows of the 2D final image\n",
    "    row_it = 0\n",
    "    # iterator for the columns of the 2D final image\n",
    "    col_it = 0\n",
    "  \n",
    "    for cutting_time in range(N_CUTS):\n",
    "    \n",
    "        # cut\n",
    "        cut = img[:, cut_it, :]\n",
    "        cut_it -= STEP\n",
    "    \n",
    "        # reset the row iterator and move the\n",
    "        # col iterator when needed\n",
    "        if cutting_time in [2, 4, 8]:\n",
    "            row_it = 0\n",
    "            col_it += cut.shape[1]\n",
    "    \n",
    "        # copy the cut to the 2D image\n",
    "        for i in range(cut.shape[0]):\n",
    "            for j in range(cut.shape[1]):\n",
    "                image_2D[i + row_it, j + col_it] = cut[i, j]\n",
    "    \n",
    "        row_it += cut.shape[0]\n",
    "        print(cutting_time)\n",
    "  \n",
    "    # return the final 2D image, with 3 channels\n",
    "    # this is necessary for working with most pre-trained nets\n",
    "    return np.repeat(image_2D[None, ...], 3, axis=0).T\n",
    "    #return image_2D"
   ]
  }
 ],
 "metadata": {
  "kernelspec": {
   "display_name": "Python 3",
   "language": "python",
   "name": "python3"
  },
  "language_info": {
   "codemirror_mode": {
    "name": "ipython",
    "version": 3
   },
   "file_extension": ".py",
   "mimetype": "text/x-python",
   "name": "python",
   "nbconvert_exporter": "python",
   "pygments_lexer": "ipython3",
   "version": "3.8.5"
  }
 },
 "nbformat": 4,
 "nbformat_minor": 4
}
