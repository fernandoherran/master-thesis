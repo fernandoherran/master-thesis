{
 "cells": [
  {
   "cell_type": "markdown",
   "metadata": {
    "id": "Ys1quYVrXIXQ"
   },
   "source": [
    "### Initial set-up"
   ]
  },
  {
   "cell_type": "code",
   "execution_count": 1,
   "metadata": {
    "executionInfo": {
     "elapsed": 765,
     "status": "ok",
     "timestamp": 1621357689481,
     "user": {
      "displayName": "Fernando Herran",
      "photoUrl": "",
      "userId": "09119314463851443877"
     },
     "user_tz": -120
    },
    "id": "w7cgAHv2XIXd"
   },
   "outputs": [],
   "source": [
    "# Specify if user is working on Google Drive\n",
    "google_drive = False"
   ]
  },
  {
   "cell_type": "code",
   "execution_count": 2,
   "metadata": {
    "colab": {
     "base_uri": "https://localhost:8080/"
    },
    "executionInfo": {
     "elapsed": 532,
     "status": "ok",
     "timestamp": 1621366218824,
     "user": {
      "displayName": "Fernando Herran",
      "photoUrl": "",
      "userId": "09119314463851443877"
     },
     "user_tz": -120
    },
    "id": "OR4Iy305XIXe",
    "outputId": "0f6a992c-d5e3-4fd3-a60b-426c6545d8f7"
   },
   "outputs": [],
   "source": [
    "if google_drive == True:\n",
    "    \n",
    "    from google.colab import drive \n",
    "    drive.mount('/content/drive')\n",
    "    \n",
    "    path = \"./drive/MyDrive/TFM/\"\n",
    "    \n",
    "    import sys\n",
    "    sys.path.append(path)\n",
    "\n",
    "else:\n",
    "    path = \"./\"\n",
    "    \n",
    "    import sys\n",
    "    sys.path.append(path)"
   ]
  },
  {
   "cell_type": "markdown",
   "metadata": {
    "id": "TRGI3GB72ifc"
   },
   "source": [
    "#### Google Colab TPU session"
   ]
  },
  {
   "cell_type": "code",
   "execution_count": 3,
   "metadata": {
    "executionInfo": {
     "elapsed": 665,
     "status": "ok",
     "timestamp": 1621357693980,
     "user": {
      "displayName": "Fernando Herran",
      "photoUrl": "",
      "userId": "09119314463851443877"
     },
     "user_tz": -120
    },
    "id": "pljIfdII2doC"
   },
   "outputs": [],
   "source": [
    "# Specify if user is working on a TPU session in Google Colab\n",
    "tpu_session = False"
   ]
  },
  {
   "cell_type": "code",
   "execution_count": 4,
   "metadata": {
    "colab": {
     "base_uri": "https://localhost:8080/"
    },
    "executionInfo": {
     "elapsed": 14234,
     "status": "ok",
     "timestamp": 1621357710687,
     "user": {
      "displayName": "Fernando Herran",
      "photoUrl": "",
      "userId": "09119314463851443877"
     },
     "user_tz": -120
    },
    "id": "qIaHwN_O2d2D",
    "outputId": "71ae0baa-d280-4b26-9a5e-c502e19af309"
   },
   "outputs": [],
   "source": [
    "if tpu_session == True:\n",
    "    \n",
    "    %tensorflow_version 2.x\n",
    "    import tensorflow as tf\n",
    "    print(\"Tensorflow version \" + tf.__version__)\n",
    "\n",
    "    try:\n",
    "        tpu = tf.distribute.cluster_resolver.TPUClusterResolver()  # TPU detection\n",
    "        print('Running on TPU ', tpu.cluster_spec().as_dict()['worker'])\n",
    "    except ValueError:\n",
    "        raise BaseException('ERROR: Not connected to a TPU runtime; please see the previous cell in this notebook for instructions!')\n",
    "\n",
    "    tf.config.experimental_connect_to_cluster(tpu)\n",
    "    tf.tpu.experimental.initialize_tpu_system(tpu)\n",
    "    tpu_strategy = tf.distribute.experimental.TPUStrategy(tpu)\n",
    "    \n",
    "else:\n",
    "    pass"
   ]
  },
  {
   "cell_type": "markdown",
   "metadata": {
    "id": "6LYcLeXnjl5q"
   },
   "source": [
    "### Import libraries"
   ]
  },
  {
   "cell_type": "code",
   "execution_count": 5,
   "metadata": {
    "executionInfo": {
     "elapsed": 805,
     "status": "ok",
     "timestamp": 1621357749719,
     "user": {
      "displayName": "Fernando Herran",
      "photoUrl": "",
      "userId": "09119314463851443877"
     },
     "user_tz": -120
    },
    "id": "mQB5P7qbjl5t"
   },
   "outputs": [],
   "source": [
    "import os\n",
    "import numpy as np\n",
    "import pandas as pd\n",
    "import pickle\n",
    "import time\n",
    "import cv2\n",
    "\n",
    "# Import keras\n",
    "import tensorflow as tf\n",
    "from tensorflow import keras\n",
    "from tensorflow.keras import layers\n",
    "from tensorflow.keras.models import Sequential, load_model \n",
    "from tensorflow.keras.layers import InputLayer, Conv2D, MaxPool2D, BatchNormalization, Flatten, Dense, Dropout\n",
    "#import tensorflow.keras.activations as Activations\n",
    "#import tensorflow.keras.optimizers as Optimizer\n",
    "#import tensorflow.keras.metrics as Metrics\n",
    "#import tensorflow.keras.utils as Utils\n",
    "#from tensorflow.keras.constraints import max_norm\n",
    "\n",
    "# Import metrics\n",
    "from sklearn.model_selection import train_test_split\n",
    "from sklearn.metrics import confusion_matrix, f1_score, recall_score, precision_score\n",
    "\n",
    "# Import visualization packages\n",
    "from matplotlib import image\n",
    "import seaborn as sns\n",
    "import matplotlib.pyplot as plt\n",
    "%matplotlib inline\n",
    "sns.set_theme(context='notebook')\n",
    "sns.set_style(\"ticks\")\n",
    "\n",
    "# Extra utils\n",
    "from aux_functions.aux_functions_cnn import *\n",
    "\n",
    "#from sklearn.utils import shuffle\n",
    "#from random import randint\n",
    "#from IPython.display import SVG\n",
    "#import matplotlib.gridspec as gridspec"
   ]
  },
  {
   "cell_type": "markdown",
   "metadata": {
    "id": "Mg0hAAQIjl5v"
   },
   "source": [
    "### Load dataset"
   ]
  },
  {
   "cell_type": "markdown",
   "metadata": {
    "id": "96jryhcyUlt-"
   },
   "source": [
    "#### Specify dataset path"
   ]
  },
  {
   "cell_type": "code",
   "execution_count": 6,
   "metadata": {
    "executionInfo": {
     "elapsed": 440,
     "status": "ok",
     "timestamp": 1621357754762,
     "user": {
      "displayName": "Fernando Herran",
      "photoUrl": "",
      "userId": "09119314463851443877"
     },
     "user_tz": -120
    },
    "id": "sgrXU4FMjl5w"
   },
   "outputs": [],
   "source": [
    "# Specify folders where there are the 2D images of the brain\n",
    "root_png_images = path + \"datasets/New_png_images\""
   ]
  },
  {
   "cell_type": "markdown",
   "metadata": {
    "id": "ORYKJ5xtUlt-"
   },
   "source": [
    "#### Load 2D images\n",
    "**NOTE: It takes around 18 minutes to load all 2D images (3287) using TPU session in Google Colab**"
   ]
  },
  {
   "cell_type": "code",
   "execution_count": 7,
   "metadata": {
    "colab": {
     "base_uri": "https://localhost:8080/"
    },
    "executionInfo": {
     "elapsed": 21231,
     "status": "ok",
     "timestamp": 1621357792097,
     "user": {
      "displayName": "Fernando Herran",
      "photoUrl": "",
      "userId": "09119314463851443877"
     },
     "user_tz": -120
    },
    "id": "FJYjhAGljl5x",
    "outputId": "19627a72-5857-4997-dde0-2fd148e5ff54"
   },
   "outputs": [
    {
     "name": "stdout",
     "output_type": "stream",
     "text": [
      "[+] Number of images loaded: 1686\n",
      "[+] Number of titles loaded: 1686\n"
     ]
    }
   ],
   "source": [
    "# Initiliaze lists\n",
    "images = []  # List where to save the images\n",
    "titles = []  # List where to save the name of the images (Image ID)\n",
    "\n",
    "# Load images\n",
    "for index,file in enumerate(os.listdir(root_png_images)):\n",
    "  \n",
    "    # Avoid trigerring .DS_Store (when use macOS)\n",
    "    if file.startswith('.DS_Store'):\n",
    "        continue\n",
    "            \n",
    "    # Read image\n",
    "    img = cv2.imread(os.path.join(root_png_images,file), cv2.IMREAD_UNCHANGED)\n",
    "    \n",
    "    # Resize image\n",
    "    # https://www.tutorialkart.com/opencv/python/opencv-python-resize-image/\n",
    "    # https://enmilocalfunciona.io/tratamiento-de-imagenes-usando-imagedatagenerator-en-keras/\n",
    "    dim = (320, 240)\n",
    "    resized_img = cv2.resize(img, dim, interpolation = cv2.INTER_AREA)\n",
    "\n",
    "    # Convert image from RGBA2RGB\n",
    "    if len(resized_img.shape) > 2 and resized_img.shape[2] == 4:\n",
    "        resized_img = cv2.cvtColor(resized_img, cv2.COLOR_BGRA2BGR)\n",
    "        \n",
    "    # Get title of the image\n",
    "    title = file.split(\".\")[0]\n",
    "    \n",
    "    # Append image & title to lists  \n",
    "    images.append(resized_img)\n",
    "    titles.append(title)\n",
    "    \n",
    "# Check number of images loaded\n",
    "print(\"[+] Number of images loaded:\", len(images))\n",
    "print(\"[+] Number of titles loaded:\", len(titles))"
   ]
  },
  {
   "cell_type": "code",
   "execution_count": 8,
   "metadata": {
    "colab": {
     "base_uri": "https://localhost:8080/",
     "height": 308
    },
    "executionInfo": {
     "elapsed": 1121,
     "status": "ok",
     "timestamp": 1621357867314,
     "user": {
      "displayName": "Fernando Herran",
      "photoUrl": "",
      "userId": "09119314463851443877"
     },
     "user_tz": -120
    },
    "id": "zbOCcQ06_x9B",
    "outputId": "f5c0dd3e-99d5-4ace-9f5a-5b61cbb584a3"
   },
   "outputs": [
    {
     "name": "stdout",
     "output_type": "stream",
     "text": [
      "[+] Shape image: (240, 320, 3)\n"
     ]
    },
    {
     "data": {
      "image/png": "[encoded data removed]",
      "text/plain": [
       "<Figure size 432x288 with 1 Axes>"
      ]
     },
     "metadata": {},
     "output_type": "display_data"
    }
   ],
   "source": [
    "# Show image\n",
    "image_ = images[10]\n",
    "print(\"[+] Shape image:\", image_.shape)\n",
    "plt.imshow(image_);"
   ]
  },
  {
   "cell_type": "markdown",
   "metadata": {
    "id": "GLKW5wLzUluC"
   },
   "source": [
    "#### Load CSV files with image details"
   ]
  },
  {
   "cell_type": "code",
   "execution_count": 9,
   "metadata": {
    "colab": {
     "base_uri": "https://localhost:8080/",
     "height": 304
    },
    "executionInfo": {
     "elapsed": 563,
     "status": "ok",
     "timestamp": 1621357892547,
     "user": {
      "displayName": "Fernando Herran",
      "photoUrl": "",
      "userId": "09119314463851443877"
     },
     "user_tz": -120
    },
    "id": "vtAlISWvjl5z",
    "outputId": "0f97fea9-b89d-414d-8377-eb1ae090d773"
   },
   "outputs": [
    {
     "data": {
      "text/html": [
       "<div>\n",
       "<style scoped>\n",
       "    .dataframe tbody tr th:only-of-type {\n",
       "        vertical-align: middle;\n",
       "    }\n",
       "\n",
       "    .dataframe tbody tr th {\n",
       "        vertical-align: top;\n",
       "    }\n",
       "\n",
       "    .dataframe thead th {\n",
       "        text-align: right;\n",
       "    }\n",
       "</style>\n",
       "<table border=\"1\" class=\"dataframe\">\n",
       "  <thead>\n",
       "    <tr style=\"text-align: right;\">\n",
       "      <th></th>\n",
       "      <th>ImageDataID</th>\n",
       "      <th>Subject</th>\n",
       "      <th>Group</th>\n",
       "      <th>Sex</th>\n",
       "      <th>Age</th>\n",
       "      <th>Visit</th>\n",
       "      <th>Modality</th>\n",
       "      <th>Description</th>\n",
       "      <th>Type</th>\n",
       "      <th>AcqDate</th>\n",
       "      <th>Format</th>\n",
       "      <th>Downloaded</th>\n",
       "    </tr>\n",
       "  </thead>\n",
       "  <tbody>\n",
       "    <tr>\n",
       "      <th>0</th>\n",
       "      <td>I125941</td>\n",
       "      <td>137_S_1426</td>\n",
       "      <td>MCI</td>\n",
       "      <td>M</td>\n",
       "      <td>85</td>\n",
       "      <td>4</td>\n",
       "      <td>MRI</td>\n",
       "      <td>MPR-R; GradWarp; N3; Scaled</td>\n",
       "      <td>Processed</td>\n",
       "      <td>10/30/2008</td>\n",
       "      <td>NiFTI</td>\n",
       "      <td>NaN</td>\n",
       "    </tr>\n",
       "    <tr>\n",
       "      <th>1</th>\n",
       "      <td>I121703</td>\n",
       "      <td>128_S_1408</td>\n",
       "      <td>MCI</td>\n",
       "      <td>M</td>\n",
       "      <td>73</td>\n",
       "      <td>4</td>\n",
       "      <td>MRI</td>\n",
       "      <td>MPR; GradWarp; B1 Correction; N3; Scaled</td>\n",
       "      <td>Processed</td>\n",
       "      <td>9/19/2008</td>\n",
       "      <td>NiFTI</td>\n",
       "      <td>NaN</td>\n",
       "    </tr>\n",
       "    <tr>\n",
       "      <th>2</th>\n",
       "      <td>I121637</td>\n",
       "      <td>037_S_1421</td>\n",
       "      <td>MCI</td>\n",
       "      <td>F</td>\n",
       "      <td>76</td>\n",
       "      <td>4</td>\n",
       "      <td>MRI</td>\n",
       "      <td>MPR; GradWarp; N3; Scaled</td>\n",
       "      <td>Processed</td>\n",
       "      <td>9/17/2008</td>\n",
       "      <td>NiFTI</td>\n",
       "      <td>NaN</td>\n",
       "    </tr>\n",
       "    <tr>\n",
       "      <th>3</th>\n",
       "      <td>I122382</td>\n",
       "      <td>128_S_1407</td>\n",
       "      <td>MCI</td>\n",
       "      <td>F</td>\n",
       "      <td>76</td>\n",
       "      <td>4</td>\n",
       "      <td>MRI</td>\n",
       "      <td>MPR; GradWarp; B1 Correction; N3; Scaled</td>\n",
       "      <td>Processed</td>\n",
       "      <td>9/05/2008</td>\n",
       "      <td>NiFTI</td>\n",
       "      <td>NaN</td>\n",
       "    </tr>\n",
       "    <tr>\n",
       "      <th>4</th>\n",
       "      <td>I121689</td>\n",
       "      <td>127_S_1427</td>\n",
       "      <td>MCI</td>\n",
       "      <td>F</td>\n",
       "      <td>71</td>\n",
       "      <td>4</td>\n",
       "      <td>MRI</td>\n",
       "      <td>MPR; GradWarp; B1 Correction; N3; Scaled</td>\n",
       "      <td>Processed</td>\n",
       "      <td>9/02/2008</td>\n",
       "      <td>NiFTI</td>\n",
       "      <td>NaN</td>\n",
       "    </tr>\n",
       "  </tbody>\n",
       "</table>\n",
       "</div>"
      ],
      "text/plain": [
       "  ImageDataID     Subject Group Sex  Age  Visit Modality  \\\n",
       "0     I125941  137_S_1426   MCI   M   85      4      MRI   \n",
       "1     I121703  128_S_1408   MCI   M   73      4      MRI   \n",
       "2     I121637  037_S_1421   MCI   F   76      4      MRI   \n",
       "3     I122382  128_S_1407   MCI   F   76      4      MRI   \n",
       "4     I121689  127_S_1427   MCI   F   71      4      MRI   \n",
       "\n",
       "                                Description       Type     AcqDate Format  \\\n",
       "0               MPR-R; GradWarp; N3; Scaled  Processed  10/30/2008  NiFTI   \n",
       "1  MPR; GradWarp; B1 Correction; N3; Scaled  Processed   9/19/2008  NiFTI   \n",
       "2                 MPR; GradWarp; N3; Scaled  Processed   9/17/2008  NiFTI   \n",
       "3  MPR; GradWarp; B1 Correction; N3; Scaled  Processed   9/05/2008  NiFTI   \n",
       "4  MPR; GradWarp; B1 Correction; N3; Scaled  Processed   9/02/2008  NiFTI   \n",
       "\n",
       "   Downloaded  \n",
       "0         NaN  \n",
       "1         NaN  \n",
       "2         NaN  \n",
       "3         NaN  \n",
       "4         NaN  "
      ]
     },
     "execution_count": 9,
     "metadata": {},
     "output_type": "execute_result"
    }
   ],
   "source": [
    "# Load individuals CSV files with image details\n",
    "df_1 = pd.read_csv(path + \"datasets/ADNI1_Complete_1Yr_1.5T.csv\")\n",
    "df_2 = pd.read_csv(path + \"datasets/ADNI1_Complete_2Yr_1.5T.csv\")\n",
    "df_3 = pd.read_csv(path + \"datasets/ADNI1_Complete_3Yr_1.5T.csv\")\n",
    "\n",
    "# Concatenate all CSV files in a unique dataframe\n",
    "df = pd.concat([df_1, df_2, df_3])\n",
    "\n",
    "# Remove extra whitespaces from column names\n",
    "df.columns = df.columns.str.replace(\" \", \"\")\n",
    "\n",
    "df.head()"
   ]
  },
  {
   "cell_type": "code",
   "execution_count": 10,
   "metadata": {
    "colab": {
     "base_uri": "https://localhost:8080/",
     "height": 221
    },
    "executionInfo": {
     "elapsed": 445,
     "status": "ok",
     "timestamp": 1621357895069,
     "user": {
      "displayName": "Fernando Herran",
      "photoUrl": "",
      "userId": "09119314463851443877"
     },
     "user_tz": -120
    },
    "id": "LBPEQ0kKUluE",
    "outputId": "fa2bae43-2e4b-4ac2-e10c-d83b224016ff"
   },
   "outputs": [
    {
     "data": {
      "text/html": [
       "<div>\n",
       "<style scoped>\n",
       "    .dataframe tbody tr th:only-of-type {\n",
       "        vertical-align: middle;\n",
       "    }\n",
       "\n",
       "    .dataframe tbody tr th {\n",
       "        vertical-align: top;\n",
       "    }\n",
       "\n",
       "    .dataframe thead th {\n",
       "        text-align: right;\n",
       "    }\n",
       "</style>\n",
       "<table border=\"1\" class=\"dataframe\">\n",
       "  <thead>\n",
       "    <tr style=\"text-align: right;\">\n",
       "      <th></th>\n",
       "      <th>ImageDataID</th>\n",
       "      <th>Group</th>\n",
       "    </tr>\n",
       "  </thead>\n",
       "  <tbody>\n",
       "    <tr>\n",
       "      <th>0</th>\n",
       "      <td>I125941</td>\n",
       "      <td>MCI</td>\n",
       "    </tr>\n",
       "    <tr>\n",
       "      <th>1</th>\n",
       "      <td>I121703</td>\n",
       "      <td>MCI</td>\n",
       "    </tr>\n",
       "    <tr>\n",
       "      <th>2</th>\n",
       "      <td>I121637</td>\n",
       "      <td>MCI</td>\n",
       "    </tr>\n",
       "    <tr>\n",
       "      <th>3</th>\n",
       "      <td>I122382</td>\n",
       "      <td>MCI</td>\n",
       "    </tr>\n",
       "    <tr>\n",
       "      <th>4</th>\n",
       "      <td>I121689</td>\n",
       "      <td>MCI</td>\n",
       "    </tr>\n",
       "  </tbody>\n",
       "</table>\n",
       "</div>"
      ],
      "text/plain": [
       "  ImageDataID Group\n",
       "0     I125941   MCI\n",
       "1     I121703   MCI\n",
       "2     I121637   MCI\n",
       "3     I122382   MCI\n",
       "4     I121689   MCI"
      ]
     },
     "execution_count": 10,
     "metadata": {},
     "output_type": "execute_result"
    }
   ],
   "source": [
    "# Retrieve only the image ID and Group (class) columns\n",
    "df = df[[\"ImageDataID\", \"Group\"]]\n",
    "df.head()"
   ]
  },
  {
   "cell_type": "code",
   "execution_count": 11,
   "metadata": {
    "colab": {
     "base_uri": "https://localhost:8080/"
    },
    "executionInfo": {
     "elapsed": 411,
     "status": "ok",
     "timestamp": 1621357905165,
     "user": {
      "displayName": "Fernando Herran",
      "photoUrl": "",
      "userId": "09119314463851443877"
     },
     "user_tz": -120
    },
    "id": "OZExMmLNUluF",
    "outputId": "2d1da47b-a673-444a-865c-418ebd7009cb"
   },
   "outputs": [
    {
     "data": {
      "text/plain": [
       "MCI    1708\n",
       "CN     1009\n",
       "AD      575\n",
       "Name: Group, dtype: int64"
      ]
     },
     "execution_count": 11,
     "metadata": {},
     "output_type": "execute_result"
    }
   ],
   "source": [
    "# Check number of cases by class in the dataframe\n",
    "df[\"Group\"].value_counts()"
   ]
  },
  {
   "cell_type": "markdown",
   "metadata": {
    "id": "F9KT6w-CUluG"
   },
   "source": [
    "It can be seen that the three following classes are presented in the dataset:\n",
    "   - **MCI** - Mild cognitive impairment patients\n",
    "   - **CN** - Cognitively normal patients\n",
    "   - **AD** - Alzheimer’s disease patients"
   ]
  },
  {
   "cell_type": "code",
   "execution_count": 12,
   "metadata": {
    "colab": {
     "base_uri": "https://localhost:8080/"
    },
    "executionInfo": {
     "elapsed": 1181,
     "status": "ok",
     "timestamp": 1621357909855,
     "user": {
      "displayName": "Fernando Herran",
      "photoUrl": "",
      "userId": "09119314463851443877"
     },
     "user_tz": -120
    },
    "id": "mI6UAGTCjl50",
    "outputId": "e5a78d1c-3399-4e09-b45f-00231e89a80d"
   },
   "outputs": [
    {
     "name": "stdout",
     "output_type": "stream",
     "text": [
      "[+] Number of Alzheimer cases: 1179\n",
      "[+] Number of healthy cases: 507\n"
     ]
    }
   ],
   "source": [
    "# Retrieve class for each image mapping the titles list and the Image ID column from the dataframe\n",
    "classes = []  # List where to save the class for each image: 1 (AD, MCI), 0 (CN)\n",
    "\n",
    "for title in titles:\n",
    "    group_ = df[\"Group\"].loc[df['ImageDataID'] == title].values[0]\n",
    "    \n",
    "    if group_ in [\"AD\",\"MCI\"]:\n",
    "        classes.append(1)\n",
    "        \n",
    "    elif group_ in [\"CN\"]:\n",
    "        classes.append(0)\n",
    "        \n",
    "    else:\n",
    "        classes.append(False)\n",
    "\n",
    "# Check number of cases by class with images loaded\n",
    "print(f\"[+] Number of Alzheimer cases: {classes.count(1)}\")\n",
    "print(f\"[+] Number of healthy cases: {classes.count(0)}\")"
   ]
  },
  {
   "cell_type": "code",
   "execution_count": 13,
   "metadata": {
    "executionInfo": {
     "elapsed": 465,
     "status": "ok",
     "timestamp": 1621349604652,
     "user": {
      "displayName": "Fernando Herran",
      "photoUrl": "",
      "userId": "09119314463851443877"
     },
     "user_tz": -120
    },
    "id": "Q2wsEQfd80An"
   },
   "outputs": [
    {
     "name": "stdout",
     "output_type": "stream",
     "text": [
      "[+] Number of total cases: 1000\n",
      "    [-] Number of Alzheimer cases: 500\n",
      "    [-] Number of healthy cases: 500\n"
     ]
    }
   ],
   "source": [
    "# Capture 500 samples for each class\n",
    "number_healty = 0\n",
    "number_disease = 0\n",
    "images_2 = []\n",
    "classes_2 = []\n",
    "\n",
    "for index, item_ in enumerate(classes):\n",
    "    \n",
    "    if (item_ == 1) & (number_disease < 500):\n",
    "        classes_2.append(1)\n",
    "        images_2.append(images[index])\n",
    "        number_disease += 1\n",
    "  \n",
    "    if (item_ == 0) & (number_healty < 500):\n",
    "        classes_2.append(0)\n",
    "        images_2.append(images[index])\n",
    "        number_healty += 1\n",
    "\n",
    "# Check number of cases by class with images loaded\n",
    "print(f\"[+] Number of total cases: {len(images_2)}\")\n",
    "print(f\"    [-] Number of Alzheimer cases: {classes_2.count(1)}\")\n",
    "print(f\"    [-] Number of healthy cases: {classes_2.count(0)}\")"
   ]
  },
  {
   "cell_type": "code",
   "execution_count": 14,
   "metadata": {
    "executionInfo": {
     "elapsed": 949,
     "status": "ok",
     "timestamp": 1621358673365,
     "user": {
      "displayName": "Fernando Herran",
      "photoUrl": "",
      "userId": "09119314463851443877"
     },
     "user_tz": -120
    },
    "id": "xdWScdk5jl52"
   },
   "outputs": [],
   "source": [
    "# Convert X and y lists to arrays\n",
    "X = images_2\n",
    "X = np.asarray(X).astype('int8')\n",
    "\n",
    "y = np.array(classes_2)"
   ]
  },
  {
   "cell_type": "code",
   "execution_count": 15,
   "metadata": {
    "colab": {
     "base_uri": "https://localhost:8080/"
    },
    "executionInfo": {
     "elapsed": 756,
     "status": "ok",
     "timestamp": 1621358676315,
     "user": {
      "displayName": "Fernando Herran",
      "photoUrl": "",
      "userId": "09119314463851443877"
     },
     "user_tz": -120
    },
    "id": "9-FYPmQNUluH",
    "outputId": "9c313034-4adb-4543-d73a-6b1b3a52bd75"
   },
   "outputs": [
    {
     "name": "stdout",
     "output_type": "stream",
     "text": [
      "[+] Minimum value of X data: -128\n",
      "[+] Maximum value of X data: 127\n"
     ]
    }
   ],
   "source": [
    "# Check minimum and maximum value of X data\n",
    "print(f\"[+] Minimum value of X data: {np.amin(X)}\")\n",
    "print(f\"[+] Maximum value of X data: {np.amax(X)}\")"
   ]
  },
  {
   "cell_type": "markdown",
   "metadata": {
    "id": "bY1bp4RnUluI"
   },
   "source": [
    "It can be seen how images pixel values range from -128 to +127.\n",
    "In order to facilitate training, a normalization is carried out."
   ]
  },
  {
   "cell_type": "code",
   "execution_count": 16,
   "metadata": {
    "colab": {
     "base_uri": "https://localhost:8080/"
    },
    "executionInfo": {
     "elapsed": 5091,
     "status": "ok",
     "timestamp": 1621358684128,
     "user": {
      "displayName": "Fernando Herran",
      "photoUrl": "",
      "userId": "09119314463851443877"
     },
     "user_tz": -120
    },
    "id": "fF5WqH-1UluJ",
    "outputId": "bf0f4844-fda5-4048-d8d0-74741955d65d"
   },
   "outputs": [
    {
     "name": "stdout",
     "output_type": "stream",
     "text": [
      "[+] Minimum value of X data after normalization: -1.0\n",
      "[+] Maximum value of X data after normalization: 0.9921875\n"
     ]
    }
   ],
   "source": [
    "# Normalizing X data\n",
    "max_value = max(abs(int(np.amin(X))), abs(int(np.amax(X))))\n",
    "X = X / max_value\n",
    "\n",
    "print(f\"[+] Minimum value of X data after normalization: {np.amin(X)}\")\n",
    "print(f\"[+] Maximum value of X data after normalization: {np.amax(X)}\")"
   ]
  },
  {
   "cell_type": "markdown",
   "metadata": {
    "id": "wxXzPxvEjl53"
   },
   "source": [
    "#### Save images and classes\n",
    "Only run the next two cells if you want to save both X and y arrays into numpy files."
   ]
  },
  {
   "cell_type": "code",
   "execution_count": null,
   "metadata": {
    "id": "klrhedj8jl54"
   },
   "outputs": [],
   "source": [
    "# Save list of images as a numpy file\n",
    "np.savez_compressed(\"images\", X)"
   ]
  },
  {
   "cell_type": "code",
   "execution_count": null,
   "metadata": {
    "id": "HgvGzlKDUluK"
   },
   "outputs": [],
   "source": [
    "# Save list of classes as a numpy file\n",
    "np.savez_compressed(\"classes\", y)"
   ]
  },
  {
   "cell_type": "markdown",
   "metadata": {
    "id": "X3uDh9j9jl55"
   },
   "source": [
    "#### Load images and classes\n",
    "Only run the next two cells if you want to load both X and y arrays from numpy files."
   ]
  },
  {
   "cell_type": "code",
   "execution_count": null,
   "metadata": {
    "id": "heeCArQWUluL"
   },
   "outputs": [],
   "source": [
    "# Load images in array format\n",
    "loaded_images = np.load('images.npz', allow_pickle= True)\n",
    "X = loaded_images['arr_0']"
   ]
  },
  {
   "cell_type": "code",
   "execution_count": null,
   "metadata": {
    "id": "cA9E66c6jl56"
   },
   "outputs": [],
   "source": [
    "# Load classes in array format\n",
    "loaded_classes = np.load('classes.npz', allow_pickle= True)\n",
    "y = loaded_classes['arr_0']"
   ]
  },
  {
   "cell_type": "markdown",
   "metadata": {
    "id": "1-OGSZ9vjl56"
   },
   "source": [
    "#### Get training and testing datasets"
   ]
  },
  {
   "cell_type": "code",
   "execution_count": 17,
   "metadata": {
    "colab": {
     "base_uri": "https://localhost:8080/"
    },
    "executionInfo": {
     "elapsed": 1112,
     "status": "ok",
     "timestamp": 1621358731511,
     "user": {
      "displayName": "Fernando Herran",
      "photoUrl": "",
      "userId": "09119314463851443877"
     },
     "user_tz": -120
    },
    "id": "HA4wEN72jl57",
    "outputId": "69af1216-f970-451b-8bbc-77ab4fc883fb"
   },
   "outputs": [
    {
     "name": "stdout",
     "output_type": "stream",
     "text": [
      "[+] Training shape: 850\n",
      "    [-] Number of Alzheimer cases: 437\n",
      "    [-] Number of healthy cases: 413\n",
      "\n",
      "[+] Testing shape: 150\n",
      "    [-] Number of Alzheimer cases: 63\n",
      "    [-] Number of healthy cases: 87\n"
     ]
    }
   ],
   "source": [
    "# Define testing proportion of the dataset\n",
    "test_size = 0.15\n",
    "\n",
    "# Split data into training and testing datasets\n",
    "X_train, X_test, y_train, y_test = train_test_split(X, y, test_size=test_size, random_state=7)\n",
    "\n",
    "# Print data shapes\n",
    "print(f\"[+] Training shape: {len(X_train)}\")\n",
    "print(f\"    [-] Number of Alzheimer cases: {round(sum(y_train))}\")\n",
    "print(f\"    [-] Number of healthy cases: {round(len(y_train) - sum(y_train))}\")\n",
    "print(f\"\\n[+] Testing shape: {len(X_test)}\")\n",
    "print(f\"    [-] Number of Alzheimer cases: {round(sum(y_test))}\")\n",
    "print(f\"    [-] Number of healthy cases: {round(len(y_test) - sum(y_test))}\")"
   ]
  },
  {
   "cell_type": "markdown",
   "metadata": {
    "id": "PihvLS1Gjl58"
   },
   "source": [
    "### Define CNN model"
   ]
  },
  {
   "cell_type": "code",
   "execution_count": 101,
   "metadata": {
    "executionInfo": {
     "elapsed": 844,
     "status": "ok",
     "timestamp": 1621358735633,
     "user": {
      "displayName": "Fernando Herran",
      "photoUrl": "",
      "userId": "09119314463851443877"
     },
     "user_tz": -120
    },
    "id": "iOAAx27Jjl58"
   },
   "outputs": [],
   "source": [
    "def build_model(model_name, input_shape_):\n",
    "    '''\n",
    "    Function to build a convolutional neural network.\n",
    "    Inputs: input shape\n",
    "    '''\n",
    "\n",
    "    # Fix random seed for reproducibility\n",
    "    np.random.seed(123)\n",
    "    tf.random.set_seed(123) \n",
    "\n",
    "    # Start Sequential model\n",
    "    model = Sequential()\n",
    "    \n",
    "    # Input layer\n",
    "    model.add(InputLayer(input_shape = input_shape_))\n",
    "              \n",
    "    # Convolutional layers  \n",
    "    ## 1st conv block\n",
    "    model.add(Conv2D(50, kernel_size=(3,3), activation = 'relu'))\n",
    "    model.add(MaxPool2D(pool_size=(2,2)))\n",
    "    \n",
    "    ## 2nd conv block\n",
    "    model.add(Conv2D(75, kernel_size=(3,3), activation='relu'))\n",
    "    model.add(MaxPool2D(pool_size=(2,2)))\n",
    "    model.add(BatchNormalization())\n",
    "\n",
    "    ## 3rd conv block\n",
    "    model.add(Conv2D(125, kernel_size=(3,3), activation='relu'))\n",
    "    model.add(MaxPool2D(pool_size=(2,2)))\n",
    "    model.add(BatchNormalization())\n",
    "      \n",
    "    # Flatten layer\n",
    "    model.add(Flatten())\n",
    "              \n",
    "    # Hidden layers       \n",
    "    model.add(Dense(200, activation='relu'))\n",
    "    model.add(Dropout(0.4))\n",
    "    model.add(Dense(100, activation='relu'))\n",
    "    model.add(Dropout(0.3))\n",
    "    model.add(Dense(50, activation='relu'))\n",
    "    model.add(Dropout(0.3))\n",
    "\n",
    "    # Output layer\n",
    "    model.add(Dense(1, activation = 'sigmoid'))\n",
    "    \n",
    "    # Name model\n",
    "    model._name = model_name\n",
    "    \n",
    "    return model"
   ]
  },
  {
   "cell_type": "code",
   "execution_count": 91,
   "metadata": {
    "executionInfo": {
     "elapsed": 676,
     "status": "ok",
     "timestamp": 1621361691256,
     "user": {
      "displayName": "Fernando Herran",
      "photoUrl": "",
      "userId": "09119314463851443877"
     },
     "user_tz": -120
    },
    "id": "YX5NUK9Lrfdz"
   },
   "outputs": [],
   "source": [
    "def get_model(model_name, input_shape_):\n",
    "    \"\"\"Build a 3D convolutional neural network model.\"\"\"\n",
    "\n",
    "    inputs = keras.Input(input_shape_)\n",
    "\n",
    "    x = layers.Conv2D(filters=64, kernel_size=3, activation=\"relu\")(inputs)\n",
    "    x = layers.MaxPool2D(pool_size=2)(x)\n",
    "    x = layers.BatchNormalization()(x)\n",
    "\n",
    "    x = layers.Conv2D(filters=64, kernel_size=3, activation=\"relu\")(x)\n",
    "    x = layers.MaxPool2D(pool_size=2)(x)\n",
    "    x = layers.BatchNormalization()(x)\n",
    "\n",
    "    x = layers.Conv2D(filters=128, kernel_size=3, activation=\"relu\")(x)\n",
    "    x = layers.MaxPool2D(pool_size=2)(x)\n",
    "    x = layers.BatchNormalization()(x)\n",
    "\n",
    "    x = layers.Conv2D(filters=256, kernel_size=3, activation=\"relu\")(x)\n",
    "    x = layers.MaxPool2D(pool_size=2)(x)\n",
    "    x = layers.BatchNormalization()(x)\n",
    "\n",
    "    x = layers.GlobalAveragePooling2D()(x)\n",
    "    x = layers.Dense(units=512, activation=\"relu\")(x)\n",
    "    x = layers.Dropout(0.3)(x)\n",
    "\n",
    "    outputs = layers.Dense(units=1, activation=\"sigmoid\")(x)\n",
    "\n",
    "    # Define the model.\n",
    "    model = keras.Model(inputs, outputs, name = model_name)\n",
    "    return model"
   ]
  },
  {
   "cell_type": "markdown",
   "metadata": {},
   "source": [
    "#### Build new CNN model"
   ]
  },
  {
   "cell_type": "code",
   "execution_count": 102,
   "metadata": {},
   "outputs": [],
   "source": [
    "# Define inputs\n",
    "model_name = \"cnn_model_6\"\n",
    "input_shape_ = (240, 320, 3)"
   ]
  },
  {
   "cell_type": "code",
   "execution_count": 105,
   "metadata": {
    "colab": {
     "base_uri": "https://localhost:8080/"
    },
    "executionInfo": {
     "elapsed": 551,
     "status": "ok",
     "timestamp": 1621362316612,
     "user": {
      "displayName": "Fernando Herran",
      "photoUrl": "",
      "userId": "09119314463851443877"
     },
     "user_tz": -120
    },
    "id": "dSkRnavxUluR",
    "outputId": "85a8f568-535f-4578-ace8-a9fdd64e1894"
   },
   "outputs": [],
   "source": [
    "# Build model\n",
    "model = build_model(model_name, input_shape_)\n",
    "#model = get_model(model_name, input_shape_)\n",
    "#model.summary()"
   ]
  },
  {
   "cell_type": "markdown",
   "metadata": {},
   "source": [
    "#### Load existing CNN model"
   ]
  },
  {
   "cell_type": "code",
   "execution_count": 39,
   "metadata": {},
   "outputs": [],
   "source": [
    "model_name = \"cnn_model_1\""
   ]
  },
  {
   "cell_type": "code",
   "execution_count": 46,
   "metadata": {
    "scrolled": true
   },
   "outputs": [
    {
     "name": "stdout",
     "output_type": "stream",
     "text": [
      "[+] Model loaded\n",
      "Model: \"3dcnn\"\n",
      "_________________________________________________________________\n",
      "Layer (type)                 Output Shape              Param #   \n",
      "=================================================================\n",
      "input_3 (InputLayer)         [(None, 240, 320, 3)]     0         \n",
      "_________________________________________________________________\n",
      "conv2d_3 (Conv2D)            (None, 238, 318, 64)      1792      \n",
      "_________________________________________________________________\n",
      "max_pooling2d_3 (MaxPooling2 (None, 119, 159, 64)      0         \n",
      "_________________________________________________________________\n",
      "batch_normalization_2 (Batch (None, 119, 159, 64)      256       \n",
      "_________________________________________________________________\n",
      "conv2d_4 (Conv2D)            (None, 117, 157, 64)      36928     \n",
      "_________________________________________________________________\n",
      "max_pooling2d_4 (MaxPooling2 (None, 58, 78, 64)        0         \n",
      "_________________________________________________________________\n",
      "batch_normalization_3 (Batch (None, 58, 78, 64)        256       \n",
      "_________________________________________________________________\n",
      "conv2d_5 (Conv2D)            (None, 56, 76, 128)       73856     \n",
      "_________________________________________________________________\n",
      "max_pooling2d_5 (MaxPooling2 (None, 28, 38, 128)       0         \n",
      "_________________________________________________________________\n",
      "batch_normalization_4 (Batch (None, 28, 38, 128)       512       \n",
      "_________________________________________________________________\n",
      "conv2d_6 (Conv2D)            (None, 26, 36, 256)       295168    \n",
      "_________________________________________________________________\n",
      "max_pooling2d_6 (MaxPooling2 (None, 13, 18, 256)       0         \n",
      "_________________________________________________________________\n",
      "batch_normalization_5 (Batch (None, 13, 18, 256)       1024      \n",
      "_________________________________________________________________\n",
      "global_average_pooling2d (Gl (None, 256)               0         \n",
      "_________________________________________________________________\n",
      "dense_4 (Dense)              (None, 512)               131584    \n",
      "_________________________________________________________________\n",
      "dropout_3 (Dropout)          (None, 512)               0         \n",
      "_________________________________________________________________\n",
      "dense_5 (Dense)              (None, 1)                 513       \n",
      "=================================================================\n",
      "Total params: 541,889\n",
      "Trainable params: 540,865\n",
      "Non-trainable params: 1,024\n",
      "_________________________________________________________________\n"
     ]
    }
   ],
   "source": [
    "# Load model\n",
    "model = load_model(path + \"results/\" + model_name + \".h5\", \n",
    "                   custom_objects = {'f1': f1})\n",
    "\n",
    "print(\"[+] Model loaded\")\n",
    "#model.summary()"
   ]
  },
  {
   "cell_type": "code",
   "execution_count": 41,
   "metadata": {},
   "outputs": [
    {
     "name": "stdout",
     "output_type": "stream",
     "text": [
      "[+] Model history loaded\n"
     ]
    }
   ],
   "source": [
    "# Load model history\n",
    "history = np.load(path + \"results/\" + model_name + \"_history.npy\", \n",
    "                  allow_pickle = 'TRUE').item()\n",
    "\n",
    "print(\"[+] Model history loaded\")"
   ]
  },
  {
   "cell_type": "markdown",
   "metadata": {
    "id": "5o7hki78UluS"
   },
   "source": [
    "### Train CNN model"
   ]
  },
  {
   "cell_type": "code",
   "execution_count": 33,
   "metadata": {
    "executionInfo": {
     "elapsed": 554,
     "status": "ok",
     "timestamp": 1621362340553,
     "user": {
      "displayName": "Fernando Herran",
      "photoUrl": "",
      "userId": "09119314463851443877"
     },
     "user_tz": -120
    },
    "id": "fq3UGsn_UluT"
   },
   "outputs": [],
   "source": [
    "# Define Hyperparameters  \n",
    "batch_size = 64\n",
    "num_epochs = 5\n",
    "steps_per_epoch = int(len(X_train) * 0.85/ batch_size)\n",
    "validation_split = 0.3\n",
    "validation_steps = int(len(X_train) * validation_split / batch_size)\n",
    "\n",
    "print(\"[+] Steps per epoch:\", steps_per_epoch)\n",
    "print(\"[+] Validation steps:\", validation_steps)"
   ]
  },
  {
   "cell_type": "code",
   "execution_count": 35,
   "metadata": {
    "executionInfo": {
     "elapsed": 436,
     "status": "ok",
     "timestamp": 1621362344455,
     "user": {
      "displayName": "Fernando Herran",
      "photoUrl": "",
      "userId": "09119314463851443877"
     },
     "user_tz": -120
    },
    "id": "4fHz567hfJYT"
   },
   "outputs": [],
   "source": [
    "# Define learning rate\n",
    "initial_learning_rate = 0.0001\n",
    "lr_schedule = keras.optimizers.schedules.ExponentialDecay(initial_learning_rate, \n",
    "                                                          decay_steps = 100000, \n",
    "                                                          decay_rate = 0.96, \n",
    "                                                          staircase = True)\n",
    "\n",
    "# Compile model\n",
    "model.compile(loss = 'binary_crossentropy', \n",
    "              optimizer = keras.optimizers.Adam(learning_rate=lr_schedule), \n",
    "              metrics = [f1]) "
   ]
  },
  {
   "cell_type": "code",
   "execution_count": 36,
   "metadata": {
    "colab": {
     "base_uri": "https://localhost:8080/"
    },
    "executionInfo": {
     "elapsed": 998064,
     "status": "ok",
     "timestamp": 1621363344517,
     "user": {
      "displayName": "Fernando Herran",
      "photoUrl": "",
      "userId": "09119314463851443877"
     },
     "user_tz": -120
    },
    "id": "gq7rPP8wjl5-",
    "outputId": "653246e2-e364-49b1-e05c-308feecbf7b9"
   },
   "outputs": [
    {
     "name": "stdout",
     "output_type": "stream",
     "text": [
      "Epoch 1/5\n",
      "19/19 [==============================] - 122s 6s/step - loss: 0.6910 - f1: 0.6258 - val_loss: 0.6976 - val_f1: 0.6477\n",
      "Epoch 2/5\n",
      "19/19 [==============================] - 114s 6s/step - loss: 0.6571 - f1: 0.7221 - val_loss: 0.7446 - val_f1: 0.6477\n",
      "Epoch 3/5\n",
      "19/19 [==============================] - 112s 6s/step - loss: 0.6333 - f1: 0.7057 - val_loss: 0.8176 - val_f1: 0.6477\n",
      "Epoch 4/5\n",
      "19/19 [==============================] - 113s 6s/step - loss: 0.6036 - f1: 0.7360 - val_loss: 1.0541 - val_f1: 0.6477\n",
      "Epoch 5/5\n",
      "19/19 [==============================] - 114s 6s/step - loss: 0.5705 - f1: 0.7473 - val_loss: 1.4002 - val_f1: 0.6477\n",
      "[+] Time of training: 576.26\n"
     ]
    }
   ],
   "source": [
    "# Train model\n",
    "start_time = time.time()\n",
    "\n",
    "history = model.fit(x = X_train, \n",
    "                    y = y_train,\n",
    "                    epochs = num_epochs,\n",
    "                    validation_split = validation_split,\n",
    "                    verbose = 1)\n",
    "\n",
    "end_time = time.time()\n",
    "print(\"\\n[+] Time of training: \"+\"{:.2f}\".format(end_time-start_time));"
   ]
  },
  {
   "cell_type": "markdown",
   "metadata": {
    "id": "eR9YKWIj5CVt"
   },
   "source": [
    "### Evaluation "
   ]
  },
  {
   "cell_type": "code",
   "execution_count": 86,
   "metadata": {
    "colab": {
     "base_uri": "https://localhost:8080/",
     "height": 435
    },
    "executionInfo": {
     "elapsed": 1221,
     "status": "ok",
     "timestamp": 1621363457893,
     "user": {
      "displayName": "Fernando Herran",
      "photoUrl": "",
      "userId": "09119314463851443877"
     },
     "user_tz": -120
    },
    "id": "o9ewdnA_jl5_",
    "outputId": "af921992-f645-4ddf-db8a-06d647f36e80"
   },
   "outputs": [
    {
     "data": {
      "image/png": "[encoded data removed]",
      "text/plain": [
       "<Figure size 864x432 with 2 Axes>"
      ]
     },
     "metadata": {},
     "output_type": "display_data"
    }
   ],
   "source": [
    "# Plot metrics\n",
    "plot_history(history)"
   ]
  },
  {
   "cell_type": "code",
   "execution_count": null,
   "metadata": {
    "id": "LdGYTnLIjl6A"
   },
   "outputs": [],
   "source": [
    "# Get accuracy\n",
    "model.evaluate(x = X_test,\n",
    "               y = y_test, \n",
    "               verbose = 0)"
   ]
  },
  {
   "cell_type": "code",
   "execution_count": 71,
   "metadata": {},
   "outputs": [],
   "source": [
    "# Get predictions\n",
    "y_predict = get_predictions(X_test, model)"
   ]
  },
  {
   "cell_type": "code",
   "execution_count": 73,
   "metadata": {},
   "outputs": [
    {
     "name": "stdout",
     "output_type": "stream",
     "text": [
      "[+] Recall: 0.67\n",
      "[+] Precision: 0.76\n",
      "[+] F1 score: 0.71\n"
     ]
    },
    {
     "data": {
      "image/png": "[encoded data removed]",
      "text/plain": [
       "<Figure size 576x360 with 1 Axes>"
      ]
     },
     "metadata": {},
     "output_type": "display_data"
    }
   ],
   "source": [
    "# Get evaluation\n",
    "get_evaluation(y_test, y_predict)"
   ]
  },
  {
   "cell_type": "code",
   "execution_count": 74,
   "metadata": {
    "colab": {
     "base_uri": "https://localhost:8080/",
     "height": 314
    },
    "executionInfo": {
     "elapsed": 5784,
     "status": "error",
     "timestamp": 1621070010354,
     "user": {
      "displayName": "Fernando Herran",
      "photoUrl": "",
      "userId": "09119314463851443877"
     },
     "user_tz": -120
    },
    "id": "jLkit37YUluX",
    "outputId": "6b9f9ce0-2985-49f6-c3dd-8925642ad094"
   },
   "outputs": [
    {
     "name": "stdout",
     "output_type": "stream",
     "text": [
      "[+] Train AUC score = 0.899\n",
      "[+] Test AUC score = 0.869\n"
     ]
    },
    {
     "data": {
      "image/png": "[encoded data removed]",
      "text/plain": [
       "<Figure size 432x432 with 1 Axes>"
      ]
     },
     "metadata": {},
     "output_type": "display_data"
    }
   ],
   "source": [
    "# Plot roc curve\n",
    "plot_roc_curve(model, X_train, X_test, y_train, y_test, save_fig = False)"
   ]
  },
  {
   "cell_type": "markdown",
   "metadata": {
    "id": "aB3fGX0xUluZ"
   },
   "source": [
    "#### Save CNN model"
   ]
  },
  {
   "cell_type": "code",
   "execution_count": 109,
   "metadata": {
    "colab": {
     "base_uri": "https://localhost:8080/"
    },
    "executionInfo": {
     "elapsed": 742,
     "status": "ok",
     "timestamp": 1621366236063,
     "user": {
      "displayName": "Fernando Herran",
      "photoUrl": "",
      "userId": "09119314463851443877"
     },
     "user_tz": -120
    },
    "id": "L2JrB7wmrRdb",
    "outputId": "51cf0449-fe73-45e7-e2b2-9daff487c898"
   },
   "outputs": [
    {
     "name": "stdout",
     "output_type": "stream",
     "text": [
      "[+] Model saved\n"
     ]
    }
   ],
   "source": [
    "# Save model\n",
    "model.save(path + \"results/\" + model.name + \".h5\")\n",
    "\n",
    "print(\"[+] Model saved\")"
   ]
  },
  {
   "cell_type": "code",
   "execution_count": 111,
   "metadata": {
    "colab": {
     "base_uri": "https://localhost:8080/"
    },
    "executionInfo": {
     "elapsed": 837,
     "status": "ok",
     "timestamp": 1621368252133,
     "user": {
      "displayName": "Fernando Herran",
      "photoUrl": "",
      "userId": "09119314463851443877"
     },
     "user_tz": -120
    },
    "id": "6WeW0OBg5sdw",
    "outputId": "2563db96-1ff5-4054-9af9-4bdaa69d5bab"
   },
   "outputs": [
    {
     "name": "stdout",
     "output_type": "stream",
     "text": [
      "[+] Model history saved\n"
     ]
    }
   ],
   "source": [
    "# Save model history\n",
    "np.save(path + \"results/\" + model.name + \"_history.npy\", history.history)\n",
    "\n",
    "print(\"[+] Model history saved\")"
   ]
  },
  {
   "cell_type": "markdown",
   "metadata": {
    "id": "SRLNIT0SUlua"
   },
   "source": [
    "===================================================================================================================\n",
    "#==================================================================================================================\n",
    "### OTHERS"
   ]
  },
  {
   "cell_type": "code",
   "execution_count": null,
   "metadata": {
    "id": "2YEnJ-QZUlua"
   },
   "outputs": [],
   "source": [
    "base_model = tf.keras.applications.inception_v3.InceptionV3(\n",
    "    input_shape=(240, 320, 3), \n",
    "    weights='imagenet', \n",
    "    include_top=False,\n",
    "    pooling='max')\n",
    "\n",
    "base_output = base_model.output\n",
    "hidden_layer = tf.keras.layers.Dense(512, activation='relu')(base_output)\n",
    "hl_reg = tf.keras.layers.Dropout(0.8)(hidden_layer)\n",
    "output_layer = tf.keras.layers.Dense(1, activation='softmax')(hl_reg)\n",
    "\n",
    "model = tf.keras.models.Model(inputs=base_model.input, outputs=output_layer)\n",
    "\n",
    "for layer in base_model.layers:\n",
    "    layer.trainable = False\n",
    "\n",
    "# compile the model (should be done *after* setting layers to non-trainable)\n",
    "optimizer = tf.keras.optimizers.Adam(lr=0.0001, decay=1e-3)\n",
    "model.compile(optimizer=optimizer, loss='categorical_crossentropy', \n",
    "              metrics=['acc'])"
   ]
  },
  {
   "cell_type": "code",
   "execution_count": null,
   "metadata": {
    "id": "UswN-Fd9Ulua"
   },
   "outputs": [],
   "source": [
    "model.summary()"
   ]
  },
  {
   "cell_type": "code",
   "execution_count": null,
   "metadata": {
    "id": "S6ZsZLedUlub"
   },
   "outputs": [],
   "source": [
    "# Hyperparameters\n",
    "dropout = 0.1\n",
    "mn_value = 0.5\n",
    "\n",
    "# Start model\n",
    "m = Models.Sequential()\n",
    "\n",
    "# Input layer\n",
    "m.add(Layers.Flatten(input_shape=(240, 320, 3)))\n",
    "\n",
    "# Hidden layers\n",
    "m.add(Layers.Dense(units=10, activation = \"relu\", kernel_constraint=max_norm(mn_value)))\n",
    "m.add(Layers.Dense(units=10, activation = \"relu\", kernel_constraint=max_norm(mn_value)))\n",
    "m.add(Layers.Dense(units=10, activation = \"relu\", kernel_constraint=max_norm(mn_value)))\n",
    "m.add(Layers.Dropout(rate = dropout))\n",
    "\n",
    "# Output layer\n",
    "m.add(Layers.Dense(1,activation='sigmoid'))\n",
    "\n",
    "# Compile model\n",
    "m.compile(optimizer = \"adam\" ,\n",
    "          loss = \"binary_crossentropy\",\n",
    "          metrics = [\"accuracy\"]"
   ]
  }
 ],
 "metadata": {
  "accelerator": "TPU",
  "colab": {
   "collapsed_sections": [],
   "name": "3_CNN_creation.ipynb",
   "provenance": []
  },
  "kernelspec": {
   "display_name": "Python 3",
   "language": "python",
   "name": "python3"
  },
  "language_info": {
   "codemirror_mode": {
    "name": "ipython",
    "version": 3
   },
   "file_extension": ".py",
   "mimetype": "text/x-python",
   "name": "python",
   "nbconvert_exporter": "python",
   "pygments_lexer": "ipython3",
   "version": "3.8.5"
  }
 },
 "nbformat": 4,
 "nbformat_minor": 1
}
