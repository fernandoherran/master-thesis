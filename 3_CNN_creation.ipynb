{
 "cells": [
  {
   "cell_type": "markdown",
   "metadata": {
    "id": "Ys1quYVrXIXQ"
   },
   "source": [
    "### Initial set-up"
   ]
  },
  {
   "cell_type": "code",
   "execution_count": 1,
   "metadata": {
    "executionInfo": {
     "elapsed": 400,
     "status": "ok",
     "timestamp": 1621069160753,
     "user": {
      "displayName": "Fernando Herran",
      "photoUrl": "",
      "userId": "09119314463851443877"
     },
     "user_tz": -120
    },
    "id": "w7cgAHv2XIXd"
   },
   "outputs": [],
   "source": [
    "# Specify if user is working on Google Drive\n",
    "google_drive = False"
   ]
  },
  {
   "cell_type": "code",
   "execution_count": 2,
   "metadata": {
    "colab": {
     "base_uri": "https://localhost:8080/"
    },
    "executionInfo": {
     "elapsed": 373,
     "status": "ok",
     "timestamp": 1621069165949,
     "user": {
      "displayName": "Fernando Herran",
      "photoUrl": "",
      "userId": "09119314463851443877"
     },
     "user_tz": -120
    },
    "id": "OR4Iy305XIXe",
    "outputId": "f29ab2b2-b2b4-4b0d-94f6-ad8cc5486893"
   },
   "outputs": [],
   "source": [
    "if google_drive == True:\n",
    "    \n",
    "    from google.colab import drive \n",
    "    drive.mount('/content/drive')\n",
    "    \n",
    "    path = \"./drive/MyDrive/TFM\"\n",
    "    \n",
    "    import sys\n",
    "    sys.path.append(path)\n",
    "\n",
    "else:\n",
    "    path = \".\"\n",
    "    \n",
    "    import sys\n",
    "    sys.path.append(path)"
   ]
  },
  {
   "cell_type": "markdown",
   "metadata": {
    "id": "TRGI3GB72ifc"
   },
   "source": [
    "#### Google Colab TPU session"
   ]
  },
  {
   "cell_type": "code",
   "execution_count": 3,
   "metadata": {
    "executionInfo": {
     "elapsed": 394,
     "status": "ok",
     "timestamp": 1621069173472,
     "user": {
      "displayName": "Fernando Herran",
      "photoUrl": "",
      "userId": "09119314463851443877"
     },
     "user_tz": -120
    },
    "id": "pljIfdII2doC"
   },
   "outputs": [],
   "source": [
    "# Specify if user is working on a TPU session in Google Colab\n",
    "tpu_session = False"
   ]
  },
  {
   "cell_type": "code",
   "execution_count": 4,
   "metadata": {
    "colab": {
     "base_uri": "https://localhost:8080/"
    },
    "executionInfo": {
     "elapsed": 11264,
     "status": "ok",
     "timestamp": 1621069185298,
     "user": {
      "displayName": "Fernando Herran",
      "photoUrl": "",
      "userId": "09119314463851443877"
     },
     "user_tz": -120
    },
    "id": "qIaHwN_O2d2D",
    "outputId": "f3cc6822-68aa-40b8-a05b-6445e2c8fbc7"
   },
   "outputs": [],
   "source": [
    "if tpu_session == True:\n",
    "    \n",
    "    %tensorflow_version 2.x\n",
    "    import tensorflow as tf\n",
    "    print(\"Tensorflow version \" + tf.__version__)\n",
    "\n",
    "    try:\n",
    "        tpu = tf.distribute.cluster_resolver.TPUClusterResolver()  # TPU detection\n",
    "        print('Running on TPU ', tpu.cluster_spec().as_dict()['worker'])\n",
    "    except ValueError:\n",
    "        raise BaseException('ERROR: Not connected to a TPU runtime; please see the previous cell in this notebook for instructions!')\n",
    "\n",
    "    tf.config.experimental_connect_to_cluster(tpu)\n",
    "    tf.tpu.experimental.initialize_tpu_system(tpu)\n",
    "    tpu_strategy = tf.distribute.experimental.TPUStrategy(tpu)\n",
    "    \n",
    "else:\n",
    "    pass"
   ]
  },
  {
   "cell_type": "markdown",
   "metadata": {
    "id": "6LYcLeXnjl5q"
   },
   "source": [
    "### Import libraries"
   ]
  },
  {
   "cell_type": "code",
   "execution_count": 5,
   "metadata": {
    "executionInfo": {
     "elapsed": 370,
     "status": "ok",
     "timestamp": 1621073681433,
     "user": {
      "displayName": "Fernando Herran",
      "photoUrl": "",
      "userId": "09119314463851443877"
     },
     "user_tz": -120
    },
    "id": "mQB5P7qbjl5t"
   },
   "outputs": [],
   "source": [
    "import os\n",
    "import numpy as np\n",
    "import pandas as pd\n",
    "import pickle\n",
    "import time\n",
    "import cv2\n",
    "\n",
    "# Import keras\n",
    "import tensorflow as tf\n",
    "from tensorflow import keras\n",
    "from tensorflow.keras.models import Sequential\n",
    "from tensorflow.keras.layers import InputLayer, Conv2D, MaxPool2D, BatchNormalization, Flatten, Dense, Dropout\n",
    "#import tensorflow.keras.activations as Activations\n",
    "#import tensorflow.keras.optimizers as Optimizer\n",
    "#import tensorflow.keras.metrics as Metrics\n",
    "#import tensorflow.keras.utils as Utils\n",
    "#from tensorflow.keras.constraints import max_norm\n",
    "\n",
    "# Import metrics\n",
    "from sklearn.model_selection import train_test_split\n",
    "from sklearn.metrics import confusion_matrix, f1_score, recall_score, precision_score\n",
    "\n",
    "# Import visualization packages\n",
    "from matplotlib import image\n",
    "import seaborn as sns\n",
    "import matplotlib.pyplot as plt\n",
    "%matplotlib inline\n",
    "sns.set_theme(context='notebook')\n",
    "sns.set_style(\"ticks\")\n",
    "\n",
    "# Extra utils\n",
    "from aux_functions.aux_functions_cnn import *\n",
    "\n",
    "#from sklearn.utils import shuffle\n",
    "#from random import randint\n",
    "#from IPython.display import SVG\n",
    "#import matplotlib.gridspec as gridspec"
   ]
  },
  {
   "cell_type": "markdown",
   "metadata": {
    "id": "Mg0hAAQIjl5v"
   },
   "source": [
    "### Load dataset"
   ]
  },
  {
   "cell_type": "markdown",
   "metadata": {
    "id": "96jryhcyUlt-"
   },
   "source": [
    "#### Specify dataset path"
   ]
  },
  {
   "cell_type": "code",
   "execution_count": 6,
   "metadata": {
    "executionInfo": {
     "elapsed": 466,
     "status": "ok",
     "timestamp": 1621069212990,
     "user": {
      "displayName": "Fernando Herran",
      "photoUrl": "",
      "userId": "09119314463851443877"
     },
     "user_tz": -120
    },
    "id": "sgrXU4FMjl5w"
   },
   "outputs": [],
   "source": [
    "# Specify folders where there are the 2D images of the brain\n",
    "root_png_images = path + \"/datasets/New_png_images\""
   ]
  },
  {
   "cell_type": "markdown",
   "metadata": {
    "id": "ORYKJ5xtUlt-"
   },
   "source": [
    "#### Load 2D images\n",
    "**NOTE: It takes around 18 minutes to load all 2D images (3287) using TPU session in Google Colab**"
   ]
  },
  {
   "cell_type": "code",
   "execution_count": 7,
   "metadata": {
    "colab": {
     "base_uri": "https://localhost:8080/"
    },
    "executionInfo": {
     "elapsed": 105077,
     "status": "ok",
     "timestamp": 1621069330759,
     "user": {
      "displayName": "Fernando Herran",
      "photoUrl": "",
      "userId": "09119314463851443877"
     },
     "user_tz": -120
    },
    "id": "FJYjhAGljl5x",
    "outputId": "841a80b9-fa30-457b-cf1b-d364768f2323"
   },
   "outputs": [
    {
     "name": "stdout",
     "output_type": "stream",
     "text": [
      "[+] Number of images loaded: 350\n",
      "[+] Number of titles loaded: 350\n"
     ]
    }
   ],
   "source": [
    "# Initiliaze lists\n",
    "images = []  # List where to save the images\n",
    "titles = []  # List where to save the name of the images (Image ID)\n",
    "\n",
    "# Load images\n",
    "for index,file in enumerate(os.listdir(root_png_images)):\n",
    "  \n",
    "    # Avoid trigerring .DS_Store (when use macOS)\n",
    "    if file.startswith('.DS_Store'):\n",
    "        continue\n",
    "            \n",
    "    # Read image\n",
    "    img = cv2.imread(os.path.join(root_png_images,file), cv2.IMREAD_UNCHANGED)\n",
    "    \n",
    "    # Resize image\n",
    "    # https://www.tutorialkart.com/opencv/python/opencv-python-resize-image/\n",
    "    # https://enmilocalfunciona.io/tratamiento-de-imagenes-usando-imagedatagenerator-en-keras/\n",
    "    dim = (320, 240)\n",
    "    resized_img = cv2.resize(img, dim, interpolation = cv2.INTER_AREA)\n",
    "\n",
    "    # Convert image from RGBA2RGB\n",
    "    if len(resized_img.shape) > 2 and resized_img.shape[2] == 4:\n",
    "        resized_img = cv2.cvtColor(resized_img, cv2.COLOR_BGRA2BGR)\n",
    "        \n",
    "    # Get title of the image\n",
    "    title = file.split(\".\")[0]\n",
    "    \n",
    "    # Append image & title to lists  \n",
    "    images.append(resized_img)\n",
    "    titles.append(title)\n",
    "  \n",
    "    if index == 999:\n",
    "        break\n",
    "\n",
    "# Check number of images loaded\n",
    "print(\"[+] Number of images loaded:\", len(images))\n",
    "print(\"[+] Number of titles loaded:\", len(titles))"
   ]
  },
  {
   "cell_type": "code",
   "execution_count": 8,
   "metadata": {
    "colab": {
     "base_uri": "https://localhost:8080/",
     "height": 308
    },
    "executionInfo": {
     "elapsed": 940,
     "status": "ok",
     "timestamp": 1621069362655,
     "user": {
      "displayName": "Fernando Herran",
      "photoUrl": "",
      "userId": "09119314463851443877"
     },
     "user_tz": -120
    },
    "id": "zbOCcQ06_x9B",
    "outputId": "e96907bb-6588-411f-a58e-2d455e8ceaa1"
   },
   "outputs": [
    {
     "name": "stdout",
     "output_type": "stream",
     "text": [
      "[+] Shape image: (240, 320, 3)\n"
     ]
    },
    {
     "data": {
      "image/png": "[encoded data removed]",
      "text/plain": [
       "<Figure size 432x288 with 1 Axes>"
      ]
     },
     "metadata": {},
     "output_type": "display_data"
    }
   ],
   "source": [
    "# Show image\n",
    "image_ = images[10]\n",
    "print(\"[+] Shape image:\", image_.shape)\n",
    "plt.imshow(image_);"
   ]
  },
  {
   "cell_type": "markdown",
   "metadata": {
    "id": "GLKW5wLzUluC"
   },
   "source": [
    "#### Load CSV files with image details"
   ]
  },
  {
   "cell_type": "code",
   "execution_count": 9,
   "metadata": {
    "colab": {
     "base_uri": "https://localhost:8080/",
     "height": 304
    },
    "executionInfo": {
     "elapsed": 1396,
     "status": "ok",
     "timestamp": 1621069370388,
     "user": {
      "displayName": "Fernando Herran",
      "photoUrl": "",
      "userId": "09119314463851443877"
     },
     "user_tz": -120
    },
    "id": "vtAlISWvjl5z",
    "outputId": "8230db34-c812-40ea-b985-ead13e7c3dc2"
   },
   "outputs": [
    {
     "data": {
      "text/html": [
       "<div>\n",
       "<style scoped>\n",
       "    .dataframe tbody tr th:only-of-type {\n",
       "        vertical-align: middle;\n",
       "    }\n",
       "\n",
       "    .dataframe tbody tr th {\n",
       "        vertical-align: top;\n",
       "    }\n",
       "\n",
       "    .dataframe thead th {\n",
       "        text-align: right;\n",
       "    }\n",
       "</style>\n",
       "<table border=\"1\" class=\"dataframe\">\n",
       "  <thead>\n",
       "    <tr style=\"text-align: right;\">\n",
       "      <th></th>\n",
       "      <th>ImageDataID</th>\n",
       "      <th>Subject</th>\n",
       "      <th>Group</th>\n",
       "      <th>Sex</th>\n",
       "      <th>Age</th>\n",
       "      <th>Visit</th>\n",
       "      <th>Modality</th>\n",
       "      <th>Description</th>\n",
       "      <th>Type</th>\n",
       "      <th>AcqDate</th>\n",
       "      <th>Format</th>\n",
       "      <th>Downloaded</th>\n",
       "    </tr>\n",
       "  </thead>\n",
       "  <tbody>\n",
       "    <tr>\n",
       "      <th>0</th>\n",
       "      <td>I125941</td>\n",
       "      <td>137_S_1426</td>\n",
       "      <td>MCI</td>\n",
       "      <td>M</td>\n",
       "      <td>85</td>\n",
       "      <td>4</td>\n",
       "      <td>MRI</td>\n",
       "      <td>MPR-R; GradWarp; N3; Scaled</td>\n",
       "      <td>Processed</td>\n",
       "      <td>10/30/2008</td>\n",
       "      <td>NiFTI</td>\n",
       "      <td>NaN</td>\n",
       "    </tr>\n",
       "    <tr>\n",
       "      <th>1</th>\n",
       "      <td>I121703</td>\n",
       "      <td>128_S_1408</td>\n",
       "      <td>MCI</td>\n",
       "      <td>M</td>\n",
       "      <td>73</td>\n",
       "      <td>4</td>\n",
       "      <td>MRI</td>\n",
       "      <td>MPR; GradWarp; B1 Correction; N3; Scaled</td>\n",
       "      <td>Processed</td>\n",
       "      <td>9/19/2008</td>\n",
       "      <td>NiFTI</td>\n",
       "      <td>NaN</td>\n",
       "    </tr>\n",
       "    <tr>\n",
       "      <th>2</th>\n",
       "      <td>I121637</td>\n",
       "      <td>037_S_1421</td>\n",
       "      <td>MCI</td>\n",
       "      <td>F</td>\n",
       "      <td>76</td>\n",
       "      <td>4</td>\n",
       "      <td>MRI</td>\n",
       "      <td>MPR; GradWarp; N3; Scaled</td>\n",
       "      <td>Processed</td>\n",
       "      <td>9/17/2008</td>\n",
       "      <td>NiFTI</td>\n",
       "      <td>NaN</td>\n",
       "    </tr>\n",
       "    <tr>\n",
       "      <th>3</th>\n",
       "      <td>I122382</td>\n",
       "      <td>128_S_1407</td>\n",
       "      <td>MCI</td>\n",
       "      <td>F</td>\n",
       "      <td>76</td>\n",
       "      <td>4</td>\n",
       "      <td>MRI</td>\n",
       "      <td>MPR; GradWarp; B1 Correction; N3; Scaled</td>\n",
       "      <td>Processed</td>\n",
       "      <td>9/05/2008</td>\n",
       "      <td>NiFTI</td>\n",
       "      <td>NaN</td>\n",
       "    </tr>\n",
       "    <tr>\n",
       "      <th>4</th>\n",
       "      <td>I121689</td>\n",
       "      <td>127_S_1427</td>\n",
       "      <td>MCI</td>\n",
       "      <td>F</td>\n",
       "      <td>71</td>\n",
       "      <td>4</td>\n",
       "      <td>MRI</td>\n",
       "      <td>MPR; GradWarp; B1 Correction; N3; Scaled</td>\n",
       "      <td>Processed</td>\n",
       "      <td>9/02/2008</td>\n",
       "      <td>NiFTI</td>\n",
       "      <td>NaN</td>\n",
       "    </tr>\n",
       "  </tbody>\n",
       "</table>\n",
       "</div>"
      ],
      "text/plain": [
       "  ImageDataID     Subject Group Sex  Age  Visit Modality  \\\n",
       "0     I125941  137_S_1426   MCI   M   85      4      MRI   \n",
       "1     I121703  128_S_1408   MCI   M   73      4      MRI   \n",
       "2     I121637  037_S_1421   MCI   F   76      4      MRI   \n",
       "3     I122382  128_S_1407   MCI   F   76      4      MRI   \n",
       "4     I121689  127_S_1427   MCI   F   71      4      MRI   \n",
       "\n",
       "                                Description       Type     AcqDate Format  \\\n",
       "0               MPR-R; GradWarp; N3; Scaled  Processed  10/30/2008  NiFTI   \n",
       "1  MPR; GradWarp; B1 Correction; N3; Scaled  Processed   9/19/2008  NiFTI   \n",
       "2                 MPR; GradWarp; N3; Scaled  Processed   9/17/2008  NiFTI   \n",
       "3  MPR; GradWarp; B1 Correction; N3; Scaled  Processed   9/05/2008  NiFTI   \n",
       "4  MPR; GradWarp; B1 Correction; N3; Scaled  Processed   9/02/2008  NiFTI   \n",
       "\n",
       "   Downloaded  \n",
       "0         NaN  \n",
       "1         NaN  \n",
       "2         NaN  \n",
       "3         NaN  \n",
       "4         NaN  "
      ]
     },
     "execution_count": 9,
     "metadata": {},
     "output_type": "execute_result"
    }
   ],
   "source": [
    "# Load individuals CSV files with image details\n",
    "df_1 = pd.read_csv(path + \"/datasets/ADNI1_Complete_1Yr_1.5T.csv\")\n",
    "df_2 = pd.read_csv(path + \"/datasets/ADNI1_Complete_2Yr_1.5T.csv\")\n",
    "df_3 = pd.read_csv(path + \"/datasets/ADNI1_Complete_3Yr_1.5T.csv\")\n",
    "\n",
    "# Concatenate all CSV files in a unique dataframe\n",
    "df = pd.concat([df_1, df_2, df_3])\n",
    "\n",
    "# Remove extra whitespaces from column names\n",
    "df.columns = df.columns.str.replace(\" \", \"\")\n",
    "\n",
    "df.head()"
   ]
  },
  {
   "cell_type": "code",
   "execution_count": 10,
   "metadata": {
    "colab": {
     "base_uri": "https://localhost:8080/",
     "height": 221
    },
    "executionInfo": {
     "elapsed": 390,
     "status": "ok",
     "timestamp": 1621069374130,
     "user": {
      "displayName": "Fernando Herran",
      "photoUrl": "",
      "userId": "09119314463851443877"
     },
     "user_tz": -120
    },
    "id": "LBPEQ0kKUluE",
    "outputId": "845a8b88-8ffd-4dec-b58e-8176f96ed354"
   },
   "outputs": [
    {
     "data": {
      "text/html": [
       "<div>\n",
       "<style scoped>\n",
       "    .dataframe tbody tr th:only-of-type {\n",
       "        vertical-align: middle;\n",
       "    }\n",
       "\n",
       "    .dataframe tbody tr th {\n",
       "        vertical-align: top;\n",
       "    }\n",
       "\n",
       "    .dataframe thead th {\n",
       "        text-align: right;\n",
       "    }\n",
       "</style>\n",
       "<table border=\"1\" class=\"dataframe\">\n",
       "  <thead>\n",
       "    <tr style=\"text-align: right;\">\n",
       "      <th></th>\n",
       "      <th>ImageDataID</th>\n",
       "      <th>Group</th>\n",
       "    </tr>\n",
       "  </thead>\n",
       "  <tbody>\n",
       "    <tr>\n",
       "      <th>0</th>\n",
       "      <td>I125941</td>\n",
       "      <td>MCI</td>\n",
       "    </tr>\n",
       "    <tr>\n",
       "      <th>1</th>\n",
       "      <td>I121703</td>\n",
       "      <td>MCI</td>\n",
       "    </tr>\n",
       "    <tr>\n",
       "      <th>2</th>\n",
       "      <td>I121637</td>\n",
       "      <td>MCI</td>\n",
       "    </tr>\n",
       "    <tr>\n",
       "      <th>3</th>\n",
       "      <td>I122382</td>\n",
       "      <td>MCI</td>\n",
       "    </tr>\n",
       "    <tr>\n",
       "      <th>4</th>\n",
       "      <td>I121689</td>\n",
       "      <td>MCI</td>\n",
       "    </tr>\n",
       "  </tbody>\n",
       "</table>\n",
       "</div>"
      ],
      "text/plain": [
       "  ImageDataID Group\n",
       "0     I125941   MCI\n",
       "1     I121703   MCI\n",
       "2     I121637   MCI\n",
       "3     I122382   MCI\n",
       "4     I121689   MCI"
      ]
     },
     "execution_count": 10,
     "metadata": {},
     "output_type": "execute_result"
    }
   ],
   "source": [
    "# Retrieve only the image ID and Group (class) columns\n",
    "df = df[[\"ImageDataID\", \"Group\"]]\n",
    "df.head()"
   ]
  },
  {
   "cell_type": "code",
   "execution_count": 11,
   "metadata": {
    "colab": {
     "base_uri": "https://localhost:8080/"
    },
    "executionInfo": {
     "elapsed": 380,
     "status": "ok",
     "timestamp": 1621069380007,
     "user": {
      "displayName": "Fernando Herran",
      "photoUrl": "",
      "userId": "09119314463851443877"
     },
     "user_tz": -120
    },
    "id": "OZExMmLNUluF",
    "outputId": "1c61dc25-2ca9-4074-eaf9-565af049b1e7"
   },
   "outputs": [
    {
     "data": {
      "text/plain": [
       "MCI    1708\n",
       "CN     1009\n",
       "AD      575\n",
       "Name: Group, dtype: int64"
      ]
     },
     "execution_count": 11,
     "metadata": {},
     "output_type": "execute_result"
    }
   ],
   "source": [
    "# Check number of cases by class in the dataframe\n",
    "df[\"Group\"].value_counts()"
   ]
  },
  {
   "cell_type": "markdown",
   "metadata": {
    "id": "F9KT6w-CUluG"
   },
   "source": [
    "It can be seen that the three following classes are presented in the dataset:\n",
    "   - **MCI** - Mild cognitive impairment patients\n",
    "   - **CN** - Cognitively normal patients\n",
    "   - **AD** - Alzheimer’s disease patients"
   ]
  },
  {
   "cell_type": "code",
   "execution_count": 12,
   "metadata": {
    "colab": {
     "base_uri": "https://localhost:8080/"
    },
    "executionInfo": {
     "elapsed": 894,
     "status": "ok",
     "timestamp": 1621071509677,
     "user": {
      "displayName": "Fernando Herran",
      "photoUrl": "",
      "userId": "09119314463851443877"
     },
     "user_tz": -120
    },
    "id": "mI6UAGTCjl50",
    "outputId": "f7c94c57-6e8e-4463-cff7-274cbb230e07"
   },
   "outputs": [
    {
     "name": "stdout",
     "output_type": "stream",
     "text": [
      "[+] Number of Alzheimer cases: 178\n",
      "[+] Number of healthy cases: 172\n"
     ]
    }
   ],
   "source": [
    "# Retrieve class for each image mapping the titles list and the Image ID column from the dataframe\n",
    "y = []  # List where to save the class for each image: 1 (AD, MCI), 0 (CN)\n",
    "\n",
    "for title in titles:\n",
    "    group_ = df[\"Group\"].loc[df['ImageDataID'] == title].values[0]\n",
    "    \n",
    "    if group_ in [\"AD\",\"MCI\"]:\n",
    "        y.append(1)\n",
    "        \n",
    "    elif group_ in [\"CN\"]:\n",
    "        y.append(0)\n",
    "        \n",
    "    else:\n",
    "        y.append(False)\n",
    "\n",
    "# # Check number of cases by class with images loaded\n",
    "print(f\"[+] Number of Alzheimer cases: {y.count(1)}\")\n",
    "print(f\"[+] Number of healthy cases: {y.count(0)}\")"
   ]
  },
  {
   "cell_type": "code",
   "execution_count": 13,
   "metadata": {
    "executionInfo": {
     "elapsed": 398,
     "status": "ok",
     "timestamp": 1621071514825,
     "user": {
      "displayName": "Fernando Herran",
      "photoUrl": "",
      "userId": "09119314463851443877"
     },
     "user_tz": -120
    },
    "id": "xdWScdk5jl52"
   },
   "outputs": [],
   "source": [
    "# Convert X and y lists to arrays\n",
    "X = images\n",
    "X = np.asarray(X).astype('int8')\n",
    "\n",
    "y = np.array(y)"
   ]
  },
  {
   "cell_type": "code",
   "execution_count": 14,
   "metadata": {
    "colab": {
     "base_uri": "https://localhost:8080/"
    },
    "executionInfo": {
     "elapsed": 448,
     "status": "ok",
     "timestamp": 1621071605030,
     "user": {
      "displayName": "Fernando Herran",
      "photoUrl": "",
      "userId": "09119314463851443877"
     },
     "user_tz": -120
    },
    "id": "9-FYPmQNUluH",
    "outputId": "a3f28e45-cabb-4506-fb91-d7c5194254f2"
   },
   "outputs": [
    {
     "name": "stdout",
     "output_type": "stream",
     "text": [
      "[+] Minimum value of X data: -128\n",
      "[+] Maximum value of X data: 127\n"
     ]
    }
   ],
   "source": [
    "# Check minimum and maximum value of X data\n",
    "print(f\"[+] Minimum value of X data: {np.amin(X)}\")\n",
    "print(f\"[+] Maximum value of X data: {np.amax(X)}\")"
   ]
  },
  {
   "cell_type": "markdown",
   "metadata": {
    "id": "bY1bp4RnUluI"
   },
   "source": [
    "It can be seen how images pixel values range from -128 to +127.\n",
    "In order to facilitate training, a normalization is carried out."
   ]
  },
  {
   "cell_type": "code",
   "execution_count": 15,
   "metadata": {
    "colab": {
     "base_uri": "https://localhost:8080/"
    },
    "executionInfo": {
     "elapsed": 721,
     "status": "ok",
     "timestamp": 1621071609210,
     "user": {
      "displayName": "Fernando Herran",
      "photoUrl": "",
      "userId": "09119314463851443877"
     },
     "user_tz": -120
    },
    "id": "fF5WqH-1UluJ",
    "outputId": "64c225d1-83af-4e05-e0bb-bd9f08bd0823"
   },
   "outputs": [
    {
     "name": "stdout",
     "output_type": "stream",
     "text": [
      "[+] Minimum value of X data after normalization: -1.0\n",
      "[+] Maximum value of X data after normalization: 0.9921875\n"
     ]
    }
   ],
   "source": [
    "# Normalizing X data\n",
    "max_value = max(abs(int(np.amin(X))), abs(int(np.amax(X))))\n",
    "X = X / max_value\n",
    "\n",
    "print(f\"[+] Minimum value of X data after normalization: {np.amin(X)}\")\n",
    "print(f\"[+] Maximum value of X data after normalization: {np.amax(X)}\")"
   ]
  },
  {
   "cell_type": "markdown",
   "metadata": {
    "id": "wxXzPxvEjl53"
   },
   "source": [
    "#### Save images and classes\n",
    "Only run the next two cells if you want to save both X and y arrays into numpy files."
   ]
  },
  {
   "cell_type": "code",
   "execution_count": null,
   "metadata": {
    "id": "klrhedj8jl54"
   },
   "outputs": [],
   "source": [
    "# Save list of images as a numpy file\n",
    "np.savez_compressed(\"images\", X)"
   ]
  },
  {
   "cell_type": "code",
   "execution_count": null,
   "metadata": {
    "id": "HgvGzlKDUluK"
   },
   "outputs": [],
   "source": [
    "# Save list of classes as a numpy file\n",
    "np.savez_compressed(\"classes\", y)"
   ]
  },
  {
   "cell_type": "markdown",
   "metadata": {
    "id": "X3uDh9j9jl55"
   },
   "source": [
    "#### Load images and classes\n",
    "Only run the next two cells if you want to load both X and y arrays from numpy files."
   ]
  },
  {
   "cell_type": "code",
   "execution_count": null,
   "metadata": {
    "id": "heeCArQWUluL"
   },
   "outputs": [],
   "source": [
    "# Load images in array format\n",
    "loaded_images = np.load('images.npz', allow_pickle= True)\n",
    "X = loaded_images['arr_0']"
   ]
  },
  {
   "cell_type": "code",
   "execution_count": null,
   "metadata": {
    "id": "cA9E66c6jl56"
   },
   "outputs": [],
   "source": [
    "# Load classes in array format\n",
    "loaded_classes = np.load('classes.npz', allow_pickle= True)\n",
    "y = loaded_classes['arr_0']"
   ]
  },
  {
   "cell_type": "markdown",
   "metadata": {
    "id": "1-OGSZ9vjl56"
   },
   "source": [
    "#### Get training and testing datasets"
   ]
  },
  {
   "cell_type": "code",
   "execution_count": 16,
   "metadata": {
    "colab": {
     "base_uri": "https://localhost:8080/"
    },
    "executionInfo": {
     "elapsed": 355,
     "status": "ok",
     "timestamp": 1621071614388,
     "user": {
      "displayName": "Fernando Herran",
      "photoUrl": "",
      "userId": "09119314463851443877"
     },
     "user_tz": -120
    },
    "id": "HA4wEN72jl57",
    "outputId": "26d29212-e4aa-4049-eaec-6ec25d9f7df7"
   },
   "outputs": [
    {
     "name": "stdout",
     "output_type": "stream",
     "text": [
      "[+] Training shape: 245\n",
      "    [-] Number of Alzheimer cases: 114\n",
      "    [-] Number of healthy cases: 131\n",
      "\n",
      "[+] Testing shape: 105\n",
      "    [-] Number of Alzheimer cases: 64\n",
      "    [-] Number of healthy cases: 41\n"
     ]
    }
   ],
   "source": [
    "# Define testing proportion of the dataset\n",
    "test_size = 0.3\n",
    "\n",
    "# Split data into training and testing datasets\n",
    "X_train, X_test, y_train, y_test = train_test_split(X, y, test_size=test_size, random_state=7)\n",
    "\n",
    "# Print data shapes\n",
    "print(f\"[+] Training shape: {len(X_train)}\")\n",
    "print(f\"    [-] Number of Alzheimer cases: {round(sum(y_train))}\")\n",
    "print(f\"    [-] Number of healthy cases: {round(len(y_train) - sum(y_train))}\")\n",
    "print(f\"\\n[+] Testing shape: {len(X_test)}\")\n",
    "print(f\"    [-] Number of Alzheimer cases: {round(sum(y_test))}\")\n",
    "print(f\"    [-] Number of healthy cases: {round(len(y_test) - sum(y_test))}\")"
   ]
  },
  {
   "cell_type": "markdown",
   "metadata": {
    "id": "PihvLS1Gjl58"
   },
   "source": [
    "### Define CNN model"
   ]
  },
  {
   "cell_type": "code",
   "execution_count": 17,
   "metadata": {
    "executionInfo": {
     "elapsed": 1283,
     "status": "ok",
     "timestamp": 1621073638369,
     "user": {
      "displayName": "Fernando Herran",
      "photoUrl": "",
      "userId": "09119314463851443877"
     },
     "user_tz": -120
    },
    "id": "iOAAx27Jjl58"
   },
   "outputs": [],
   "source": [
    "def build_model(input_shape_):\n",
    "    '''\n",
    "    Function to build a convolutional neural network.\n",
    "    Inputs: input shape\n",
    "    '''\n",
    "\n",
    "    # Fix random seed for reproducibility\n",
    "    np.random.seed(123)\n",
    "    tf.random.set_seed(123) \n",
    "\n",
    "    # Start Sequential model\n",
    "    model = Sequential()\n",
    "    \n",
    "    # Input layer\n",
    "    model.add(InputLayer(input_shape = input_shape_))\n",
    "              \n",
    "    # Convolutional layers  \n",
    "    ## 1st conv block\n",
    "    model.add(Conv2D(50, kernel_size=(3,3), activation = 'relu'))\n",
    "    model.add(MaxPool2D(pool_size=(2,2)))\n",
    "    \n",
    "    ## 2nd conv block\n",
    "    model.add(Conv2D(75, kernel_size=(3,3), activation='relu'))\n",
    "    model.add(MaxPool2D(pool_size=(2,2)))\n",
    "    model.add(BatchNormalization())\n",
    "\n",
    "    ## 3rd conv block\n",
    "    model.add(Conv2D(125, kernel_size=(3,3), activation='relu'))\n",
    "    model.add(MaxPool2D(pool_size=(2,2)))\n",
    "    model.add(BatchNormalization())\n",
    "      \n",
    "    # Flatten layer\n",
    "    model.add(Flatten())\n",
    "              \n",
    "    # Hidden layers       \n",
    "    model.add(Dense(200, activation='relu'))\n",
    "    model.add(Dropout(0.4))\n",
    "    model.add(Dense(100, activation='relu'))\n",
    "    model.add(Dropout(0.3))\n",
    "    model.add(Dense(50, activation='relu'))\n",
    "    model.add(Dropout(0.3))\n",
    "\n",
    "    # Output layer\n",
    "    model.add(Dense(1, activation = 'sigmoid'))\n",
    "    \n",
    "    return model"
   ]
  },
  {
   "cell_type": "code",
   "execution_count": 18,
   "metadata": {
    "executionInfo": {
     "elapsed": 734,
     "status": "ok",
     "timestamp": 1621074392913,
     "user": {
      "displayName": "Fernando Herran",
      "photoUrl": "",
      "userId": "09119314463851443877"
     },
     "user_tz": -120
    },
    "id": "dSkRnavxUluR"
   },
   "outputs": [],
   "source": [
    "# Build model\n",
    "input_shape_ = (240, 320, 3)\n",
    "model = build_model(input_shape_)\n",
    "#model.summary()"
   ]
  },
  {
   "cell_type": "markdown",
   "metadata": {
    "id": "5o7hki78UluS"
   },
   "source": [
    "### Train CNN model"
   ]
  },
  {
   "cell_type": "code",
   "execution_count": 19,
   "metadata": {
    "executionInfo": {
     "elapsed": 858,
     "status": "ok",
     "timestamp": 1621073649155,
     "user": {
      "displayName": "Fernando Herran",
      "photoUrl": "",
      "userId": "09119314463851443877"
     },
     "user_tz": -120
    },
    "id": "fq3UGsn_UluT"
   },
   "outputs": [],
   "source": [
    "# Define Hyperparameters  \n",
    "batch_size = 64\n",
    "num_epochs = 10\n",
    "steps_per_epoch = int(len(X_train) * 0.85/ batch_size)\n",
    "validation_split = 0.3\n",
    "validation_steps = int(len(X_train) * validation_split / batch_size)"
   ]
  },
  {
   "cell_type": "code",
   "execution_count": 20,
   "metadata": {
    "colab": {
     "base_uri": "https://localhost:8080/"
    },
    "executionInfo": {
     "elapsed": 615,
     "status": "ok",
     "timestamp": 1621072664950,
     "user": {
      "displayName": "Fernando Herran",
      "photoUrl": "",
      "userId": "09119314463851443877"
     },
     "user_tz": -120
    },
    "id": "2LNrWTDEWcsr",
    "outputId": "50a3ea16-cfbf-43b5-9cef-a915c4602440"
   },
   "outputs": [
    {
     "name": "stdout",
     "output_type": "stream",
     "text": [
      "Steps per epoch: 3\n",
      "Validation steps: 1\n"
     ]
    }
   ],
   "source": [
    "print(\"Steps per epoch:\", steps_per_epoch)\n",
    "print(\"Validation steps:\", validation_steps)"
   ]
  },
  {
   "cell_type": "code",
   "execution_count": 21,
   "metadata": {
    "executionInfo": {
     "elapsed": 536,
     "status": "ok",
     "timestamp": 1621074399090,
     "user": {
      "displayName": "Fernando Herran",
      "photoUrl": "",
      "userId": "09119314463851443877"
     },
     "user_tz": -120
    },
    "id": "4fHz567hfJYT"
   },
   "outputs": [],
   "source": [
    "# Define learning rate\n",
    "initial_learning_rate = 0.0001\n",
    "lr_schedule = keras.optimizers.schedules.ExponentialDecay(initial_learning_rate, \n",
    "                                                          decay_steps = 100000, \n",
    "                                                          decay_rate = 0.96, \n",
    "                                                          staircase = True)\n",
    "\n",
    "# Compile model\n",
    "model.compile(loss = 'binary_crossentropy', \n",
    "              optimizer = keras.optimizers.Adam(learning_rate=lr_schedule), \n",
    "              metrics = [f1]) "
   ]
  },
  {
   "cell_type": "code",
   "execution_count": 22,
   "metadata": {
    "colab": {
     "base_uri": "https://localhost:8080/"
    },
    "executionInfo": {
     "elapsed": 50603,
     "status": "ok",
     "timestamp": 1621074457687,
     "user": {
      "displayName": "Fernando Herran",
      "photoUrl": "",
      "userId": "09119314463851443877"
     },
     "user_tz": -120
    },
    "id": "gq7rPP8wjl5-",
    "outputId": "43cb173a-b59a-4101-d982-9daaa23f0fa1"
   },
   "outputs": [
    {
     "name": "stdout",
     "output_type": "stream",
     "text": [
      "Epoch 1/10\n",
      "6/6 [==============================] - 30s 5s/step - loss: 1.8282 - f1: 0.2585 - val_loss: 0.6821 - val_f1: 0.2159\n",
      "Epoch 2/10\n",
      "6/6 [==============================] - 27s 4s/step - loss: 2.2112 - f1: 0.4100 - val_loss: 0.6838 - val_f1: 0.4785\n",
      "Epoch 3/10\n",
      "6/6 [==============================] - 26s 4s/step - loss: 1.6633 - f1: 0.5174 - val_loss: 0.6842 - val_f1: 0.1094\n",
      "Epoch 4/10\n",
      "6/6 [==============================] - 27s 4s/step - loss: 1.4622 - f1: 0.4510 - val_loss: 0.6832 - val_f1: 0.6711\n",
      "Epoch 5/10\n",
      "6/6 [==============================] - 26s 4s/step - loss: 1.0394 - f1: 0.4985 - val_loss: 0.6882 - val_f1: 0.6761\n",
      "Epoch 6/10\n",
      "6/6 [==============================] - 26s 4s/step - loss: 1.1381 - f1: 0.3934 - val_loss: 0.6936 - val_f1: 0.6711\n",
      "Epoch 7/10\n",
      "6/6 [==============================] - 27s 4s/step - loss: 1.0637 - f1: 0.5129 - val_loss: 0.6940 - val_f1: 0.6208\n",
      "Epoch 8/10\n",
      "6/6 [==============================] - 27s 4s/step - loss: 0.8032 - f1: 0.5090 - val_loss: 0.6919 - val_f1: 0.6603\n",
      "Epoch 9/10\n",
      "6/6 [==============================] - 27s 4s/step - loss: 0.8692 - f1: 0.5207 - val_loss: 0.6909 - val_f1: 0.6603\n",
      "Epoch 10/10\n",
      "6/6 [==============================] - 26s 4s/step - loss: 0.7419 - f1: 0.5719 - val_loss: 0.6894 - val_f1: 0.6509\n",
      "[+] Time of training: 269.06\n"
     ]
    }
   ],
   "source": [
    "# Train model\n",
    "start_time = time.time()\n",
    "\n",
    "history = model.fit(x = X_train, \n",
    "                    y = y_train,\n",
    "                    epochs = num_epochs,\n",
    "                    validation_split = validation_split,\n",
    "                    verbose = 1)\n",
    "\n",
    "end_time = time.time()\n",
    "print(\"[+] Time of training: \"+\"{:.2f}\".format(end_time-start_time));"
   ]
  },
  {
   "cell_type": "markdown",
   "metadata": {
    "id": "eR9YKWIj5CVt"
   },
   "source": [
    "### Evaluation "
   ]
  },
  {
   "cell_type": "code",
   "execution_count": 23,
   "metadata": {
    "colab": {
     "base_uri": "https://localhost:8080/",
     "height": 314
    },
    "executionInfo": {
     "elapsed": 372,
     "status": "error",
     "timestamp": 1621074472215,
     "user": {
      "displayName": "Fernando Herran",
      "photoUrl": "",
      "userId": "09119314463851443877"
     },
     "user_tz": -120
    },
    "id": "o9ewdnA_jl5_",
    "outputId": "44cc933e-89cf-476c-9373-64dd125f694a"
   },
   "outputs": [
    {
     "data": {
      "image/png": "[encoded data removed]",
      "text/plain": [
       "<Figure size 864x432 with 2 Axes>"
      ]
     },
     "metadata": {},
     "output_type": "display_data"
    }
   ],
   "source": [
    "# Plot metrics\n",
    "plot_history_2(history)"
   ]
  },
  {
   "cell_type": "code",
   "execution_count": null,
   "metadata": {
    "id": "LdGYTnLIjl6A"
   },
   "outputs": [],
   "source": [
    "# Get accuracy\n",
    "model.evaluate(x = X_test,\n",
    "               y = y_test, \n",
    "               verbose = 0)"
   ]
  },
  {
   "cell_type": "code",
   "execution_count": 24,
   "metadata": {
    "executionInfo": {
     "elapsed": 2148,
     "status": "ok",
     "timestamp": 1621074478164,
     "user": {
      "displayName": "Fernando Herran",
      "photoUrl": "",
      "userId": "09119314463851443877"
     },
     "user_tz": -120
    },
    "id": "K-Gfry_rjl6E"
   },
   "outputs": [],
   "source": [
    "# Get predictions\n",
    "fn_sensitive = 0.5  # False negative sensitive variable\n",
    "y_predict = []\n",
    "\n",
    "for sample in model.predict(X_test):\n",
    "    if sample < fn_sensitive:\n",
    "        y_predict.append(0)\n",
    "    else:\n",
    "        y_predict.append(1)"
   ]
  },
  {
   "cell_type": "code",
   "execution_count": 25,
   "metadata": {
    "colab": {
     "base_uri": "https://localhost:8080/",
     "height": 507
    },
    "executionInfo": {
     "elapsed": 790,
     "status": "ok",
     "timestamp": 1621074481911,
     "user": {
      "displayName": "Fernando Herran",
      "photoUrl": "",
      "userId": "09119314463851443877"
     },
     "user_tz": -120
    },
    "id": "jLhBJjeEjl6K",
    "outputId": "87b4a98f-afa5-4322-b676-5408962ea6b9"
   },
   "outputs": [
    {
     "name": "stdout",
     "output_type": "stream",
     "text": [
      "Recall: 0.97\n",
      "Precision: 0.61\n",
      "F1 score: 0.75\n"
     ]
    },
    {
     "data": {
      "image/png": "[encoded data removed]",
      "text/plain": [
       "<Figure size 576x432 with 1 Axes>"
      ]
     },
     "metadata": {},
     "output_type": "display_data"
    }
   ],
   "source": [
    "# Evaluation\n",
    "print(\"Recall: \"+\"{:.2f}\".format(recall_score(y_test, y_predict)))\n",
    "print(\"Precision: \"+\"{:.2f}\".format(precision_score(y_test, y_predict)))\n",
    "print(\"F1 score: \"+\"{:.2f}\".format(f1_score(y_test, y_predict)))\n",
    "            \n",
    "# Calculate confusion matrix\n",
    "cm = confusion_matrix(y_test, y_predict)\n",
    "\n",
    "# Plot confusion matrix\n",
    "plt.figure(figsize=(8,6))\n",
    "sns.heatmap(cm, annot=True, fmt=\"\",cmap=\"Blues\",cbar=False)\n",
    "plt.xlabel('Predicted label', fontsize= 14,fontweight='bold')\n",
    "plt.ylabel('True label', fontsize= 14, fontweight='bold') \n",
    "plt.tight_layout()\n",
    "plt.show()"
   ]
  },
  {
   "cell_type": "code",
   "execution_count": 26,
   "metadata": {
    "colab": {
     "base_uri": "https://localhost:8080/",
     "height": 314
    },
    "executionInfo": {
     "elapsed": 5784,
     "status": "error",
     "timestamp": 1621070010354,
     "user": {
      "displayName": "Fernando Herran",
      "photoUrl": "",
      "userId": "09119314463851443877"
     },
     "user_tz": -120
    },
    "id": "jLkit37YUluX",
    "outputId": "6b9f9ce0-2985-49f6-c3dd-8925642ad094"
   },
   "outputs": [
    {
     "name": "stdout",
     "output_type": "stream",
     "text": [
      "[+] Train AUC score = 0.772\n",
      "[+] Test AUC score = 0.568\n"
     ]
    },
    {
     "data": {
      "image/png": "[encoded data removed]",
      "text/plain": [
       "<Figure size 432x432 with 1 Axes>"
      ]
     },
     "metadata": {},
     "output_type": "display_data"
    }
   ],
   "source": [
    "# Plot roc curve\n",
    "plot_roc_curve(model, X_train, X_test, y_train, y_test, save_fig = False)"
   ]
  },
  {
   "cell_type": "markdown",
   "metadata": {
    "id": "aB3fGX0xUluZ"
   },
   "source": [
    "#### Save CNN model"
   ]
  },
  {
   "cell_type": "code",
   "execution_count": null,
   "metadata": {
    "id": "L2JrB7wmrRdb"
   },
   "outputs": [],
   "source": [
    "# Save model\n",
    "model.save(path + \"/cnn_model_1.h5\")\n",
    "print(\"\\n[+] Model saved\")"
   ]
  },
  {
   "cell_type": "markdown",
   "metadata": {
    "id": "SRLNIT0SUlua"
   },
   "source": [
    "===================================================================================================================\n",
    "#==================================================================================================================\n",
    "### OTHERS"
   ]
  },
  {
   "cell_type": "code",
   "execution_count": null,
   "metadata": {
    "id": "2YEnJ-QZUlua"
   },
   "outputs": [],
   "source": [
    "base_model = tf.keras.applications.inception_v3.InceptionV3(\n",
    "    input_shape=(240, 320, 3), \n",
    "    weights='imagenet', \n",
    "    include_top=False,\n",
    "    pooling='max')\n",
    "\n",
    "base_output = base_model.output\n",
    "hidden_layer = tf.keras.layers.Dense(512, activation='relu')(base_output)\n",
    "hl_reg = tf.keras.layers.Dropout(0.8)(hidden_layer)\n",
    "output_layer = tf.keras.layers.Dense(1, activation='softmax')(hl_reg)\n",
    "\n",
    "model = tf.keras.models.Model(inputs=base_model.input, outputs=output_layer)\n",
    "\n",
    "for layer in base_model.layers:\n",
    "    layer.trainable = False\n",
    "\n",
    "# compile the model (should be done *after* setting layers to non-trainable)\n",
    "optimizer = tf.keras.optimizers.Adam(lr=0.0001, decay=1e-3)\n",
    "model.compile(optimizer=optimizer, loss='categorical_crossentropy', \n",
    "              metrics=['acc'])"
   ]
  },
  {
   "cell_type": "code",
   "execution_count": null,
   "metadata": {
    "id": "UswN-Fd9Ulua"
   },
   "outputs": [],
   "source": [
    "model.summary()"
   ]
  },
  {
   "cell_type": "code",
   "execution_count": null,
   "metadata": {
    "id": "S6ZsZLedUlub"
   },
   "outputs": [],
   "source": [
    "# Hyperparameters\n",
    "dropout = 0.1\n",
    "mn_value = 0.5\n",
    "\n",
    "# Start model\n",
    "m = Models.Sequential()\n",
    "\n",
    "# Input layer\n",
    "m.add(Layers.Flatten(input_shape=(240, 320, 3)))\n",
    "\n",
    "# Hidden layers\n",
    "m.add(Layers.Dense(units=10, activation = \"relu\", kernel_constraint=max_norm(mn_value)))\n",
    "m.add(Layers.Dense(units=10, activation = \"relu\", kernel_constraint=max_norm(mn_value)))\n",
    "m.add(Layers.Dense(units=10, activation = \"relu\", kernel_constraint=max_norm(mn_value)))\n",
    "m.add(Layers.Dropout(rate = dropout))\n",
    "\n",
    "# Output layer\n",
    "m.add(Layers.Dense(1,activation='sigmoid'))\n",
    "\n",
    "# Compile model\n",
    "m.compile(optimizer = \"adam\" ,\n",
    "          loss = \"binary_crossentropy\",\n",
    "          metrics = [\"accuracy\"]"
   ]
  },
  {
   "cell_type": "code",
   "execution_count": null,
   "metadata": {
    "colab": {
     "base_uri": "https://localhost:8080/"
    },
    "executionInfo": {
     "elapsed": 473,
     "status": "ok",
     "timestamp": 1621075409112,
     "user": {
      "displayName": "Fernando Herran",
      "photoUrl": "",
      "userId": "09119314463851443877"
     },
     "user_tz": -120
    },
    "id": "UWNf5Rlkn4YB",
    "outputId": "dcbb83c3-85f7-4bf5-da30-89710e460107"
   },
   "outputs": [],
   "source": [
    "int(len(list(history.history.keys())) / 2)"
   ]
  },
  {
   "cell_type": "code",
   "execution_count": null,
   "metadata": {
    "executionInfo": {
     "elapsed": 632,
     "status": "ok",
     "timestamp": 1621075428289,
     "user": {
      "displayName": "Fernando Herran",
      "photoUrl": "",
      "userId": "09119314463851443877"
     },
     "user_tz": -120
    },
    "id": "Kdqb7kOjn9o6"
   },
   "outputs": [],
   "source": [
    "a = [0,1,2,3]"
   ]
  },
  {
   "cell_type": "code",
   "execution_count": null,
   "metadata": {
    "colab": {
     "base_uri": "https://localhost:8080/"
    },
    "executionInfo": {
     "elapsed": 579,
     "status": "ok",
     "timestamp": 1621075534121,
     "user": {
      "displayName": "Fernando Herran",
      "photoUrl": "",
      "userId": "09119314463851443877"
     },
     "user_tz": -120
    },
    "id": "pm_NAykDoA6r",
    "outputId": "c32f4bdf-53f2-4bb1-a7eb-a2e3c7bb1c4a"
   },
   "outputs": [],
   "source": [
    "int(len(list(history.history.keys())) / 2)\n",
    "\n",
    "keys_ = list(history.history.keys())[:2]\n",
    "keys_    \n",
    "\n",
    "\n",
    "limit_ = int(len(list(history.history.keys()))/2)\n",
    "keys_ = list(history.history.keys())[:limit_]"
   ]
  },
  {
   "cell_type": "code",
   "execution_count": null,
   "metadata": {
    "id": "inhWUn3QUluc"
   },
   "outputs": [],
   "source": []
  }
 ],
 "metadata": {
  "accelerator": "TPU",
  "colab": {
   "collapsed_sections": [],
   "name": "CNN_creation.ipynb",
   "provenance": []
  },
  "kernelspec": {
   "display_name": "Python 3",
   "language": "python",
   "name": "python3"
  },
  "language_info": {
   "codemirror_mode": {
    "name": "ipython",
    "version": 3
   },
   "file_extension": ".py",
   "mimetype": "text/x-python",
   "name": "python",
   "nbconvert_exporter": "python",
   "pygments_lexer": "ipython3",
   "version": "3.8.5"
  }
 },
 "nbformat": 4,
 "nbformat_minor": 1
}
