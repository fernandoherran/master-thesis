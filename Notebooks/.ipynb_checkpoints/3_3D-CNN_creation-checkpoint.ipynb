{
 "cells": [
  {
   "cell_type": "markdown",
   "metadata": {
    "id": "dgFS5tRszcAb"
   },
   "source": [
    "### References"
   ]
  },
  {
   "cell_type": "markdown",
   "metadata": {
    "id": "5kcyFTQGzcAg"
   },
   "source": [
    "**Google Colab**  \n",
    "[TPUs in Colab](https://colab.research.google.com/notebooks/tpu.ipynb#scrollTo=kvPXiovhi3ZZ)  \n",
    "[TFRecord](https://colab.research.google.com/github/tensorflow/docs/blob/master/site/en/tutorials/load_data/tfrecord.ipynb)  \n",
    "\n",
    "**CNN**  \n",
    "[CNN: Beginner guide](https://towardsdatascience.com/convolution-neural-networks-a-beginners-guide-implementing-a-mnist-hand-written-digit-8aa60330d022)  \n",
    "[CNN: Image sequence](https://medium.com/smileinnovation/training-neural-network-with-image-sequence-an-example-with-video-as-input-c3407f7a0b0f)  \n",
    "[CNN: Keras 3D v1](https://keras.io/examples/vision/3D_image_classification/)  \n",
    "[CNN: Keras 3D v2](https://blog.keras.io/building-powerful-image-classification-models-using-very-little-data.html)  \n",
    "[CNN: Conv](https://stackoverflow.com/questions/66220774/difference-between-the-input-shape-for-a-1d-cnn-2d-cnn-and-3d-cnn)  \n",
    "[CNN: Arquitecture](https://towardsdatascience.com/wtf-is-image-classification-8e78a8235acb)  \n",
    "[CNN: Tutorial](https://jhui.github.io/2017/03/16/CNN-Convolutional-neural-network/)  \n",
    "[CNN: Time distributed](https://medium.com/smileinnovation/how-to-work-with-time-distributed-data-in-a-neural-network-b8b39aa4ce00)  \n",
    "[CNN: ConvLSTM](https://medium.com/neuronio/an-introduction-to-convlstm-55c9025563a7)  \n",
    "[CNN: Course](https://cs231n.github.io/neural-networks-3/#loss)  \n",
    "[Metrics functions](https://datascience.stackexchange.com/questions/45165/how-to-get-accuracy-f1-precision-and-recall-for-a-keras-model)  \n",
    "[Pixels Preprocessing v1](https://machinelearningmastery.com/how-to-normalize-center-and-standardize-images-with-the-imagedatagenerator-in-keras/)  \n",
    "[Pixels Preprocessing v2](https://machinelearningmastery.com/how-to-manually-scale-image-pixel-data-for-deep-learning/)  \n",
    "[Pixels Normalize](https://www.researchgate.net/post/How_do_I_normalize_2_grayscale_images_so_that_they_are_equivalent_to_each_other)  \n",
    "[Epoch vs Batch](https://towardsdatascience.com/epoch-vs-iterations-vs-batch-size-4dfb9c7ce9c9)  \n",
    "[Loss vs accuracy, differences](https://stats.stackexchange.com/questions/282160/how-is-it-possible-that-validation-loss-is-increasing-while-validation-accuracy)  \n",
    "[Optimal batch size](https://stackoverflow.com/questions/46654424/how-to-calculate-optimal-batch-size)  \n",
    "[Cross_entropy, which one to use](https://stats.stackexchange.com/questions/260505/should-i-use-a-categorical-cross-entropy-or-binary-cross-entropy-loss-for-binary)  \n",
    "\n",
    "**Errors**  \n",
    "[CNN: Errors v1](https://stackoverflow.com/questions/43674411/training-and-loss-not-changing-in-keras-cnn-model)  \n",
    "[CNN: Errors v2](https://blog.slavv.com/37-reasons-why-your-neural-network-is-not-working-4020854bd607)  \n",
    "[Training - evaluate loss different v1](https://github.com/keras-team/keras/issues/6977)  \n",
    "[Training - evaluate loss different v1](https://stackoverflow.com/questions/58108543/training-accuracy-while-fitting-the-model-not-reflected-in-confusion-matrix)  \n",
    "[Loss doesn´t decrease v1](https://stackoverflow.com/questions/58237726/keras-model-fails-to-decrease-loss)  \n",
    "[Loss doesn´t decrease v2](https://stackoverflow.com/questions/45577747/cnn-in-tensorflow-loss-remains-constant)  \n",
    "\n",
    "\n",
    "**Examples**  \n",
    "[Alzheimer Diagnosis Git v1](https://github.com/oscardp96/TFM-Alzheimer-Diagnosis)  \n",
    "[Alzheimer Diagnosis Git v2](https://github.com/Ajax121/Alzheimer-s-Classification-and-visualization-using-Convolutional-Neural-networks)  \n",
    "[Animals classification v1](https://www.analyticsvidhya.com/blog/2020/02/learn-image-classification-cnn-convolutional-neural-networks-3-datasets/)  \n",
    "[Animals classification v2](https://machinelearningmastery.com/how-to-develop-a-convolutional-neural-network-to-classify-photos-of-dogs-and-cats/)  \n",
    "[Estimate brain age](https://medium.com/thelaunchpad/how-to-estimate-the-age-of-your-brain-with-mri-data-c60df60da95d)  \n",
    "[Alzheimer Diagnosis 2D Paper v1](https://www.hindawi.com/journals/abb/2021/6690539/)  \n",
    "[Alzheimer Diagnosis Paper v2](https://www.nature.com/articles/s41598-019-54548-6.pdf)  \n",
    "\n",
    "**MRI**  \n",
    "[Alzheimer and hippocampus](https://radiopaedia.org/articles/hippocampus)  \n",
    "[Brain affected by Alzheimer](https://www.nia.nih.gov/health/what-happens-brain-alzheimers-disease)  \n",
    "\n",
    "**TF Datasets**  \n",
    "[Tensor slices](https://www.tensorflow.org/guide/keras/train_and_evaluate)  \n",
    "[Create tf dataset](https://www.tensorflow.org/api_docs/python/tf/data/Dataset)  \n",
    "[Split tf dataset](https://stackoverflow.com/questions/51125266/how-do-i-split-tensorflow-datasets)  \n",
    "[Extract features & labels from tf dataset](https://stackoverflow.com/questions/56226621/how-to-extract-data-labels-back-from-tensorflow-dataset)  \n",
    "[Tf dataset guide](https://www.tensorflow.org/guide/data)  \n",
    "[TPU setup](https://github.com/tensorflow/tensorflow/issues/29896)  \n",
    "[Large dataset into Tensorflow](https://stackoverflow.com/questions/56573622/loading-large-data-into-tensorflow-2-0-without-loading-it-on-the-ram)  \n",
    "[Use dataset into Tensorflow](https://towardsdatascience.com/how-to-use-dataset-in-tensorflow-c758ef9e4428)  "
   ]
  },
  {
   "cell_type": "markdown",
   "metadata": {
    "id": "Ys1quYVrXIXQ"
   },
   "source": [
    "### Initial set-up"
   ]
  },
  {
   "cell_type": "markdown",
   "metadata": {
    "id": "wmXzgFaKndIC"
   },
   "source": [
    "#### Google Drive"
   ]
  },
  {
   "cell_type": "code",
   "execution_count": 1,
   "metadata": {
    "executionInfo": {
     "elapsed": 178,
     "status": "ok",
     "timestamp": 1622738662714,
     "user": {
      "displayName": "Fernando Herran",
      "photoUrl": "",
      "userId": "09119314463851443877"
     },
     "user_tz": -120
    },
    "id": "w7cgAHv2XIXd"
   },
   "outputs": [],
   "source": [
    "# Specify if user is working on Google Drive\n",
    "google_drive = True"
   ]
  },
  {
   "cell_type": "code",
   "execution_count": 2,
   "metadata": {
    "colab": {
     "base_uri": "https://localhost:8080/"
    },
    "executionInfo": {
     "elapsed": 10,
     "status": "ok",
     "timestamp": 1622738663082,
     "user": {
      "displayName": "Fernando Herran",
      "photoUrl": "",
      "userId": "09119314463851443877"
     },
     "user_tz": -120
    },
    "id": "OR4Iy305XIXe",
    "outputId": "f6d129d8-a9a0-4407-c6f6-b754c7fcb328"
   },
   "outputs": [
    {
     "name": "stdout",
     "output_type": "stream",
     "text": [
      "Drive already mounted at /content/drive; to attempt to forcibly remount, call drive.mount(\"/content/drive\", force_remount=True).\n"
     ]
    }
   ],
   "source": [
    "if google_drive == True:\n",
    "    \n",
    "    from google.colab import drive \n",
    "    drive.mount('/content/drive')\n",
    "    \n",
    "    path = \"./drive/MyDrive/TFM/Code/\"\n",
    "    \n",
    "    import sys\n",
    "    sys.path.append(path)\n",
    "\n",
    "else:\n",
    "    path = \"../\"\n",
    "    \n",
    "    import sys\n",
    "    sys.path.append(path)"
   ]
  },
  {
   "cell_type": "markdown",
   "metadata": {
    "id": "TRGI3GB72ifc"
   },
   "source": [
    "#### Google Colab TPU session"
   ]
  },
  {
   "cell_type": "code",
   "execution_count": 3,
   "metadata": {
    "executionInfo": {
     "elapsed": 7,
     "status": "ok",
     "timestamp": 1622738663083,
     "user": {
      "displayName": "Fernando Herran",
      "photoUrl": "",
      "userId": "09119314463851443877"
     },
     "user_tz": -120
    },
    "id": "pljIfdII2doC"
   },
   "outputs": [],
   "source": [
    "# Specify if user is working on a TPU session in Google Colab\n",
    "tpu_session = True"
   ]
  },
  {
   "cell_type": "code",
   "execution_count": 4,
   "metadata": {
    "colab": {
     "base_uri": "https://localhost:8080/"
    },
    "executionInfo": {
     "elapsed": 34672,
     "status": "ok",
     "timestamp": 1622738697749,
     "user": {
      "displayName": "Fernando Herran",
      "photoUrl": "",
      "userId": "09119314463851443877"
     },
     "user_tz": -120
    },
    "id": "qIaHwN_O2d2D",
    "outputId": "d5112ad0-cf63-4b1e-93e9-074588603cdb"
   },
   "outputs": [
    {
     "name": "stdout",
     "output_type": "stream",
     "text": [
      "Tensorflow version 2.5.0\n",
      "Running on TPU  ['10.118.114.162:8470']\n",
      "INFO:tensorflow:Initializing the TPU system: grpc://10.118.114.162:8470\n"
     ]
    },
    {
     "name": "stderr",
     "output_type": "stream",
     "text": [
      "INFO:tensorflow:Initializing the TPU system: grpc://10.118.114.162:8470\n"
     ]
    },
    {
     "name": "stdout",
     "output_type": "stream",
     "text": [
      "INFO:tensorflow:Clearing out eager caches\n"
     ]
    },
    {
     "name": "stderr",
     "output_type": "stream",
     "text": [
      "INFO:tensorflow:Clearing out eager caches\n"
     ]
    },
    {
     "name": "stdout",
     "output_type": "stream",
     "text": [
      "INFO:tensorflow:Finished initializing TPU system.\n"
     ]
    },
    {
     "name": "stderr",
     "output_type": "stream",
     "text": [
      "INFO:tensorflow:Finished initializing TPU system.\n",
      "WARNING:absl:`tf.distribute.experimental.TPUStrategy` is deprecated, please use  the non experimental symbol `tf.distribute.TPUStrategy` instead.\n"
     ]
    },
    {
     "name": "stdout",
     "output_type": "stream",
     "text": [
      "INFO:tensorflow:Found TPU system:\n"
     ]
    },
    {
     "name": "stderr",
     "output_type": "stream",
     "text": [
      "INFO:tensorflow:Found TPU system:\n"
     ]
    },
    {
     "name": "stdout",
     "output_type": "stream",
     "text": [
      "INFO:tensorflow:*** Num TPU Cores: 8\n"
     ]
    },
    {
     "name": "stderr",
     "output_type": "stream",
     "text": [
      "INFO:tensorflow:*** Num TPU Cores: 8\n"
     ]
    },
    {
     "name": "stdout",
     "output_type": "stream",
     "text": [
      "INFO:tensorflow:*** Num TPU Workers: 1\n"
     ]
    },
    {
     "name": "stderr",
     "output_type": "stream",
     "text": [
      "INFO:tensorflow:*** Num TPU Workers: 1\n"
     ]
    },
    {
     "name": "stdout",
     "output_type": "stream",
     "text": [
      "INFO:tensorflow:*** Num TPU Cores Per Worker: 8\n"
     ]
    },
    {
     "name": "stderr",
     "output_type": "stream",
     "text": [
      "INFO:tensorflow:*** Num TPU Cores Per Worker: 8\n"
     ]
    },
    {
     "name": "stdout",
     "output_type": "stream",
     "text": [
      "INFO:tensorflow:*** Available Device: _DeviceAttributes(/job:localhost/replica:0/task:0/device:CPU:0, CPU, 0, 0)\n"
     ]
    },
    {
     "name": "stderr",
     "output_type": "stream",
     "text": [
      "INFO:tensorflow:*** Available Device: _DeviceAttributes(/job:localhost/replica:0/task:0/device:CPU:0, CPU, 0, 0)\n"
     ]
    },
    {
     "name": "stdout",
     "output_type": "stream",
     "text": [
      "INFO:tensorflow:*** Available Device: _DeviceAttributes(/job:worker/replica:0/task:0/device:CPU:0, CPU, 0, 0)\n"
     ]
    },
    {
     "name": "stderr",
     "output_type": "stream",
     "text": [
      "INFO:tensorflow:*** Available Device: _DeviceAttributes(/job:worker/replica:0/task:0/device:CPU:0, CPU, 0, 0)\n"
     ]
    },
    {
     "name": "stdout",
     "output_type": "stream",
     "text": [
      "INFO:tensorflow:*** Available Device: _DeviceAttributes(/job:worker/replica:0/task:0/device:TPU:0, TPU, 0, 0)\n"
     ]
    },
    {
     "name": "stderr",
     "output_type": "stream",
     "text": [
      "INFO:tensorflow:*** Available Device: _DeviceAttributes(/job:worker/replica:0/task:0/device:TPU:0, TPU, 0, 0)\n"
     ]
    },
    {
     "name": "stdout",
     "output_type": "stream",
     "text": [
      "INFO:tensorflow:*** Available Device: _DeviceAttributes(/job:worker/replica:0/task:0/device:TPU:1, TPU, 0, 0)\n"
     ]
    },
    {
     "name": "stderr",
     "output_type": "stream",
     "text": [
      "INFO:tensorflow:*** Available Device: _DeviceAttributes(/job:worker/replica:0/task:0/device:TPU:1, TPU, 0, 0)\n"
     ]
    },
    {
     "name": "stdout",
     "output_type": "stream",
     "text": [
      "INFO:tensorflow:*** Available Device: _DeviceAttributes(/job:worker/replica:0/task:0/device:TPU:2, TPU, 0, 0)\n"
     ]
    },
    {
     "name": "stderr",
     "output_type": "stream",
     "text": [
      "INFO:tensorflow:*** Available Device: _DeviceAttributes(/job:worker/replica:0/task:0/device:TPU:2, TPU, 0, 0)\n"
     ]
    },
    {
     "name": "stdout",
     "output_type": "stream",
     "text": [
      "INFO:tensorflow:*** Available Device: _DeviceAttributes(/job:worker/replica:0/task:0/device:TPU:3, TPU, 0, 0)\n"
     ]
    },
    {
     "name": "stderr",
     "output_type": "stream",
     "text": [
      "INFO:tensorflow:*** Available Device: _DeviceAttributes(/job:worker/replica:0/task:0/device:TPU:3, TPU, 0, 0)\n"
     ]
    },
    {
     "name": "stdout",
     "output_type": "stream",
     "text": [
      "INFO:tensorflow:*** Available Device: _DeviceAttributes(/job:worker/replica:0/task:0/device:TPU:4, TPU, 0, 0)\n"
     ]
    },
    {
     "name": "stderr",
     "output_type": "stream",
     "text": [
      "INFO:tensorflow:*** Available Device: _DeviceAttributes(/job:worker/replica:0/task:0/device:TPU:4, TPU, 0, 0)\n"
     ]
    },
    {
     "name": "stdout",
     "output_type": "stream",
     "text": [
      "INFO:tensorflow:*** Available Device: _DeviceAttributes(/job:worker/replica:0/task:0/device:TPU:5, TPU, 0, 0)\n"
     ]
    },
    {
     "name": "stderr",
     "output_type": "stream",
     "text": [
      "INFO:tensorflow:*** Available Device: _DeviceAttributes(/job:worker/replica:0/task:0/device:TPU:5, TPU, 0, 0)\n"
     ]
    },
    {
     "name": "stdout",
     "output_type": "stream",
     "text": [
      "INFO:tensorflow:*** Available Device: _DeviceAttributes(/job:worker/replica:0/task:0/device:TPU:6, TPU, 0, 0)\n"
     ]
    },
    {
     "name": "stderr",
     "output_type": "stream",
     "text": [
      "INFO:tensorflow:*** Available Device: _DeviceAttributes(/job:worker/replica:0/task:0/device:TPU:6, TPU, 0, 0)\n"
     ]
    },
    {
     "name": "stdout",
     "output_type": "stream",
     "text": [
      "INFO:tensorflow:*** Available Device: _DeviceAttributes(/job:worker/replica:0/task:0/device:TPU:7, TPU, 0, 0)\n"
     ]
    },
    {
     "name": "stderr",
     "output_type": "stream",
     "text": [
      "INFO:tensorflow:*** Available Device: _DeviceAttributes(/job:worker/replica:0/task:0/device:TPU:7, TPU, 0, 0)\n"
     ]
    },
    {
     "name": "stdout",
     "output_type": "stream",
     "text": [
      "INFO:tensorflow:*** Available Device: _DeviceAttributes(/job:worker/replica:0/task:0/device:TPU_SYSTEM:0, TPU_SYSTEM, 0, 0)\n"
     ]
    },
    {
     "name": "stderr",
     "output_type": "stream",
     "text": [
      "INFO:tensorflow:*** Available Device: _DeviceAttributes(/job:worker/replica:0/task:0/device:TPU_SYSTEM:0, TPU_SYSTEM, 0, 0)\n"
     ]
    },
    {
     "name": "stdout",
     "output_type": "stream",
     "text": [
      "INFO:tensorflow:*** Available Device: _DeviceAttributes(/job:worker/replica:0/task:0/device:XLA_CPU:0, XLA_CPU, 0, 0)\n"
     ]
    },
    {
     "name": "stderr",
     "output_type": "stream",
     "text": [
      "INFO:tensorflow:*** Available Device: _DeviceAttributes(/job:worker/replica:0/task:0/device:XLA_CPU:0, XLA_CPU, 0, 0)\n"
     ]
    }
   ],
   "source": [
    "if tpu_session == True:\n",
    "    \n",
    "    %tensorflow_version 2.x\n",
    "    import tensorflow as tf\n",
    "    print(\"Tensorflow version \" + tf.__version__)\n",
    "\n",
    "    try:\n",
    "      tpu = tf.distribute.cluster_resolver.TPUClusterResolver()  # TPU detection\n",
    "      print('Running on TPU ', tpu.cluster_spec().as_dict()['worker'])\n",
    "    except ValueError:\n",
    "      raise BaseException('ERROR: Not connected to a TPU runtime; please see the previous cell in this notebook for instructions!')\n",
    "\n",
    "    tf.config.experimental_connect_to_cluster(tpu)\n",
    "    tf.tpu.experimental.initialize_tpu_system(tpu)\n",
    "    tpu_strategy = tf.distribute.experimental.TPUStrategy(tpu)\n",
    "    \n",
    "else:\n",
    "    pass"
   ]
  },
  {
   "cell_type": "markdown",
   "metadata": {
    "id": "6LYcLeXnjl5q"
   },
   "source": [
    "### Import libraries"
   ]
  },
  {
   "cell_type": "code",
   "execution_count": 5,
   "metadata": {
    "executionInfo": {
     "elapsed": 792,
     "status": "ok",
     "timestamp": 1622738732869,
     "user": {
      "displayName": "Fernando Herran",
      "photoUrl": "",
      "userId": "09119314463851443877"
     },
     "user_tz": -120
    },
    "id": "mQB5P7qbjl5t"
   },
   "outputs": [],
   "source": [
    "import os\n",
    "import numpy as np\n",
    "import pandas as pd\n",
    "import pickle\n",
    "import time\n",
    "import cv2\n",
    "import copy\n",
    "from functools import reduce\n",
    "\n",
    "# Import tensorflow\n",
    "import tensorflow as tf\n",
    "from tensorflow import keras\n",
    "from tensorflow.keras.models import Sequential, load_model \n",
    "from tensorflow.keras.layers import InputLayer, Conv2D, MaxPool2D, BatchNormalization, Flatten, Dense, Dropout\n",
    "from tensorflow.keras.layers import Conv3D, MaxPool3D, GlobalAveragePooling3D\n",
    "from tensorflow.keras.layers import Input, TimeDistributed, GlobalAveragePooling2D, LSTM\n",
    "from tensorflow.keras.optimizers import SGD, Adam\n",
    "\n",
    "# Import metrics\n",
    "from sklearn.model_selection import train_test_split\n",
    "from sklearn.metrics import confusion_matrix, f1_score, recall_score, precision_score, accuracy_score\n",
    "\n",
    "# Import visualization packages\n",
    "from matplotlib import image\n",
    "import seaborn as sns\n",
    "import matplotlib.pyplot as plt\n",
    "%matplotlib inline\n",
    "sns.set_theme(context='notebook')\n",
    "sns.set_style(\"ticks\")\n",
    "\n",
    "# Extra utils\n",
    "from Notebooks.aux_functions.aux_functions_cnn import *"
   ]
  },
  {
   "cell_type": "markdown",
   "metadata": {
    "id": "Mg0hAAQIjl5v"
   },
   "source": [
    "### Load dataset"
   ]
  },
  {
   "cell_type": "markdown",
   "metadata": {
    "id": "XpaSUgs9ZXpY"
   },
   "source": [
    "#### Load CSV files with image details: images IDs and class"
   ]
  },
  {
   "cell_type": "code",
   "execution_count": 6,
   "metadata": {
    "colab": {
     "base_uri": "https://localhost:8080/",
     "height": 445
    },
    "executionInfo": {
     "elapsed": 288,
     "status": "ok",
     "timestamp": 1622738734762,
     "user": {
      "displayName": "Fernando Herran",
      "photoUrl": "",
      "userId": "09119314463851443877"
     },
     "user_tz": -120
    },
    "id": "lQvMcnjiZXpa",
    "outputId": "fb7a152d-6289-4589-e425-461fb00eeaf3"
   },
   "outputs": [
    {
     "data": {
      "text/html": [
       "<div>\n",
       "<style scoped>\n",
       "    .dataframe tbody tr th:only-of-type {\n",
       "        vertical-align: middle;\n",
       "    }\n",
       "\n",
       "    .dataframe tbody tr th {\n",
       "        vertical-align: top;\n",
       "    }\n",
       "\n",
       "    .dataframe thead th {\n",
       "        text-align: right;\n",
       "    }\n",
       "</style>\n",
       "<table border=\"1\" class=\"dataframe\">\n",
       "  <thead>\n",
       "    <tr style=\"text-align: right;\">\n",
       "      <th></th>\n",
       "      <th>ImageDataID</th>\n",
       "      <th>Subject</th>\n",
       "      <th>Group</th>\n",
       "      <th>Sex</th>\n",
       "      <th>Age</th>\n",
       "      <th>Visit</th>\n",
       "      <th>Modality</th>\n",
       "      <th>Description</th>\n",
       "      <th>Type</th>\n",
       "      <th>AcqDate</th>\n",
       "      <th>Format</th>\n",
       "      <th>Downloaded</th>\n",
       "    </tr>\n",
       "  </thead>\n",
       "  <tbody>\n",
       "    <tr>\n",
       "      <th>0</th>\n",
       "      <td>I125941</td>\n",
       "      <td>137_S_1426</td>\n",
       "      <td>MCI</td>\n",
       "      <td>M</td>\n",
       "      <td>85</td>\n",
       "      <td>4</td>\n",
       "      <td>MRI</td>\n",
       "      <td>MPR-R; GradWarp; N3; Scaled</td>\n",
       "      <td>Processed</td>\n",
       "      <td>10/30/2008</td>\n",
       "      <td>NiFTI</td>\n",
       "      <td>NaN</td>\n",
       "    </tr>\n",
       "    <tr>\n",
       "      <th>1</th>\n",
       "      <td>I121703</td>\n",
       "      <td>128_S_1408</td>\n",
       "      <td>MCI</td>\n",
       "      <td>M</td>\n",
       "      <td>73</td>\n",
       "      <td>4</td>\n",
       "      <td>MRI</td>\n",
       "      <td>MPR; GradWarp; B1 Correction; N3; Scaled</td>\n",
       "      <td>Processed</td>\n",
       "      <td>9/19/2008</td>\n",
       "      <td>NiFTI</td>\n",
       "      <td>NaN</td>\n",
       "    </tr>\n",
       "    <tr>\n",
       "      <th>2</th>\n",
       "      <td>I121637</td>\n",
       "      <td>037_S_1421</td>\n",
       "      <td>MCI</td>\n",
       "      <td>F</td>\n",
       "      <td>76</td>\n",
       "      <td>4</td>\n",
       "      <td>MRI</td>\n",
       "      <td>MPR; GradWarp; N3; Scaled</td>\n",
       "      <td>Processed</td>\n",
       "      <td>9/17/2008</td>\n",
       "      <td>NiFTI</td>\n",
       "      <td>NaN</td>\n",
       "    </tr>\n",
       "    <tr>\n",
       "      <th>3</th>\n",
       "      <td>I122382</td>\n",
       "      <td>128_S_1407</td>\n",
       "      <td>MCI</td>\n",
       "      <td>F</td>\n",
       "      <td>76</td>\n",
       "      <td>4</td>\n",
       "      <td>MRI</td>\n",
       "      <td>MPR; GradWarp; B1 Correction; N3; Scaled</td>\n",
       "      <td>Processed</td>\n",
       "      <td>9/05/2008</td>\n",
       "      <td>NiFTI</td>\n",
       "      <td>NaN</td>\n",
       "    </tr>\n",
       "    <tr>\n",
       "      <th>4</th>\n",
       "      <td>I121689</td>\n",
       "      <td>127_S_1427</td>\n",
       "      <td>MCI</td>\n",
       "      <td>F</td>\n",
       "      <td>71</td>\n",
       "      <td>4</td>\n",
       "      <td>MRI</td>\n",
       "      <td>MPR; GradWarp; B1 Correction; N3; Scaled</td>\n",
       "      <td>Processed</td>\n",
       "      <td>9/02/2008</td>\n",
       "      <td>NiFTI</td>\n",
       "      <td>NaN</td>\n",
       "    </tr>\n",
       "  </tbody>\n",
       "</table>\n",
       "</div>"
      ],
      "text/plain": [
       "  ImageDataID     Subject Group Sex  ...       Type     AcqDate Format Downloaded\n",
       "0     I125941  137_S_1426   MCI   M  ...  Processed  10/30/2008  NiFTI        NaN\n",
       "1     I121703  128_S_1408   MCI   M  ...  Processed   9/19/2008  NiFTI        NaN\n",
       "2     I121637  037_S_1421   MCI   F  ...  Processed   9/17/2008  NiFTI        NaN\n",
       "3     I122382  128_S_1407   MCI   F  ...  Processed   9/05/2008  NiFTI        NaN\n",
       "4     I121689  127_S_1427   MCI   F  ...  Processed   9/02/2008  NiFTI        NaN\n",
       "\n",
       "[5 rows x 12 columns]"
      ]
     },
     "execution_count": 6,
     "metadata": {
      "tags": []
     },
     "output_type": "execute_result"
    }
   ],
   "source": [
    "# Load individuals CSV files with image details\n",
    "df_1 = pd.read_csv(path + \"Datasets/ADNI1_Complete_1Yr_1.5T.csv\")\n",
    "df_2 = pd.read_csv(path + \"Datasets/ADNI1_Complete_2Yr_1.5T.csv\")\n",
    "df_3 = pd.read_csv(path + \"Datasets/ADNI1_Complete_3Yr_1.5T.csv\")\n",
    "\n",
    "# Concatenate all CSV files in a unique dataframe\n",
    "df = pd.concat([df_1, df_2, df_3])\n",
    "\n",
    "# Remove extra whitespaces from column names\n",
    "df.columns = df.columns.str.replace(\" \", \"\")\n",
    "\n",
    "df.head()"
   ]
  },
  {
   "cell_type": "code",
   "execution_count": 7,
   "metadata": {
    "colab": {
     "base_uri": "https://localhost:8080/",
     "height": 224
    },
    "executionInfo": {
     "elapsed": 15,
     "status": "ok",
     "timestamp": 1622738734763,
     "user": {
      "displayName": "Fernando Herran",
      "photoUrl": "",
      "userId": "09119314463851443877"
     },
     "user_tz": -120
    },
    "id": "0b28PAoNZXpc",
    "outputId": "554ab328-49b9-4d72-f21d-a8e035e6bade"
   },
   "outputs": [
    {
     "data": {
      "text/html": [
       "<div>\n",
       "<style scoped>\n",
       "    .dataframe tbody tr th:only-of-type {\n",
       "        vertical-align: middle;\n",
       "    }\n",
       "\n",
       "    .dataframe tbody tr th {\n",
       "        vertical-align: top;\n",
       "    }\n",
       "\n",
       "    .dataframe thead th {\n",
       "        text-align: right;\n",
       "    }\n",
       "</style>\n",
       "<table border=\"1\" class=\"dataframe\">\n",
       "  <thead>\n",
       "    <tr style=\"text-align: right;\">\n",
       "      <th></th>\n",
       "      <th>ImageDataID</th>\n",
       "      <th>Group</th>\n",
       "    </tr>\n",
       "  </thead>\n",
       "  <tbody>\n",
       "    <tr>\n",
       "      <th>0</th>\n",
       "      <td>I125941</td>\n",
       "      <td>MCI</td>\n",
       "    </tr>\n",
       "    <tr>\n",
       "      <th>1</th>\n",
       "      <td>I121703</td>\n",
       "      <td>MCI</td>\n",
       "    </tr>\n",
       "    <tr>\n",
       "      <th>2</th>\n",
       "      <td>I121637</td>\n",
       "      <td>MCI</td>\n",
       "    </tr>\n",
       "    <tr>\n",
       "      <th>3</th>\n",
       "      <td>I122382</td>\n",
       "      <td>MCI</td>\n",
       "    </tr>\n",
       "    <tr>\n",
       "      <th>4</th>\n",
       "      <td>I121689</td>\n",
       "      <td>MCI</td>\n",
       "    </tr>\n",
       "  </tbody>\n",
       "</table>\n",
       "</div>"
      ],
      "text/plain": [
       "  ImageDataID Group\n",
       "0     I125941   MCI\n",
       "1     I121703   MCI\n",
       "2     I121637   MCI\n",
       "3     I122382   MCI\n",
       "4     I121689   MCI"
      ]
     },
     "execution_count": 7,
     "metadata": {
      "tags": []
     },
     "output_type": "execute_result"
    }
   ],
   "source": [
    "# Retrieve only the image ID and Group (class) columns\n",
    "df = df[[\"ImageDataID\", \"Group\"]]\n",
    "df.head()"
   ]
  },
  {
   "cell_type": "code",
   "execution_count": 8,
   "metadata": {
    "colab": {
     "base_uri": "https://localhost:8080/"
    },
    "executionInfo": {
     "elapsed": 14,
     "status": "ok",
     "timestamp": 1622738734764,
     "user": {
      "displayName": "Fernando Herran",
      "photoUrl": "",
      "userId": "09119314463851443877"
     },
     "user_tz": -120
    },
    "id": "ZsW1RHH5ZXpe",
    "outputId": "bda0d7dc-065e-4a04-e4c6-089ecc27f30a"
   },
   "outputs": [
    {
     "data": {
      "text/plain": [
       "MCI    1708\n",
       "CN     1009\n",
       "AD      575\n",
       "Name: Group, dtype: int64"
      ]
     },
     "execution_count": 8,
     "metadata": {
      "tags": []
     },
     "output_type": "execute_result"
    }
   ],
   "source": [
    "# Check number of cases by class in the dataframe\n",
    "df[\"Group\"].value_counts()"
   ]
  },
  {
   "cell_type": "markdown",
   "metadata": {
    "id": "yJ5ol7mGZXpe"
   },
   "source": [
    "It can be seen that the three following classes are presented in the dataset:\n",
    "   - **MCI** - Mild cognitive impairment patients\n",
    "   - **CN** - Cognitively normal patients\n",
    "   - **AD** - Alzheimer’s disease patients\n",
    "   \n",
    "In our case, first we will work with only CN and AD cases."
   ]
  },
  {
   "cell_type": "markdown",
   "metadata": {
    "id": "ORYKJ5xtUlt-"
   },
   "source": [
    "#### Load 3D images filenames (features)"
   ]
  },
  {
   "cell_type": "code",
   "execution_count": 9,
   "metadata": {
    "executionInfo": {
     "elapsed": 13,
     "status": "ok",
     "timestamp": 1622738734765,
     "user": {
      "displayName": "Fernando Herran",
      "photoUrl": "",
      "userId": "09119314463851443877"
     },
     "user_tz": -120
    },
    "id": "8arAAAPEZXpk"
   },
   "outputs": [],
   "source": [
    "# Specify folders where there are the 2D images of the brain in PNG format\n",
    "root_3d_volumes = path + \"Datasets/Volume_files/\""
   ]
  },
  {
   "cell_type": "code",
   "execution_count": 10,
   "metadata": {
    "colab": {
     "base_uri": "https://localhost:8080/"
    },
    "executionInfo": {
     "elapsed": 13,
     "status": "ok",
     "timestamp": 1622738734766,
     "user": {
      "displayName": "Fernando Herran",
      "photoUrl": "",
      "userId": "09119314463851443877"
     },
     "user_tz": -120
    },
    "id": "HbGRBzNQdQH1",
    "outputId": "47edc546-321f-40be-8726-de172ed19346"
   },
   "outputs": [
    {
     "name": "stdout",
     "output_type": "stream",
     "text": [
      "[+] Number of 3D volumes: 500\n"
     ]
    }
   ],
   "source": [
    "# Get list of filenames from 3D volumes\n",
    "filenames = os.listdir(root_3d_volumes)\n",
    "\n",
    "# Remove \".DS_Store\" file from list\n",
    "if \".DS_Store\" in filenames:\n",
    "    filenames.remove(\".DS_Store\")\n",
    "\n",
    "# Include all the path for each file\n",
    "filenames = [path + \"Datasets/Volume_files/\" + file for file in filenames]\n",
    "\n",
    "# TO REMOVE\n",
    "filenames = filenames[:500]\n",
    "\n",
    "# Check number of images loaded\n",
    "print(\"[+] Number of 3D volumes:\", len(filenames))"
   ]
  },
  {
   "cell_type": "markdown",
   "metadata": {
    "id": "bowWUZs1dQH2"
   },
   "source": [
    "#### Load class for each 3D volume (labels)\n",
    "Retrieve class for each image mapping the titles list and the Image ID column from the dataframe"
   ]
  },
  {
   "cell_type": "code",
   "execution_count": 11,
   "metadata": {
    "colab": {
     "base_uri": "https://localhost:8080/"
    },
    "executionInfo": {
     "elapsed": 290,
     "status": "ok",
     "timestamp": 1622738735045,
     "user": {
      "displayName": "Fernando Herran",
      "photoUrl": "",
      "userId": "09119314463851443877"
     },
     "user_tz": -120
    },
    "id": "xeIfSmVadQH3",
    "outputId": "02ab42d6-710f-4e36-e3ac-f653f909429b"
   },
   "outputs": [
    {
     "name": "stdout",
     "output_type": "stream",
     "text": [
      "[+] Number of labels: 500\n",
      "    [-] Number of healthy cases (class 0): 239\n",
      "    [-] Number of Alzheimer cases (class 1): 261\n"
     ]
    }
   ],
   "source": [
    "# Initiliaze lists\n",
    "classes = []  # List where to save the class for each image: 0 (CN), 1 (AD, MCI)\n",
    "\n",
    "for file in filenames:\n",
    "    \n",
    "    # Get image ID from file name\n",
    "    image_id = file.split(\"/\")[-1].split(\".\")[0]\n",
    "    \n",
    "    # Retireve class from dataframe searching by image ID\n",
    "    class_ = df[\"Group\"].loc[df['ImageDataID'] == image_id].values[0]\n",
    "    \n",
    "    # Assign class numerica values depending the group: 0 (CN) or 1 (AD)\n",
    "    if class_ in [\"CN\"]:\n",
    "        classes.append(0) \n",
    "    elif class_ in [\"AD\"]:\n",
    "        classes.append(1)  \n",
    "    else:\n",
    "        print(f\"ERROR with image ID {title}\")\n",
    "\n",
    "# Check number of cases by class with images loaded\n",
    "print(f\"[+] Number of labels:\", len(classes))\n",
    "print(f\"    [-] Number of healthy cases (class 0): {classes.count(0)}\")\n",
    "print(f\"    [-] Number of Alzheimer cases (class 1): {classes.count(1)}\")"
   ]
  },
  {
   "cell_type": "markdown",
   "metadata": {
    "id": "lsdwT90GdQH4"
   },
   "source": [
    "#### Load array for each 3D volume (features)"
   ]
  },
  {
   "cell_type": "code",
   "execution_count": 12,
   "metadata": {
    "colab": {
     "base_uri": "https://localhost:8080/"
    },
    "executionInfo": {
     "elapsed": 30596,
     "status": "ok",
     "timestamp": 1622738765636,
     "user": {
      "displayName": "Fernando Herran",
      "photoUrl": "",
      "userId": "09119314463851443877"
     },
     "user_tz": -120
    },
    "id": "ETm1CvExdQH4",
    "outputId": "c9f7287c-e8f3-4717-d99f-a2e574720d7a"
   },
   "outputs": [
    {
     "name": "stdout",
     "output_type": "stream",
     "text": [
      "50 3D volumes loaded\n",
      "100 3D volumes loaded\n",
      "150 3D volumes loaded\n",
      "200 3D volumes loaded\n",
      "250 3D volumes loaded\n",
      "300 3D volumes loaded\n",
      "350 3D volumes loaded\n",
      "400 3D volumes loaded\n",
      "450 3D volumes loaded\n",
      "500 3D volumes loaded\n",
      "\n",
      "[+] Time needed to load all 3D volumes: 30.50\n"
     ]
    }
   ],
   "source": [
    "start_time = time.time()\n",
    "\n",
    "# Initiliaze lists\n",
    "volumes = []  # List where to save the 3D volumes\n",
    "\n",
    "# Load 3D images\n",
    "for file in filenames:\n",
    "      \n",
    "    # Read 3D image\n",
    "    volume = np.load(file, allow_pickle= True)['arr_0']\n",
    "    volume = volume[10:120, 30:160, 15:95]\n",
    "\n",
    "    # Append 3D image to volumes list \n",
    "    volumes.append(volume)\n",
    "    \n",
    "    if len(volumes) % 50 == 0:\n",
    "        print(f\"{len(volumes)} 3D volumes loaded\")\n",
    "\n",
    "end_time = time.time()\n",
    "print(\"\\n[+] Time needed to load all 3D volumes: \"+\"{:.2f}\".format(end_time-start_time));"
   ]
  },
  {
   "cell_type": "code",
   "execution_count": 13,
   "metadata": {
    "colab": {
     "base_uri": "https://localhost:8080/",
     "height": 288
    },
    "executionInfo": {
     "elapsed": 432,
     "status": "ok",
     "timestamp": 1622738766062,
     "user": {
      "displayName": "Fernando Herran",
      "photoUrl": "",
      "userId": "09119314463851443877"
     },
     "user_tz": -120
    },
    "id": "Q4ydhsNDdQH5",
    "outputId": "51f0a78a-23ff-432e-9f5c-9af480d06603"
   },
   "outputs": [
    {
     "name": "stdout",
     "output_type": "stream",
     "text": [
      "[+] Shape of the 3D image: (110, 130)\n"
     ]
    },
    {
     "data": {
      "image/png": "[encoded data removed]",
      "text/plain": [
       "<Figure size 360x288 with 1 Axes>"
      ]
     },
     "metadata": {
      "tags": []
     },
     "output_type": "display_data"
    }
   ],
   "source": [
    "# Show random 3D image\n",
    "image_ = volumes[0][:,:,30]\n",
    "print(\"[+] Shape of the 3D image:\", image_.shape)\n",
    "plt.figure(figsize = (5, 4))\n",
    "plt.imshow(image_, cmap = \"gray\");"
   ]
  },
  {
   "cell_type": "markdown",
   "metadata": {
    "id": "FOw3Jsi7dQH6"
   },
   "source": [
    "### Preprocessing\n",
    "[Load numpy with tensorflow](https://stackoverflow.com/questions/53544809/tensorflow-dataset-using-many-compressed-numpy-files)  "
   ]
  },
  {
   "cell_type": "code",
   "execution_count": 15,
   "metadata": {
    "executionInfo": {
     "elapsed": 222,
     "status": "ok",
     "timestamp": 1622738789684,
     "user": {
      "displayName": "Fernando Herran",
      "photoUrl": "",
      "userId": "09119314463851443877"
     },
     "user_tz": -120
    },
    "id": "WkofxZ52onrf"
   },
   "outputs": [],
   "source": [
    "# Specify inputs\n",
    "AUTO = tf.data.experimental.AUTOTUNE\n",
    "batch_size = 8 * tpu_strategy.num_replicas_in_sync\n",
    "\n",
    "# Specifice size for training, validation and test\n",
    "train_size = 0.9\n",
    "val_size = 0.1\n",
    "test_size = 0.00"
   ]
  },
  {
   "cell_type": "code",
   "execution_count": null,
   "metadata": {
    "id": "pjBpR5QtrE3P"
   },
   "outputs": [],
   "source": [
    "# Create tf.dataset\n",
    "start_time = time.time()\n",
    "\n",
    "dataset = tf.data.Dataset.from_tensor_slices((volumes, classes))\n",
    "\n",
    "end_time = time.time()\n",
    "print(\"\\n[+] Time needed to create tensorflow dataset: \"+\"{:.2f}\".format(end_time-start_time))"
   ]
  },
  {
   "cell_type": "code",
   "execution_count": 262,
   "metadata": {
    "executionInfo": {
     "elapsed": 177,
     "status": "ok",
     "timestamp": 1622736824901,
     "user": {
      "displayName": "Fernando Herran",
      "photoUrl": "",
      "userId": "09119314463851443877"
     },
     "user_tz": -120
    },
    "id": "S5anvM2GrY1G"
   },
   "outputs": [],
   "source": [
    "# Retrieve length dataset\n",
    "dataset_size = len(dataset)\n",
    "    \n",
    "# Shuffle tf.dataset\n",
    "dataset = dataset.shuffle(len(dataset), seed=12, reshuffle_each_iteration = False)\n",
    "\n",
    "# Split dataset into training & validation\n",
    "train_dataset = dataset.take(int(train_size * dataset_size))\n",
    "val_dataset = dataset.skip(int(train_size * dataset_size)).take(int(val_size * dataset_size))\n",
    "test_dataset = dataset.skip(int(train_size * dataset_size)).skip(int(val_size * dataset_size))"
   ]
  },
  {
   "cell_type": "code",
   "execution_count": 263,
   "metadata": {
    "colab": {
     "base_uri": "https://localhost:8080/"
    },
    "executionInfo": {
     "elapsed": 147,
     "status": "ok",
     "timestamp": 1622736829781,
     "user": {
      "displayName": "Fernando Herran",
      "photoUrl": "",
      "userId": "09119314463851443877"
     },
     "user_tz": -120
    },
    "id": "UYwGDkkOdQH7",
    "outputId": "be2306fa-e717-4061-a441-b010835c25be"
   },
   "outputs": [
    {
     "name": "stdout",
     "output_type": "stream",
     "text": [
      "[+] Length of dataset: 300\n",
      "    [-] Training dataset size: 210\n",
      "    [-] Validation dataset size: 45\n",
      "    [-] Testing dataset size: 45\n"
     ]
    }
   ],
   "source": [
    "print(f\"[+] Length of dataset:\", dataset_size)\n",
    "print(f\"    [-] Training dataset size:\", len(train_dataset))\n",
    "print(f\"    [-] Validation dataset size:\", len(val_dataset))\n",
    "print(f\"    [-] Testing dataset size:\", len(test_dataset))"
   ]
  },
  {
   "cell_type": "code",
   "execution_count": 264,
   "metadata": {
    "executionInfo": {
     "elapsed": 162,
     "status": "ok",
     "timestamp": 1622736836774,
     "user": {
      "displayName": "Fernando Herran",
      "photoUrl": "",
      "userId": "09119314463851443877"
     },
     "user_tz": -120
    },
    "id": "r77RGe6WdQH7"
   },
   "outputs": [],
   "source": [
    "# Specify batch size\n",
    "batch_size = 8\n",
    "train_dataset = train_dataset.batch(batch_size).prefetch(AUTO)\n",
    "val_dataset = val_dataset.batch(batch_size).prefetch(AUTO)"
   ]
  },
  {
   "cell_type": "code",
   "execution_count": null,
   "metadata": {
    "id": "_CXfVzKGdQH9",
    "scrolled": true
   },
   "outputs": [],
   "source": [
    "# Check next iteration\n",
    "#next(iter(train_dataset))"
   ]
  },
  {
   "cell_type": "markdown",
   "metadata": {
    "id": "PihvLS1Gjl58"
   },
   "source": [
    "### Convolutional Neural Network"
   ]
  },
  {
   "cell_type": "markdown",
   "metadata": {
    "id": "dfvL50csr5ON"
   },
   "source": [
    "#### Define Neural Network"
   ]
  },
  {
   "cell_type": "code",
   "execution_count": 274,
   "metadata": {
    "executionInfo": {
     "elapsed": 251,
     "status": "ok",
     "timestamp": 1622737296738,
     "user": {
      "displayName": "Fernando Herran",
      "photoUrl": "",
      "userId": "09119314463851443877"
     },
     "user_tz": -120
    },
    "id": "p8k_OYWYopAo"
   },
   "outputs": [],
   "source": [
    "def build_model_3d(model_name, input_shape):\n",
    "    '''\n",
    "    Build a 3D Convolutional Neural Network (CNN).\n",
    "    '''\n",
    "\n",
    "    # Fix random seed for reproducibility\n",
    "    np.random.seed(123)\n",
    "    tf.random.set_seed(123) \n",
    "    \n",
    "    ## Input layer\n",
    "    inputs = Input(shape = input_shape + (1,))\n",
    "    \n",
    "    ## Convolutional blocks\n",
    "    # 1st conv block\n",
    "    x = Conv3D(64, kernel_size = 3, activation = 'relu')(inputs)\n",
    "    x = MaxPool3D(pool_size = 2)(x)\n",
    "    x = BatchNormalization()(x)\n",
    "              \n",
    "    # 2nd conv block\n",
    "    x = Conv3D(128, kernel_size = 3, activation = 'relu')(x)\n",
    "    x = MaxPool3D(pool_size = 2)(x)\n",
    "    x = BatchNormalization()(x)\n",
    "\n",
    "    # 3rd conv block\n",
    "    x = Conv3D(256, kernel_size = 3, activation = 'relu')(x)\n",
    "    x = MaxPool3D(pool_size = 2)(x)\n",
    "    x = BatchNormalization()(x)\n",
    "\n",
    "    # 4rd conv block\n",
    "    x = Conv3D(512, kernel_size = 3, activation = 'relu')(x)\n",
    "    x = MaxPool3D(pool_size = 2)(x)\n",
    "    x = BatchNormalization()(x)\n",
    "    \n",
    "    ## Flatten layer\n",
    "    x = GlobalAveragePooling3D()(x)\n",
    "              \n",
    "    ## Dense layers       \n",
    "    x = Dense(512, activation = \"relu\")(x)\n",
    "    x = Dropout(0.3)(x)\n",
    "    \n",
    "    x = Dense(256, activation = \"relu\")(x)\n",
    "    x = Dropout(0.3)(x)\n",
    "\n",
    "    ## Output layer\n",
    "    outputs = Dense(1, activation = \"sigmoid\")(x)\n",
    "\n",
    "    # Define the model\n",
    "    model = keras.Model(inputs, outputs)\n",
    "    \n",
    "    # Name model\n",
    "    model._name = model_name\n",
    "    \n",
    "    opt = SGD(learning_rate = 0.1)  # from 0.0001 to 0.1\n",
    "    \n",
    "    # Compile model\n",
    "    model.compile(loss = \"binary_crossentropy\",\n",
    "                  optimizer = opt,\n",
    "                  metrics = [\"BinaryAccuracy\", f1])\n",
    "\n",
    "    \n",
    "    return model"
   ]
  },
  {
   "cell_type": "markdown",
   "metadata": {
    "id": "BPwiNPnOkzZt"
   },
   "source": [
    "#### Build new CNN model"
   ]
  },
  {
   "cell_type": "code",
   "execution_count": 275,
   "metadata": {
    "executionInfo": {
     "elapsed": 146,
     "status": "ok",
     "timestamp": 1622737304603,
     "user": {
      "displayName": "Fernando Herran",
      "photoUrl": "",
      "userId": "09119314463851443877"
     },
     "user_tz": -120
    },
    "id": "lNMSRcnFkzZt"
   },
   "outputs": [],
   "source": [
    "# Define inputs\n",
    "model_name = \"3d_model_v3\"\n",
    "#input_shape = (180, 180, 110)\n",
    "input_shape = (78, 100, 86)"
   ]
  },
  {
   "cell_type": "code",
   "execution_count": 276,
   "metadata": {
    "colab": {
     "base_uri": "https://localhost:8080/"
    },
    "executionInfo": {
     "elapsed": 652,
     "status": "ok",
     "timestamp": 1622737318006,
     "user": {
      "displayName": "Fernando Herran",
      "photoUrl": "",
      "userId": "09119314463851443877"
     },
     "user_tz": -120
    },
    "id": "4EhcKGHvopAs",
    "outputId": "807984b6-0881-4c18-ca81-7f71df02e8cc"
   },
   "outputs": [
    {
     "name": "stdout",
     "output_type": "stream",
     "text": [
      "Model: \"3d_model_v3\"\n",
      "_________________________________________________________________\n",
      "Layer (type)                 Output Shape              Param #   \n",
      "=================================================================\n",
      "input_8 (InputLayer)         [(None, 78, 100, 86, 1)]  0         \n",
      "_________________________________________________________________\n",
      "conv3d_22 (Conv3D)           (None, 76, 98, 84, 64)    1792      \n",
      "_________________________________________________________________\n",
      "max_pooling3d_22 (MaxPooling (None, 38, 49, 42, 64)    0         \n",
      "_________________________________________________________________\n",
      "batch_normalization_22 (Batc (None, 38, 49, 42, 64)    256       \n",
      "_________________________________________________________________\n",
      "conv3d_23 (Conv3D)           (None, 36, 47, 40, 128)   221312    \n",
      "_________________________________________________________________\n",
      "max_pooling3d_23 (MaxPooling (None, 18, 23, 20, 128)   0         \n",
      "_________________________________________________________________\n",
      "batch_normalization_23 (Batc (None, 18, 23, 20, 128)   512       \n",
      "_________________________________________________________________\n",
      "conv3d_24 (Conv3D)           (None, 16, 21, 18, 256)   884992    \n",
      "_________________________________________________________________\n",
      "max_pooling3d_24 (MaxPooling (None, 8, 10, 9, 256)     0         \n",
      "_________________________________________________________________\n",
      "batch_normalization_24 (Batc (None, 8, 10, 9, 256)     1024      \n",
      "_________________________________________________________________\n",
      "conv3d_25 (Conv3D)           (None, 6, 8, 7, 512)      3539456   \n",
      "_________________________________________________________________\n",
      "max_pooling3d_25 (MaxPooling (None, 3, 4, 3, 512)      0         \n",
      "_________________________________________________________________\n",
      "batch_normalization_25 (Batc (None, 3, 4, 3, 512)      2048      \n",
      "_________________________________________________________________\n",
      "global_average_pooling3d_7 ( (None, 512)               0         \n",
      "_________________________________________________________________\n",
      "dense_21 (Dense)             (None, 512)               262656    \n",
      "_________________________________________________________________\n",
      "dropout_14 (Dropout)         (None, 512)               0         \n",
      "_________________________________________________________________\n",
      "dense_22 (Dense)             (None, 256)               131328    \n",
      "_________________________________________________________________\n",
      "dropout_15 (Dropout)         (None, 256)               0         \n",
      "_________________________________________________________________\n",
      "dense_23 (Dense)             (None, 1)                 257       \n",
      "=================================================================\n",
      "Total params: 5,045,633\n",
      "Trainable params: 5,043,713\n",
      "Non-trainable params: 1,920\n",
      "_________________________________________________________________\n"
     ]
    }
   ],
   "source": [
    "# Build model with TPUstrategy\n",
    "with tpu_strategy.scope(): \n",
    "    model = build_model_3d(model_name, input_shape)\n",
    "    \n",
    "model.summary()"
   ]
  },
  {
   "cell_type": "markdown",
   "metadata": {
    "id": "xgJFl2xUkzZu"
   },
   "source": [
    "#### Load existing CNN model"
   ]
  },
  {
   "cell_type": "code",
   "execution_count": null,
   "metadata": {
    "id": "2gHzzLDMkzZv"
   },
   "outputs": [],
   "source": [
    "model_name = \"cnn_model_1\""
   ]
  },
  {
   "cell_type": "code",
   "execution_count": null,
   "metadata": {
    "id": "NuPkzTQTkzZw",
    "scrolled": true
   },
   "outputs": [],
   "source": [
    "# Load model\n",
    "model_loaded = load_model(path + \"Results/\" + model_name + \".h5\", \n",
    "                   custom_objects = {'f1': f1})\n",
    "\n",
    "print(\"[+] Model loaded\")\n",
    "#model.summary()\n",
    "\n",
    "# Load model history\n",
    "history_loaded = np.load(path + \"Results/\" + model_name + \"_history.npy\", \n",
    "                  allow_pickle = 'TRUE').item()\n",
    "\n",
    "print(\"[+] Model history loaded\")"
   ]
  },
  {
   "cell_type": "markdown",
   "metadata": {
    "id": "5o7hki78UluS"
   },
   "source": [
    "#### Train CNN model"
   ]
  },
  {
   "cell_type": "code",
   "execution_count": 277,
   "metadata": {
    "colab": {
     "base_uri": "https://localhost:8080/"
    },
    "executionInfo": {
     "elapsed": 42841,
     "status": "ok",
     "timestamp": 1622737373038,
     "user": {
      "displayName": "Fernando Herran",
      "photoUrl": "",
      "userId": "09119314463851443877"
     },
     "user_tz": -120
    },
    "id": "gq7rPP8wjl5-",
    "outputId": "a399e558-1726-420f-bd2d-8897116ec17a",
    "scrolled": true
   },
   "outputs": [
    {
     "name": "stdout",
     "output_type": "stream",
     "text": [
      "Epoch 1/2\n",
      "27/27 [==============================] - 33s 627ms/step - loss: 0.6951 - binary_accuracy: 0.5143 - f1: 0.4861 - val_loss: 0.7115 - val_binary_accuracy: 0.4222 - val_f1: 0.3958\n",
      "Epoch 2/2\n",
      "27/27 [==============================] - 6s 203ms/step - loss: 0.6940 - binary_accuracy: 0.5333 - f1: 0.5185 - val_loss: 0.7236 - val_binary_accuracy: 0.4222 - val_f1: 0.3958\n",
      "\n",
      "[+] Time of training: 42.51\n"
     ]
    }
   ],
   "source": [
    "# Train model\n",
    "start_time = time.time()\n",
    "\n",
    "history = model.fit(train_dataset,\n",
    "                    epochs = 2,\n",
    "                    validation_data = val_dataset,\n",
    "                    verbose = 1)\n",
    "\n",
    "end_time = time.time()\n",
    "print(\"\\n[+] Time of training: \"+\"{:.2f}\".format(end_time-start_time));"
   ]
  },
  {
   "cell_type": "markdown",
   "metadata": {
    "id": "eR9YKWIj5CVt"
   },
   "source": [
    "### Evaluation "
   ]
  },
  {
   "cell_type": "code",
   "execution_count": 243,
   "metadata": {
    "colab": {
     "base_uri": "https://localhost:8080/",
     "height": 415
    },
    "executionInfo": {
     "elapsed": 1114,
     "status": "ok",
     "timestamp": 1622736359374,
     "user": {
      "displayName": "Fernando Herran",
      "photoUrl": "",
      "userId": "09119314463851443877"
     },
     "user_tz": -120
    },
    "id": "o9ewdnA_jl5_",
    "outputId": "2bc3feac-ddd2-4033-d84d-67166d167179"
   },
   "outputs": [
    {
     "data": {
      "image/png": "[encoded data removed]",
      "text/plain": [
       "<Figure size 864x432 with 3 Axes>"
      ]
     },
     "metadata": {
      "tags": []
     },
     "output_type": "display_data"
    }
   ],
   "source": [
    "# Plot metrics\n",
    "plot_history(history)"
   ]
  },
  {
   "cell_type": "code",
   "execution_count": null,
   "metadata": {
    "id": "pejscqTgnHXY"
   },
   "outputs": [],
   "source": [
    "# Plot roc curve\n",
    "plot_roc_curve(model, X_train, X_test, y_train, y_test, save_fig = False)"
   ]
  },
  {
   "cell_type": "code",
   "execution_count": 244,
   "metadata": {
    "colab": {
     "base_uri": "https://localhost:8080/"
    },
    "executionInfo": {
     "elapsed": 1764,
     "status": "ok",
     "timestamp": 1622736375088,
     "user": {
      "displayName": "Fernando Herran",
      "photoUrl": "",
      "userId": "09119314463851443877"
     },
     "user_tz": -120
    },
    "id": "1KL2_D0XzcBr",
    "outputId": "a2d45621-fcff-45df-b5cf-08c31c90a812"
   },
   "outputs": [
    {
     "data": {
      "text/plain": [
       "[0.6881754398345947, 0.550000011920929, 0.5499999523162842]"
      ]
     },
     "execution_count": 244,
     "metadata": {
      "tags": []
     },
     "output_type": "execute_result"
    }
   ],
   "source": [
    "# Get accuracy\n",
    "model.evaluate(train_dataset,\n",
    "               verbose = 0)"
   ]
  },
  {
   "cell_type": "markdown",
   "metadata": {
    "id": "PcOmf6kmmY3f"
   },
   "source": [
    "#### Evaluation training dataset"
   ]
  },
  {
   "cell_type": "code",
   "execution_count": 253,
   "metadata": {
    "executionInfo": {
     "elapsed": 691,
     "status": "ok",
     "timestamp": 1622736585652,
     "user": {
      "displayName": "Fernando Herran",
      "photoUrl": "",
      "userId": "09119314463851443877"
     },
     "user_tz": -120
    },
    "id": "KCGNkFwFjJsr"
   },
   "outputs": [],
   "source": [
    "# Get true labels\n",
    "true_labels = list(reduce(lambda a, b: np.concatenate((a, b), axis=0), [y for x, y in train_dataset]))"
   ]
  },
  {
   "cell_type": "code",
   "execution_count": 255,
   "metadata": {
    "executionInfo": {
     "elapsed": 1736,
     "status": "ok",
     "timestamp": 1622736595979,
     "user": {
      "displayName": "Fernando Herran",
      "photoUrl": "",
      "userId": "09119314463851443877"
     },
     "user_tz": -120
    },
    "id": "Oj89wS2_jyll"
   },
   "outputs": [],
   "source": [
    "# Get predictions\n",
    "predicted_labels = list(reduce(lambda a, b: np.concatenate((a, b), axis=0), model.predict(train_dataset)))\n",
    "predicted_labels = list(map(lambda x: 1 if x > 0.5 else 0, predicted_labels))"
   ]
  },
  {
   "cell_type": "code",
   "execution_count": 256,
   "metadata": {
    "colab": {
     "base_uri": "https://localhost:8080/",
     "height": 365
    },
    "executionInfo": {
     "elapsed": 384,
     "status": "ok",
     "timestamp": 1622736600023,
     "user": {
      "displayName": "Fernando Herran",
      "photoUrl": "",
      "userId": "09119314463851443877"
     },
     "user_tz": -120
    },
    "id": "UfGDt_RdkzZ0",
    "outputId": "5c135a78-9c9b-44e3-d697-051cbb7e0fc5"
   },
   "outputs": [
    {
     "data": {
      "image/png": "[encoded data removed]",
      "text/plain": [
       "<Figure size 576x360 with 1 Axes>"
      ]
     },
     "metadata": {
      "tags": []
     },
     "output_type": "display_data"
    }
   ],
   "source": [
    "# Get evaluation \n",
    "get_evaluation(true_labels, predicted_labels)"
   ]
  },
  {
   "cell_type": "markdown",
   "metadata": {
    "id": "giAn5XUpm4jY"
   },
   "source": [
    "#### Evaluation testing dataset"
   ]
  },
  {
   "cell_type": "code",
   "execution_count": 246,
   "metadata": {
    "executionInfo": {
     "elapsed": 461,
     "status": "ok",
     "timestamp": 1622736453691,
     "user": {
      "displayName": "Fernando Herran",
      "photoUrl": "",
      "userId": "09119314463851443877"
     },
     "user_tz": -120
    },
    "id": "0OjuASrTzcBw"
   },
   "outputs": [],
   "source": [
    "# Get true labels\n",
    "true_labels = list(reduce(lambda a, b: np.concatenate((a, b), axis=0), [y for x, y in val_dataset]))"
   ]
  },
  {
   "cell_type": "code",
   "execution_count": 248,
   "metadata": {
    "colab": {
     "base_uri": "https://localhost:8080/"
    },
    "executionInfo": {
     "elapsed": 11849,
     "status": "ok",
     "timestamp": 1622736488308,
     "user": {
      "displayName": "Fernando Herran",
      "photoUrl": "",
      "userId": "09119314463851443877"
     },
     "user_tz": -120
    },
    "id": "DFtnh6K0zcBw",
    "outputId": "59db230a-c2ed-4e06-f3a7-be5d755426b0"
   },
   "outputs": [
    {
     "data": {
      "text/plain": [
       "[1, 1, 1, 1, 1, 1, 1, 1, 1, 1]"
      ]
     },
     "execution_count": 248,
     "metadata": {
      "tags": []
     },
     "output_type": "execute_result"
    }
   ],
   "source": [
    "# Get predictions\n",
    "predicted_labels = list(reduce(lambda a, b: np.concatenate((a, b), axis=0), model.predict(val_dataset)))\n",
    "predicted_labels = list(map(lambda x: 1 if x > 0.5 else 0, predicted_labels))"
   ]
  },
  {
   "cell_type": "code",
   "execution_count": null,
   "metadata": {
    "id": "t8mrUcZIzcBw"
   },
   "outputs": [],
   "source": [
    "# Get evaluation \n",
    "get_evaluation(true_labels, predicted_labels)"
   ]
  },
  {
   "cell_type": "markdown",
   "metadata": {
    "id": "aB3fGX0xUluZ"
   },
   "source": [
    "#### Save CNN model"
   ]
  },
  {
   "cell_type": "code",
   "execution_count": null,
   "metadata": {
    "id": "L2JrB7wmrRdb"
   },
   "outputs": [],
   "source": [
    "# Save CNN model\n",
    "model.save(path + \"Results/\" + model.name + \".h5\")\n",
    "\n",
    "print(\"[+] Model saved\")\n",
    "\n",
    "# Save CNN model history\n",
    "np.save(path + \"Results/\" + model.name + \"_history.npy\", history.history)\n",
    "\n",
    "print(\"[+] Model history saved\")"
   ]
  },
  {
   "cell_type": "markdown",
   "metadata": {
    "id": "SRLNIT0SUlua"
   },
   "source": [
    "======================================================================================================\n",
    "### OTHERS"
   ]
  },
  {
   "cell_type": "code",
   "execution_count": null,
   "metadata": {
    "id": "2YEnJ-QZUlua"
   },
   "outputs": [],
   "source": [
    "base_model = tf.keras.applications.inception_v3.InceptionV3(\n",
    "    input_shape=(240, 320, 3), \n",
    "    weights='imagenet', \n",
    "    include_top=False,\n",
    "    pooling='max')\n",
    "\n",
    "base_output = base_model.output\n",
    "hidden_layer = tf.keras.layers.Dense(512, activation='relu')(base_output)\n",
    "hl_reg = tf.keras.layers.Dropout(0.8)(hidden_layer)\n",
    "output_layer = tf.keras.layers.Dense(1, activation='softmax')(hl_reg)\n",
    "\n",
    "model = tf.keras.models.Model(inputs=base_model.input, outputs=output_layer)\n",
    "\n",
    "for layer in base_model.layers:\n",
    "    layer.trainable = False\n",
    "\n",
    "# compile the model (should be done *after* setting layers to non-trainable)\n",
    "optimizer = tf.keras.optimizers.Adam(lr=0.0001, decay=1e-3)\n",
    "model.compile(optimizer=optimizer, loss='categorical_crossentropy', \n",
    "              metrics=['acc'])"
   ]
  },
  {
   "cell_type": "code",
   "execution_count": null,
   "metadata": {
    "id": "UswN-Fd9Ulua"
   },
   "outputs": [],
   "source": [
    "model.summary()"
   ]
  },
  {
   "cell_type": "code",
   "execution_count": null,
   "metadata": {
    "id": "S6ZsZLedUlub"
   },
   "outputs": [],
   "source": [
    "# Hyperparameters\n",
    "dropout = 0.1\n",
    "mn_value = 0.5\n",
    "\n",
    "# Start model\n",
    "m = Models.Sequential()\n",
    "\n",
    "# Input layer\n",
    "m.add(Layers.Flatten(input_shape=(240, 320, 3)))\n",
    "\n",
    "# Hidden layers\n",
    "m.add(Layers.Dense(units=10, activation = \"relu\", kernel_constraint=max_norm(mn_value)))\n",
    "m.add(Layers.Dense(units=10, activation = \"relu\", kernel_constraint=max_norm(mn_value)))\n",
    "m.add(Layers.Dense(units=10, activation = \"relu\", kernel_constraint=max_norm(mn_value)))\n",
    "m.add(Layers.Dropout(rate = dropout))\n",
    "\n",
    "# Output layer\n",
    "m.add(Layers.Dense(1,activation='sigmoid'))\n",
    "\n",
    "# Compile model\n",
    "m.compile(optimizer = \"adam\" ,\n",
    "          loss = \"binary_crossentropy\",\n",
    "          metrics = [\"accuracy\"]"
   ]
  },
  {
   "cell_type": "code",
   "execution_count": null,
   "metadata": {
    "id": "PD6QMt0XzcB4"
   },
   "outputs": [],
   "source": [
    "# Define Hyperparameters  \n",
    "batch_size = 64\n",
    "num_epochs = 10\n",
    "steps_per_epoch = int(len(X_train) * 0.85/ batch_size)\n",
    "validation_split = 0.3\n",
    "validation_steps = int(len(X_train) * validation_split / batch_size)\n",
    "\n",
    "print(\"[+] Steps per epoch:\", steps_per_epoch)\n",
    "print(\"[+] Validation steps:\", validation_steps)"
   ]
  },
  {
   "cell_type": "code",
   "execution_count": null,
   "metadata": {
    "id": "yhlSQaxAzcB5"
   },
   "outputs": [],
   "source": [
    "# Define learning rate\n",
    "initial_learning_rate = 0.0001\n",
    "lr_schedule = keras.optimizers.schedules.ExponentialDecay(initial_learning_rate, \n",
    "                                                          decay_steps = 100000, \n",
    "                                                          decay_rate = 0.96, \n",
    "                                                          staircase = True)\n"
   ]
  },
  {
   "cell_type": "code",
   "execution_count": null,
   "metadata": {
    "id": "3-m3UWK_zcB5"
   },
   "outputs": [],
   "source": [
    "def get_model(model_name, input_shape_):\n",
    "    \"\"\"Build a 3D convolutional neural network model.\"\"\"\n",
    "\n",
    "    inputs = keras.Input(input_shape_)\n",
    "\n",
    "    x = layers.Conv2D(filters=64, kernel_size=3, activation=\"relu\")(inputs)\n",
    "    x = layers.MaxPool2D(pool_size=2)(x)\n",
    "    x = layers.BatchNormalization()(x)\n",
    "\n",
    "    x = layers.Conv2D(filters=64, kernel_size=3, activation=\"relu\")(x)\n",
    "    x = layers.MaxPool2D(pool_size=2)(x)\n",
    "    x = layers.BatchNormalization()(x)\n",
    "\n",
    "    x = layers.Conv2D(filters=128, kernel_size=3, activation=\"relu\")(x)\n",
    "    x = layers.MaxPool2D(pool_size=2)(x)\n",
    "    x = layers.BatchNormalization()(x)\n",
    "\n",
    "    x = layers.Conv2D(filters=256, kernel_size=3, activation=\"relu\")(x)\n",
    "    x = layers.MaxPool2D(pool_size=2)(x)\n",
    "    x = layers.BatchNormalization()(x)\n",
    "\n",
    "    x = layers.GlobalAveragePooling2D()(x)\n",
    "    x = layers.Dense(units=512, activation=\"relu\")(x)\n",
    "    x = layers.Dropout(0.3)(x)\n",
    "\n",
    "    outputs = layers.Dense(units=1, activation=\"sigmoid\")(x)\n",
    "\n",
    "    # Define the model.\n",
    "    model = keras.Model(inputs, outputs, name = model_name)\n",
    "    return model"
   ]
  },
  {
   "cell_type": "code",
   "execution_count": null,
   "metadata": {
    "id": "ZrfNEHM-zcB6"
   },
   "outputs": [],
   "source": [
    "def get_model(input_shape):\n",
    "    \"\"\"Build a 3D convolutional neural network model.\"\"\"\n",
    "\n",
    "    inputs = keras.Input((210, 168, 6, 1))\n",
    "\n",
    "    x = layers.Conv3D(filters=64, kernel_size=(3,3,1), activation=\"relu\")(inputs)\n",
    "    x = layers.MaxPool3D(pool_size=(2,2,1))(x)\n",
    "    x = layers.BatchNormalization()(x)\n",
    "\n",
    "    x = layers.Conv3D(filters=64, kernel_size=(3,3,1), activation=\"relu\")(x)\n",
    "    x = layers.MaxPool3D(pool_size=(2,2,1))(x)\n",
    "    x = layers.BatchNormalization()(x)\n",
    "\n",
    "    x = layers.Conv3D(filters=128, kernel_size=(3,3,1), activation=\"relu\")(x)\n",
    "    x = layers.MaxPool3D(pool_size=(2,2,1))(x)\n",
    "    x = layers.BatchNormalization()(x)\n",
    "\n",
    "    x = layers.Conv3D(filters=256, kernel_size=(3,3,1), activation=\"relu\")(x)\n",
    "    x = layers.MaxPool3D(pool_size=(2,2,1))(x)\n",
    "    x = layers.BatchNormalization()(x)\n",
    "\n",
    "    x = layers.GlobalAveragePooling3D()(x)\n",
    "    x = layers.Dense(units=512, activation=\"relu\")(x)\n",
    "    x = layers.Dropout(0.3)(x)\n",
    "\n",
    "    outputs = layers.Dense(units=1, activation=\"sigmoid\")(x)\n",
    "\n",
    "    # Define the model.\n",
    "    model = keras.Model(inputs, outputs)\n",
    "    return model"
   ]
  },
  {
   "cell_type": "code",
   "execution_count": null,
   "metadata": {
    "id": "Vdpd8FD1zcB8"
   },
   "outputs": [],
   "source": [
    "def build_model(model_name, input_shape_):\n",
    "    '''\n",
    "    Function to build a convolutional neural network.\n",
    "    Inputs: input shape\n",
    "    '''\n",
    "\n",
    "    # Fix random seed for reproducibility\n",
    "    np.random.seed(123)\n",
    "    tf.random.set_seed(123) \n",
    "\n",
    "    # Start Sequential model\n",
    "    #model = Sequential()\n",
    "    \n",
    "    # Input layer\n",
    "    inputs = keras.Input(shape = (210, 168, 1), batch_size=6 )\n",
    "              \n",
    "    # Convolutional layers  \n",
    "    ############################################\n",
    "    \n",
    "    ## 1st conv block\n",
    "    \n",
    "    x = Conv2D(filters = 105, kernel_size = 3, activation = 'relu')(inputs)\n",
    "    x = MaxPool2D(pool_size = 2)(x)\n",
    "    x = BatchNormalization()(x)\n",
    "              \n",
    "    ############################################\n",
    "              \n",
    "    ## 2nd conv block\n",
    "    x = Conv2D(filters = 75, kernel_size = 3, activation = 'relu')(x)\n",
    "    x = MaxPool2D(pool_size = 2)(x)\n",
    "    x = BatchNormalization()(x)\n",
    "              \n",
    "    ############################################\n",
    "              \n",
    "    ## 3rd conv block\n",
    "    x = Conv2D(filters = 125, kernel_size = 3, activation = 'relu')(x)\n",
    "    x = MaxPool2D(pool_size = 2)(x)\n",
    "    x = BatchNormalization()(x)\n",
    "    \n",
    "    # Layer yo convert a 3D tensor to 1D tensor\n",
    "    #x = GlobalAveragePooling2D()(x)\n",
    "    x = Flatten()(x)\n",
    "              \n",
    "    # Hidden layers       \n",
    "    x = Dense(150, activation = \"relu\")(x)\n",
    "    x = Dropout(0.3)(x)\n",
    "    \n",
    "    #x = Dense(100, activation = \"relu\")(x)\n",
    "    #x = Dropout(0.3)(x)\n",
    "    \n",
    "    #x = Dense(50, activation = \"relu\")(x)\n",
    "    #x = Dropout(0.3)(x)\n",
    "\n",
    "    # Output layer\n",
    "    outputs = Dense(1, activation = \"sigmoid\")(x)\n",
    "\n",
    "    # Define the model\n",
    "    model = keras.Model(inputs, outputs)\n",
    "    \n",
    "    # Name model\n",
    "    model._name = model_name\n",
    "    \n",
    "    \n",
    "    return model"
   ]
  },
  {
   "cell_type": "code",
   "execution_count": null,
   "metadata": {
    "id": "8y7xS87jZXqY"
   },
   "outputs": [],
   "source": [
    "# Capture 1000 samples for each class\n",
    "number_healty = 0\n",
    "number_disease = 0\n",
    "images_2 = []\n",
    "classes_2 = []\n",
    "n_samples = 500\n",
    "\n",
    "for index, item_ in enumerate(classes):\n",
    "    \n",
    "    if (item_ == 1) & (number_disease < n_samples):\n",
    "        classes_2.append(1)\n",
    "        images_2.append(images[index])\n",
    "        number_disease += 1\n",
    "  \n",
    "    if (item_ == 0) & (number_healty < n_samples):\n",
    "        classes_2.append(0)\n",
    "        images_2.append(images[index])\n",
    "        number_healty += 1\n",
    "\n",
    "# Check number of cases by class with images loaded\n",
    "print(f\"[+] Number of total cases: {len(images_2)}\")\n",
    "print(f\"    [-] Number of Alzheimer cases: {classes_2.count(1)}\")\n",
    "print(f\"    [-] Number of healthy cases: {classes_2.count(0)}\")"
   ]
  },
  {
   "cell_type": "code",
   "execution_count": null,
   "metadata": {
    "id": "eLxB_x_RZXqY"
   },
   "outputs": [],
   "source": [
    "# Load images\n",
    "for file in os.listdir(root_png_images):\n",
    "  \n",
    "    # Avoid trigerring .DS_Store (when use macOS)\n",
    "    if file.startswith('.DS_Store'):\n",
    "        continue\n",
    "        \n",
    "    # Get title of the image\n",
    "    title = file.split(\".\")[0]\n",
    "    \n",
    "    if (title in list_class_0) & (number_samples_0 < 500):\n",
    "        number_samples_0 += 1\n",
    "    elif (title in list_class_1) & (number_samples_1 < 500):\n",
    "        number_samples_1 += 1\n",
    "    else:\n",
    "        continue\n",
    "             \n",
    "    # Read image in grayscale\n",
    "    img = cv2.imread(os.path.join(root_png_images,file), cv2.IMREAD_GRAYSCALE)\n",
    "\n",
    "    # Resize image\n",
    "    # https://www.tutorialkart.com/opencv/python/opencv-python-resize-image/\n",
    "    # https://enmilocalfunciona.io/tratamiento-de-imagenes-usando-imagedatagenerator-en-keras/\n",
    "    dim = (504, 420)\n",
    "    resized_img = cv2.resize(img, dim, interpolation = cv2.INTER_AREA)\n",
    "\n",
    "    # Convert image from RGBA2RGB\n",
    "    #if len(resized_img.shape) > 2 and resized_img.shape[2] == 4:\n",
    "    #    resized_img = cv2.cvtColor(resized_img, cv2.COLOR_BGRA2BGR)\n",
    "        \n",
    "    # Convert image from RGB to grayscale\n",
    "    #gray_img = rgb2gray(resized_img) \n",
    "    \n",
    "    # Split image into 6 slices\n",
    "    divided_img = np.zeros((6, 210, 168))\n",
    "\n",
    "    for index, coordinate in enumerate(coordinates):\n",
    "\n",
    "        coor_y_0, coor_y_1 = coordinates[index][0], coordinates[index][1]\n",
    "        coor_x_0, coor_x_1 = coordinates[index][2], coordinates[index][3] \n",
    "\n",
    "        divided_img[index, :,:] = resized_img[coor_y_0:coor_y_1, coor_x_0:coor_x_1]\n",
    "    \n",
    "    # Append image & title to lists  \n",
    "    images.append(divided_img)\n",
    "    titles.append(title)\n",
    "    \n",
    "    if len(images) % 200 == 0:\n",
    "        print(f\"{len(images)} images loaded\")\n",
    "    \n",
    "# Check number of images loaded\n",
    "print(\"[+] Number of images loaded:\", len(images))\n",
    "print(\"[+] Number of titles loaded:\", len(titles))"
   ]
  },
  {
   "cell_type": "code",
   "execution_count": null,
   "metadata": {
    "id": "aK1iduv7opBR"
   },
   "outputs": [],
   "source": [
    "def build_model(model_name, input_shape, number_samples):\n",
    "    '''\n",
    "    Function to build a convolutional neural network.\n",
    "    Inputs: input shape\n",
    "    '''\n",
    "\n",
    "    # Fix random seed for reproducibility\n",
    "    np.random.seed(123)\n",
    "    tf.random.set_seed(123) \n",
    "    \n",
    "    # Input layer\n",
    "    inputs = Input(shape = number_samples + input_shape)\n",
    "              \n",
    "    ## 1st conv block\n",
    "    x = TimeDistributed(Conv2D(64, kernel_size = 3, activation = 'relu'))(inputs)\n",
    "    x = TimeDistributed(MaxPool2D(pool_size = 2))(x)\n",
    "    x = TimeDistributed(BatchNormalization())(x)\n",
    "              \n",
    "    ## 2nd conv block\n",
    "    x = TimeDistributed(Conv2D(64, kernel_size = 3, activation = 'relu'))(x)\n",
    "    x = TimeDistributed(MaxPool2D(pool_size = 2))(x)\n",
    "    x = TimeDistributed(BatchNormalization())(x)\n",
    "\n",
    "    ## 3rd conv block\n",
    "    x = TimeDistributed(Conv2D(128, kernel_size = 3, activation = 'relu'))(x)\n",
    "    x = TimeDistributed(MaxPool2D(pool_size = 2))(x)\n",
    "    x = TimeDistributed(BatchNormalization())(x)\n",
    "\n",
    "    ## 4rd conv block\n",
    "    x = TimeDistributed(Conv2D(256, kernel_size = 3, activation = 'relu'))(x)\n",
    "    x = TimeDistributed(MaxPool2D(pool_size = 2))(x)\n",
    "    x = TimeDistributed(BatchNormalization())(x)\n",
    "    \n",
    "    ## Flatten layer\n",
    "    x = TimeDistributed(GlobalAveragePooling2D())(x)\n",
    "    \n",
    "    # LSTM\n",
    "    x = LSTM(1024, activation = 'relu', return_sequences = False)(x)\n",
    "              \n",
    "    # Hidden layers       \n",
    "    x = Dense(1024, activation = \"relu\")(x)\n",
    "    x = Dropout(0.3)(x)\n",
    "    x = Dense(512, activation = \"relu\")(x)\n",
    "    x = Dropout(0.3)(x)\n",
    "\n",
    "    # Output layer\n",
    "    outputs = Dense(2, activation = \"softmax\")(x)\n",
    "\n",
    "    # Define the model\n",
    "    model = keras.Model(inputs, outputs)\n",
    "    \n",
    "    # Name model\n",
    "    model._name = model_name\n",
    "    \n",
    "    \n",
    "    return model"
   ]
  },
  {
   "cell_type": "code",
   "execution_count": null,
   "metadata": {
    "id": "d4JKsZ7Cg8Fx"
   },
   "outputs": [],
   "source": [
    "# Map function to load numpy arrays\n",
    "def load_data(filename, label):\n",
    "    \n",
    "    npdata = np.load(filename)\n",
    "    \n",
    "    label = label\n",
    "    \n",
    "    return  npdata['arr_0'], label\n",
    "\n",
    "def get_data(filename, label):\n",
    "    \n",
    "   # Assuming here that both your data and label is float type.\n",
    "    features, label = tf.py_function(load_data, [filename, label], (tf.float32, tf.int16)) \n",
    "\n",
    "    return tf.data.Dataset.from_tensor_slices((features, label))\n",
    "\n",
    "dataset = dataset.flat_map(get_data)\n",
    "\n",
    "from tensorflow.python.client import device_lib\n",
    "\n",
    "def get_available_gpus():\n",
    "    local_device_protos = device_lib.list_local_devices()\n",
    "    return [x.name for x in local_device_protos if x.device_type == 'TPU']\n",
    "\n",
    "def get_data_from_filename(filename):\n",
    "    \n",
    "    npdata = np.load(filename)['arr_0']\n",
    "    arg = tf.convert_to_tensor(npdata, dtype=tf.float32)\n",
    "    print(arg)\n",
    " \n",
    "    return arg\n",
    "\n",
    "def get_data_wrapper(filename):\n",
    "   # Assuming here that both your data and label is float type.\n",
    "    features = tf.numpy_function(\n",
    "        get_data_from_filename, [filename], (tf.float32)) \n",
    "    \n",
    "    #features = tf.reshape(features, (180,180,110))\n",
    "    print(type(features))\n",
    "\n",
    "    return tf.data.Dataset.from_tensor_slices(features)\n",
    "\n",
    "# Create dataset of filenames.\n",
    "ds = tf.data.Dataset.from_tensor_slices(filenames)\n",
    "ds = ds.map(lambda filename: my_func(filename))\n",
    "\n",
    "def my_func(filename):\n",
    "    npdata = np.load(filename)['arr_0']\n",
    "    arg = tf.convert_to_tensor(npdata, dtype=tf.float32)\n",
    "    return tf.data.Dataset.from_tensor(arg)\n",
    "\n",
    "def get_data_from_filename(filename, label):\n",
    "    npdata = np.load(filename)\n",
    "    label = label\n",
    "    return  npdata['arr_0'], label\n",
    "\n",
    "def get_data_wrapper(filename, label):\n",
    "   # Assuming here that both your data and label is float type.\n",
    "    features, label = tf.py_function(get_data_from_filename, [filename, label], (tf.float32, tf.int16)) \n",
    "\n",
    "    return tf.data.Dataset.from_tensor_slices((features, label))\n",
    "\n",
    "# Create dataset of filenames.\n",
    "dataset = dataset.flat_map(get_data_wrapper)\n",
    "\n",
    "resolver = tf.contrib.cluster_resolver.TPUClusterResolver('grpc://' + os.environ['COLAB_TPU_ADDR'])\n",
    "tf.contrib.distribute.initialize_tpu_system(resolver)\n",
    "strategy = tf.contrib.distribute.TPUStrategy(resolver)\n",
    "\n",
    "# Define optimizer\n",
    "opt = SGD(learning_rate = 0.1)  # from 0.0001 to 0.1\n",
    "\n",
    "initial_learning_rate = 0.0001\n",
    "lr_schedule = keras.optimizers.schedules.ExponentialDecay(\n",
    "    initial_learning_rate, decay_steps=100000, decay_rate=0.96, staircase=True\n",
    ")\n",
    "\n",
    "# create huge numpy array and save it to disk\n",
    "file = pathlib.Path(path + \"huge_data.npy\")\n",
    "\n",
    "examples = 5000\n",
    "example_shape = (256, 256)\n",
    "huge_data_shape = (examples, *example_shape)\n",
    "huge_data_dtype = np.float64\n",
    "\n",
    "# create file if does not exist\n",
    "if not file.is_file():\n",
    "    print(\"creating file with random data and saving to disk\")\n",
    "    numpy_data = np.random.rand(*huge_data_shape).astype(huge_data_dtype)\n",
    "    np.save(file, numpy_data)\n",
    "\n",
    "# memmap the file\n",
    "numpy_data_memmap = np.load(file, mmap_mode='r')\n",
    "\n",
    "\n",
    "# generator function\n",
    "def data_generator():\n",
    "    return iter(numpy_data_memmap), iter(classes)\n",
    "\n",
    "\n",
    "# create tf dataset from generator fn\n",
    "dataset = tf.data.Dataset.from_generator(\n",
    "    generator=data_generator,\n",
    "    output_types=huge_data_dtype,\n",
    "    output_shapes=example_shape,\n",
    ")\n",
    "\n",
    "# consume huge dataset\n",
    "for i, ex in enumerate(dataset):\n",
    "    print(i, ex.shape, ex.dtype)"
   ]
  }
 ],
 "metadata": {
  "accelerator": "TPU",
  "colab": {
   "collapsed_sections": [
    "dgFS5tRszcAb",
    "wmXzgFaKndIC",
    "6LYcLeXnjl5q",
    "Mg0hAAQIjl5v",
    "XpaSUgs9ZXpY",
    "ORYKJ5xtUlt-",
    "bowWUZs1dQH2",
    "lsdwT90GdQH4",
    "dfvL50csr5ON",
    "BPwiNPnOkzZt",
    "xgJFl2xUkzZu",
    "eR9YKWIj5CVt",
    "PcOmf6kmmY3f",
    "giAn5XUpm4jY",
    "aB3fGX0xUluZ",
    "SRLNIT0SUlua"
   ],
   "machine_shape": "hm",
   "name": "3_3D-CNN_creation.ipynb",
   "provenance": [],
   "toc_visible": true
  },
  "kernelspec": {
   "display_name": "Python 3",
   "language": "python",
   "name": "python3"
  },
  "language_info": {
   "codemirror_mode": {
    "name": "ipython",
    "version": 3
   },
   "file_extension": ".py",
   "mimetype": "text/x-python",
   "name": "python",
   "nbconvert_exporter": "python",
   "pygments_lexer": "ipython3",
   "version": "3.8.5"
  }
 },
 "nbformat": 4,
 "nbformat_minor": 1
}
