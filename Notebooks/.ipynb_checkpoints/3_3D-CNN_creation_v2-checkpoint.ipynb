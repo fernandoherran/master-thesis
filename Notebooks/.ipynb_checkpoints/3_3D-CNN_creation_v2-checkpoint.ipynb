{
 "cells": [
  {
   "cell_type": "markdown",
   "metadata": {
    "id": "Ys1quYVrXIXQ"
   },
   "source": [
    "### Initial set-up"
   ]
  },
  {
   "cell_type": "markdown",
   "metadata": {
    "id": "wmXzgFaKndIC"
   },
   "source": [
    "#### Google Drive"
   ]
  },
  {
   "cell_type": "code",
   "execution_count": null,
   "metadata": {
    "executionInfo": {
     "elapsed": 178,
     "status": "ok",
     "timestamp": 1622738662714,
     "user": {
      "displayName": "Fernando Herran",
      "photoUrl": "",
      "userId": "09119314463851443877"
     },
     "user_tz": -120
    },
    "id": "w7cgAHv2XIXd"
   },
   "outputs": [],
   "source": [
    "# Specify if user is working on Google Drive\n",
    "google_drive = False"
   ]
  },
  {
   "cell_type": "code",
   "execution_count": null,
   "metadata": {
    "colab": {
     "base_uri": "https://localhost:8080/"
    },
    "executionInfo": {
     "elapsed": 10,
     "status": "ok",
     "timestamp": 1622738663082,
     "user": {
      "displayName": "Fernando Herran",
      "photoUrl": "",
      "userId": "09119314463851443877"
     },
     "user_tz": -120
    },
    "id": "OR4Iy305XIXe",
    "outputId": "f6d129d8-a9a0-4407-c6f6-b754c7fcb328"
   },
   "outputs": [],
   "source": [
    "if google_drive == True:\n",
    "    \n",
    "    from google.colab import drive \n",
    "    drive.mount('/content/drive')\n",
    "    \n",
    "    path = \"./drive/MyDrive/TFM/Code/\"\n",
    "    \n",
    "    import sys\n",
    "    sys.path.append(path)\n",
    "\n",
    "else:\n",
    "    path = \"../\"\n",
    "    \n",
    "    import sys\n",
    "    sys.path.append(path)"
   ]
  },
  {
   "cell_type": "markdown",
   "metadata": {
    "id": "TRGI3GB72ifc"
   },
   "source": [
    "#### Google Colab TPU session"
   ]
  },
  {
   "cell_type": "code",
   "execution_count": null,
   "metadata": {
    "executionInfo": {
     "elapsed": 7,
     "status": "ok",
     "timestamp": 1622738663083,
     "user": {
      "displayName": "Fernando Herran",
      "photoUrl": "",
      "userId": "09119314463851443877"
     },
     "user_tz": -120
    },
    "id": "pljIfdII2doC"
   },
   "outputs": [],
   "source": [
    "# Specify if user is working on a TPU session in Google Colab\n",
    "tpu_session = False"
   ]
  },
  {
   "cell_type": "code",
   "execution_count": null,
   "metadata": {
    "colab": {
     "base_uri": "https://localhost:8080/"
    },
    "executionInfo": {
     "elapsed": 34672,
     "status": "ok",
     "timestamp": 1622738697749,
     "user": {
      "displayName": "Fernando Herran",
      "photoUrl": "",
      "userId": "09119314463851443877"
     },
     "user_tz": -120
    },
    "id": "qIaHwN_O2d2D",
    "outputId": "d5112ad0-cf63-4b1e-93e9-074588603cdb"
   },
   "outputs": [],
   "source": [
    "if tpu_session == True:\n",
    "    \n",
    "    %tensorflow_version 2.x\n",
    "    import tensorflow as tf\n",
    "    print(\"Tensorflow version \" + tf.__version__)\n",
    "\n",
    "    try:\n",
    "        tpu = tf.distribute.cluster_resolver.TPUClusterResolver()  # TPU detection\n",
    "        print('Running on TPU ', tpu.cluster_spec().as_dict()['worker'])\n",
    "    except ValueError:\n",
    "        raise BaseException('ERROR: Not connected to a TPU runtime; please see the previous cell in this notebook for instructions!')\n",
    "\n",
    "    tf.config.experimental_connect_to_cluster(tpu)\n",
    "    tf.tpu.experimental.initialize_tpu_system(tpu)\n",
    "    tpu_strategy = tf.distribute.experimental.TPUStrategy(tpu)\n",
    "    \n",
    "else:\n",
    "    pass"
   ]
  },
  {
   "cell_type": "markdown",
   "metadata": {
    "id": "6LYcLeXnjl5q"
   },
   "source": [
    "### Import libraries"
   ]
  },
  {
   "cell_type": "code",
   "execution_count": null,
   "metadata": {},
   "outputs": [],
   "source": [
    "import glob\n",
    "import tensorflow as tf\n",
    "import numpy as np\n",
    "from functools import reduce"
   ]
  },
  {
   "cell_type": "code",
   "execution_count": null,
   "metadata": {
    "executionInfo": {
     "elapsed": 792,
     "status": "ok",
     "timestamp": 1622738732869,
     "user": {
      "displayName": "Fernando Herran",
      "photoUrl": "",
      "userId": "09119314463851443877"
     },
     "user_tz": -120
    },
    "id": "mQB5P7qbjl5t"
   },
   "outputs": [],
   "source": [
    "import os\n",
    "import numpy as np\n",
    "import pandas as pd\n",
    "import pickle\n",
    "import time\n",
    "import cv2\n",
    "import copy\n",
    "from functools import reduce\n",
    "\n",
    "# Import tensorflow\n",
    "import tensorflow as tf\n",
    "from tensorflow import keras\n",
    "from tensorflow.keras.models import Sequential, load_model \n",
    "from tensorflow.keras.layers import InputLayer, Conv2D, MaxPool2D, BatchNormalization, Flatten, Dense, Dropout\n",
    "from tensorflow.keras.layers import Conv3D, MaxPool3D, GlobalAveragePooling3D\n",
    "from tensorflow.keras.layers import Input, TimeDistributed, GlobalAveragePooling2D, LSTM\n",
    "from tensorflow.keras.optimizers import SGD, Adam\n",
    "\n",
    "# Import metrics\n",
    "from sklearn.model_selection import train_test_split\n",
    "from sklearn.metrics import confusion_matrix, f1_score, recall_score, precision_score, accuracy_score\n",
    "\n",
    "# Import visualization packages\n",
    "from matplotlib import image\n",
    "import seaborn as sns\n",
    "import matplotlib.pyplot as plt\n",
    "%matplotlib inline\n",
    "sns.set_theme(context='notebook')\n",
    "sns.set_style(\"ticks\")\n",
    "\n",
    "# Extra utils\n",
    "from Notebooks.aux_functions.aux_functions_cnn import *"
   ]
  },
  {
   "cell_type": "markdown",
   "metadata": {
    "id": "Mg0hAAQIjl5v"
   },
   "source": [
    "### Load TFRecords"
   ]
  },
  {
   "cell_type": "code",
   "execution_count": null,
   "metadata": {},
   "outputs": [],
   "source": [
    "def parse_tfr_element(element):\n",
    "    \n",
    "    # Define TFRecord dictionary\n",
    "    data = {'height': tf.io.FixedLenFeature([], tf.int64),\n",
    "            'width':tf.io.FixedLenFeature([], tf.int64),\n",
    "            'depth':tf.io.FixedLenFeature([], tf.int64),\n",
    "            'raw_image' : tf.io.FixedLenFeature([], tf.string),\n",
    "            'label':tf.io.FixedLenFeature([], tf.int64)}\n",
    "    \n",
    "    # Read TFRecord content\n",
    "    content = tf.io.parse_single_example(element, data)\n",
    "  \n",
    "    raw_image = content['raw_image']\n",
    "    label = content['label']\n",
    "  \n",
    "    feature = tf.io.parse_tensor(raw_image, out_type = tf.float32)\n",
    "    \n",
    "    # Reshape feature and label \n",
    "    feature = tf.reshape(feature, shape = [110, 130, 80])\n",
    "    label = tf.reshape(label, shape = [1])\n",
    "    \n",
    "    return (feature, label)\n",
    "\n",
    "\n",
    "def load_tfr_dataset(tfr_dir = \"../Datasets/TFRecords/\", pattern =\"*_volumes.tfrecords\"):\n",
    "    \n",
    "    # Get files matching the pattern\n",
    "    files = glob.glob(tfr_dir+pattern, recursive = False)\n",
    "\n",
    "    # Create the dataset\n",
    "    dataset = tf.data.TFRecordDataset(files, num_parallel_reads = AUTO)\n",
    "\n",
    "    # Map function\n",
    "    dataset = dataset.map(parse_tfr_element, num_parallel_calls = AUTO)\n",
    "    \n",
    "    return dataset"
   ]
  },
  {
   "cell_type": "code",
   "execution_count": null,
   "metadata": {},
   "outputs": [],
   "source": [
    "AUTO = tf.data.experimental.AUTOTUNE"
   ]
  },
  {
   "cell_type": "markdown",
   "metadata": {
    "id": "XpaSUgs9ZXpY"
   },
   "source": [
    "#### Load train TFRecords"
   ]
  },
  {
   "cell_type": "code",
   "execution_count": null,
   "metadata": {},
   "outputs": [],
   "source": [
    "train_dataset = load_tfr_dataset(tfr_dir = \"../Datasets/TFRecords/Train/\",\n",
    "                                 pattern = \"*_train_volumes.tfrecords\")"
   ]
  },
  {
   "cell_type": "markdown",
   "metadata": {},
   "source": [
    "#### Load validation TFRecords"
   ]
  },
  {
   "cell_type": "code",
   "execution_count": null,
   "metadata": {},
   "outputs": [],
   "source": [
    "val_dataset = load_tfr_dataset(tfr_dir = \"../Datasets/TFRecords/Validation/\",\n",
    "                               pattern = \"*_val_volumes.tfrecords\")"
   ]
  },
  {
   "cell_type": "markdown",
   "metadata": {},
   "source": [
    "#### Load test TFRecords"
   ]
  },
  {
   "cell_type": "code",
   "execution_count": null,
   "metadata": {},
   "outputs": [],
   "source": [
    "test_dataset = load_tfr_dataset(tfr_dir = \"../Datasets/TFRecords/Test/\",\n",
    "                                pattern = \"*_test_volumes.tfrecords\")"
   ]
  },
  {
   "cell_type": "markdown",
   "metadata": {},
   "source": [
    "#### Check size of training, validation and testing datasets"
   ]
  },
  {
   "cell_type": "code",
   "execution_count": null,
   "metadata": {},
   "outputs": [],
   "source": [
    "train_size = reduce(lambda count, item: count + 1, train_dataset, 0)\n",
    "val_size = reduce(lambda count, item: count + 1, val_dataset, 0)\n",
    "test_size = reduce(lambda count, item: count + 1, test_dataset, 0)"
   ]
  },
  {
   "cell_type": "code",
   "execution_count": null,
   "metadata": {},
   "outputs": [],
   "source": [
    "print(f\"[+] Training size:\", train_size)\n",
    "print(f\"[+] Validation size:\", val_size)\n",
    "print(f\"[+] Testing size:\", test_size)"
   ]
  },
  {
   "cell_type": "markdown",
   "metadata": {
    "id": "FOw3Jsi7dQH6"
   },
   "source": [
    "### Preprocessing"
   ]
  },
  {
   "cell_type": "code",
   "execution_count": null,
   "metadata": {
    "executionInfo": {
     "elapsed": 222,
     "status": "ok",
     "timestamp": 1622738789684,
     "user": {
      "displayName": "Fernando Herran",
      "photoUrl": "",
      "userId": "09119314463851443877"
     },
     "user_tz": -120
    },
    "id": "WkofxZ52onrf"
   },
   "outputs": [],
   "source": [
    "# Specify inputs\n",
    "#batch_size = 8 * tpu_strategy.num_replicas_in_sync\n",
    "batch_size = 8"
   ]
  },
  {
   "cell_type": "code",
   "execution_count": null,
   "metadata": {
    "executionInfo": {
     "elapsed": 162,
     "status": "ok",
     "timestamp": 1622736836774,
     "user": {
      "displayName": "Fernando Herran",
      "photoUrl": "",
      "userId": "09119314463851443877"
     },
     "user_tz": -120
    },
    "id": "r77RGe6WdQH7"
   },
   "outputs": [],
   "source": [
    "train_dataset = train_dataset.batch(batch_size).prefetch(AUTO)\n",
    "val_dataset = val_dataset.batch(batch_size).prefetch(AUTO)"
   ]
  },
  {
   "cell_type": "markdown",
   "metadata": {
    "id": "PihvLS1Gjl58"
   },
   "source": [
    "### Convolutional Neural Network"
   ]
  },
  {
   "cell_type": "markdown",
   "metadata": {
    "id": "dfvL50csr5ON"
   },
   "source": [
    "#### Define Neural Network"
   ]
  },
  {
   "cell_type": "code",
   "execution_count": null,
   "metadata": {
    "executionInfo": {
     "elapsed": 251,
     "status": "ok",
     "timestamp": 1622737296738,
     "user": {
      "displayName": "Fernando Herran",
      "photoUrl": "",
      "userId": "09119314463851443877"
     },
     "user_tz": -120
    },
    "id": "p8k_OYWYopAo"
   },
   "outputs": [],
   "source": [
    "def build_model_3d(model_name, input_shape):\n",
    "    '''\n",
    "    Build a 3D Convolutional Neural Network (CNN).\n",
    "    '''\n",
    "\n",
    "    # Fix random seed for reproducibility\n",
    "    np.random.seed(123)\n",
    "    tf.random.set_seed(123) \n",
    "    \n",
    "    ## Input layer\n",
    "    inputs = Input(shape = input_shape + (1,))\n",
    "    \n",
    "    ## Convolutional blocks\n",
    "    # 1st conv block\n",
    "    x = Conv3D(64, kernel_size = 3, activation = 'relu')(inputs)\n",
    "    x = MaxPool3D(pool_size = 2)(x)\n",
    "    x = BatchNormalization()(x)\n",
    "              \n",
    "    # 2nd conv block\n",
    "    x = Conv3D(128, kernel_size = 3, activation = 'relu')(x)\n",
    "    x = MaxPool3D(pool_size = 2)(x)\n",
    "    x = BatchNormalization()(x)\n",
    "\n",
    "    # 3rd conv block\n",
    "    x = Conv3D(256, kernel_size = 3, activation = 'relu')(x)\n",
    "    x = MaxPool3D(pool_size = 2)(x)\n",
    "    x = BatchNormalization()(x)\n",
    "\n",
    "    # 4rd conv block\n",
    "    x = Conv3D(512, kernel_size = 3, activation = 'relu')(x)\n",
    "    x = MaxPool3D(pool_size = 2)(x)\n",
    "    x = BatchNormalization()(x)\n",
    "    \n",
    "    ## Flatten layer\n",
    "    x = GlobalAveragePooling3D()(x)\n",
    "              \n",
    "    ## Dense layers       \n",
    "    x = Dense(512, activation = \"relu\")(x)\n",
    "    x = Dropout(0.3)(x)\n",
    "    \n",
    "    x = Dense(256, activation = \"relu\")(x)\n",
    "    x = Dropout(0.3)(x)\n",
    "\n",
    "    ## Output layer\n",
    "    outputs = Dense(1, activation = \"sigmoid\")(x)\n",
    "\n",
    "    # Define the model\n",
    "    model = keras.Model(inputs, outputs)\n",
    "    \n",
    "    # Name model\n",
    "    model._name = model_name\n",
    "    \n",
    "    opt = SGD(learning_rate = 0.1)  # from 0.0001 to 0.1\n",
    "    \n",
    "    # Compile model\n",
    "    model.compile(loss = \"binary_crossentropy\",\n",
    "                  optimizer = opt,\n",
    "                  metrics = [\"BinaryAccuracy\", f1])\n",
    "\n",
    "    \n",
    "    return model"
   ]
  },
  {
   "cell_type": "markdown",
   "metadata": {
    "id": "BPwiNPnOkzZt"
   },
   "source": [
    "#### Build new CNN model"
   ]
  },
  {
   "cell_type": "code",
   "execution_count": null,
   "metadata": {
    "executionInfo": {
     "elapsed": 146,
     "status": "ok",
     "timestamp": 1622737304603,
     "user": {
      "displayName": "Fernando Herran",
      "photoUrl": "",
      "userId": "09119314463851443877"
     },
     "user_tz": -120
    },
    "id": "lNMSRcnFkzZt"
   },
   "outputs": [],
   "source": [
    "# Define inputs\n",
    "model_name = \"3d_model_v3\"\n",
    "input_shape = (78, 100, 86) # (180, 180, 110)"
   ]
  },
  {
   "cell_type": "code",
   "execution_count": null,
   "metadata": {
    "colab": {
     "base_uri": "https://localhost:8080/"
    },
    "executionInfo": {
     "elapsed": 652,
     "status": "ok",
     "timestamp": 1622737318006,
     "user": {
      "displayName": "Fernando Herran",
      "photoUrl": "",
      "userId": "09119314463851443877"
     },
     "user_tz": -120
    },
    "id": "4EhcKGHvopAs",
    "outputId": "807984b6-0881-4c18-ca81-7f71df02e8cc"
   },
   "outputs": [],
   "source": [
    "# Build model with TPUstrategy\n",
    "with tpu_strategy.scope(): \n",
    "    model = build_model_3d(model_name, input_shape)\n",
    "    \n",
    "model.summary()"
   ]
  },
  {
   "cell_type": "markdown",
   "metadata": {
    "id": "xgJFl2xUkzZu"
   },
   "source": [
    "#### Load existing CNN model"
   ]
  },
  {
   "cell_type": "code",
   "execution_count": null,
   "metadata": {
    "id": "2gHzzLDMkzZv"
   },
   "outputs": [],
   "source": [
    "model_name = \"cnn_model_1\""
   ]
  },
  {
   "cell_type": "code",
   "execution_count": null,
   "metadata": {
    "id": "NuPkzTQTkzZw",
    "scrolled": true
   },
   "outputs": [],
   "source": [
    "# Load model\n",
    "model_loaded = load_model(path + \"Results/\" + model_name + \".h5\", \n",
    "                   custom_objects = {'f1': f1})\n",
    "\n",
    "print(\"[+] Model loaded\")\n",
    "#model.summary()\n",
    "\n",
    "# Load model history\n",
    "history_loaded = np.load(path + \"Results/\" + model_name + \"_history.npy\", \n",
    "                  allow_pickle = 'TRUE').item()\n",
    "\n",
    "print(\"[+] Model history loaded\")"
   ]
  },
  {
   "cell_type": "markdown",
   "metadata": {
    "id": "5o7hki78UluS"
   },
   "source": [
    "#### Train CNN model"
   ]
  },
  {
   "cell_type": "code",
   "execution_count": null,
   "metadata": {
    "colab": {
     "base_uri": "https://localhost:8080/"
    },
    "executionInfo": {
     "elapsed": 42841,
     "status": "ok",
     "timestamp": 1622737373038,
     "user": {
      "displayName": "Fernando Herran",
      "photoUrl": "",
      "userId": "09119314463851443877"
     },
     "user_tz": -120
    },
    "id": "gq7rPP8wjl5-",
    "outputId": "a399e558-1726-420f-bd2d-8897116ec17a",
    "scrolled": true
   },
   "outputs": [],
   "source": [
    "# Train model\n",
    "start_time = time.time()\n",
    "\n",
    "history = model.fit(train_dataset,\n",
    "                    epochs = 2,\n",
    "                    validation_data = val_dataset,\n",
    "                    verbose = 1)\n",
    "\n",
    "end_time = time.time()\n",
    "print(\"\\n[+] Time of training: \"+\"{:.2f}\".format(end_time-start_time));"
   ]
  },
  {
   "cell_type": "markdown",
   "metadata": {
    "id": "eR9YKWIj5CVt"
   },
   "source": [
    "### Evaluation "
   ]
  },
  {
   "cell_type": "code",
   "execution_count": null,
   "metadata": {
    "colab": {
     "base_uri": "https://localhost:8080/",
     "height": 415
    },
    "executionInfo": {
     "elapsed": 1114,
     "status": "ok",
     "timestamp": 1622736359374,
     "user": {
      "displayName": "Fernando Herran",
      "photoUrl": "",
      "userId": "09119314463851443877"
     },
     "user_tz": -120
    },
    "id": "o9ewdnA_jl5_",
    "outputId": "2bc3feac-ddd2-4033-d84d-67166d167179"
   },
   "outputs": [],
   "source": [
    "# Plot metrics\n",
    "plot_history(history)"
   ]
  },
  {
   "cell_type": "code",
   "execution_count": null,
   "metadata": {
    "id": "pejscqTgnHXY"
   },
   "outputs": [],
   "source": [
    "# Plot roc curve\n",
    "plot_roc_curve(model, X_train, X_test, y_train, y_test, save_fig = False)"
   ]
  },
  {
   "cell_type": "code",
   "execution_count": null,
   "metadata": {
    "colab": {
     "base_uri": "https://localhost:8080/"
    },
    "executionInfo": {
     "elapsed": 1764,
     "status": "ok",
     "timestamp": 1622736375088,
     "user": {
      "displayName": "Fernando Herran",
      "photoUrl": "",
      "userId": "09119314463851443877"
     },
     "user_tz": -120
    },
    "id": "1KL2_D0XzcBr",
    "outputId": "a2d45621-fcff-45df-b5cf-08c31c90a812"
   },
   "outputs": [],
   "source": [
    "# Get accuracy\n",
    "model.evaluate(train_dataset,\n",
    "               verbose = 0)"
   ]
  },
  {
   "cell_type": "markdown",
   "metadata": {
    "id": "PcOmf6kmmY3f"
   },
   "source": [
    "#### Evaluation training dataset"
   ]
  },
  {
   "cell_type": "code",
   "execution_count": null,
   "metadata": {
    "executionInfo": {
     "elapsed": 691,
     "status": "ok",
     "timestamp": 1622736585652,
     "user": {
      "displayName": "Fernando Herran",
      "photoUrl": "",
      "userId": "09119314463851443877"
     },
     "user_tz": -120
    },
    "id": "KCGNkFwFjJsr"
   },
   "outputs": [],
   "source": [
    "# Get true labels\n",
    "true_labels = list(reduce(lambda a, b: np.concatenate((a, b), axis=0), [y for x, y in train_dataset]))"
   ]
  },
  {
   "cell_type": "code",
   "execution_count": null,
   "metadata": {
    "executionInfo": {
     "elapsed": 1736,
     "status": "ok",
     "timestamp": 1622736595979,
     "user": {
      "displayName": "Fernando Herran",
      "photoUrl": "",
      "userId": "09119314463851443877"
     },
     "user_tz": -120
    },
    "id": "Oj89wS2_jyll"
   },
   "outputs": [],
   "source": [
    "# Get predictions\n",
    "predicted_labels = list(reduce(lambda a, b: np.concatenate((a, b), axis=0), model.predict(train_dataset)))\n",
    "predicted_labels = list(map(lambda x: 1 if x > 0.5 else 0, predicted_labels))"
   ]
  },
  {
   "cell_type": "code",
   "execution_count": null,
   "metadata": {
    "colab": {
     "base_uri": "https://localhost:8080/",
     "height": 365
    },
    "executionInfo": {
     "elapsed": 384,
     "status": "ok",
     "timestamp": 1622736600023,
     "user": {
      "displayName": "Fernando Herran",
      "photoUrl": "",
      "userId": "09119314463851443877"
     },
     "user_tz": -120
    },
    "id": "UfGDt_RdkzZ0",
    "outputId": "5c135a78-9c9b-44e3-d697-051cbb7e0fc5"
   },
   "outputs": [],
   "source": [
    "# Get evaluation \n",
    "get_evaluation(true_labels, predicted_labels)"
   ]
  },
  {
   "cell_type": "markdown",
   "metadata": {
    "id": "giAn5XUpm4jY"
   },
   "source": [
    "#### Evaluation testing dataset"
   ]
  },
  {
   "cell_type": "code",
   "execution_count": null,
   "metadata": {
    "executionInfo": {
     "elapsed": 461,
     "status": "ok",
     "timestamp": 1622736453691,
     "user": {
      "displayName": "Fernando Herran",
      "photoUrl": "",
      "userId": "09119314463851443877"
     },
     "user_tz": -120
    },
    "id": "0OjuASrTzcBw"
   },
   "outputs": [],
   "source": [
    "# Get true labels\n",
    "true_labels = list(reduce(lambda a, b: np.concatenate((a, b), axis=0), [y for x, y in val_dataset]))"
   ]
  },
  {
   "cell_type": "code",
   "execution_count": null,
   "metadata": {
    "colab": {
     "base_uri": "https://localhost:8080/"
    },
    "executionInfo": {
     "elapsed": 11849,
     "status": "ok",
     "timestamp": 1622736488308,
     "user": {
      "displayName": "Fernando Herran",
      "photoUrl": "",
      "userId": "09119314463851443877"
     },
     "user_tz": -120
    },
    "id": "DFtnh6K0zcBw",
    "outputId": "59db230a-c2ed-4e06-f3a7-be5d755426b0"
   },
   "outputs": [],
   "source": [
    "# Get predictions\n",
    "predicted_labels = list(reduce(lambda a, b: np.concatenate((a, b), axis=0), model.predict(val_dataset)))\n",
    "predicted_labels = list(map(lambda x: 1 if x > 0.5 else 0, predicted_labels))"
   ]
  },
  {
   "cell_type": "code",
   "execution_count": null,
   "metadata": {
    "id": "t8mrUcZIzcBw"
   },
   "outputs": [],
   "source": [
    "# Get evaluation \n",
    "get_evaluation(true_labels, predicted_labels)"
   ]
  },
  {
   "cell_type": "markdown",
   "metadata": {
    "id": "aB3fGX0xUluZ"
   },
   "source": [
    "#### Save CNN model"
   ]
  },
  {
   "cell_type": "code",
   "execution_count": null,
   "metadata": {
    "id": "L2JrB7wmrRdb"
   },
   "outputs": [],
   "source": [
    "# Save CNN model\n",
    "model.save(path + \"Results/\" + model.name + \".h5\")\n",
    "\n",
    "print(\"[+] Model saved\")\n",
    "\n",
    "# Save CNN model history\n",
    "np.save(path + \"Results/\" + model.name + \"_history.npy\", history.history)\n",
    "\n",
    "print(\"[+] Model history saved\")"
   ]
  }
 ],
 "metadata": {
  "accelerator": "TPU",
  "colab": {
   "collapsed_sections": [
    "dgFS5tRszcAb",
    "wmXzgFaKndIC",
    "6LYcLeXnjl5q",
    "Mg0hAAQIjl5v",
    "XpaSUgs9ZXpY",
    "ORYKJ5xtUlt-",
    "bowWUZs1dQH2",
    "lsdwT90GdQH4",
    "dfvL50csr5ON",
    "BPwiNPnOkzZt",
    "xgJFl2xUkzZu",
    "eR9YKWIj5CVt",
    "PcOmf6kmmY3f",
    "giAn5XUpm4jY",
    "aB3fGX0xUluZ",
    "SRLNIT0SUlua"
   ],
   "machine_shape": "hm",
   "name": "3_3D-CNN_creation.ipynb",
   "provenance": [],
   "toc_visible": true
  },
  "kernelspec": {
   "display_name": "Python 3",
   "language": "python",
   "name": "python3"
  },
  "language_info": {
   "codemirror_mode": {
    "name": "ipython",
    "version": 3
   },
   "file_extension": ".py",
   "mimetype": "text/x-python",
   "name": "python",
   "nbconvert_exporter": "python",
   "pygments_lexer": "ipython3",
   "version": "3.8.5"
  }
 },
 "nbformat": 4,
 "nbformat_minor": 1
}
