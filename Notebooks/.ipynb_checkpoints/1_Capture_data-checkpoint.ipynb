{
 "cells": [
  {
   "cell_type": "markdown",
   "metadata": {},
   "source": [
    "## Capture Data\n",
    "The goal of this Notebook is to **reorganize, zip and place in the same folder all the NIfTI files downloaded from the [ADNI dataset](http://adni.loni.usc.edu)**.  \n",
    "\n",
    "The first challenge of working with the ADNI dataset is the total size of all NIfTI files, which is 121.24 GB. The dataset is downloaded in zips for each collection of images. In total there are three collections (ADNI1_Complete_1Yr_1.5T, ADNI1_Complete_2Yr_1.5T and ADNI1_Complete_3Yr_1.5T).\n",
    "\n",
    "Below it is shown the directory structure after downloading the three collections.\n",
    "\n",
    "```\n",
    "Original_files\n",
    "├── ADNI1_Complete_1Yr_1.5T\n",
    "│   ├── Zip1\n",
    "│   ├── Zip2\n",
    "│   ├── Zip3\n",
    "│   ├── Zip4\n",
    "│   ├── Zip5\n",
    "│   ├── Zip6\n",
    "│   ├── Zip7\n",
    "│   ├── Zip8\n",
    "│   ├── Zip9\n",
    "│   └── Zip10\n",
    "├── ADNI1_Complete_2Yr_1.5T\n",
    "│   ├── Zip1\n",
    "│   ├── Zip2\n",
    "│   ├── Zip3\n",
    "│   ├── Zip4\n",
    "│   └── Zip5\n",
    "└── ADNI1_Complete_3Yr_1.5T\n",
    "    └── Zip1\n",
    "```\n",
    "\n",
    "When downloading the ADNI dataset in zips, each zip contains a list of folders. However, inside each folder there could be other folders or directly the NIfTI files. In other words, the structure of all folders change from one to another. Below it is shown an example of two directories in the same zip. As it can be seen, each directory has a different structure.\n",
    "\n",
    "```\n",
    "Zip1\n",
    "├── dir1\n",
    "│   └── subdir1.1\n",
    "│       └── subdir1.1.1\n",
    "│            └── NIfTI file\n",
    "└── dir2\n",
    "    ├── subdir2.1\n",
    "    │   └── NIfTI file\n",
    "    └── subdir2.2\n",
    "        └── NIfTI file\n",
    "\n",
    "``` \n",
    "\n",
    "This notebook is structured as follows:\n",
    "   - Import libraries\n",
    "   - Define functions\n",
    "   - Extract NIfTI  files: detect NIfTI  files from all the directories, zip them and place them in a new directory."
   ]
  },
  {
   "cell_type": "markdown",
   "metadata": {},
   "source": [
    "### Import libraries"
   ]
  },
  {
   "cell_type": "code",
   "execution_count": 1,
   "metadata": {},
   "outputs": [],
   "source": [
    "import os\n",
    "import gzip\n",
    "import shutil"
   ]
  },
  {
   "cell_type": "markdown",
   "metadata": {},
   "source": [
    "### Define functions"
   ]
  },
  {
   "cell_type": "code",
   "execution_count": 2,
   "metadata": {},
   "outputs": [],
   "source": [
    "def extract_images(root, new_root):\n",
    "    '''\n",
    "    Function to extract NIfTI images from a directory, zip them and save them in a new folder\n",
    "    Inputs: original directory, new directory\n",
    "    Output: NIfTI images zipped and saved in the new directory\n",
    "    ''' \n",
    "\n",
    "    # Create new directory to move files in case it doesn´t exist\n",
    "    if not os.path.exists(new_root):\n",
    "        os.makedirs(new_root)\n",
    "\n",
    "    # Get directions of the file and move them to new folder\n",
    "    for folder in sorted(os.listdir(root)):\n",
    "\n",
    "        # Avoid trigerring .DS_Store\n",
    "        if folder.startswith('.'):\n",
    "            continue\n",
    "        \n",
    "        print('Extracting NIfTI files from folder:', os.path.join(root, folder))\n",
    "        count_files = 0\n",
    "\n",
    "        directions = []\n",
    "        directions.append(os.path.join(root,folder))\n",
    "        all_files = False\n",
    "\n",
    "        while all_files == False:\n",
    "            for index, path in enumerate(directions):\n",
    "\n",
    "                if (os.path.isfile(path)) == False:\n",
    "\n",
    "                    for subfolder in sorted(os.listdir(path)):\n",
    "\n",
    "                        if subfolder.startswith('.'):\n",
    "                            continue\n",
    "\n",
    "                        directions.append(os.path.join(path,subfolder))\n",
    "\n",
    "                    directions.remove(path)\n",
    "\n",
    "                if index == (len(directions) -1):\n",
    "                    is_not_file = False\n",
    "\n",
    "                    for item in directions:\n",
    "                        if (os.path.isfile(item)) == True:\n",
    "                            continue\n",
    "                        else:\n",
    "                            is_not_file = True\n",
    "\n",
    "                    if is_not_file == False:\n",
    "                        all_files = True\n",
    "                    else:\n",
    "                        break\n",
    "    \n",
    "        # Copy files, compress them and move them to new folder\n",
    "        for direction in directions:\n",
    "            new_direction = os.path.join(new_root,direction.split('/')[-1]) + '.gz'\n",
    "\n",
    "            # Check if file already exists in the new folder\n",
    "            if os.path.exists(new_direction) == False:\n",
    "                \n",
    "                # Copy image file to new folder\n",
    "                with open(direction, 'rb') as f_in:\n",
    "                    with gzip.open(new_direction, 'wb') as f_out:\n",
    "                        shutil.copyfileobj(f_in, f_out)\n",
    "            else:\n",
    "                print(f\"NIfTI file already exists in the new folder: {new_direction}\")\n",
    "                \n",
    "            count_files += 1\n",
    "            \n",
    "            if count_files % 50 == 0:\n",
    "                print('[+] Number of NIfTI files processed:', count_files)\n",
    "              \n",
    "        print('Total number of NIfTI files processed:', count_files)\n",
    "        print('*' * 30)"
   ]
  },
  {
   "cell_type": "markdown",
   "metadata": {},
   "source": [
    "### NIfTI  files extraction\n",
    "Detect all NIfTI files from a directory (root), zip them and place them in a new directory (new_root)."
   ]
  },
  {
   "cell_type": "markdown",
   "metadata": {},
   "source": [
    "#### Specify origin and new directories\n",
    "Origin directories are:  \n",
    "    \n",
    "    - \"../Datasets/Original_files/ADNI1_Complete_1Yr_1.5T\"  \n",
    "    - \"../Datasets/Original_files/ADNI1_Complete_2Yr_1.5T\"  \n",
    "    - \"../Datasets/Original_files/ADNI1_Complete_3Yr_1.5T\"\n"
   ]
  },
  {
   "cell_type": "code",
   "execution_count": 3,
   "metadata": {},
   "outputs": [
    {
     "name": "stdout",
     "output_type": "stream",
     "text": [
      "Number of zip folders in the ../Datasets/Original_files/ADNI1_Complete_3Yr_1.5T directory = 1\n"
     ]
    }
   ],
   "source": [
    "# Define root path where the zips downloaded from ADNI dataset are\n",
    "root = '../Datasets/Original_files/ADNI1_Complete_3Yr_1.5T'\n",
    "print(f'Number of zip folders in the {root} directory =', len(os.listdir(root)) - 1)\n",
    "\n",
    "# Define the folder path where to move the Nifti files zipped\n",
    "new_root = '../Datasets/Extracted_files'"
   ]
  },
  {
   "cell_type": "markdown",
   "metadata": {},
   "source": [
    "#### Run process"
   ]
  },
  {
   "cell_type": "code",
   "execution_count": 5,
   "metadata": {},
   "outputs": [
    {
     "name": "stdout",
     "output_type": "stream",
     "text": [
      "Extracting NIfTI files from folder: ../Datasets/Original_files/ADNI1_Complete_3Yr_1.5T/Zip_1\n",
      "[+] Number of NIfTI files processed: 50\n",
      "[+] Number of NIfTI files processed: 100\n",
      "[+] Number of NIfTI files processed: 150\n",
      "[+] Number of NIfTI files processed: 200\n",
      "[+] Number of NIfTI files processed: 250\n",
      "[+] Number of NIfTI files processed: 300\n",
      "[+] Number of NIfTI files processed: 350\n",
      "Total number of NIfTI files processed: 354\n",
      "******************************\n"
     ]
    }
   ],
   "source": [
    "# Run process - extract Nifti files from folder root and move them to folder new_root\n",
    "extract_images(root, new_root)"
   ]
  },
  {
   "cell_type": "code",
   "execution_count": null,
   "metadata": {},
   "outputs": [],
   "source": []
  }
 ],
 "metadata": {
  "kernelspec": {
   "display_name": "Python 3",
   "language": "python",
   "name": "python3"
  },
  "language_info": {
   "codemirror_mode": {
    "name": "ipython",
    "version": 3
   },
   "file_extension": ".py",
   "mimetype": "text/x-python",
   "name": "python",
   "nbconvert_exporter": "python",
   "pygments_lexer": "ipython3",
   "version": "3.8.5"
  }
 },
 "nbformat": 4,
 "nbformat_minor": 4
}
