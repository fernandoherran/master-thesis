{
 "cells": [
  {
   "cell_type": "markdown",
   "metadata": {},
   "source": [
    "Load CT slices. https://pydicom.github.io/pydicom/dev/auto_examples/image_processing/reslice.html  \n",
    "Nifti orientation issues. https://discourse.itk.org/t/nifti-orientation-issues/431  \n",
    "Alzheimer propagation. https://www.memory-key.com/mynd/content/where-alzheimers-starts-and-how-it-spreads"
   ]
  },
  {
   "cell_type": "markdown",
   "metadata": {},
   "source": [
    "### Import libraries"
   ]
  },
  {
   "cell_type": "code",
   "execution_count": 2,
   "metadata": {},
   "outputs": [],
   "source": [
    "import nibabel as nib      # Access to neuroimaging data formats\n",
    "import med2image           # Convert medical images to jpg and png (pip install med2image)\n",
    "import matplotlib.pyplot as plt\n",
    "import cv2\n",
    "from random import randint\n",
    "import numpy as np\n",
    "from aux_functions.aux_functions_cleaning import *"
   ]
  },
  {
   "cell_type": "markdown",
   "metadata": {},
   "source": [
    "## Nifti files extraction\n",
    "**Extract nifti files from multiple folders (root), zip them and save them in a new folder (new root).**"
   ]
  },
  {
   "cell_type": "code",
   "execution_count": null,
   "metadata": {},
   "outputs": [],
   "source": [
    "# Root where the folders are\n",
    "root = \"ADNI1_Complete_3Yr_1.5T\"\n",
    "print(f\"Number of files on {root} folder =\",len(os.listdir(root)))\n",
    "\n",
    "# Root to move the image files\n",
    "new_root = \"ADNI1_Complete_3Yr_1.5T_images\" "
   ]
  },
  {
   "cell_type": "code",
   "execution_count": null,
   "metadata": {},
   "outputs": [],
   "source": [
    "# Extract images from root to new_root\n",
    "extract_images(root, new_root)"
   ]
  },
  {
   "cell_type": "markdown",
   "metadata": {},
   "source": [
    "## Nifti files conversion to png\n",
    "**Load zipped nitfi files, capture different slices from the 3D image, put themm all together in a figure and save it in PNG format.**"
   ]
  },
  {
   "cell_type": "code",
   "execution_count": 3,
   "metadata": {},
   "outputs": [],
   "source": [
    "# Roots where the zipped nifti files are\n",
    "roots = [\"ADNI1_Complete_3Yr_1.5T_images\"]"
   ]
  },
  {
   "cell_type": "code",
   "execution_count": 4,
   "metadata": {
    "scrolled": true
   },
   "outputs": [
    {
     "name": "stdout",
     "output_type": "stream",
     "text": [
      "Number of files on ADNI1_Complete_3Yr_1.5T_images folder = 351\n",
      "20 images loaded\n",
      "40 images loaded\n",
      "60 images loaded\n",
      "80 images loaded\n",
      "100 images loaded\n",
      "120 images loaded\n",
      "140 images loaded\n",
      "160 images loaded\n",
      "180 images loaded\n",
      "200 images loaded\n",
      "220 images loaded\n",
      "240 images loaded\n",
      "260 images loaded\n",
      "280 images loaded\n",
      "300 images loaded\n",
      "320 images loaded\n",
      "340 images loaded\n",
      "\n",
      "Number of images loades = 350\n",
      "\n",
      "Shapes of images loades = [(256, 256, 166), 148, (166, 256, 256), 6, (160, 192, 192), 13, (256, 256, 170), 10, (192, 192, 160), 122, (170, 256, 256), 4, (256, 256, 180), 41, (256, 256, 184), 1, (180, 256, 256), 4, (256, 256, 162), 1]\n",
      "Number of images converted: 350\n"
     ]
    }
   ],
   "source": [
    "# Specify folder to save png images\n",
    "root_png_images = \"./png_images_3Yr/\"\n",
    "\n",
    "# Check if png_images folder exists\n",
    "if not os.path.exists(root_png_images):\n",
    "    os.mkdir(root_png_images)   \n",
    "\n",
    "for root in roots:\n",
    "    \n",
    "    # Check number of files in the folder\n",
    "    print(f\"Number of files on {root} folder =\",len(os.listdir(root)))\n",
    "    \n",
    "    # Load zipped nifti files\n",
    "    images, titles, shapes = load_images(root)\n",
    "    print(f\"\\nNumber of images loades =\",len(images))\n",
    "    print(f\"\\nShapes of images loades =\",shapes)\n",
    "        \n",
    "    # Convert nifti files to png\n",
    "    count_images = 0\n",
    "\n",
    "    for index, image in enumerate(images):\n",
    "\n",
    "        # Retrieve root of the image\n",
    "        title = root_png_images + titles[index].split(\"_\")[-1].split(\".\")[0] + '.png'\n",
    "\n",
    "        if os.path.exists(title):\n",
    "            print(f\"{title} already converted to PNG\")\n",
    "        else:\n",
    "            # Get image with multiple slices and save it in png format\n",
    "            multiple_slices(image, title)\n",
    "            count_images += 1\n",
    "\n",
    "    print(\"Number of images converted:\", count_images)"
   ]
  },
  {
   "cell_type": "code",
   "execution_count": null,
   "metadata": {},
   "outputs": [],
   "source": [
    "# Convert nifti files to png\n",
    "count_images = 0\n",
    "\n",
    "for index, image in enumerate(images):\n",
    "    \n",
    "    # Retrieve root of the image\n",
    "    title = root_png_images + titles[index].split(\"_\")[-1].split(\".\")[0] + '.png'\n",
    "    \n",
    "    if os.path.exists(title):\n",
    "        print(f\"{title} already converted to PNG\")\n",
    "    \n",
    "    else:\n",
    "        # Get image with multiple slices and save it in png format\n",
    "        multiple_slices(image, title)\n",
    "        count_images += 1\n",
    "\n",
    "print(\"Number of images converted:\", count_images)"
   ]
  },
  {
   "cell_type": "markdown",
   "metadata": {},
   "source": [
    "## Visualize images"
   ]
  },
  {
   "cell_type": "code",
   "execution_count": null,
   "metadata": {},
   "outputs": [],
   "source": [
    "neuro_plot(images[0], view_ = \"all\", slice_ = [50,68,72])"
   ]
  },
  {
   "cell_type": "markdown",
   "metadata": {},
   "source": [
    "### Convert neuroimages to png"
   ]
  },
  {
   "cell_type": "code",
   "execution_count": null,
   "metadata": {},
   "outputs": [],
   "source": [
    "root_images_png = os.path.join(new_root,\"images_png\")\n",
    "if not os.path.exists(root_images_png):\n",
    "    os.makedirs(root_images_png)\n",
    "        \n",
    "for index, image in enumerate(images):    \n",
    "    \n",
    "    axial_view = image.get_fdata()[100, :, :].T\n",
    "\n",
    "    name_image_png = os.path.join(root_images_png, os.path.splitext(titles[index])[0]+ \".png\")\n",
    "    \n",
    "    plt.imsave(name_image_png, axial_view, cmap=\"gray\", origin=\"lower\")"
   ]
  },
  {
   "cell_type": "markdown",
   "metadata": {},
   "source": [
    "### Visualize multiple slices in one figure"
   ]
  },
  {
   "cell_type": "code",
   "execution_count": null,
   "metadata": {},
   "outputs": [],
   "source": [
    "saggital_img = images[0].get_fdata()[20:200,10:230, 100]\n",
    "saggital_img = np.rot90(np.array(saggital_img))\n",
    "saggital_img = np.rot90(np.array(saggital_img))\n",
    "fig, axes = plt.subplots(figsize=(10,8))\n",
    "axes.imshow(saggital_img, cmap=\"gray\", origin=\"lower\")"
   ]
  },
  {
   "cell_type": "markdown",
   "metadata": {},
   "source": [
    "### Visualize multiple slices in one figure (Keras code)"
   ]
  },
  {
   "cell_type": "code",
   "execution_count": null,
   "metadata": {},
   "outputs": [],
   "source": [
    "def plot_slices(num_rows, num_columns, width, height, data):\n",
    "    \n",
    "    \"\"\"Plot a montage of 20 CT slices\"\"\"\n",
    "    data = np.rot90(np.array(data))\n",
    "    data = np.rot90(np.array(data))\n",
    "    data = np.transpose(data)\n",
    "    data = np.reshape(data, (num_rows, num_columns, width, height))\n",
    "    \n",
    "    rows_data, columns_data = data.shape[0], data.shape[1]\n",
    "    heights = [slc[0].shape[0] for slc in data]\n",
    "    widths = [slc.shape[1] for slc in data[0]]\n",
    "    fig_width = 12.0\n",
    "    fig_height = fig_width * sum(heights) / sum(widths)\n",
    "    f, axarr = plt.subplots(\n",
    "        rows_data,\n",
    "        columns_data,\n",
    "        figsize=(fig_width, fig_height),\n",
    "        gridspec_kw={\"height_ratios\": heights},\n",
    "    )\n",
    "    print(rows_data)\n",
    "    for i in range(rows_data):\n",
    "        for j in range(columns_data):\n",
    "            axarr[i,j].imshow(data[i][j], cmap=\"gray\")\n",
    "            axarr[i, j].axis(\"off\")\n",
    "    plt.subplots_adjust(wspace=0, hspace=0, left=0, right=1, bottom=0, top=1)\n",
    "    plt.show()"
   ]
  },
  {
   "cell_type": "code",
   "execution_count": null,
   "metadata": {},
   "outputs": [],
   "source": [
    "# Visualize montage of slices.\n",
    "# 4 rows and 10 columns for 100 slices of the CT scan.\n",
    "plot_slices(3, 40, 256,256, images[0].get_fdata()[:, :, :120])"
   ]
  },
  {
   "cell_type": "code",
   "execution_count": null,
   "metadata": {},
   "outputs": [],
   "source": []
  }
 ],
 "metadata": {
  "kernelspec": {
   "display_name": "Python 3",
   "language": "python",
   "name": "python3"
  },
  "language_info": {
   "codemirror_mode": {
    "name": "ipython",
    "version": 3
   },
   "file_extension": ".py",
   "mimetype": "text/x-python",
   "name": "python",
   "nbconvert_exporter": "python",
   "pygments_lexer": "ipython3",
   "version": "3.8.5"
  }
 },
 "nbformat": 4,
 "nbformat_minor": 4
}
