{
 "cells": [
  {
   "cell_type": "markdown",
   "metadata": {},
   "source": [
    "## Capture Data\n",
    "The goal of this Notebook is to reorganize and place in the same folder all the Nifti files downloaded from the [ADNI dataset](http://adni.loni.usc.edu).  \n",
    "\n",
    "When downloading the ADNI dataset in zips, each zip contains a list of folders. However, inside each folder there could be other folders or the Nifti files. In other words, the structure of all folders vary from one to another.\n",
    "\n",
    "This notebook is structured as follows:\n",
    "   - Import libraries\n",
    "   - Define functions\n",
    "   - Extract Nifti files\n",
    "\n",
    "Load CT slices. https://pydicom.github.io/pydicom/dev/auto_examples/image_processing/reslice.html  \n",
    "Nifti orientation issues. https://discourse.itk.org/t/nifti-orientation-issues/431  \n",
    "Alzheimer propagation. https://www.memory-key.com/mynd/content/where-alzheimers-starts-and-how-it-spreads"
   ]
  },
  {
   "cell_type": "markdown",
   "metadata": {},
   "source": [
    "### Import libraries"
   ]
  },
  {
   "cell_type": "code",
   "execution_count": null,
   "metadata": {},
   "outputs": [],
   "source": [
    "import os\n",
    "import gzip\n",
    "import shutil"
   ]
  },
  {
   "cell_type": "code",
   "execution_count": 2,
   "metadata": {},
   "outputs": [],
   "source": [
    "import nibabel as nib      # Access to neuroimaging data formats\n",
    "import med2image           # Convert medical images to jpg and png (pip install med2image)\n",
    "import matplotlib.pyplot as plt\n",
    "import cv2\n",
    "from random import randint\n",
    "import numpy as np\n",
    "from aux_functions.aux_functions_cleaning import *\n",
    "\n",
    "import matplotlib.pyplot as plt\n",
    "import nibabel as nib\n",
    "import numpy as np\n",
    "from deepbrain import Extractor"
   ]
  },
  {
   "cell_type": "markdown",
   "metadata": {},
   "source": [
    "### Define functions"
   ]
  },
  {
   "cell_type": "code",
   "execution_count": null,
   "metadata": {},
   "outputs": [],
   "source": [
    "def extract_images(root, new_root):\n",
    "    '''\n",
    "    Function to extract nifti images from a folder (root), zip them and save them in new fodler (new_root)\n",
    "    ''' \n",
    "    \n",
    "    # Create new directory to move files in case it doesn´t exist\n",
    "    if not os.path.exists(new_root):\n",
    "        os.makedirs(new_root)\n",
    "\n",
    "    # Get directions of the file and move them to new folder\n",
    "    for folder in sorted(os.listdir(root)):\n",
    "\n",
    "        # Avoid trigerring .DS_Store\n",
    "        if folder.startswith('.'):\n",
    "            continue\n",
    "\n",
    "        directions = []\n",
    "        directions.append(os.path.join(root,folder))\n",
    "        all_files = False\n",
    "\n",
    "        while all_files == False:\n",
    "            for index, path in enumerate(directions):\n",
    "\n",
    "                if (os.path.isfile(path)) == False:\n",
    "\n",
    "                    for subfolder in sorted(os.listdir(path)):\n",
    "\n",
    "                        if subfolder.startswith('.'):\n",
    "                            continue\n",
    "\n",
    "                        directions.append(os.path.join(path,subfolder))\n",
    "\n",
    "                    directions.remove(path)\n",
    "\n",
    "                if index == (len(directions) -1):\n",
    "                    is_not_file = False\n",
    "\n",
    "                    for item in directions:\n",
    "                        if (os.path.isfile(item)) == True:\n",
    "                            continue\n",
    "                        else:\n",
    "                            is_not_file = True\n",
    "\n",
    "                    if is_not_file == False:\n",
    "                        all_files = True\n",
    "                    else:\n",
    "                        break\n",
    "    \n",
    "        # Copy files, compress them and move them to new folder\n",
    "        for direction in directions:\n",
    "            new_direction = os.path.join(new_root,direction.split(\"/\")[-1]) + \".gz\"\n",
    "\n",
    "            # Check if file already exist in the new folder\n",
    "            if os.path.exists(new_direction) == False:\n",
    "                \n",
    "                # Copy image file to new folder\n",
    "                with open(direction, 'rb') as f_in:\n",
    "                    with gzip.open(new_direction, 'wb') as f_out:\n",
    "                        shutil.copyfileobj(f_in, f_out)\n",
    "            else:\n",
    "                print(f\"File already exists in the new folder: {new_direction}\")\n",
    "              \n",
    "        print(folder)\n",
    "        print(\"*\" * 30)"
   ]
  },
  {
   "cell_type": "markdown",
   "metadata": {},
   "source": [
    "### Nifti files extraction\n",
    "Extract nifti files from multiple folders (root), zip them and save them in a new folder (new root)."
   ]
  },
  {
   "cell_type": "markdown",
   "metadata": {},
   "source": [
    "#### Specify paths"
   ]
  },
  {
   "cell_type": "code",
   "execution_count": null,
   "metadata": {},
   "outputs": [],
   "source": [
    "# Define root path where the zips downloaded from ADNI dataset are\n",
    "root = \"ADNI1_Complete_3Yr_1.5T\"\n",
    "print(f\"Number of files on {root} folder =\",len(os.listdir(root)))\n",
    "\n",
    "# Define the folder path where to move the Nifti files zipped\n",
    "new_root = \"ADNI1_Complete_3Yr_1.5T_images\" "
   ]
  },
  {
   "cell_type": "markdown",
   "metadata": {},
   "source": [
    "#### Run process"
   ]
  },
  {
   "cell_type": "code",
   "execution_count": null,
   "metadata": {},
   "outputs": [],
   "source": [
    "# Run process - extract Nifti files from folder root and move them to folder new_root\n",
    "extract_images(root, new_root)"
   ]
  }
 ],
 "metadata": {
  "kernelspec": {
   "display_name": "Python 3",
   "language": "python",
   "name": "python3"
  },
  "language_info": {
   "codemirror_mode": {
    "name": "ipython",
    "version": 3
   },
   "file_extension": ".py",
   "mimetype": "text/x-python",
   "name": "python",
   "nbconvert_exporter": "python",
   "pygments_lexer": "ipython3",
   "version": "3.8.5"
  }
 },
 "nbformat": 4,
 "nbformat_minor": 4
}
