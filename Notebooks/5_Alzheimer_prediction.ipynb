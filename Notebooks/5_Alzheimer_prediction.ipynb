{
 "cells": [
  {
   "cell_type": "markdown",
   "metadata": {},
   "source": [
    "## Alzheimer prediction\n",
    "The goal of this Notebook is to predict the class of a Magnetic Resonance Image (MRI) using the Convolutional Neural Network trained in the previous Notebook (4_CNN_creation).\n",
    "\n",
    "In addition to predicting the class, the activation maps of the neural network are also displayed.\n",
    "\n",
    "This notebook is structured as follows:\n",
    "   - Specify MRI file to analyze\n",
    "   - Run process and predict class\n",
    "   - Visualize activation maps\n",
    "   \n",
    "[Issue vis.visualization](https://github.com/raghakot/keras-vis/issues/209)  \n",
    "[3D-Grad-CAM](https://github.com/fitushar/3D-Grad-CAM)    \n",
    "[Grad-CAM](https://heartbeat.fritz.ai/class-activation-maps-visualizing-neural-network-decision-making-92efa5af9a33)  \n",
    "[Saliency Maps](https://towardsdatascience.com/practical-guide-for-visualizing-cnns-using-saliency-maps-4d1c2e13aeca)  \n",
    "https://medium.com/analytics-vidhya/visualizing-activation-heatmaps-using-tensorflow-5bdba018f759  \n",
    "[Show last layer](https://medium.com/@ODSC/visualizing-your-convolutional-neural-network-predictions-with-saliency-maps-9604eb03d766)       \n",
    "[Show hidden layers](https://github.com/tirthajyoti/Deep-learning-with-Python/blob/master/Notebooks/Keract-activation.ipynb)  "
   ]
  },
  {
   "cell_type": "markdown",
   "metadata": {},
   "source": [
    "### Specify MRI file"
   ]
  },
  {
   "cell_type": "code",
   "execution_count": 1,
   "metadata": {},
   "outputs": [],
   "source": [
    "# Specify MRI file\n",
    "mri_file = \"../Datasets/test.nii\""
   ]
  },
  {
   "cell_type": "markdown",
   "metadata": {},
   "source": [
    "### Predict class & calculate activation maps"
   ]
  },
  {
   "cell_type": "code",
   "execution_count": 2,
   "metadata": {},
   "outputs": [
    {
     "name": "stdout",
     "output_type": "stream",
     "text": [
      "[+] MRI file to be processed: test.nii\n",
      "WARNING:tensorflow:From /Users/nando/Desktop/TFM/Code/master-thesis/Notebooks/aux_functions/deepbrain_package/extractor.py:19: FastGFile.__init__ (from tensorflow.python.platform.gfile) is deprecated and will be removed in a future version.\n",
      "Instructions for updating:\n",
      "Use tf.gfile.GFile.\n",
      "[+] MRI preprocessed\n",
      "[+] CNN model loaded\n",
      "[+] Prediction class...\n",
      "[+] Extracting activation maps ...\n",
      "RESULT: Model has predicted that the MRI is cognitively normal with a probability of 0.11 %\n",
      "\n",
      "Run time:  36.83112716674805\n"
     ]
    }
   ],
   "source": [
    "%run \"ad_detection.py\" $mri_file"
   ]
  },
  {
   "cell_type": "markdown",
   "metadata": {},
   "source": [
    "### Visualize activation maps"
   ]
  },
  {
   "cell_type": "code",
   "execution_count": null,
   "metadata": {},
   "outputs": [],
   "source": [
    "plotly_2d(conv_heatmap)"
   ]
  },
  {
   "cell_type": "code",
   "execution_count": null,
   "metadata": {},
   "outputs": [],
   "source": [
    "plotly_3d(conv_heatmap)"
   ]
  }
 ],
 "metadata": {
  "kernelspec": {
   "display_name": "tfm_env",
   "language": "python",
   "name": "tfm_env"
  },
  "language_info": {
   "codemirror_mode": {
    "name": "ipython",
    "version": 3
   },
   "file_extension": ".py",
   "mimetype": "text/x-python",
   "name": "python",
   "nbconvert_exporter": "python",
   "pygments_lexer": "ipython3",
   "version": "3.8.5"
  }
 },
 "nbformat": 4,
 "nbformat_minor": 4
}
