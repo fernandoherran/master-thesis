{
 "cells": [
  {
   "cell_type": "markdown",
   "metadata": {
    "id": "79gpd7_K6jvX"
   },
   "source": [
    "## CNN creation\n",
    "The goal of this Notebook is to create a Convolutional Neural Network (CNN) to classify the 3D images of the brain as cognitively normal (CN) or Alzheimer (AD).\n",
    "\n",
    "This notebook is structured as follows:\n",
    "   - Initial setup\n",
    "   - Import libraries\n",
    "   - Load TFRecords\n",
    "   - Preprocessing\n",
    "   - Define and train Convolutional Neural Network\n",
    "   - Model evaluation"
   ]
  },
  {
   "cell_type": "markdown",
   "metadata": {
    "id": "Ys1quYVrXIXQ"
   },
   "source": [
    "### Initial set-up"
   ]
  },
  {
   "cell_type": "markdown",
   "metadata": {
    "id": "wmXzgFaKndIC"
   },
   "source": [
    "#### Google Drive"
   ]
  },
  {
   "cell_type": "code",
   "execution_count": 1,
   "metadata": {
    "executionInfo": {
     "elapsed": 227,
     "status": "ok",
     "timestamp": 1625005799864,
     "user": {
      "displayName": "Fernando Herran",
      "photoUrl": "",
      "userId": "09119314463851443877"
     },
     "user_tz": -120
    },
    "id": "w7cgAHv2XIXd"
   },
   "outputs": [],
   "source": [
    "# Specify if user is working on Google Drive\n",
    "google_drive = True"
   ]
  },
  {
   "cell_type": "code",
   "execution_count": 2,
   "metadata": {
    "colab": {
     "base_uri": "https://localhost:8080/"
    },
    "executionInfo": {
     "elapsed": 184,
     "status": "ok",
     "timestamp": 1625005800973,
     "user": {
      "displayName": "Fernando Herran",
      "photoUrl": "",
      "userId": "09119314463851443877"
     },
     "user_tz": -120
    },
    "id": "OR4Iy305XIXe",
    "outputId": "c98dbd8e-3baf-484b-df26-1bae86a58c9b"
   },
   "outputs": [
    {
     "name": "stdout",
     "output_type": "stream",
     "text": [
      "Drive already mounted at /content/drive; to attempt to forcibly remount, call drive.mount(\"/content/drive\", force_remount=True).\n"
     ]
    }
   ],
   "source": [
    "if google_drive == True:\n",
    "\n",
    "    # Authentication Google Drive for desktop\n",
    "    from google.colab import drive \n",
    "    drive.mount('/content/drive')\n",
    "    \n",
    "    path = './drive/MyDrive/TFM/Code/'\n",
    "    \n",
    "    import sys\n",
    "    sys.path.append(path)\n",
    "\n",
    "else:\n",
    "    path = '../'\n",
    "    \n",
    "    import sys\n",
    "    sys.path.append(path)"
   ]
  },
  {
   "cell_type": "markdown",
   "metadata": {
    "id": "TRGI3GB72ifc"
   },
   "source": [
    "#### Google Colab TPU session"
   ]
  },
  {
   "cell_type": "code",
   "execution_count": 3,
   "metadata": {
    "executionInfo": {
     "elapsed": 201,
     "status": "ok",
     "timestamp": 1625005990387,
     "user": {
      "displayName": "Fernando Herran",
      "photoUrl": "",
      "userId": "09119314463851443877"
     },
     "user_tz": -120
    },
    "id": "pljIfdII2doC"
   },
   "outputs": [],
   "source": [
    "# Specify if user is working on a TPU session in Google Colab\n",
    "tpu_session = True"
   ]
  },
  {
   "cell_type": "code",
   "execution_count": 4,
   "metadata": {
    "colab": {
     "base_uri": "https://localhost:8080/"
    },
    "executionInfo": {
     "elapsed": 16924,
     "status": "ok",
     "timestamp": 1625006008095,
     "user": {
      "displayName": "Fernando Herran",
      "photoUrl": "",
      "userId": "09119314463851443877"
     },
     "user_tz": -120
    },
    "id": "qIaHwN_O2d2D",
    "outputId": "3e252144-c77e-4fb1-f7da-f0068b03ce41"
   },
   "outputs": [
    {
     "name": "stdout",
     "output_type": "stream",
     "text": [
      "Tensorflow version 2.5.0\n",
      "Running on TPU  ['10.78.231.194:8470']\n",
      "INFO:tensorflow:Initializing the TPU system: grpc://10.78.231.194:8470\n"
     ]
    },
    {
     "name": "stderr",
     "output_type": "stream",
     "text": [
      "INFO:tensorflow:Initializing the TPU system: grpc://10.78.231.194:8470\n"
     ]
    },
    {
     "name": "stdout",
     "output_type": "stream",
     "text": [
      "INFO:tensorflow:Clearing out eager caches\n"
     ]
    },
    {
     "name": "stderr",
     "output_type": "stream",
     "text": [
      "INFO:tensorflow:Clearing out eager caches\n"
     ]
    },
    {
     "name": "stdout",
     "output_type": "stream",
     "text": [
      "INFO:tensorflow:Finished initializing TPU system.\n"
     ]
    },
    {
     "name": "stderr",
     "output_type": "stream",
     "text": [
      "INFO:tensorflow:Finished initializing TPU system.\n",
      "WARNING:absl:`tf.distribute.experimental.TPUStrategy` is deprecated, please use  the non experimental symbol `tf.distribute.TPUStrategy` instead.\n"
     ]
    },
    {
     "name": "stdout",
     "output_type": "stream",
     "text": [
      "INFO:tensorflow:Found TPU system:\n"
     ]
    },
    {
     "name": "stderr",
     "output_type": "stream",
     "text": [
      "INFO:tensorflow:Found TPU system:\n"
     ]
    },
    {
     "name": "stdout",
     "output_type": "stream",
     "text": [
      "INFO:tensorflow:*** Num TPU Cores: 8\n"
     ]
    },
    {
     "name": "stderr",
     "output_type": "stream",
     "text": [
      "INFO:tensorflow:*** Num TPU Cores: 8\n"
     ]
    },
    {
     "name": "stdout",
     "output_type": "stream",
     "text": [
      "INFO:tensorflow:*** Num TPU Workers: 1\n"
     ]
    },
    {
     "name": "stderr",
     "output_type": "stream",
     "text": [
      "INFO:tensorflow:*** Num TPU Workers: 1\n"
     ]
    },
    {
     "name": "stdout",
     "output_type": "stream",
     "text": [
      "INFO:tensorflow:*** Num TPU Cores Per Worker: 8\n"
     ]
    },
    {
     "name": "stderr",
     "output_type": "stream",
     "text": [
      "INFO:tensorflow:*** Num TPU Cores Per Worker: 8\n"
     ]
    },
    {
     "name": "stdout",
     "output_type": "stream",
     "text": [
      "INFO:tensorflow:*** Available Device: _DeviceAttributes(/job:localhost/replica:0/task:0/device:CPU:0, CPU, 0, 0)\n"
     ]
    },
    {
     "name": "stderr",
     "output_type": "stream",
     "text": [
      "INFO:tensorflow:*** Available Device: _DeviceAttributes(/job:localhost/replica:0/task:0/device:CPU:0, CPU, 0, 0)\n"
     ]
    },
    {
     "name": "stdout",
     "output_type": "stream",
     "text": [
      "INFO:tensorflow:*** Available Device: _DeviceAttributes(/job:worker/replica:0/task:0/device:CPU:0, CPU, 0, 0)\n"
     ]
    },
    {
     "name": "stderr",
     "output_type": "stream",
     "text": [
      "INFO:tensorflow:*** Available Device: _DeviceAttributes(/job:worker/replica:0/task:0/device:CPU:0, CPU, 0, 0)\n"
     ]
    },
    {
     "name": "stdout",
     "output_type": "stream",
     "text": [
      "INFO:tensorflow:*** Available Device: _DeviceAttributes(/job:worker/replica:0/task:0/device:TPU:0, TPU, 0, 0)\n"
     ]
    },
    {
     "name": "stderr",
     "output_type": "stream",
     "text": [
      "INFO:tensorflow:*** Available Device: _DeviceAttributes(/job:worker/replica:0/task:0/device:TPU:0, TPU, 0, 0)\n"
     ]
    },
    {
     "name": "stdout",
     "output_type": "stream",
     "text": [
      "INFO:tensorflow:*** Available Device: _DeviceAttributes(/job:worker/replica:0/task:0/device:TPU:1, TPU, 0, 0)\n"
     ]
    },
    {
     "name": "stderr",
     "output_type": "stream",
     "text": [
      "INFO:tensorflow:*** Available Device: _DeviceAttributes(/job:worker/replica:0/task:0/device:TPU:1, TPU, 0, 0)\n"
     ]
    },
    {
     "name": "stdout",
     "output_type": "stream",
     "text": [
      "INFO:tensorflow:*** Available Device: _DeviceAttributes(/job:worker/replica:0/task:0/device:TPU:2, TPU, 0, 0)\n"
     ]
    },
    {
     "name": "stderr",
     "output_type": "stream",
     "text": [
      "INFO:tensorflow:*** Available Device: _DeviceAttributes(/job:worker/replica:0/task:0/device:TPU:2, TPU, 0, 0)\n"
     ]
    },
    {
     "name": "stdout",
     "output_type": "stream",
     "text": [
      "INFO:tensorflow:*** Available Device: _DeviceAttributes(/job:worker/replica:0/task:0/device:TPU:3, TPU, 0, 0)\n"
     ]
    },
    {
     "name": "stderr",
     "output_type": "stream",
     "text": [
      "INFO:tensorflow:*** Available Device: _DeviceAttributes(/job:worker/replica:0/task:0/device:TPU:3, TPU, 0, 0)\n"
     ]
    },
    {
     "name": "stdout",
     "output_type": "stream",
     "text": [
      "INFO:tensorflow:*** Available Device: _DeviceAttributes(/job:worker/replica:0/task:0/device:TPU:4, TPU, 0, 0)\n"
     ]
    },
    {
     "name": "stderr",
     "output_type": "stream",
     "text": [
      "INFO:tensorflow:*** Available Device: _DeviceAttributes(/job:worker/replica:0/task:0/device:TPU:4, TPU, 0, 0)\n"
     ]
    },
    {
     "name": "stdout",
     "output_type": "stream",
     "text": [
      "INFO:tensorflow:*** Available Device: _DeviceAttributes(/job:worker/replica:0/task:0/device:TPU:5, TPU, 0, 0)\n"
     ]
    },
    {
     "name": "stderr",
     "output_type": "stream",
     "text": [
      "INFO:tensorflow:*** Available Device: _DeviceAttributes(/job:worker/replica:0/task:0/device:TPU:5, TPU, 0, 0)\n"
     ]
    },
    {
     "name": "stdout",
     "output_type": "stream",
     "text": [
      "INFO:tensorflow:*** Available Device: _DeviceAttributes(/job:worker/replica:0/task:0/device:TPU:6, TPU, 0, 0)\n"
     ]
    },
    {
     "name": "stderr",
     "output_type": "stream",
     "text": [
      "INFO:tensorflow:*** Available Device: _DeviceAttributes(/job:worker/replica:0/task:0/device:TPU:6, TPU, 0, 0)\n"
     ]
    },
    {
     "name": "stdout",
     "output_type": "stream",
     "text": [
      "INFO:tensorflow:*** Available Device: _DeviceAttributes(/job:worker/replica:0/task:0/device:TPU:7, TPU, 0, 0)\n"
     ]
    },
    {
     "name": "stderr",
     "output_type": "stream",
     "text": [
      "INFO:tensorflow:*** Available Device: _DeviceAttributes(/job:worker/replica:0/task:0/device:TPU:7, TPU, 0, 0)\n"
     ]
    },
    {
     "name": "stdout",
     "output_type": "stream",
     "text": [
      "INFO:tensorflow:*** Available Device: _DeviceAttributes(/job:worker/replica:0/task:0/device:TPU_SYSTEM:0, TPU_SYSTEM, 0, 0)\n"
     ]
    },
    {
     "name": "stderr",
     "output_type": "stream",
     "text": [
      "INFO:tensorflow:*** Available Device: _DeviceAttributes(/job:worker/replica:0/task:0/device:TPU_SYSTEM:0, TPU_SYSTEM, 0, 0)\n"
     ]
    },
    {
     "name": "stdout",
     "output_type": "stream",
     "text": [
      "INFO:tensorflow:*** Available Device: _DeviceAttributes(/job:worker/replica:0/task:0/device:XLA_CPU:0, XLA_CPU, 0, 0)\n"
     ]
    },
    {
     "name": "stderr",
     "output_type": "stream",
     "text": [
      "INFO:tensorflow:*** Available Device: _DeviceAttributes(/job:worker/replica:0/task:0/device:XLA_CPU:0, XLA_CPU, 0, 0)\n"
     ]
    }
   ],
   "source": [
    "if tpu_session == True:\n",
    "    \n",
    "    %tensorflow_version 2.x\n",
    "    import tensorflow as tf\n",
    "    print('Tensorflow version ' + tf.__version__)\n",
    "\n",
    "    try:\n",
    "        tpu = tf.distribute.cluster_resolver.TPUClusterResolver()  # TPU detection\n",
    "        print('Running on TPU ', tpu.cluster_spec().as_dict()['worker'])\n",
    "    except ValueError:\n",
    "        raise BaseException('ERROR: Not connected to a TPU runtime; please see the previous cell in this notebook for instructions!')\n",
    "\n",
    "    tf.config.experimental_connect_to_cluster(tpu)\n",
    "    tf.tpu.experimental.initialize_tpu_system(tpu)\n",
    "    tpu_strategy = tf.distribute.experimental.TPUStrategy(tpu)\n",
    "    \n",
    "else:\n",
    "    pass"
   ]
  },
  {
   "cell_type": "markdown",
   "metadata": {
    "id": "6LYcLeXnjl5q"
   },
   "source": [
    "### Import libraries"
   ]
  },
  {
   "cell_type": "code",
   "execution_count": 7,
   "metadata": {
    "executionInfo": {
     "elapsed": 680,
     "status": "ok",
     "timestamp": 1625007879352,
     "user": {
      "displayName": "Fernando Herran",
      "photoUrl": "",
      "userId": "09119314463851443877"
     },
     "user_tz": -120
    },
    "id": "fnImV7rEobw-"
   },
   "outputs": [],
   "source": [
    "import time\n",
    "import numpy as np\n",
    "from functools import reduce\n",
    "from sklearn.model_selection import KFold \n",
    "\n",
    "# Import tensorflow\n",
    "import tensorflow as tf\n",
    "from tensorflow.keras import Model\n",
    "from tensorflow.keras.models import load_model \n",
    "from tensorflow.keras.layers import Input, Conv3D, MaxPool3D, BatchNormalization, GlobalAveragePooling3D, GlobalMaxPooling3D, Dense, Dropout\n",
    "from tensorflow.keras.metrics import BinaryAccuracy\n",
    "from tensorflow.keras.optimizers import SGD, Adam, RMSprop, Adadelta, Adagrad\n",
    "from tensorflow.keras.optimizers.schedules import ExponentialDecay\n",
    "from tensorflow.keras.callbacks import EarlyStopping, ModelCheckpoint, LearningRateScheduler\n",
    "\n",
    "# Extra utils\n",
    "from Notebooks.aux_functions.aux_functions_cnn import *"
   ]
  },
  {
   "cell_type": "markdown",
   "metadata": {
    "id": "Mg0hAAQIjl5v"
   },
   "source": [
    "### Load TFRecords"
   ]
  },
  {
   "cell_type": "code",
   "execution_count": 5,
   "metadata": {
    "executionInfo": {
     "elapsed": 200,
     "status": "ok",
     "timestamp": 1625006027612,
     "user": {
      "displayName": "Fernando Herran",
      "photoUrl": "",
      "userId": "09119314463851443877"
     },
     "user_tz": -120
    },
    "id": "z-AYl5VpECpp"
   },
   "outputs": [],
   "source": [
    "# Specify Google Cloud Storage bucket path where the TFRecords have been saved\n",
    "gcs_path = 'gs://tfm-kschool-bucket/TFRecords/'"
   ]
  },
  {
   "cell_type": "code",
   "execution_count": 6,
   "metadata": {
    "executionInfo": {
     "elapsed": 442,
     "status": "ok",
     "timestamp": 1625006030162,
     "user": {
      "displayName": "Fernando Herran",
      "photoUrl": "",
      "userId": "09119314463851443877"
     },
     "user_tz": -120
    },
    "id": "nu_wgc58a2QQ"
   },
   "outputs": [],
   "source": [
    "# Authentication Google Cloud SDK\n",
    "from google.colab import auth\n",
    "auth.authenticate_user()"
   ]
  },
  {
   "cell_type": "code",
   "execution_count": null,
   "metadata": {
    "id": "nWpVRpOA6jvm"
   },
   "outputs": [],
   "source": [
    "#gcs_path = path + 'Datasets/TFRecords/'"
   ]
  },
  {
   "cell_type": "markdown",
   "metadata": {
    "id": "XpaSUgs9ZXpY"
   },
   "source": [
    "#### Load train TFRecords"
   ]
  },
  {
   "cell_type": "code",
   "execution_count": 40,
   "metadata": {
    "executionInfo": {
     "elapsed": 926,
     "status": "ok",
     "timestamp": 1624984024302,
     "user": {
      "displayName": "Fernando Herran",
      "photoUrl": "",
      "userId": "09119314463851443877"
     },
     "user_tz": -120
    },
    "id": "0z6owK6DobxE"
   },
   "outputs": [],
   "source": [
    "train_dataset = load_tfr_dataset(tfr_dir = gcs_path,\n",
    "                                 pattern = 'Train/*_train_volumes.tfrecords')"
   ]
  },
  {
   "cell_type": "markdown",
   "metadata": {
    "id": "CUrop9HoobxF"
   },
   "source": [
    "#### Load validation TFRecords"
   ]
  },
  {
   "cell_type": "code",
   "execution_count": 41,
   "metadata": {
    "executionInfo": {
     "elapsed": 509,
     "status": "ok",
     "timestamp": 1624984026059,
     "user": {
      "displayName": "Fernando Herran",
      "photoUrl": "",
      "userId": "09119314463851443877"
     },
     "user_tz": -120
    },
    "id": "yHuaMk4ZobxF"
   },
   "outputs": [],
   "source": [
    "val_dataset = load_tfr_dataset(tfr_dir = gcs_path,\n",
    "                               pattern = 'Validation/*_val_volumes.tfrecords')"
   ]
  },
  {
   "cell_type": "markdown",
   "metadata": {
    "id": "E4C-AjpdobxG"
   },
   "source": [
    "#### Load test TFRecords"
   ]
  },
  {
   "cell_type": "code",
   "execution_count": 42,
   "metadata": {
    "executionInfo": {
     "elapsed": 287,
     "status": "ok",
     "timestamp": 1624984027356,
     "user": {
      "displayName": "Fernando Herran",
      "photoUrl": "",
      "userId": "09119314463851443877"
     },
     "user_tz": -120
    },
    "id": "idQUXgz4obxH"
   },
   "outputs": [],
   "source": [
    "test_dataset = load_tfr_dataset(tfr_dir = gcs_path,\n",
    "                                pattern = 'Test/*_test_volumes.tfrecords')"
   ]
  },
  {
   "cell_type": "markdown",
   "metadata": {
    "id": "4kYw8MBtobxI"
   },
   "source": [
    "#### Check size of training, validation and testing datasets"
   ]
  },
  {
   "cell_type": "code",
   "execution_count": 11,
   "metadata": {
    "executionInfo": {
     "elapsed": 48981,
     "status": "ok",
     "timestamp": 1624959381662,
     "user": {
      "displayName": "Fernando Herran",
      "photoUrl": "",
      "userId": "09119314463851443877"
     },
     "user_tz": -120
    },
    "id": "kCjHdL2KobxI"
   },
   "outputs": [],
   "source": [
    "train_size = reduce(lambda count, item: count + 1, train_dataset, 0)\n",
    "val_size = reduce(lambda count, item: count + 1, val_dataset, 0)\n",
    "test_size = reduce(lambda count, item: count + 1, test_dataset, 0)"
   ]
  },
  {
   "cell_type": "code",
   "execution_count": 12,
   "metadata": {
    "colab": {
     "base_uri": "https://localhost:8080/"
    },
    "executionInfo": {
     "elapsed": 204,
     "status": "ok",
     "timestamp": 1624959404646,
     "user": {
      "displayName": "Fernando Herran",
      "photoUrl": "",
      "userId": "09119314463851443877"
     },
     "user_tz": -120
    },
    "id": "xsSckAMlobxJ",
    "outputId": "321fcbdc-54e3-4cee-f5d7-12357934c142"
   },
   "outputs": [
    {
     "name": "stdout",
     "output_type": "stream",
     "text": [
      "[+] Training size: 759\n",
      "[+] Validation size: 163\n",
      "[+] Testing size: 163\n"
     ]
    }
   ],
   "source": [
    "print(f'[+] Training size:', train_size)\n",
    "print(f'[+] Validation size:', val_size)\n",
    "print(f'[+] Testing size:', test_size)"
   ]
  },
  {
   "cell_type": "markdown",
   "metadata": {
    "id": "FOw3Jsi7dQH6"
   },
   "source": [
    "#### Batch datasets"
   ]
  },
  {
   "cell_type": "code",
   "execution_count": 43,
   "metadata": {
    "executionInfo": {
     "elapsed": 159,
     "status": "ok",
     "timestamp": 1624984031559,
     "user": {
      "displayName": "Fernando Herran",
      "photoUrl": "",
      "userId": "09119314463851443877"
     },
     "user_tz": -120
    },
    "id": "WkofxZ52onrf"
   },
   "outputs": [],
   "source": [
    "# Specify batch size\n",
    "batch_size = 32"
   ]
  },
  {
   "cell_type": "code",
   "execution_count": 44,
   "metadata": {
    "executionInfo": {
     "elapsed": 3,
     "status": "ok",
     "timestamp": 1624984032411,
     "user": {
      "displayName": "Fernando Herran",
      "photoUrl": "",
      "userId": "09119314463851443877"
     },
     "user_tz": -120
    },
    "id": "r77RGe6WdQH7"
   },
   "outputs": [],
   "source": [
    "train_dataset = train_dataset.batch(batch_size).prefetch(1)\n",
    "val_dataset = val_dataset.batch(batch_size).prefetch(1)\n",
    "test_dataset = test_dataset.batch(batch_size).prefetch(1)"
   ]
  },
  {
   "cell_type": "markdown",
   "metadata": {
    "id": "PihvLS1Gjl58"
   },
   "source": [
    "### Convolutional Neural Network"
   ]
  },
  {
   "cell_type": "markdown",
   "metadata": {
    "id": "dfvL50csr5ON"
   },
   "source": [
    "#### Define Neural Network"
   ]
  },
  {
   "cell_type": "code",
   "execution_count": 45,
   "metadata": {
    "executionInfo": {
     "elapsed": 170,
     "status": "ok",
     "timestamp": 1624984037560,
     "user": {
      "displayName": "Fernando Herran",
      "photoUrl": "",
      "userId": "09119314463851443877"
     },
     "user_tz": -120
    },
    "id": "p8k_OYWYopAo"
   },
   "outputs": [],
   "source": [
    "def build_model_3d(model_name, input_shape):\n",
    "    '''\n",
    "    Build a 3D Convolutional Neural Network (CNN).\n",
    "    '''\n",
    "\n",
    "    # Fix random seed for reproducibility\n",
    "    np.random.seed(123)\n",
    "    tf.random.set_seed(123) \n",
    "    \n",
    "    ## Input layer\n",
    "    inputs = Input(shape = input_shape + (1,))\n",
    "    \n",
    "    ## Convolutional blocks\n",
    "    # 1st conv block\n",
    "    x = Conv3D(64, kernel_size = 3, activation = 'relu')(inputs)\n",
    "    x = MaxPool3D(pool_size = 2)(x)\n",
    "    x = BatchNormalization()(x)\n",
    "              \n",
    "    # 2nd conv block\n",
    "    x = Conv3D(128, kernel_size = 3, activation = 'relu')(x)\n",
    "    x = MaxPool3D(pool_size = 2)(x)\n",
    "    x = BatchNormalization()(x)\n",
    "\n",
    "    # 3rd conv block\n",
    "    x = Conv3D(256, kernel_size = 3, activation = 'relu')(x)\n",
    "    x = MaxPool3D(pool_size = 2)(x)\n",
    "    x = BatchNormalization()(x)\n",
    "\n",
    "    # 4rd conv block\n",
    "    x = Conv3D(512, kernel_size = 3, activation = 'relu')(x)\n",
    "    x = MaxPool3D(pool_size = 2)(x)\n",
    "    x = BatchNormalization()(x)\n",
    "    \n",
    "    ## Flatten layer\n",
    "    x = GlobalAveragePooling3D()(x)\n",
    "              \n",
    "    ## Dense layers       \n",
    "    x = Dense(512, activation = 'relu')(x)\n",
    "    x = Dropout(0.3)(x)\n",
    "    \n",
    "    x = Dense(256, activation = 'relu')(x)\n",
    "    x = Dropout(0.3)(x)\n",
    "\n",
    "    ## Output layer\n",
    "    outputs = Dense(1, activation = 'sigmoid')(x)\n",
    "\n",
    "    # Define the model\n",
    "    model = Model(inputs, outputs)\n",
    "    \n",
    "    # Name model\n",
    "    model._name = model_name\n",
    "    \n",
    "    return model"
   ]
  },
  {
   "cell_type": "markdown",
   "metadata": {
    "id": "BPwiNPnOkzZt"
   },
   "source": [
    "#### Build new CNN model"
   ]
  },
  {
   "cell_type": "code",
   "execution_count": 46,
   "metadata": {
    "executionInfo": {
     "elapsed": 211,
     "status": "ok",
     "timestamp": 1624984045940,
     "user": {
      "displayName": "Fernando Herran",
      "photoUrl": "",
      "userId": "09119314463851443877"
     },
     "user_tz": -120
    },
    "id": "lNMSRcnFkzZt"
   },
   "outputs": [],
   "source": [
    "# Define inputs\n",
    "model_name = 'cnn_model_v3'\n",
    "input_shape = (110, 130, 80)"
   ]
  },
  {
   "cell_type": "code",
   "execution_count": 47,
   "metadata": {
    "executionInfo": {
     "elapsed": 178,
     "status": "ok",
     "timestamp": 1624984050067,
     "user": {
      "displayName": "Fernando Herran",
      "photoUrl": "",
      "userId": "09119314463851443877"
     },
     "user_tz": -120
    },
    "id": "AKqXHfMRG9Xo"
   },
   "outputs": [],
   "source": [
    "# Define optimizer\n",
    "optimizer = Adam(learning_rate = 0.0001, decay = 1e-6)"
   ]
  },
  {
   "cell_type": "code",
   "execution_count": 48,
   "metadata": {
    "executionInfo": {
     "elapsed": 2701,
     "status": "ok",
     "timestamp": 1624984054466,
     "user": {
      "displayName": "Fernando Herran",
      "photoUrl": "",
      "userId": "09119314463851443877"
     },
     "user_tz": -120
    },
    "id": "4EhcKGHvopAs"
   },
   "outputs": [],
   "source": [
    "# TPU strategy\n",
    "with tpu_strategy.scope(): \n",
    "    \n",
    "    # Build mode\n",
    "    model = build_model_3d(model_name, input_shape)\n",
    "\n",
    "    # Compile model\n",
    "    model.compile(loss = 'binary_crossentropy',\n",
    "                  optimizer = optimizer,\n",
    "                  metrics = [BinaryAccuracy(), f1])\n",
    "\n",
    "#model.summary()"
   ]
  },
  {
   "cell_type": "markdown",
   "metadata": {
    "id": "RTCXtLYEHd5D"
   },
   "source": [
    "#### Setup callbacks"
   ]
  },
  {
   "cell_type": "markdown",
   "metadata": {
    "id": "fSztTxPNT7TP"
   },
   "source": [
    "**EarlyStopping** in this case tracks the val_loss value, stops the training if there are no changes towards val_loss after 3 epochs, and keeps the best weights once the training stops."
   ]
  },
  {
   "cell_type": "code",
   "execution_count": 19,
   "metadata": {
    "executionInfo": {
     "elapsed": 399,
     "status": "ok",
     "timestamp": 1624959446791,
     "user": {
      "displayName": "Fernando Herran",
      "photoUrl": "",
      "userId": "09119314463851443877"
     },
     "user_tz": -120
    },
    "id": "_ZMG09xXHjoc"
   },
   "outputs": [],
   "source": [
    "callback_early_stopping = EarlyStopping(monitor = 'val_loss',\n",
    "                                        min_delta = 0,\n",
    "                                        patience = 5,\n",
    "                                        verbose = 1,\n",
    "                                        restore_best_weights = True)"
   ]
  },
  {
   "cell_type": "markdown",
   "metadata": {
    "id": "KvM3AQkxUOhS"
   },
   "source": [
    "**ModelCheckpoint** saves the best model in the folder Results. It tracks the metric val_loss and saves the model after each epoch only if val_loss has been reduced in compared to the previous model saved."
   ]
  },
  {
   "cell_type": "code",
   "execution_count": 20,
   "metadata": {
    "executionInfo": {
     "elapsed": 186,
     "status": "ok",
     "timestamp": 1624959448306,
     "user": {
      "displayName": "Fernando Herran",
      "photoUrl": "",
      "userId": "09119314463851443877"
     },
     "user_tz": -120
    },
    "id": "tdKOwXo5UO3f"
   },
   "outputs": [],
   "source": [
    "callback_checkpoint = ModelCheckpoint(path + 'Results/' + model.name + '.h5',\n",
    "                                      monitor = 'val_loss',\n",
    "                                      mode = 'min',\n",
    "                                      save_best_only = True,\n",
    "                                      verbose = 1)"
   ]
  },
  {
   "cell_type": "markdown",
   "metadata": {
    "id": "5o7hki78UluS"
   },
   "source": [
    "#### Train CNN model"
   ]
  },
  {
   "cell_type": "code",
   "execution_count": 49,
   "metadata": {
    "colab": {
     "base_uri": "https://localhost:8080/"
    },
    "executionInfo": {
     "elapsed": 2487945,
     "status": "ok",
     "timestamp": 1624986558611,
     "user": {
      "displayName": "Fernando Herran",
      "photoUrl": "",
      "userId": "09119314463851443877"
     },
     "user_tz": -120
    },
    "id": "gq7rPP8wjl5-",
    "outputId": "dcd8c016-3d08-47da-e025-a5fcdab96726",
    "scrolled": true
   },
   "outputs": [
    {
     "name": "stdout",
     "output_type": "stream",
     "text": [
      "Epoch 1/100\n",
      "24/24 [==============================] - 75s 2s/step - loss: 0.6679 - binary_accuracy: 0.6179 - f1: 0.5734 - val_loss: 0.6981 - val_binary_accuracy: 0.4724 - val_f1: 0.0000e+00\n",
      "Epoch 2/100\n",
      "24/24 [==============================] - 26s 696ms/step - loss: 0.6319 - binary_accuracy: 0.6561 - f1: 0.6038 - val_loss: 0.7162 - val_binary_accuracy: 0.4724 - val_f1: 0.0000e+00\n",
      "Epoch 3/100\n",
      "24/24 [==============================] - 27s 686ms/step - loss: 0.6153 - binary_accuracy: 0.6759 - f1: 0.6353 - val_loss: 0.7575 - val_binary_accuracy: 0.4724 - val_f1: 0.0000e+00\n",
      "Epoch 4/100\n",
      "24/24 [==============================] - 24s 597ms/step - loss: 0.5969 - binary_accuracy: 0.6838 - f1: 0.6342 - val_loss: 0.7842 - val_binary_accuracy: 0.4724 - val_f1: 0.0000e+00\n",
      "Epoch 5/100\n",
      "24/24 [==============================] - 23s 642ms/step - loss: 0.5776 - binary_accuracy: 0.7036 - f1: 0.6520 - val_loss: 0.7254 - val_binary_accuracy: 0.4724 - val_f1: 0.0000e+00\n",
      "Epoch 6/100\n",
      "24/24 [==============================] - 24s 648ms/step - loss: 0.5599 - binary_accuracy: 0.7128 - f1: 0.6604 - val_loss: 0.8768 - val_binary_accuracy: 0.4724 - val_f1: 0.0000e+00\n",
      "Epoch 7/100\n",
      "24/24 [==============================] - 26s 705ms/step - loss: 0.5491 - binary_accuracy: 0.7325 - f1: 0.6813 - val_loss: 0.7428 - val_binary_accuracy: 0.4724 - val_f1: 0.0000e+00\n",
      "Epoch 8/100\n",
      "24/24 [==============================] - 25s 635ms/step - loss: 0.5249 - binary_accuracy: 0.7418 - f1: 0.6986 - val_loss: 0.8272 - val_binary_accuracy: 0.4724 - val_f1: 0.0000e+00\n",
      "Epoch 9/100\n",
      "24/24 [==============================] - 26s 676ms/step - loss: 0.4959 - binary_accuracy: 0.7734 - f1: 0.7261 - val_loss: 0.7409 - val_binary_accuracy: 0.4724 - val_f1: 0.0000e+00\n",
      "Epoch 10/100\n",
      "24/24 [==============================] - 23s 602ms/step - loss: 0.4669 - binary_accuracy: 0.7866 - f1: 0.7338 - val_loss: 0.7017 - val_binary_accuracy: 0.4724 - val_f1: 0.0000e+00\n",
      "Epoch 11/100\n",
      "24/24 [==============================] - 25s 655ms/step - loss: 0.4406 - binary_accuracy: 0.7931 - f1: 0.7487 - val_loss: 0.7000 - val_binary_accuracy: 0.4908 - val_f1: 0.0382\n",
      "Epoch 12/100\n",
      "24/24 [==============================] - 24s 641ms/step - loss: 0.4027 - binary_accuracy: 0.8248 - f1: 0.7788 - val_loss: 0.7550 - val_binary_accuracy: 0.5276 - val_f1: 0.5612\n",
      "Epoch 13/100\n",
      "24/24 [==============================] - 24s 622ms/step - loss: 0.3626 - binary_accuracy: 0.8551 - f1: 0.8057 - val_loss: 0.7926 - val_binary_accuracy: 0.5276 - val_f1: 0.5612\n",
      "Epoch 14/100\n",
      "24/24 [==============================] - 25s 651ms/step - loss: 0.3284 - binary_accuracy: 0.8775 - f1: 0.8275 - val_loss: 1.8631 - val_binary_accuracy: 0.5276 - val_f1: 0.5612\n",
      "Epoch 15/100\n",
      "24/24 [==============================] - 25s 642ms/step - loss: 0.2980 - binary_accuracy: 0.8867 - f1: 0.8314 - val_loss: 1.2437 - val_binary_accuracy: 0.5276 - val_f1: 0.5612\n",
      "Epoch 16/100\n",
      "24/24 [==============================] - 22s 615ms/step - loss: 0.2590 - binary_accuracy: 0.9065 - f1: 0.8475 - val_loss: 1.7023 - val_binary_accuracy: 0.5276 - val_f1: 0.5612\n",
      "Epoch 17/100\n",
      "24/24 [==============================] - 23s 628ms/step - loss: 0.2420 - binary_accuracy: 0.9196 - f1: 0.8625 - val_loss: 0.8798 - val_binary_accuracy: 0.4908 - val_f1: 0.0514\n",
      "Epoch 18/100\n",
      "24/24 [==============================] - 23s 666ms/step - loss: 0.2546 - binary_accuracy: 0.8999 - f1: 0.8405 - val_loss: 0.8309 - val_binary_accuracy: 0.5276 - val_f1: 0.5612\n",
      "Epoch 19/100\n",
      "24/24 [==============================] - 22s 595ms/step - loss: 0.2408 - binary_accuracy: 0.9249 - f1: 0.8575 - val_loss: 3.7127 - val_binary_accuracy: 0.4724 - val_f1: 0.0000e+00\n",
      "Epoch 20/100\n",
      "24/24 [==============================] - 22s 570ms/step - loss: 0.1817 - binary_accuracy: 0.9486 - f1: 0.8861 - val_loss: 2.9448 - val_binary_accuracy: 0.4724 - val_f1: 0.0000e+00\n",
      "Epoch 21/100\n",
      "24/24 [==============================] - 26s 649ms/step - loss: 0.1390 - binary_accuracy: 0.9631 - f1: 0.8939 - val_loss: 0.7184 - val_binary_accuracy: 0.6012 - val_f1: 0.5748\n",
      "Epoch 22/100\n",
      "24/24 [==============================] - 25s 577ms/step - loss: 0.1244 - binary_accuracy: 0.9697 - f1: 0.8991 - val_loss: 0.6044 - val_binary_accuracy: 0.6748 - val_f1: 0.4723\n",
      "Epoch 23/100\n",
      "24/24 [==============================] - 26s 671ms/step - loss: 0.1544 - binary_accuracy: 0.9473 - f1: 0.8791 - val_loss: 2.6090 - val_binary_accuracy: 0.5337 - val_f1: 0.0931\n",
      "Epoch 24/100\n",
      "24/24 [==============================] - 26s 694ms/step - loss: 0.1899 - binary_accuracy: 0.9262 - f1: 0.8599 - val_loss: 6.6750 - val_binary_accuracy: 0.4724 - val_f1: 0.0000e+00\n",
      "Epoch 25/100\n",
      "24/24 [==============================] - 25s 678ms/step - loss: 0.1586 - binary_accuracy: 0.9486 - f1: 0.8819 - val_loss: 1.0935 - val_binary_accuracy: 0.6626 - val_f1: 0.4730\n",
      "Epoch 26/100\n",
      "24/24 [==============================] - 25s 663ms/step - loss: 0.1287 - binary_accuracy: 0.9526 - f1: 0.8823 - val_loss: 1.9294 - val_binary_accuracy: 0.6012 - val_f1: 0.2824\n",
      "Epoch 27/100\n",
      "24/24 [==============================] - 26s 651ms/step - loss: 0.1160 - binary_accuracy: 0.9644 - f1: 0.8880 - val_loss: 4.1958 - val_binary_accuracy: 0.4847 - val_f1: 0.0312\n",
      "Epoch 28/100\n",
      "24/24 [==============================] - 24s 622ms/step - loss: 0.1178 - binary_accuracy: 0.9605 - f1: 0.8931 - val_loss: 0.6741 - val_binary_accuracy: 0.7301 - val_f1: 0.5322\n",
      "Epoch 29/100\n",
      "24/24 [==============================] - 24s 625ms/step - loss: 0.0611 - binary_accuracy: 0.9895 - f1: 0.9100 - val_loss: 5.0878 - val_binary_accuracy: 0.5031 - val_f1: 0.0618\n",
      "Epoch 30/100\n",
      "24/24 [==============================] - 26s 685ms/step - loss: 0.0487 - binary_accuracy: 0.9947 - f1: 0.9146 - val_loss: 1.0413 - val_binary_accuracy: 0.7607 - val_f1: 0.6588\n",
      "Epoch 31/100\n",
      "24/24 [==============================] - 25s 673ms/step - loss: 0.0337 - binary_accuracy: 0.9987 - f1: 0.9156 - val_loss: 0.7937 - val_binary_accuracy: 0.7669 - val_f1: 0.6154\n",
      "Epoch 32/100\n",
      "24/24 [==============================] - 23s 600ms/step - loss: 0.0413 - binary_accuracy: 0.9921 - f1: 0.9128 - val_loss: 2.0954 - val_binary_accuracy: 0.6871 - val_f1: 0.6188\n",
      "Epoch 33/100\n",
      "24/24 [==============================] - 21s 549ms/step - loss: 0.0439 - binary_accuracy: 0.9934 - f1: 0.9094 - val_loss: 1.0841 - val_binary_accuracy: 0.7362 - val_f1: 0.6527\n",
      "Epoch 34/100\n",
      "24/24 [==============================] - 24s 571ms/step - loss: 0.0283 - binary_accuracy: 0.9947 - f1: 0.9121 - val_loss: 3.4985 - val_binary_accuracy: 0.5460 - val_f1: 0.5682\n",
      "Epoch 35/100\n",
      "24/24 [==============================] - 22s 581ms/step - loss: 0.0389 - binary_accuracy: 0.9895 - f1: 0.9099 - val_loss: 4.9731 - val_binary_accuracy: 0.5276 - val_f1: 0.5612\n",
      "Epoch 36/100\n",
      "24/24 [==============================] - 22s 566ms/step - loss: 0.0567 - binary_accuracy: 0.9802 - f1: 0.9041 - val_loss: 1.0243 - val_binary_accuracy: 0.7117 - val_f1: 0.4815\n",
      "Epoch 37/100\n",
      "24/24 [==============================] - 25s 653ms/step - loss: 0.0341 - binary_accuracy: 0.9921 - f1: 0.9124 - val_loss: 4.9648 - val_binary_accuracy: 0.5276 - val_f1: 0.5612\n",
      "Epoch 38/100\n",
      "24/24 [==============================] - 24s 655ms/step - loss: 0.0270 - binary_accuracy: 0.9960 - f1: 0.9149 - val_loss: 0.6570 - val_binary_accuracy: 0.7791 - val_f1: 0.5915\n",
      "Epoch 39/100\n",
      "24/24 [==============================] - 27s 704ms/step - loss: 0.0212 - binary_accuracy: 0.9974 - f1: 0.9159 - val_loss: 1.8807 - val_binary_accuracy: 0.6012 - val_f1: 0.2583\n",
      "Epoch 40/100\n",
      "24/24 [==============================] - 23s 604ms/step - loss: 0.0141 - binary_accuracy: 0.9987 - f1: 0.9149 - val_loss: 0.6866 - val_binary_accuracy: 0.8098 - val_f1: 0.7043\n",
      "Epoch 41/100\n",
      "24/24 [==============================] - 23s 566ms/step - loss: 0.0107 - binary_accuracy: 0.9974 - f1: 0.9149 - val_loss: 0.9322 - val_binary_accuracy: 0.7914 - val_f1: 0.6267\n",
      "Epoch 42/100\n",
      "24/24 [==============================] - 26s 676ms/step - loss: 0.0054 - binary_accuracy: 1.0000 - f1: 0.9167 - val_loss: 0.5447 - val_binary_accuracy: 0.8344 - val_f1: 0.6574\n",
      "Epoch 43/100\n",
      "24/24 [==============================] - 23s 612ms/step - loss: 0.0029 - binary_accuracy: 1.0000 - f1: 0.9167 - val_loss: 0.5196 - val_binary_accuracy: 0.8589 - val_f1: 0.7137\n",
      "Epoch 44/100\n",
      "24/24 [==============================] - 22s 546ms/step - loss: 0.0020 - binary_accuracy: 1.0000 - f1: 0.9167 - val_loss: 0.4472 - val_binary_accuracy: 0.8405 - val_f1: 0.6873\n",
      "Epoch 45/100\n",
      "24/24 [==============================] - 26s 693ms/step - loss: 0.0020 - binary_accuracy: 1.0000 - f1: 0.9167 - val_loss: 0.4353 - val_binary_accuracy: 0.8650 - val_f1: 0.7072\n",
      "Epoch 46/100\n",
      "24/24 [==============================] - 25s 653ms/step - loss: 0.0016 - binary_accuracy: 1.0000 - f1: 0.9167 - val_loss: 0.4129 - val_binary_accuracy: 0.8712 - val_f1: 0.7211\n",
      "Epoch 47/100\n",
      "24/24 [==============================] - 23s 589ms/step - loss: 0.0015 - binary_accuracy: 1.0000 - f1: 0.9167 - val_loss: 0.4443 - val_binary_accuracy: 0.8712 - val_f1: 0.7232\n",
      "Epoch 48/100\n",
      "24/24 [==============================] - 25s 662ms/step - loss: 0.0013 - binary_accuracy: 1.0000 - f1: 0.9167 - val_loss: 0.4277 - val_binary_accuracy: 0.8773 - val_f1: 0.7295\n",
      "Epoch 49/100\n",
      "24/24 [==============================] - 21s 537ms/step - loss: 0.0011 - binary_accuracy: 1.0000 - f1: 0.9167 - val_loss: 0.4394 - val_binary_accuracy: 0.8834 - val_f1: 0.7336\n",
      "Epoch 50/100\n",
      "24/24 [==============================] - 21s 568ms/step - loss: 0.0012 - binary_accuracy: 1.0000 - f1: 0.9167 - val_loss: 0.4404 - val_binary_accuracy: 0.8712 - val_f1: 0.7156\n",
      "Epoch 51/100\n",
      "24/24 [==============================] - 22s 579ms/step - loss: 0.0010 - binary_accuracy: 1.0000 - f1: 0.9167 - val_loss: 0.4504 - val_binary_accuracy: 0.8712 - val_f1: 0.7114\n",
      "Epoch 52/100\n",
      "24/24 [==============================] - 23s 618ms/step - loss: 8.5756e-04 - binary_accuracy: 1.0000 - f1: 0.9167 - val_loss: 0.4668 - val_binary_accuracy: 0.8650 - val_f1: 0.7086\n",
      "Epoch 53/100\n",
      "24/24 [==============================] - 25s 612ms/step - loss: 9.3513e-04 - binary_accuracy: 1.0000 - f1: 0.9167 - val_loss: 0.4659 - val_binary_accuracy: 0.8834 - val_f1: 0.7336\n",
      "Epoch 54/100\n",
      "24/24 [==============================] - 23s 648ms/step - loss: 9.1337e-04 - binary_accuracy: 1.0000 - f1: 0.9167 - val_loss: 0.4271 - val_binary_accuracy: 0.8712 - val_f1: 0.7128\n",
      "Epoch 55/100\n",
      "24/24 [==============================] - 25s 689ms/step - loss: 8.6283e-04 - binary_accuracy: 1.0000 - f1: 0.9167 - val_loss: 0.4385 - val_binary_accuracy: 0.8773 - val_f1: 0.7197\n",
      "Epoch 56/100\n",
      "24/24 [==============================] - 21s 514ms/step - loss: 8.0895e-04 - binary_accuracy: 1.0000 - f1: 0.9167 - val_loss: 0.4373 - val_binary_accuracy: 0.8773 - val_f1: 0.7197\n",
      "Epoch 57/100\n",
      "24/24 [==============================] - 23s 546ms/step - loss: 7.6686e-04 - binary_accuracy: 1.0000 - f1: 0.9167 - val_loss: 0.4365 - val_binary_accuracy: 0.8773 - val_f1: 0.7225\n",
      "Epoch 58/100\n",
      "24/24 [==============================] - 26s 659ms/step - loss: 7.7247e-04 - binary_accuracy: 1.0000 - f1: 0.9167 - val_loss: 0.4549 - val_binary_accuracy: 0.8712 - val_f1: 0.7128\n",
      "Epoch 59/100\n",
      "24/24 [==============================] - 23s 651ms/step - loss: 8.0649e-04 - binary_accuracy: 1.0000 - f1: 0.9167 - val_loss: 0.4872 - val_binary_accuracy: 0.8589 - val_f1: 0.7154\n",
      "Epoch 60/100\n",
      "24/24 [==============================] - 22s 580ms/step - loss: 6.1420e-04 - binary_accuracy: 1.0000 - f1: 0.9167 - val_loss: 0.4978 - val_binary_accuracy: 0.8650 - val_f1: 0.7223\n",
      "Epoch 61/100\n",
      "24/24 [==============================] - 22s 577ms/step - loss: 6.7101e-04 - binary_accuracy: 1.0000 - f1: 0.9167 - val_loss: 0.4665 - val_binary_accuracy: 0.8650 - val_f1: 0.7128\n",
      "Epoch 62/100\n",
      "24/24 [==============================] - 24s 674ms/step - loss: 5.5820e-04 - binary_accuracy: 1.0000 - f1: 0.9167 - val_loss: 0.4926 - val_binary_accuracy: 0.8712 - val_f1: 0.7286\n",
      "Epoch 63/100\n",
      "24/24 [==============================] - 21s 550ms/step - loss: 5.4916e-04 - binary_accuracy: 1.0000 - f1: 0.9167 - val_loss: 0.4882 - val_binary_accuracy: 0.8712 - val_f1: 0.7265\n",
      "Epoch 64/100\n",
      "24/24 [==============================] - 22s 595ms/step - loss: 5.0937e-04 - binary_accuracy: 1.0000 - f1: 0.9167 - val_loss: 0.4632 - val_binary_accuracy: 0.8712 - val_f1: 0.7168\n",
      "Epoch 65/100\n",
      "24/24 [==============================] - 23s 611ms/step - loss: 6.6223e-04 - binary_accuracy: 1.0000 - f1: 0.9167 - val_loss: 0.4627 - val_binary_accuracy: 0.8650 - val_f1: 0.7237\n",
      "Epoch 66/100\n",
      "24/24 [==============================] - 24s 636ms/step - loss: 5.7543e-04 - binary_accuracy: 1.0000 - f1: 0.9167 - val_loss: 0.5265 - val_binary_accuracy: 0.8528 - val_f1: 0.7147\n",
      "Epoch 67/100\n",
      "24/24 [==============================] - 23s 606ms/step - loss: 4.0923e-04 - binary_accuracy: 1.0000 - f1: 0.9167 - val_loss: 0.4649 - val_binary_accuracy: 0.8834 - val_f1: 0.7336\n",
      "Epoch 68/100\n",
      "24/24 [==============================] - 24s 614ms/step - loss: 4.1685e-04 - binary_accuracy: 1.0000 - f1: 0.9167 - val_loss: 0.4720 - val_binary_accuracy: 0.8834 - val_f1: 0.7336\n",
      "Epoch 69/100\n",
      "24/24 [==============================] - 19s 553ms/step - loss: 4.5891e-04 - binary_accuracy: 1.0000 - f1: 0.9167 - val_loss: 0.4719 - val_binary_accuracy: 0.8650 - val_f1: 0.6989\n",
      "Epoch 70/100\n",
      "24/24 [==============================] - 22s 555ms/step - loss: 3.9127e-04 - binary_accuracy: 1.0000 - f1: 0.9167 - val_loss: 0.4769 - val_binary_accuracy: 0.8712 - val_f1: 0.7128\n",
      "Epoch 71/100\n",
      "24/24 [==============================] - 18s 492ms/step - loss: 4.3091e-04 - binary_accuracy: 1.0000 - f1: 0.9167 - val_loss: 0.4765 - val_binary_accuracy: 0.8773 - val_f1: 0.7307\n",
      "Epoch 72/100\n",
      "24/24 [==============================] - 23s 585ms/step - loss: 4.3524e-04 - binary_accuracy: 1.0000 - f1: 0.9167 - val_loss: 0.4782 - val_binary_accuracy: 0.8589 - val_f1: 0.7161\n",
      "Epoch 73/100\n",
      "24/24 [==============================] - 24s 607ms/step - loss: 3.4467e-04 - binary_accuracy: 1.0000 - f1: 0.9167 - val_loss: 0.4611 - val_binary_accuracy: 0.8712 - val_f1: 0.7237\n",
      "Epoch 74/100\n",
      "24/24 [==============================] - 31s 1s/step - loss: 3.6111e-04 - binary_accuracy: 1.0000 - f1: 0.9167 - val_loss: 0.4580 - val_binary_accuracy: 0.8773 - val_f1: 0.7307\n",
      "Epoch 75/100\n",
      "24/24 [==============================] - 24s 598ms/step - loss: 3.3640e-04 - binary_accuracy: 1.0000 - f1: 0.9167 - val_loss: 0.4589 - val_binary_accuracy: 0.8773 - val_f1: 0.7197\n",
      "Epoch 76/100\n",
      "24/24 [==============================] - 22s 548ms/step - loss: 4.1028e-04 - binary_accuracy: 1.0000 - f1: 0.9167 - val_loss: 0.4510 - val_binary_accuracy: 0.8896 - val_f1: 0.7225\n",
      "Epoch 77/100\n",
      "24/24 [==============================] - 22s 605ms/step - loss: 3.2837e-04 - binary_accuracy: 1.0000 - f1: 0.9167 - val_loss: 0.4559 - val_binary_accuracy: 0.8712 - val_f1: 0.7059\n",
      "Epoch 78/100\n",
      "24/24 [==============================] - 23s 592ms/step - loss: 3.7004e-04 - binary_accuracy: 1.0000 - f1: 0.9167 - val_loss: 0.4715 - val_binary_accuracy: 0.8712 - val_f1: 0.7059\n",
      "Epoch 79/100\n",
      "24/24 [==============================] - 22s 573ms/step - loss: 3.3093e-04 - binary_accuracy: 1.0000 - f1: 0.9167 - val_loss: 0.4901 - val_binary_accuracy: 0.8773 - val_f1: 0.7197\n",
      "Epoch 80/100\n",
      "24/24 [==============================] - 21s 542ms/step - loss: 3.1033e-04 - binary_accuracy: 1.0000 - f1: 0.9167 - val_loss: 0.4675 - val_binary_accuracy: 0.8589 - val_f1: 0.6947\n",
      "Epoch 81/100\n",
      "24/24 [==============================] - 23s 592ms/step - loss: 2.7954e-04 - binary_accuracy: 1.0000 - f1: 0.9167 - val_loss: 0.4785 - val_binary_accuracy: 0.8712 - val_f1: 0.7168\n",
      "Epoch 82/100\n",
      "24/24 [==============================] - 28s 735ms/step - loss: 2.5420e-04 - binary_accuracy: 1.0000 - f1: 0.9167 - val_loss: 0.4778 - val_binary_accuracy: 0.8773 - val_f1: 0.7237\n",
      "Epoch 83/100\n",
      "24/24 [==============================] - 27s 669ms/step - loss: 3.5208e-04 - binary_accuracy: 1.0000 - f1: 0.9167 - val_loss: 0.4564 - val_binary_accuracy: 0.8712 - val_f1: 0.7059\n",
      "Epoch 84/100\n",
      "24/24 [==============================] - 27s 687ms/step - loss: 2.5655e-04 - binary_accuracy: 1.0000 - f1: 0.9167 - val_loss: 0.4604 - val_binary_accuracy: 0.8712 - val_f1: 0.7168\n",
      "Epoch 85/100\n",
      "24/24 [==============================] - 28s 687ms/step - loss: 2.6692e-04 - binary_accuracy: 1.0000 - f1: 0.9167 - val_loss: 0.4665 - val_binary_accuracy: 0.8834 - val_f1: 0.7197\n",
      "Epoch 86/100\n",
      "24/24 [==============================] - 26s 622ms/step - loss: 2.4854e-04 - binary_accuracy: 1.0000 - f1: 0.9167 - val_loss: 0.4815 - val_binary_accuracy: 0.8712 - val_f1: 0.7168\n",
      "Epoch 87/100\n",
      "24/24 [==============================] - 27s 683ms/step - loss: 2.0003e-04 - binary_accuracy: 1.0000 - f1: 0.9167 - val_loss: 0.5132 - val_binary_accuracy: 0.8650 - val_f1: 0.7126\n",
      "Epoch 88/100\n",
      "24/24 [==============================] - 22s 574ms/step - loss: 2.2483e-04 - binary_accuracy: 1.0000 - f1: 0.9167 - val_loss: 0.5199 - val_binary_accuracy: 0.8712 - val_f1: 0.7168\n",
      "Epoch 89/100\n",
      "24/24 [==============================] - 22s 582ms/step - loss: 2.5612e-04 - binary_accuracy: 1.0000 - f1: 0.9167 - val_loss: 0.5170 - val_binary_accuracy: 0.8712 - val_f1: 0.7272\n",
      "Epoch 90/100\n",
      "24/24 [==============================] - 26s 656ms/step - loss: 2.1910e-04 - binary_accuracy: 1.0000 - f1: 0.9167 - val_loss: 0.5074 - val_binary_accuracy: 0.8773 - val_f1: 0.7307\n",
      "Epoch 91/100\n",
      "24/24 [==============================] - 30s 763ms/step - loss: 2.2383e-04 - binary_accuracy: 1.0000 - f1: 0.9167 - val_loss: 0.4994 - val_binary_accuracy: 0.8712 - val_f1: 0.7168\n",
      "Epoch 92/100\n",
      "24/24 [==============================] - 32s 770ms/step - loss: 2.1484e-04 - binary_accuracy: 1.0000 - f1: 0.9167 - val_loss: 0.4818 - val_binary_accuracy: 0.8589 - val_f1: 0.6947\n",
      "Epoch 93/100\n",
      "24/24 [==============================] - 26s 656ms/step - loss: 2.0109e-04 - binary_accuracy: 1.0000 - f1: 0.9167 - val_loss: 0.4869 - val_binary_accuracy: 0.8712 - val_f1: 0.7059\n",
      "Epoch 94/100\n",
      "24/24 [==============================] - 23s 566ms/step - loss: 1.8606e-04 - binary_accuracy: 1.0000 - f1: 0.9167 - val_loss: 0.5653 - val_binary_accuracy: 0.8712 - val_f1: 0.7307\n",
      "Epoch 95/100\n",
      "24/24 [==============================] - 22s 541ms/step - loss: 1.8367e-04 - binary_accuracy: 1.0000 - f1: 0.9167 - val_loss: 0.5300 - val_binary_accuracy: 0.8834 - val_f1: 0.7376\n",
      "Epoch 96/100\n",
      "24/24 [==============================] - 23s 632ms/step - loss: 1.9701e-04 - binary_accuracy: 1.0000 - f1: 0.9167 - val_loss: 0.5085 - val_binary_accuracy: 0.8773 - val_f1: 0.7197\n",
      "Epoch 97/100\n",
      "24/24 [==============================] - 23s 614ms/step - loss: 2.1070e-04 - binary_accuracy: 1.0000 - f1: 0.9167 - val_loss: 0.5191 - val_binary_accuracy: 0.8773 - val_f1: 0.7307\n",
      "Epoch 98/100\n",
      "24/24 [==============================] - 23s 587ms/step - loss: 1.9359e-04 - binary_accuracy: 1.0000 - f1: 0.9167 - val_loss: 0.5169 - val_binary_accuracy: 0.8773 - val_f1: 0.7197\n",
      "Epoch 99/100\n",
      "24/24 [==============================] - 20s 540ms/step - loss: 2.0835e-04 - binary_accuracy: 1.0000 - f1: 0.9167 - val_loss: 0.5367 - val_binary_accuracy: 0.8712 - val_f1: 0.7237\n",
      "Epoch 100/100\n",
      "24/24 [==============================] - 23s 662ms/step - loss: 1.6024e-04 - binary_accuracy: 1.0000 - f1: 0.9167 - val_loss: 0.5235 - val_binary_accuracy: 0.8773 - val_f1: 0.7197\n",
      "\n",
      "[+] Time of training: 2487.12\n"
     ]
    }
   ],
   "source": [
    "# Train model\n",
    "start_time = time.time()\n",
    "\n",
    "history = model.fit(train_dataset,\n",
    "                    epochs = 100,\n",
    "                    validation_data = val_dataset,\n",
    "                    verbose = 1)\n",
    "\n",
    "end_time = time.time()\n",
    "print('\\n[+] Time of training: '+'{:.2f}'.format(end_time-start_time));"
   ]
  },
  {
   "cell_type": "markdown",
   "metadata": {
    "id": "jQGKLjSAGwmQ"
   },
   "source": [
    "#### Load existing CNN model\n",
    "Run the following cells only if you want to analyze an existing model."
   ]
  },
  {
   "cell_type": "code",
   "execution_count": 8,
   "metadata": {
    "executionInfo": {
     "elapsed": 212,
     "status": "ok",
     "timestamp": 1625007897271,
     "user": {
      "displayName": "Fernando Herran",
      "photoUrl": "",
      "userId": "09119314463851443877"
     },
     "user_tz": -120
    },
    "id": "Uj3Znuq0Gx_W"
   },
   "outputs": [],
   "source": [
    "model_name = 'cnn_model_v2'"
   ]
  },
  {
   "cell_type": "code",
   "execution_count": 14,
   "metadata": {
    "colab": {
     "base_uri": "https://localhost:8080/"
    },
    "executionInfo": {
     "elapsed": 1546,
     "status": "ok",
     "timestamp": 1624965965148,
     "user": {
      "displayName": "Fernando Herran",
      "photoUrl": "",
      "userId": "09119314463851443877"
     },
     "user_tz": -120
    },
    "id": "ie3LhzouG4Jy",
    "outputId": "a5759366-f33b-4099-dcff-9d7c736b35a9"
   },
   "outputs": [
    {
     "name": "stdout",
     "output_type": "stream",
     "text": [
      "[+] Model loaded\n"
     ]
    }
   ],
   "source": [
    "# Load model\n",
    "model = load_model(path + 'Results/' + model_name + '.h5', \n",
    "                   custom_objects = {'f1': f1})\n",
    "\n",
    "print('[+] Model loaded')\n",
    "#model.summary()"
   ]
  },
  {
   "cell_type": "code",
   "execution_count": 9,
   "metadata": {
    "colab": {
     "base_uri": "https://localhost:8080/"
    },
    "executionInfo": {
     "elapsed": 189,
     "status": "ok",
     "timestamp": 1625007898892,
     "user": {
      "displayName": "Fernando Herran",
      "photoUrl": "",
      "userId": "09119314463851443877"
     },
     "user_tz": -120
    },
    "id": "FXkSLYJWnR9S",
    "outputId": "3f9638f5-8091-4e3a-deb0-e27d0e56a2d4"
   },
   "outputs": [
    {
     "name": "stdout",
     "output_type": "stream",
     "text": [
      "[+] Model history loaded\n"
     ]
    }
   ],
   "source": [
    "# Load model history\n",
    "history = np.load(path + 'Results/' + model_name + '_history.npy', \n",
    "                  allow_pickle = 'TRUE').item()\n",
    "\n",
    "print('[+] Model history loaded')"
   ]
  },
  {
   "cell_type": "markdown",
   "metadata": {
    "id": "eR9YKWIj5CVt"
   },
   "source": [
    "### Evaluation "
   ]
  },
  {
   "cell_type": "markdown",
   "metadata": {
    "id": "b25LrUa2MkMJ"
   },
   "source": [
    "#### Metrics"
   ]
  },
  {
   "cell_type": "code",
   "execution_count": 10,
   "metadata": {
    "colab": {
     "base_uri": "https://localhost:8080/",
     "height": 407
    },
    "executionInfo": {
     "elapsed": 3870,
     "status": "ok",
     "timestamp": 1625007905948,
     "user": {
      "displayName": "Fernando Herran",
      "photoUrl": "",
      "userId": "09119314463851443877"
     },
     "user_tz": -120
    },
    "id": "o9ewdnA_jl5_",
    "outputId": "564fafc2-e0d9-4eed-90da-08e51ad92ad6"
   },
   "outputs": [
    {
     "data": {
      "image/png": "[encoded data removed]",
      "text/plain": [
       "<Figure size 1080x432 with 3 Axes>"
      ]
     },
     "metadata": {
      "tags": []
     },
     "output_type": "display_data"
    }
   ],
   "source": [
    "# Plot metrics\n",
    "plot_history(history, \n",
    "             save_fig = path + 'Results/figures/model_history.png')"
   ]
  },
  {
   "cell_type": "code",
   "execution_count": null,
   "metadata": {
    "id": "1KL2_D0XzcBr"
   },
   "outputs": [],
   "source": [
    "# Get accuracy\n",
    "model.evaluate(train_dataset,\n",
    "               verbose = 0)"
   ]
  },
  {
   "cell_type": "markdown",
   "metadata": {
    "id": "PcOmf6kmmY3f"
   },
   "source": [
    "#### Evaluation training dataset"
   ]
  },
  {
   "cell_type": "code",
   "execution_count": 20,
   "metadata": {
    "executionInfo": {
     "elapsed": 29212,
     "status": "ok",
     "timestamp": 1624968000801,
     "user": {
      "displayName": "Fernando Herran",
      "photoUrl": "",
      "userId": "09119314463851443877"
     },
     "user_tz": -120
    },
    "id": "KCGNkFwFjJsr"
   },
   "outputs": [],
   "source": [
    "# Get training true labels\n",
    "train_true_labels = get_true_labels(train_dataset)"
   ]
  },
  {
   "cell_type": "code",
   "execution_count": 14,
   "metadata": {
    "executionInfo": {
     "elapsed": 111671,
     "status": "ok",
     "timestamp": 1624959987814,
     "user": {
      "displayName": "Fernando Herran",
      "photoUrl": "",
      "userId": "09119314463851443877"
     },
     "user_tz": -120
    },
    "id": "Oj89wS2_jyll"
   },
   "outputs": [],
   "source": [
    "# Get training predicted labels\n",
    "train_predicted_labels = get_predicted_labels(model, train_dataset)"
   ]
  },
  {
   "cell_type": "code",
   "execution_count": 15,
   "metadata": {
    "colab": {
     "base_uri": "https://localhost:8080/",
     "height": 365
    },
    "executionInfo": {
     "elapsed": 2061,
     "status": "ok",
     "timestamp": 1624959997766,
     "user": {
      "displayName": "Fernando Herran",
      "photoUrl": "",
      "userId": "09119314463851443877"
     },
     "user_tz": -120
    },
    "id": "UfGDt_RdkzZ0",
    "outputId": "b149ce3f-f094-4370-e904-1d1b6873a7b7"
   },
   "outputs": [
    {
     "data": {
      "image/png": "[encoded data removed]",
      "text/plain": [
       "<Figure size 576x360 with 1 Axes>"
      ]
     },
     "metadata": {
      "tags": []
     },
     "output_type": "display_data"
    }
   ],
   "source": [
    "# Get evaluation \n",
    "get_evaluation(train_true_labels, train_predicted_labels, \n",
    "               save_fig = path + 'Results/figures/train_cm.png')"
   ]
  },
  {
   "cell_type": "markdown",
   "metadata": {
    "id": "giAn5XUpm4jY"
   },
   "source": [
    "#### Evaluation testing dataset"
   ]
  },
  {
   "cell_type": "code",
   "execution_count": 15,
   "metadata": {
    "executionInfo": {
     "elapsed": 10211,
     "status": "ok",
     "timestamp": 1624965987977,
     "user": {
      "displayName": "Fernando Herran",
      "photoUrl": "",
      "userId": "09119314463851443877"
     },
     "user_tz": -120
    },
    "id": "8Xcgahxk6jwH"
   },
   "outputs": [],
   "source": [
    "# Get testing true labels\n",
    "test_true_labels = get_true_labels(test_dataset)"
   ]
  },
  {
   "cell_type": "code",
   "execution_count": 16,
   "metadata": {
    "executionInfo": {
     "elapsed": 12382,
     "status": "ok",
     "timestamp": 1624966002109,
     "user": {
      "displayName": "Fernando Herran",
      "photoUrl": "",
      "userId": "09119314463851443877"
     },
     "user_tz": -120
    },
    "id": "tS2j-BnW6jwI"
   },
   "outputs": [],
   "source": [
    "# Get testing predicted labels\n",
    "test_predicted_labels = get_predicted_labels(model, test_dataset)"
   ]
  },
  {
   "cell_type": "code",
   "execution_count": 17,
   "metadata": {
    "colab": {
     "base_uri": "https://localhost:8080/",
     "height": 365
    },
    "executionInfo": {
     "elapsed": 1640,
     "status": "ok",
     "timestamp": 1624966226889,
     "user": {
      "displayName": "Fernando Herran",
      "photoUrl": "",
      "userId": "09119314463851443877"
     },
     "user_tz": -120
    },
    "id": "t8mrUcZIzcBw",
    "outputId": "a317981c-8b2b-4e9a-d725-a8b0909c0814"
   },
   "outputs": [
    {
     "data": {
      "image/png": "[encoded data removed]",
      "text/plain": [
       "<Figure size 576x360 with 1 Axes>"
      ]
     },
     "metadata": {
      "tags": []
     },
     "output_type": "display_data"
    }
   ],
   "source": [
    "# Get evaluation \n",
    "get_evaluation(test_true_labels, test_predicted_labels,\n",
    "               save_fig = path + 'Results/figures/test_cm.png')"
   ]
  },
  {
   "cell_type": "markdown",
   "metadata": {
    "id": "jK7UHZgO8MuY"
   },
   "source": [
    "#### Roc curve"
   ]
  },
  {
   "cell_type": "code",
   "execution_count": 25,
   "metadata": {
    "colab": {
     "base_uri": "https://localhost:8080/",
     "height": 449
    },
    "executionInfo": {
     "elapsed": 80151,
     "status": "ok",
     "timestamp": 1624969682520,
     "user": {
      "displayName": "Fernando Herran",
      "photoUrl": "",
      "userId": "09119314463851443877"
     },
     "user_tz": -120
    },
    "id": "5HtqIOub_OTZ",
    "outputId": "0c8010b8-8b7a-4078-cccf-701f344751d4"
   },
   "outputs": [
    {
     "name": "stdout",
     "output_type": "stream",
     "text": [
      "[+] Train AUC score = 1.000\n",
      "[+] Test AUC score = 0.942\n"
     ]
    },
    {
     "data": {
      "image/png": "[encoded data removed]",
      "text/plain": [
       "<Figure size 432x432 with 1 Axes>"
      ]
     },
     "metadata": {
      "tags": []
     },
     "output_type": "display_data"
    }
   ],
   "source": [
    "plot_roc_curve(model, \n",
    "               train_dataset, test_dataset, train_true_labels, test_true_labels, \n",
    "               save_fig = path + 'Results/figures/roc_curve.png')"
   ]
  },
  {
   "cell_type": "markdown",
   "metadata": {
    "id": "aB3fGX0xUluZ"
   },
   "source": [
    "#### Save CNN model"
   ]
  },
  {
   "cell_type": "code",
   "execution_count": 50,
   "metadata": {
    "colab": {
     "base_uri": "https://localhost:8080/"
    },
    "executionInfo": {
     "elapsed": 172,
     "status": "ok",
     "timestamp": 1624986588060,
     "user": {
      "displayName": "Fernando Herran",
      "photoUrl": "",
      "userId": "09119314463851443877"
     },
     "user_tz": -120
    },
    "id": "L2JrB7wmrRdb",
    "outputId": "642b600d-3e85-4c43-9c16-6c2e6bae9ab1"
   },
   "outputs": [
    {
     "name": "stdout",
     "output_type": "stream",
     "text": [
      "[+] Model saved\n",
      "[+] Model history saved\n"
     ]
    }
   ],
   "source": [
    "# Save CNN model\n",
    "#model.save(path + 'Results/' + model.name + '.h5')\n",
    "\n",
    "print('[+] Model saved')\n",
    "\n",
    "# Save CNN model history\n",
    "np.save(path + 'Results/' + model.name + '_history.npy', history.history)\n",
    "\n",
    "print('[+] Model history saved')"
   ]
  },
  {
   "cell_type": "markdown",
   "metadata": {
    "id": "89s2ysNPOHb4"
   },
   "source": [
    "### Optuna study"
   ]
  },
  {
   "cell_type": "markdown",
   "metadata": {
    "id": "4NPkTk3zby49"
   },
   "source": [
    "#### Import Optuna"
   ]
  },
  {
   "cell_type": "code",
   "execution_count": null,
   "metadata": {
    "id": "cONCa9BY_lVp"
   },
   "outputs": [],
   "source": [
    "pip install optuna"
   ]
  },
  {
   "cell_type": "code",
   "execution_count": 29,
   "metadata": {
    "executionInfo": {
     "elapsed": 2819,
     "status": "ok",
     "timestamp": 1624969775550,
     "user": {
      "displayName": "Fernando Herran",
      "photoUrl": "",
      "userId": "09119314463851443877"
     },
     "user_tz": -120
    },
    "id": "KSHy6XENOI0p"
   },
   "outputs": [],
   "source": [
    "import optuna "
   ]
  },
  {
   "cell_type": "markdown",
   "metadata": {
    "id": "soq9VQwE4_be"
   },
   "source": [
    "#### Optuna preprocessing"
   ]
  },
  {
   "cell_type": "code",
   "execution_count": null,
   "metadata": {
    "id": "trMV9yXm5Fjo"
   },
   "outputs": [],
   "source": [
    "# Get testing true labels\n",
    "val_true_labels = get_true_labels(val_dataset)"
   ]
  },
  {
   "cell_type": "code",
   "execution_count": null,
   "metadata": {
    "id": "DHXISWV85D37"
   },
   "outputs": [],
   "source": [
    "# Define callback\n",
    "callback_early_stopping = EarlyStopping(monitor = 'val_loss',\n",
    "                                        min_delta = 0,\n",
    "                                        patience = 5,\n",
    "                                        verbose = 1,\n",
    "                                        restore_best_weights = True)"
   ]
  },
  {
   "cell_type": "markdown",
   "metadata": {
    "id": "mGMhunyx6x7t"
   },
   "source": [
    "#### Define functions"
   ]
  },
  {
   "cell_type": "code",
   "execution_count": null,
   "metadata": {
    "id": "6ZAxjuZ27XpE"
   },
   "outputs": [],
   "source": [
    "def build_model_optuna(input_shape, flatten_layer):\n",
    "    '''\n",
    "    Build a 3D Convolutional Neural Network (CNN).\n",
    "    '''\n",
    "\n",
    "    # Fix random seed for reproducibility\n",
    "    np.random.seed(123)\n",
    "    tf.random.set_seed(123) \n",
    "    \n",
    "    ## Input layer\n",
    "    inputs = Input(shape = input_shape + (1,))\n",
    "    \n",
    "    ## Convolutional blocks\n",
    "    # 1st conv block\n",
    "    x = Conv3D(64, kernel_size = 3, activation = 'relu')(inputs)\n",
    "    x = MaxPool3D(pool_size = 2)(x)\n",
    "    x = BatchNormalization()(x)\n",
    "              \n",
    "    # 2nd conv block\n",
    "    x = Conv3D(128, kernel_size = 3, activation = 'relu')(x)\n",
    "    x = MaxPool3D(pool_size = 2)(x)\n",
    "    x = BatchNormalization()(x)\n",
    "\n",
    "    # 3rd conv block\n",
    "    x = Conv3D(256, kernel_size = 3, activation = 'relu')(x)\n",
    "    x = MaxPool3D(pool_size = 2)(x)\n",
    "    x = BatchNormalization()(x)\n",
    "\n",
    "    # 4rd conv block\n",
    "    x = Conv3D(512, kernel_size = 3, activation = 'relu')(x)\n",
    "    x = MaxPool3D(pool_size = 2)(x)\n",
    "    x = BatchNormalization()(x)\n",
    "    \n",
    "    ## Flatten layer\n",
    "    if flatten_layer == 'GlobalAveragePooling3D':\n",
    "        x = GlobalAveragePooling3D()(x)\n",
    "\n",
    "    elif flatten_layer == 'GlobalMaxPooling3D':\n",
    "        x = GlobalMaxPooling3D()(x)\n",
    "\n",
    "    ## Dense layers       \n",
    "    x = Dense(512, activation = 'relu')(x)\n",
    "    x = Dropout(0.3)(x)\n",
    "    \n",
    "    x = Dense(256, activation = 'relu')(x)\n",
    "    x = Dropout(0.3)(x)\n",
    "\n",
    "    ## Output layer\n",
    "    outputs = Dense(1, activation = 'sigmoid')(x)\n",
    "\n",
    "    # Define the model\n",
    "    global model\n",
    "    model = Model(inputs, outputs)\n",
    "    \n",
    "    return model"
   ]
  },
  {
   "cell_type": "code",
   "execution_count": null,
   "metadata": {
    "id": "jO21sWFs6_em"
   },
   "outputs": [],
   "source": [
    "def get_optimizer(optimizer_name, learning_rate):\n",
    "\n",
    "    if optimizer_name == 'Adam':\n",
    "        optimizer = Adam(learning_rate = learning_rate, \n",
    "                        decay = 1e-6)\n",
    "        \n",
    "    elif optimizer_name == 'RMSprop':\n",
    "        optimizer = RMSprop(learning_rate = learning_rate, \n",
    "                             decay = 1e-6)\n",
    "\n",
    "    elif optimizer_name == 'Adadelta':\n",
    "        optimizer = Adadelta(learning_rate = learning_rate, \n",
    "                             decay = 1e-6)\n",
    "\n",
    "    elif optimizer_name == 'Adagrad':\n",
    "        optimizer = Adagrad(learning_rate = learning_rate, \n",
    "                             decay = 1e-6)\n",
    "    \n",
    "    return optimizer"
   ]
  },
  {
   "cell_type": "code",
   "execution_count": null,
   "metadata": {
    "id": "s617ajjw6z79"
   },
   "outputs": [],
   "source": [
    "# Objective function\n",
    "def objective(trial, train_dataset, val_dataset, val_true_labels, study_name):\n",
    "    \n",
    "    # Define optuna optimization parameters  \n",
    "    learning_rate = trial.suggest_categorical('learning_rate', [1e-2, 1e-3, 1e-4, 1e-5])  \n",
    "    optimizer_name = trial.suggest_categorical('optimizer',['Adam', 'RMSprop', \n",
    "                                                            'Adadelta', 'Adagrad'])\n",
    "    flatten_layer = trial.suggest_categorical('flatten_layer',['GlobalAveragePooling3D',\n",
    "                                                               'GlobalMaxPooling3D'])\n",
    "\n",
    "    # Define inputs\n",
    "    model_name = '3d_model_optuna'\n",
    "    input_shape = (110, 130, 80)\n",
    "\n",
    "    # Get optimizer\n",
    "    optimizer = get_optimizer(optimizer_name, learning_rate)\n",
    "\n",
    "    # TPU strategy\n",
    "    with tpu_strategy.scope(): \n",
    "\n",
    "        # Build model\n",
    "        model = build_model_optuna(input_shape, flatten_layer)\n",
    "\n",
    "        # Compile model\n",
    "        model.compile(loss = 'binary_crossentropy',\n",
    "                      optimizer = optimizer,\n",
    "                      metrics = [BinaryAccuracy(), f1]) \n",
    "    # Train model\n",
    "    history = model.fit(train_dataset,\n",
    "                        epochs = 60,\n",
    "                        validation_data = val_dataset,\n",
    "                        verbose = 1)\n",
    "  \n",
    "    # Save CNN model history\n",
    "    np.save(study_name + '_history_trial_' + str(trial.number) + '.npy', \n",
    "            history.history)\n",
    "        \n",
    "    # Get validation predicted labels\n",
    "    val_predicted_labels = get_predicted_labels(model, val_dataset)\n",
    "      \n",
    "    # Evaluate the model (F1 score) with the validation dataset\n",
    "    f1_score_metric = f1_score(val_true_labels, val_predicted_labels, average = 'weighted')\n",
    "\n",
    "    return f1_score_metric"
   ]
  },
  {
   "cell_type": "markdown",
   "metadata": {
    "id": "WD73i6NBb3ij"
   },
   "source": [
    "#### Run Optuna analysis"
   ]
  },
  {
   "cell_type": "code",
   "execution_count": null,
   "metadata": {
    "colab": {
     "base_uri": "https://localhost:8080/"
    },
    "executionInfo": {
     "elapsed": 6490984,
     "status": "ok",
     "timestamp": 1624634692528,
     "user": {
      "displayName": "Fernando Herran",
      "photoUrl": "",
      "userId": "09119314463851443877"
     },
     "user_tz": -120
    },
    "id": "8WTpvhyPYQb6",
    "outputId": "76ccb53d-272f-4715-8e63-27c49d816aa2"
   },
   "outputs": [
    {
     "name": "stderr",
     "output_type": "stream",
     "text": [
      "\u001b[32m[I 2021-06-25 13:36:42,019]\u001b[0m Using an existing study with name './drive/MyDrive/TFM/Code/Results/optuna_studies/study_v1' instead of creating a new one.\u001b[0m\n"
     ]
    },
    {
     "name": "stdout",
     "output_type": "stream",
     "text": [
      "Epoch 1/60\n",
      "24/24 [==============================] - 61s 1s/step - loss: 39.5027 - binary_accuracy: 0.5020 - f1: 0.4161 - val_loss: 17.6665 - val_binary_accuracy: 0.4724 - val_f1: 0.0000e+00\n",
      "Epoch 2/60\n",
      "24/24 [==============================] - 20s 509ms/step - loss: 0.7462 - binary_accuracy: 0.5204 - f1: 0.4029 - val_loss: 1.4727 - val_binary_accuracy: 0.4724 - val_f1: 0.0000e+00\n",
      "Epoch 3/60\n",
      "24/24 [==============================] - 18s 451ms/step - loss: 0.7388 - binary_accuracy: 0.4967 - f1: 0.3761 - val_loss: 1.2829 - val_binary_accuracy: 0.4724 - val_f1: 0.0000e+00\n",
      "Epoch 4/60\n",
      "24/24 [==============================] - 20s 506ms/step - loss: 0.7966 - binary_accuracy: 0.4954 - f1: 0.3889 - val_loss: 0.7338 - val_binary_accuracy: 0.4724 - val_f1: 0.0000e+00\n",
      "Epoch 5/60\n",
      "24/24 [==============================] - 21s 573ms/step - loss: 0.7987 - binary_accuracy: 0.5046 - f1: 0.4124 - val_loss: 0.7192 - val_binary_accuracy: 0.4724 - val_f1: 0.0000e+00\n",
      "Epoch 6/60\n",
      "24/24 [==============================] - 22s 528ms/step - loss: 0.7234 - binary_accuracy: 0.5204 - f1: 0.4438 - val_loss: 0.7471 - val_binary_accuracy: 0.4724 - val_f1: 0.0000e+00\n",
      "Epoch 7/60\n",
      "24/24 [==============================] - 21s 518ms/step - loss: 0.7697 - binary_accuracy: 0.4901 - f1: 0.3920 - val_loss: 0.7052 - val_binary_accuracy: 0.4724 - val_f1: 0.0000e+00\n",
      "Epoch 8/60\n",
      "24/24 [==============================] - 22s 568ms/step - loss: 0.7102 - binary_accuracy: 0.4862 - f1: 0.4319 - val_loss: 0.7976 - val_binary_accuracy: 0.4724 - val_f1: 0.0000e+00\n",
      "Epoch 9/60\n",
      "24/24 [==============================] - 21s 491ms/step - loss: 0.7385 - binary_accuracy: 0.4796 - f1: 0.4308 - val_loss: 0.7248 - val_binary_accuracy: 0.4724 - val_f1: 0.0000e+00\n",
      "Epoch 10/60\n",
      "24/24 [==============================] - 20s 582ms/step - loss: 0.7120 - binary_accuracy: 0.4783 - f1: 0.4720 - val_loss: 0.7817 - val_binary_accuracy: 0.4724 - val_f1: 0.0000e+00\n",
      "Epoch 11/60\n",
      "24/24 [==============================] - 23s 572ms/step - loss: 0.7263 - binary_accuracy: 0.4941 - f1: 0.4736 - val_loss: 0.6925 - val_binary_accuracy: 0.5276 - val_f1: 0.5612\n",
      "Epoch 12/60\n",
      "24/24 [==============================] - 20s 494ms/step - loss: 0.7216 - binary_accuracy: 0.5072 - f1: 0.4942 - val_loss: 0.7500 - val_binary_accuracy: 0.4724 - val_f1: 0.0000e+00\n",
      "Epoch 13/60\n",
      "24/24 [==============================] - 23s 621ms/step - loss: 0.7021 - binary_accuracy: 0.4756 - f1: 0.4756 - val_loss: 0.7266 - val_binary_accuracy: 0.4724 - val_f1: 0.0000e+00\n",
      "Epoch 14/60\n",
      "24/24 [==============================] - 22s 588ms/step - loss: 0.7109 - binary_accuracy: 0.5059 - f1: 0.5339 - val_loss: 2.7479 - val_binary_accuracy: 0.4724 - val_f1: 0.0000e+00\n",
      "Epoch 15/60\n",
      "24/24 [==============================] - 21s 637ms/step - loss: 0.7405 - binary_accuracy: 0.5072 - f1: 0.4097 - val_loss: 0.8098 - val_binary_accuracy: 0.5276 - val_f1: 0.5612\n",
      "Epoch 16/60\n",
      "24/24 [==============================] - 20s 535ms/step - loss: 0.6989 - binary_accuracy: 0.5362 - f1: 0.5064 - val_loss: 1.2317 - val_binary_accuracy: 0.4724 - val_f1: 0.0000e+00\n",
      "Epoch 17/60\n",
      "24/24 [==============================] - 21s 530ms/step - loss: 0.6976 - binary_accuracy: 0.5323 - f1: 0.4634 - val_loss: 0.7740 - val_binary_accuracy: 0.4724 - val_f1: 0.0000e+00\n",
      "Epoch 18/60\n",
      "24/24 [==============================] - 20s 570ms/step - loss: 0.7162 - binary_accuracy: 0.5797 - f1: 0.5166 - val_loss: 2.0239 - val_binary_accuracy: 0.4724 - val_f1: 0.0000e+00\n",
      "Epoch 19/60\n",
      "24/24 [==============================] - 22s 571ms/step - loss: 0.6916 - binary_accuracy: 0.5547 - f1: 0.4625 - val_loss: 0.7318 - val_binary_accuracy: 0.4785 - val_f1: 0.0208\n",
      "Epoch 20/60\n",
      "24/24 [==============================] - 21s 534ms/step - loss: 0.6824 - binary_accuracy: 0.5863 - f1: 0.5207 - val_loss: 2.2538 - val_binary_accuracy: 0.4724 - val_f1: 0.0000e+00\n",
      "Epoch 21/60\n",
      "24/24 [==============================] - 22s 548ms/step - loss: 0.7169 - binary_accuracy: 0.6113 - f1: 0.5190 - val_loss: 1.5814 - val_binary_accuracy: 0.4724 - val_f1: 0.0000e+00\n",
      "Epoch 22/60\n",
      "24/24 [==============================] - 22s 614ms/step - loss: 0.6722 - binary_accuracy: 0.6285 - f1: 0.4949 - val_loss: 0.9734 - val_binary_accuracy: 0.4724 - val_f1: 0.0000e+00\n",
      "Epoch 23/60\n",
      "24/24 [==============================] - 22s 573ms/step - loss: 0.6691 - binary_accuracy: 0.6232 - f1: 0.5370 - val_loss: 1.2199 - val_binary_accuracy: 0.4785 - val_f1: 0.0208\n",
      "Epoch 24/60\n",
      "24/24 [==============================] - 23s 653ms/step - loss: 0.6752 - binary_accuracy: 0.6390 - f1: 0.5590 - val_loss: 0.6813 - val_binary_accuracy: 0.6074 - val_f1: 0.3507\n",
      "Epoch 25/60\n",
      "24/24 [==============================] - 21s 559ms/step - loss: 0.7194 - binary_accuracy: 0.6311 - f1: 0.5330 - val_loss: 0.7063 - val_binary_accuracy: 0.4908 - val_f1: 0.0521\n",
      "Epoch 26/60\n",
      "24/24 [==============================] - 22s 582ms/step - loss: 0.6698 - binary_accuracy: 0.6153 - f1: 0.5663 - val_loss: 0.8296 - val_binary_accuracy: 0.5337 - val_f1: 0.1924\n",
      "Epoch 27/60\n",
      "24/24 [==============================] - 22s 556ms/step - loss: 0.6636 - binary_accuracy: 0.6667 - f1: 0.6119 - val_loss: 1.3990 - val_binary_accuracy: 0.4969 - val_f1: 0.0625\n",
      "Epoch 28/60\n",
      "24/24 [==============================] - 23s 552ms/step - loss: 0.6642 - binary_accuracy: 0.6377 - f1: 0.5455 - val_loss: 0.6743 - val_binary_accuracy: 0.6442 - val_f1: 0.4396\n",
      "Epoch 29/60\n",
      "24/24 [==============================] - 20s 539ms/step - loss: 0.6655 - binary_accuracy: 0.6838 - f1: 0.6115 - val_loss: 0.6588 - val_binary_accuracy: 0.5460 - val_f1: 0.5607\n",
      "Epoch 30/60\n",
      "24/24 [==============================] - 20s 533ms/step - loss: 0.6249 - binary_accuracy: 0.6693 - f1: 0.5538 - val_loss: 0.6481 - val_binary_accuracy: 0.6196 - val_f1: 0.3917\n",
      "Epoch 31/60\n",
      "24/24 [==============================] - 25s 638ms/step - loss: 0.6723 - binary_accuracy: 0.6456 - f1: 0.5842 - val_loss: 0.9651 - val_binary_accuracy: 0.5276 - val_f1: 0.1771\n",
      "Epoch 32/60\n",
      "24/24 [==============================] - 22s 598ms/step - loss: 0.6355 - binary_accuracy: 0.6785 - f1: 0.5774 - val_loss: 0.6283 - val_binary_accuracy: 0.6810 - val_f1: 0.4958\n",
      "Epoch 33/60\n",
      "24/24 [==============================] - 20s 500ms/step - loss: 0.6652 - binary_accuracy: 0.6917 - f1: 0.5833 - val_loss: 0.7647 - val_binary_accuracy: 0.5828 - val_f1: 0.3132\n",
      "Epoch 34/60\n",
      "24/24 [==============================] - 21s 568ms/step - loss: 0.6307 - binary_accuracy: 0.6601 - f1: 0.5973 - val_loss: 0.6594 - val_binary_accuracy: 0.5890 - val_f1: 0.3319\n",
      "Epoch 35/60\n",
      "24/24 [==============================] - 21s 581ms/step - loss: 0.6237 - binary_accuracy: 0.6943 - f1: 0.6419 - val_loss: 0.6418 - val_binary_accuracy: 0.6319 - val_f1: 0.4802\n",
      "Epoch 36/60\n",
      "24/24 [==============================] - 23s 556ms/step - loss: 0.6774 - binary_accuracy: 0.6904 - f1: 0.6010 - val_loss: 0.8360 - val_binary_accuracy: 0.5153 - val_f1: 0.1229\n",
      "Epoch 37/60\n",
      "24/24 [==============================] - 25s 652ms/step - loss: 0.5725 - binary_accuracy: 0.7312 - f1: 0.6640 - val_loss: 0.6707 - val_binary_accuracy: 0.6564 - val_f1: 0.4429\n",
      "Epoch 38/60\n",
      "24/24 [==============================] - 21s 582ms/step - loss: 0.6286 - binary_accuracy: 0.7141 - f1: 0.6396 - val_loss: 0.6281 - val_binary_accuracy: 0.7117 - val_f1: 0.6014\n",
      "Epoch 39/60\n",
      "24/24 [==============================] - 21s 531ms/step - loss: 0.5774 - binary_accuracy: 0.7312 - f1: 0.6505 - val_loss: 0.6044 - val_binary_accuracy: 0.7055 - val_f1: 0.5489\n",
      "Epoch 40/60\n",
      "24/24 [==============================] - 21s 591ms/step - loss: 0.6260 - binary_accuracy: 0.7009 - f1: 0.6577 - val_loss: 0.6510 - val_binary_accuracy: 0.5276 - val_f1: 0.5612\n",
      "Epoch 41/60\n",
      "24/24 [==============================] - 22s 615ms/step - loss: 0.7251 - binary_accuracy: 0.6917 - f1: 0.6457 - val_loss: 0.6361 - val_binary_accuracy: 0.6564 - val_f1: 0.5966\n",
      "Epoch 42/60\n",
      "24/24 [==============================] - 22s 594ms/step - loss: 0.5657 - binary_accuracy: 0.7470 - f1: 0.7001 - val_loss: 0.6289 - val_binary_accuracy: 0.5828 - val_f1: 0.5807\n",
      "Epoch 43/60\n",
      "24/24 [==============================] - 20s 520ms/step - loss: 0.6040 - binary_accuracy: 0.7404 - f1: 0.6822 - val_loss: 0.6931 - val_binary_accuracy: 0.5276 - val_f1: 0.5612\n",
      "Epoch 44/60\n",
      "24/24 [==============================] - 18s 477ms/step - loss: 0.5761 - binary_accuracy: 0.7589 - f1: 0.6939 - val_loss: 0.6043 - val_binary_accuracy: 0.6994 - val_f1: 0.5628\n",
      "Epoch 45/60\n",
      "24/24 [==============================] - 20s 534ms/step - loss: 0.7933 - binary_accuracy: 0.7378 - f1: 0.6502 - val_loss: 0.5652 - val_binary_accuracy: 0.7178 - val_f1: 0.6315\n",
      "Epoch 46/60\n",
      "24/24 [==============================] - 20s 493ms/step - loss: 0.4699 - binary_accuracy: 0.7760 - f1: 0.7084 - val_loss: 1.1477 - val_binary_accuracy: 0.6748 - val_f1: 0.4338\n",
      "Epoch 47/60\n",
      "24/24 [==============================] - 20s 552ms/step - loss: 0.5777 - binary_accuracy: 0.7773 - f1: 0.6974 - val_loss: 0.5897 - val_binary_accuracy: 0.6994 - val_f1: 0.6102\n",
      "Epoch 48/60\n",
      "24/24 [==============================] - 22s 566ms/step - loss: 0.5910 - binary_accuracy: 0.7813 - f1: 0.7076 - val_loss: 0.7489 - val_binary_accuracy: 0.6994 - val_f1: 0.5192\n",
      "Epoch 49/60\n",
      "24/24 [==============================] - 23s 653ms/step - loss: 0.4346 - binary_accuracy: 0.7852 - f1: 0.7209 - val_loss: 0.5163 - val_binary_accuracy: 0.7239 - val_f1: 0.6355\n",
      "Epoch 50/60\n",
      "24/24 [==============================] - 21s 579ms/step - loss: 0.6011 - binary_accuracy: 0.8063 - f1: 0.7279 - val_loss: 0.5041 - val_binary_accuracy: 0.7301 - val_f1: 0.6105\n",
      "Epoch 51/60\n",
      "24/24 [==============================] - 22s 552ms/step - loss: 0.4296 - binary_accuracy: 0.8353 - f1: 0.7438 - val_loss: 1.0960 - val_binary_accuracy: 0.6380 - val_f1: 0.3729\n",
      "Epoch 52/60\n",
      "24/24 [==============================] - 17s 472ms/step - loss: 0.4232 - binary_accuracy: 0.8024 - f1: 0.7027 - val_loss: 1.8943 - val_binary_accuracy: 0.5706 - val_f1: 0.5772\n",
      "Epoch 53/60\n",
      "24/24 [==============================] - 21s 541ms/step - loss: 0.5047 - binary_accuracy: 0.8037 - f1: 0.7187 - val_loss: 1.7624 - val_binary_accuracy: 0.5276 - val_f1: 0.5612\n",
      "Epoch 54/60\n",
      "24/24 [==============================] - 23s 595ms/step - loss: 0.4142 - binary_accuracy: 0.8485 - f1: 0.7686 - val_loss: 2.9522 - val_binary_accuracy: 0.5276 - val_f1: 0.5612\n",
      "Epoch 55/60\n",
      "24/24 [==============================] - 20s 512ms/step - loss: 0.4635 - binary_accuracy: 0.8327 - f1: 0.7515 - val_loss: 1.4881 - val_binary_accuracy: 0.6687 - val_f1: 0.6217\n",
      "Epoch 56/60\n",
      "24/24 [==============================] - 22s 576ms/step - loss: 0.4749 - binary_accuracy: 0.8762 - f1: 0.7682 - val_loss: 0.9655 - val_binary_accuracy: 0.6810 - val_f1: 0.5318\n",
      "Epoch 57/60\n",
      "24/24 [==============================] - 21s 567ms/step - loss: 0.5586 - binary_accuracy: 0.8340 - f1: 0.7534 - val_loss: 2.0232 - val_binary_accuracy: 0.5583 - val_f1: 0.2125\n",
      "Epoch 58/60\n",
      "24/24 [==============================] - 20s 515ms/step - loss: 0.3061 - binary_accuracy: 0.8682 - f1: 0.7858 - val_loss: 1.0429 - val_binary_accuracy: 0.7791 - val_f1: 0.6686\n",
      "Epoch 59/60\n",
      "24/24 [==============================] - 20s 535ms/step - loss: 0.3675 - binary_accuracy: 0.8498 - f1: 0.7345 - val_loss: 0.7882 - val_binary_accuracy: 0.5644 - val_f1: 0.5751\n",
      "Epoch 60/60\n",
      "24/24 [==============================] - 18s 504ms/step - loss: 0.5100 - binary_accuracy: 0.8248 - f1: 0.7550 - val_loss: 0.9242 - val_binary_accuracy: 0.7546 - val_f1: 0.6559\n"
     ]
    },
    {
     "name": "stderr",
     "output_type": "stream",
     "text": [
      "\u001b[32m[I 2021-06-25 13:59:19,078]\u001b[0m Trial 9 finished with value: 0.7445126107702795 and parameters: {'learning_rate': 0.01, 'optimizer': 'RMSprop', 'flatten_layer': 'GlobalMaxPooling3D'}. Best is trial 0 with value: 0.8528716759671175.\u001b[0m\n"
     ]
    },
    {
     "name": "stdout",
     "output_type": "stream",
     "text": [
      "Epoch 1/60\n",
      "24/24 [==============================] - 61s 1s/step - loss: 1.7791 - binary_accuracy: 0.5231 - f1: 0.4034 - val_loss: 0.9480 - val_binary_accuracy: 0.4724 - val_f1: 0.0000e+00\n",
      "Epoch 2/60\n",
      "24/24 [==============================] - 23s 581ms/step - loss: 0.7853 - binary_accuracy: 0.4848 - f1: 0.3918 - val_loss: 0.7794 - val_binary_accuracy: 0.4724 - val_f1: 0.0000e+00\n",
      "Epoch 3/60\n",
      "24/24 [==============================] - 21s 530ms/step - loss: 0.7702 - binary_accuracy: 0.4769 - f1: 0.3875 - val_loss: 0.6951 - val_binary_accuracy: 0.4724 - val_f1: 0.0000e+00\n",
      "Epoch 4/60\n",
      "24/24 [==============================] - 22s 589ms/step - loss: 0.7533 - binary_accuracy: 0.5059 - f1: 0.4386 - val_loss: 0.6930 - val_binary_accuracy: 0.5276 - val_f1: 0.5612\n",
      "Epoch 5/60\n",
      "24/24 [==============================] - 31s 829ms/step - loss: 0.7417 - binary_accuracy: 0.5217 - f1: 0.4579 - val_loss: 0.7372 - val_binary_accuracy: 0.4724 - val_f1: 0.0000e+00\n",
      "Epoch 6/60\n",
      "24/24 [==============================] - 28s 700ms/step - loss: 0.7285 - binary_accuracy: 0.5072 - f1: 0.4174 - val_loss: 0.6904 - val_binary_accuracy: 0.5276 - val_f1: 0.5612\n",
      "Epoch 7/60\n",
      "24/24 [==============================] - 24s 606ms/step - loss: 0.7204 - binary_accuracy: 0.5257 - f1: 0.4499 - val_loss: 0.6993 - val_binary_accuracy: 0.5276 - val_f1: 0.5612\n",
      "Epoch 8/60\n",
      "24/24 [==============================] - 23s 581ms/step - loss: 0.7194 - binary_accuracy: 0.5520 - f1: 0.4744 - val_loss: 0.7368 - val_binary_accuracy: 0.5276 - val_f1: 0.5612\n",
      "Epoch 9/60\n",
      "24/24 [==============================] - 21s 546ms/step - loss: 0.7189 - binary_accuracy: 0.4730 - f1: 0.3590 - val_loss: 0.7182 - val_binary_accuracy: 0.5276 - val_f1: 0.5612\n",
      "Epoch 10/60\n",
      "24/24 [==============================] - 20s 480ms/step - loss: 0.7139 - binary_accuracy: 0.5165 - f1: 0.4412 - val_loss: 0.7480 - val_binary_accuracy: 0.5276 - val_f1: 0.5612\n",
      "Epoch 11/60\n",
      "24/24 [==============================] - 20s 536ms/step - loss: 0.6982 - binary_accuracy: 0.5428 - f1: 0.4571 - val_loss: 0.7271 - val_binary_accuracy: 0.5276 - val_f1: 0.5612\n",
      "Epoch 12/60\n",
      "24/24 [==============================] - 20s 531ms/step - loss: 0.7068 - binary_accuracy: 0.5428 - f1: 0.4489 - val_loss: 0.7853 - val_binary_accuracy: 0.5276 - val_f1: 0.5612\n",
      "Epoch 13/60\n",
      "24/24 [==============================] - 24s 601ms/step - loss: 0.6906 - binary_accuracy: 0.5731 - f1: 0.4965 - val_loss: 0.7201 - val_binary_accuracy: 0.5276 - val_f1: 0.5612\n",
      "Epoch 14/60\n",
      "24/24 [==============================] - 22s 573ms/step - loss: 0.6875 - binary_accuracy: 0.5823 - f1: 0.4872 - val_loss: 0.8175 - val_binary_accuracy: 0.5276 - val_f1: 0.5612\n",
      "Epoch 15/60\n",
      "24/24 [==============================] - 22s 566ms/step - loss: 0.6845 - binary_accuracy: 0.6192 - f1: 0.5445 - val_loss: 0.7377 - val_binary_accuracy: 0.5276 - val_f1: 0.5612\n",
      "Epoch 16/60\n",
      "24/24 [==============================] - 18s 514ms/step - loss: 0.6781 - binary_accuracy: 0.5903 - f1: 0.5103 - val_loss: 0.8735 - val_binary_accuracy: 0.5276 - val_f1: 0.5612\n",
      "Epoch 17/60\n",
      "24/24 [==============================] - 21s 543ms/step - loss: 0.6603 - binary_accuracy: 0.6443 - f1: 0.5697 - val_loss: 0.9147 - val_binary_accuracy: 0.5276 - val_f1: 0.5612\n",
      "Epoch 18/60\n",
      "24/24 [==============================] - 21s 530ms/step - loss: 0.6845 - binary_accuracy: 0.5995 - f1: 0.5353 - val_loss: 0.7227 - val_binary_accuracy: 0.5276 - val_f1: 0.5612\n",
      "Epoch 19/60\n",
      "24/24 [==============================] - 19s 527ms/step - loss: 0.6543 - binary_accuracy: 0.6324 - f1: 0.5775 - val_loss: 0.7207 - val_binary_accuracy: 0.5276 - val_f1: 0.5612\n",
      "Epoch 20/60\n",
      "24/24 [==============================] - 19s 531ms/step - loss: 0.6412 - binary_accuracy: 0.6588 - f1: 0.6008 - val_loss: 0.7713 - val_binary_accuracy: 0.5276 - val_f1: 0.5612\n",
      "Epoch 21/60\n",
      "24/24 [==============================] - 20s 520ms/step - loss: 0.6346 - binary_accuracy: 0.6469 - f1: 0.5726 - val_loss: 0.7449 - val_binary_accuracy: 0.5276 - val_f1: 0.5612\n",
      "Epoch 22/60\n",
      "24/24 [==============================] - 24s 633ms/step - loss: 0.6040 - binary_accuracy: 0.7062 - f1: 0.6409 - val_loss: 0.6498 - val_binary_accuracy: 0.6074 - val_f1: 0.5894\n",
      "Epoch 23/60\n",
      "24/24 [==============================] - 20s 505ms/step - loss: 0.5896 - binary_accuracy: 0.7049 - f1: 0.6491 - val_loss: 0.6226 - val_binary_accuracy: 0.6380 - val_f1: 0.5825\n",
      "Epoch 24/60\n",
      "24/24 [==============================] - 20s 531ms/step - loss: 0.5714 - binary_accuracy: 0.7220 - f1: 0.6396 - val_loss: 0.6367 - val_binary_accuracy: 0.6442 - val_f1: 0.5105\n",
      "Epoch 25/60\n",
      "24/24 [==============================] - 16s 454ms/step - loss: 0.5326 - binary_accuracy: 0.7444 - f1: 0.6864 - val_loss: 0.6388 - val_binary_accuracy: 0.6564 - val_f1: 0.4545\n",
      "Epoch 26/60\n",
      "24/24 [==============================] - 21s 588ms/step - loss: 0.5353 - binary_accuracy: 0.7299 - f1: 0.6671 - val_loss: 0.8311 - val_binary_accuracy: 0.5276 - val_f1: 0.5612\n",
      "Epoch 27/60\n",
      "24/24 [==============================] - 21s 553ms/step - loss: 0.5074 - binary_accuracy: 0.7602 - f1: 0.7048 - val_loss: 0.5946 - val_binary_accuracy: 0.6442 - val_f1: 0.6056\n",
      "Epoch 28/60\n",
      "24/24 [==============================] - 21s 532ms/step - loss: 0.4547 - binary_accuracy: 0.7813 - f1: 0.7130 - val_loss: 0.5810 - val_binary_accuracy: 0.6626 - val_f1: 0.6169\n",
      "Epoch 29/60\n",
      "24/24 [==============================] - 21s 550ms/step - loss: 0.4597 - binary_accuracy: 0.7747 - f1: 0.7090 - val_loss: 0.8397 - val_binary_accuracy: 0.5951 - val_f1: 0.3062\n",
      "Epoch 30/60\n",
      "24/24 [==============================] - 25s 684ms/step - loss: 0.4302 - binary_accuracy: 0.8063 - f1: 0.7392 - val_loss: 0.5238 - val_binary_accuracy: 0.7546 - val_f1: 0.6631\n",
      "Epoch 31/60\n",
      "24/24 [==============================] - 32s 802ms/step - loss: 0.4200 - binary_accuracy: 0.8063 - f1: 0.7288 - val_loss: 0.8658 - val_binary_accuracy: 0.5644 - val_f1: 0.5751\n",
      "Epoch 32/60\n",
      "24/24 [==============================] - 30s 797ms/step - loss: 0.3856 - binary_accuracy: 0.8300 - f1: 0.7611 - val_loss: 1.0038 - val_binary_accuracy: 0.5521 - val_f1: 0.5702\n",
      "Epoch 33/60\n",
      "24/24 [==============================] - 29s 771ms/step - loss: 0.3848 - binary_accuracy: 0.8314 - f1: 0.7614 - val_loss: 0.4641 - val_binary_accuracy: 0.7607 - val_f1: 0.6029\n",
      "Epoch 34/60\n",
      "24/24 [==============================] - 27s 702ms/step - loss: 0.3042 - binary_accuracy: 0.8709 - f1: 0.7882 - val_loss: 0.6221 - val_binary_accuracy: 0.6258 - val_f1: 0.5984\n",
      "Epoch 35/60\n",
      "24/24 [==============================] - 16s 446ms/step - loss: 0.3006 - binary_accuracy: 0.8775 - f1: 0.7940 - val_loss: 0.7992 - val_binary_accuracy: 0.5951 - val_f1: 0.5899\n",
      "Epoch 36/60\n",
      "24/24 [==============================] - 19s 504ms/step - loss: 0.3448 - binary_accuracy: 0.8432 - f1: 0.7617 - val_loss: 0.6367 - val_binary_accuracy: 0.6994 - val_f1: 0.6381\n",
      "Epoch 37/60\n",
      "24/24 [==============================] - 23s 582ms/step - loss: 0.2743 - binary_accuracy: 0.8762 - f1: 0.8027 - val_loss: 0.3729 - val_binary_accuracy: 0.8221 - val_f1: 0.6862\n",
      "Epoch 38/60\n",
      "24/24 [==============================] - 20s 558ms/step - loss: 0.3115 - binary_accuracy: 0.8682 - f1: 0.7835 - val_loss: 0.4051 - val_binary_accuracy: 0.8098 - val_f1: 0.6559\n",
      "Epoch 39/60\n",
      "24/24 [==============================] - 16s 489ms/step - loss: 0.2059 - binary_accuracy: 0.9157 - f1: 0.8313 - val_loss: 0.3933 - val_binary_accuracy: 0.8037 - val_f1: 0.6654\n",
      "Epoch 40/60\n",
      "24/24 [==============================] - 19s 533ms/step - loss: 0.2476 - binary_accuracy: 0.8959 - f1: 0.8137 - val_loss: 1.1147 - val_binary_accuracy: 0.5583 - val_f1: 0.1667\n",
      "Epoch 41/60\n",
      "24/24 [==============================] - 21s 614ms/step - loss: 0.2608 - binary_accuracy: 0.8880 - f1: 0.8145 - val_loss: 0.9254 - val_binary_accuracy: 0.6442 - val_f1: 0.3602\n",
      "Epoch 42/60\n",
      "24/24 [==============================] - 33s 830ms/step - loss: 0.2334 - binary_accuracy: 0.9170 - f1: 0.8520 - val_loss: 1.1934 - val_binary_accuracy: 0.6380 - val_f1: 0.3132\n",
      "Epoch 43/60\n",
      "24/24 [==============================] - 30s 767ms/step - loss: 0.1960 - binary_accuracy: 0.9315 - f1: 0.8439 - val_loss: 1.2238 - val_binary_accuracy: 0.6380 - val_f1: 0.3222\n",
      "Epoch 44/60\n",
      "24/24 [==============================] - 27s 726ms/step - loss: 0.1820 - binary_accuracy: 0.9486 - f1: 0.8681 - val_loss: 0.5437 - val_binary_accuracy: 0.8098 - val_f1: 0.6230\n",
      "Epoch 45/60\n",
      "24/24 [==============================] - 20s 529ms/step - loss: 0.1344 - binary_accuracy: 0.9605 - f1: 0.8783 - val_loss: 0.7132 - val_binary_accuracy: 0.7423 - val_f1: 0.5088\n",
      "Epoch 46/60\n",
      "24/24 [==============================] - 21s 527ms/step - loss: 0.1474 - binary_accuracy: 0.9513 - f1: 0.8808 - val_loss: 0.5251 - val_binary_accuracy: 0.8221 - val_f1: 0.7061\n",
      "Epoch 47/60\n",
      "24/24 [==============================] - 21s 523ms/step - loss: 0.1777 - binary_accuracy: 0.9539 - f1: 0.8685 - val_loss: 1.2614 - val_binary_accuracy: 0.6687 - val_f1: 0.3658\n",
      "Epoch 48/60\n",
      "24/24 [==============================] - 21s 524ms/step - loss: 0.1368 - binary_accuracy: 0.9552 - f1: 0.8802 - val_loss: 0.6672 - val_binary_accuracy: 0.7607 - val_f1: 0.6672\n",
      "Epoch 49/60\n",
      "24/24 [==============================] - 22s 570ms/step - loss: 0.1247 - binary_accuracy: 0.9578 - f1: 0.8835 - val_loss: 0.9777 - val_binary_accuracy: 0.7117 - val_f1: 0.6421\n",
      "Epoch 50/60\n",
      "24/24 [==============================] - 18s 567ms/step - loss: 0.1629 - binary_accuracy: 0.9657 - f1: 0.8694 - val_loss: 1.4912 - val_binary_accuracy: 0.6810 - val_f1: 0.4132\n",
      "Epoch 51/60\n",
      "24/24 [==============================] - 21s 560ms/step - loss: 0.1044 - binary_accuracy: 0.9776 - f1: 0.8975 - val_loss: 0.4846 - val_binary_accuracy: 0.8160 - val_f1: 0.6711\n",
      "Epoch 52/60\n",
      "24/24 [==============================] - 22s 534ms/step - loss: 0.1122 - binary_accuracy: 0.9644 - f1: 0.8754 - val_loss: 1.4986 - val_binary_accuracy: 0.6933 - val_f1: 0.4241\n",
      "Epoch 53/60\n",
      "24/24 [==============================] - 18s 500ms/step - loss: 0.0525 - binary_accuracy: 0.9842 - f1: 0.9036 - val_loss: 3.2436 - val_binary_accuracy: 0.5767 - val_f1: 0.2243\n",
      "Epoch 54/60\n",
      "24/24 [==============================] - 18s 451ms/step - loss: 0.1220 - binary_accuracy: 0.9671 - f1: 0.8872 - val_loss: 0.7745 - val_binary_accuracy: 0.7791 - val_f1: 0.5763\n",
      "Epoch 55/60\n",
      "24/24 [==============================] - 19s 500ms/step - loss: 0.0252 - binary_accuracy: 0.9947 - f1: 0.9131 - val_loss: 0.8998 - val_binary_accuracy: 0.7853 - val_f1: 0.5305\n",
      "Epoch 56/60\n",
      "24/24 [==============================] - 18s 487ms/step - loss: 0.1054 - binary_accuracy: 0.9644 - f1: 0.8893 - val_loss: 3.5380 - val_binary_accuracy: 0.5215 - val_f1: 0.1021\n",
      "Epoch 57/60\n",
      "24/24 [==============================] - 20s 503ms/step - loss: 0.1424 - binary_accuracy: 0.9618 - f1: 0.8902 - val_loss: 0.7234 - val_binary_accuracy: 0.8466 - val_f1: 0.6989\n",
      "Epoch 58/60\n",
      "24/24 [==============================] - 19s 551ms/step - loss: 0.0015 - binary_accuracy: 1.0000 - f1: 0.9167 - val_loss: 1.0705 - val_binary_accuracy: 0.8282 - val_f1: 0.6510\n",
      "Epoch 59/60\n",
      "24/24 [==============================] - 22s 606ms/step - loss: 0.3241 - binary_accuracy: 0.9130 - f1: 0.8389 - val_loss: 0.4087 - val_binary_accuracy: 0.8650 - val_f1: 0.7121\n",
      "Epoch 60/60\n",
      "24/24 [==============================] - 19s 491ms/step - loss: 0.0064 - binary_accuracy: 0.9987 - f1: 0.9149 - val_loss: 0.7726 - val_binary_accuracy: 0.8528 - val_f1: 0.7283\n"
     ]
    },
    {
     "name": "stderr",
     "output_type": "stream",
     "text": [
      "\u001b[32m[I 2021-06-25 14:22:34,595]\u001b[0m Trial 10 finished with value: 0.8488394155967365 and parameters: {'learning_rate': 0.001, 'optimizer': 'RMSprop', 'flatten_layer': 'GlobalMaxPooling3D'}. Best is trial 0 with value: 0.8528716759671175.\u001b[0m\n"
     ]
    },
    {
     "name": "stdout",
     "output_type": "stream",
     "text": [
      "Epoch 1/60\n",
      "24/24 [==============================] - 67s 1s/step - loss: 0.6721 - binary_accuracy: 0.5955 - f1: 0.5613 - val_loss: 0.7235 - val_binary_accuracy: 0.4724 - val_f1: 0.0000e+00\n",
      "Epoch 2/60\n",
      "24/24 [==============================] - 23s 565ms/step - loss: 0.6333 - binary_accuracy: 0.6509 - f1: 0.5881 - val_loss: 0.7753 - val_binary_accuracy: 0.4724 - val_f1: 0.0000e+00\n",
      "Epoch 3/60\n",
      "24/24 [==============================] - 21s 579ms/step - loss: 0.6121 - binary_accuracy: 0.6851 - f1: 0.6307 - val_loss: 0.8031 - val_binary_accuracy: 0.4724 - val_f1: 0.0000e+00\n",
      "Epoch 4/60\n",
      "24/24 [==============================] - 20s 518ms/step - loss: 0.5963 - binary_accuracy: 0.6693 - f1: 0.6126 - val_loss: 0.8171 - val_binary_accuracy: 0.4724 - val_f1: 0.0000e+00\n",
      "Epoch 5/60\n",
      "24/24 [==============================] - 20s 479ms/step - loss: 0.5775 - binary_accuracy: 0.6970 - f1: 0.6414 - val_loss: 0.8366 - val_binary_accuracy: 0.4724 - val_f1: 0.0000e+00\n",
      "Epoch 6/60\n",
      "24/24 [==============================] - 19s 499ms/step - loss: 0.5627 - binary_accuracy: 0.7049 - f1: 0.6475 - val_loss: 0.9487 - val_binary_accuracy: 0.4724 - val_f1: 0.0000e+00\n",
      "Epoch 7/60\n",
      "24/24 [==============================] - 22s 522ms/step - loss: 0.5418 - binary_accuracy: 0.7194 - f1: 0.6599 - val_loss: 0.8590 - val_binary_accuracy: 0.4724 - val_f1: 0.0000e+00\n",
      "Epoch 8/60\n",
      "24/24 [==============================] - 21s 561ms/step - loss: 0.5335 - binary_accuracy: 0.7510 - f1: 0.6999 - val_loss: 0.7977 - val_binary_accuracy: 0.4724 - val_f1: 0.0000e+00\n",
      "Epoch 9/60\n",
      "24/24 [==============================] - 19s 485ms/step - loss: 0.5028 - binary_accuracy: 0.7602 - f1: 0.6971 - val_loss: 0.8655 - val_binary_accuracy: 0.4724 - val_f1: 0.0000e+00\n",
      "Epoch 10/60\n",
      "24/24 [==============================] - 23s 654ms/step - loss: 0.4815 - binary_accuracy: 0.7800 - f1: 0.7235 - val_loss: 0.7053 - val_binary_accuracy: 0.5276 - val_f1: 0.5612\n",
      "Epoch 11/60\n",
      "24/24 [==============================] - 21s 524ms/step - loss: 0.4554 - binary_accuracy: 0.7892 - f1: 0.7358 - val_loss: 0.7141 - val_binary_accuracy: 0.4724 - val_f1: 0.0000e+00\n",
      "Epoch 12/60\n",
      "24/24 [==============================] - 20s 532ms/step - loss: 0.4233 - binary_accuracy: 0.8129 - f1: 0.7557 - val_loss: 0.7031 - val_binary_accuracy: 0.5276 - val_f1: 0.5612\n",
      "Epoch 13/60\n",
      "24/24 [==============================] - 21s 550ms/step - loss: 0.3732 - binary_accuracy: 0.8458 - f1: 0.7950 - val_loss: 0.7367 - val_binary_accuracy: 0.5276 - val_f1: 0.5612\n",
      "Epoch 14/60\n",
      "24/24 [==============================] - 20s 479ms/step - loss: 0.3272 - binary_accuracy: 0.8762 - f1: 0.8203 - val_loss: 0.8978 - val_binary_accuracy: 0.5276 - val_f1: 0.5612\n",
      "Epoch 15/60\n",
      "24/24 [==============================] - 18s 489ms/step - loss: 0.2995 - binary_accuracy: 0.8893 - f1: 0.8379 - val_loss: 0.8640 - val_binary_accuracy: 0.5276 - val_f1: 0.5612\n",
      "Epoch 16/60\n",
      "24/24 [==============================] - 17s 488ms/step - loss: 0.2681 - binary_accuracy: 0.9117 - f1: 0.8549 - val_loss: 1.7600 - val_binary_accuracy: 0.5276 - val_f1: 0.5612\n",
      "Epoch 17/60\n",
      "24/24 [==============================] - 19s 488ms/step - loss: 0.2177 - binary_accuracy: 0.9368 - f1: 0.8761 - val_loss: 0.6965 - val_binary_accuracy: 0.5276 - val_f1: 0.5475\n",
      "Epoch 18/60\n",
      "24/24 [==============================] - 18s 538ms/step - loss: 0.2186 - binary_accuracy: 0.9209 - f1: 0.8631 - val_loss: 2.4288 - val_binary_accuracy: 0.4724 - val_f1: 0.0000e+00\n",
      "Epoch 19/60\n",
      "24/24 [==============================] - 20s 511ms/step - loss: 0.2284 - binary_accuracy: 0.9157 - f1: 0.8474 - val_loss: 4.0266 - val_binary_accuracy: 0.4724 - val_f1: 0.0000e+00\n",
      "Epoch 20/60\n",
      "24/24 [==============================] - 22s 573ms/step - loss: 0.2735 - binary_accuracy: 0.8933 - f1: 0.8356 - val_loss: 1.1349 - val_binary_accuracy: 0.4479 - val_f1: 0.3052\n",
      "Epoch 21/60\n",
      "24/24 [==============================] - 20s 538ms/step - loss: 0.2137 - binary_accuracy: 0.9394 - f1: 0.8709 - val_loss: 2.6340 - val_binary_accuracy: 0.4724 - val_f1: 0.0000e+00\n",
      "Epoch 22/60\n",
      "24/24 [==============================] - 20s 520ms/step - loss: 0.1504 - binary_accuracy: 0.9526 - f1: 0.8884 - val_loss: 2.4778 - val_binary_accuracy: 0.4724 - val_f1: 0.0000e+00\n",
      "Epoch 23/60\n",
      "24/24 [==============================] - 19s 510ms/step - loss: 0.1221 - binary_accuracy: 0.9592 - f1: 0.8952 - val_loss: 0.9897 - val_binary_accuracy: 0.5399 - val_f1: 0.1625\n",
      "Epoch 24/60\n",
      "24/24 [==============================] - 17s 453ms/step - loss: 0.1239 - binary_accuracy: 0.9750 - f1: 0.9023 - val_loss: 1.4292 - val_binary_accuracy: 0.5031 - val_f1: 0.1285\n",
      "Epoch 25/60\n",
      "24/24 [==============================] - 17s 470ms/step - loss: 0.1175 - binary_accuracy: 0.9618 - f1: 0.8884 - val_loss: 5.8046 - val_binary_accuracy: 0.4724 - val_f1: 0.0000e+00\n",
      "Epoch 26/60\n",
      "24/24 [==============================] - 18s 454ms/step - loss: 0.1020 - binary_accuracy: 0.9776 - f1: 0.9039 - val_loss: 8.6579 - val_binary_accuracy: 0.4724 - val_f1: 0.0000e+00\n",
      "Epoch 27/60\n",
      "24/24 [==============================] - 18s 482ms/step - loss: 0.1000 - binary_accuracy: 0.9684 - f1: 0.8995 - val_loss: 2.2329 - val_binary_accuracy: 0.5276 - val_f1: 0.1160\n",
      "Epoch 28/60\n",
      "24/24 [==============================] - 20s 517ms/step - loss: 0.0539 - binary_accuracy: 0.9921 - f1: 0.9114 - val_loss: 2.6990 - val_binary_accuracy: 0.5706 - val_f1: 0.1819\n",
      "Epoch 29/60\n",
      "24/24 [==============================] - 21s 591ms/step - loss: 0.0567 - binary_accuracy: 0.9895 - f1: 0.9089 - val_loss: 4.7777 - val_binary_accuracy: 0.4785 - val_f1: 0.0208\n",
      "Epoch 30/60\n",
      "24/24 [==============================] - 18s 443ms/step - loss: 0.0547 - binary_accuracy: 0.9816 - f1: 0.9055 - val_loss: 4.4445 - val_binary_accuracy: 0.4785 - val_f1: 0.0292\n",
      "Epoch 31/60\n",
      "24/24 [==============================] - 19s 470ms/step - loss: 0.0670 - binary_accuracy: 0.9855 - f1: 0.9103 - val_loss: 0.9331 - val_binary_accuracy: 0.7055 - val_f1: 0.5029\n",
      "Epoch 32/60\n",
      "24/24 [==============================] - 17s 444ms/step - loss: 0.0525 - binary_accuracy: 0.9868 - f1: 0.9059 - val_loss: 0.9010 - val_binary_accuracy: 0.7362 - val_f1: 0.5996\n",
      "Epoch 33/60\n",
      "24/24 [==============================] - 17s 465ms/step - loss: 0.0392 - binary_accuracy: 0.9881 - f1: 0.9058 - val_loss: 1.6372 - val_binary_accuracy: 0.6933 - val_f1: 0.6339\n",
      "Epoch 34/60\n",
      "24/24 [==============================] - 16s 430ms/step - loss: 0.0387 - binary_accuracy: 0.9934 - f1: 0.9121 - val_loss: 0.8620 - val_binary_accuracy: 0.7239 - val_f1: 0.4725\n",
      "Epoch 35/60\n",
      "24/24 [==============================] - 19s 488ms/step - loss: 0.0389 - binary_accuracy: 0.9908 - f1: 0.9107 - val_loss: 0.8985 - val_binary_accuracy: 0.7607 - val_f1: 0.6424\n",
      "Epoch 36/60\n",
      "24/24 [==============================] - 19s 468ms/step - loss: 0.0401 - binary_accuracy: 0.9855 - f1: 0.9055 - val_loss: 6.0777 - val_binary_accuracy: 0.5399 - val_f1: 0.5670\n",
      "Epoch 37/60\n",
      "24/24 [==============================] - 17s 479ms/step - loss: 0.0317 - binary_accuracy: 0.9934 - f1: 0.9111 - val_loss: 0.7662 - val_binary_accuracy: 0.7730 - val_f1: 0.6577\n",
      "Epoch 38/60\n",
      "24/24 [==============================] - 18s 492ms/step - loss: 0.0354 - binary_accuracy: 0.9908 - f1: 0.9128 - val_loss: 0.9201 - val_binary_accuracy: 0.7853 - val_f1: 0.6815\n",
      "Epoch 39/60\n",
      "24/24 [==============================] - 18s 470ms/step - loss: 0.0240 - binary_accuracy: 0.9947 - f1: 0.9128 - val_loss: 1.5174 - val_binary_accuracy: 0.6012 - val_f1: 0.2687\n",
      "Epoch 40/60\n",
      "24/24 [==============================] - 17s 457ms/step - loss: 0.0285 - binary_accuracy: 0.9947 - f1: 0.9111 - val_loss: 1.4322 - val_binary_accuracy: 0.6564 - val_f1: 0.5522\n",
      "Epoch 41/60\n",
      "24/24 [==============================] - 18s 462ms/step - loss: 0.0232 - binary_accuracy: 0.9947 - f1: 0.9094 - val_loss: 1.0959 - val_binary_accuracy: 0.7117 - val_f1: 0.4706\n",
      "Epoch 42/60\n",
      "24/24 [==============================] - 18s 463ms/step - loss: 0.0291 - binary_accuracy: 0.9934 - f1: 0.9118 - val_loss: 1.9622 - val_binary_accuracy: 0.6196 - val_f1: 0.2535\n",
      "Epoch 43/60\n",
      "24/24 [==============================] - 20s 549ms/step - loss: 0.0272 - binary_accuracy: 0.9947 - f1: 0.9139 - val_loss: 2.3676 - val_binary_accuracy: 0.5890 - val_f1: 0.2840\n",
      "Epoch 44/60\n",
      "24/24 [==============================] - 24s 623ms/step - loss: 0.0117 - binary_accuracy: 0.9987 - f1: 0.9156 - val_loss: 1.5019 - val_binary_accuracy: 0.7178 - val_f1: 0.6438\n",
      "Epoch 45/60\n",
      "24/24 [==============================] - 26s 639ms/step - loss: 0.0038 - binary_accuracy: 1.0000 - f1: 0.9167 - val_loss: 1.3210 - val_binary_accuracy: 0.7362 - val_f1: 0.6534\n",
      "Epoch 46/60\n",
      "24/24 [==============================] - 20s 602ms/step - loss: 0.0021 - binary_accuracy: 1.0000 - f1: 0.9167 - val_loss: 0.5862 - val_binary_accuracy: 0.8528 - val_f1: 0.6989\n",
      "Epoch 47/60\n",
      "24/24 [==============================] - 19s 463ms/step - loss: 0.0018 - binary_accuracy: 1.0000 - f1: 0.9167 - val_loss: 0.5573 - val_binary_accuracy: 0.8650 - val_f1: 0.7095\n",
      "Epoch 48/60\n",
      "24/24 [==============================] - 18s 424ms/step - loss: 0.0017 - binary_accuracy: 1.0000 - f1: 0.9167 - val_loss: 0.4712 - val_binary_accuracy: 0.8528 - val_f1: 0.7031\n",
      "Epoch 49/60\n",
      "24/24 [==============================] - 17s 485ms/step - loss: 0.0014 - binary_accuracy: 1.0000 - f1: 0.9167 - val_loss: 0.4378 - val_binary_accuracy: 0.8834 - val_f1: 0.7324\n",
      "Epoch 50/60\n",
      "24/24 [==============================] - 19s 506ms/step - loss: 0.0014 - binary_accuracy: 1.0000 - f1: 0.9167 - val_loss: 0.4203 - val_binary_accuracy: 0.8834 - val_f1: 0.7297\n",
      "Epoch 51/60\n",
      "24/24 [==============================] - 18s 514ms/step - loss: 0.0010 - binary_accuracy: 1.0000 - f1: 0.9167 - val_loss: 0.4005 - val_binary_accuracy: 0.8773 - val_f1: 0.7255\n",
      "Epoch 52/60\n",
      "24/24 [==============================] - 19s 512ms/step - loss: 0.0012 - binary_accuracy: 1.0000 - f1: 0.9167 - val_loss: 0.4353 - val_binary_accuracy: 0.8896 - val_f1: 0.7317\n",
      "Epoch 53/60\n",
      "24/24 [==============================] - 18s 461ms/step - loss: 0.0010 - binary_accuracy: 1.0000 - f1: 0.9167 - val_loss: 0.4504 - val_binary_accuracy: 0.8773 - val_f1: 0.7206\n",
      "Epoch 54/60\n",
      "24/24 [==============================] - 18s 453ms/step - loss: 0.0011 - binary_accuracy: 1.0000 - f1: 0.9167 - val_loss: 0.4411 - val_binary_accuracy: 0.8834 - val_f1: 0.7364\n",
      "Epoch 55/60\n",
      "24/24 [==============================] - 18s 503ms/step - loss: 9.5991e-04 - binary_accuracy: 1.0000 - f1: 0.9167 - val_loss: 0.3942 - val_binary_accuracy: 0.8834 - val_f1: 0.7262\n",
      "Epoch 56/60\n",
      "24/24 [==============================] - 21s 554ms/step - loss: 7.8499e-04 - binary_accuracy: 1.0000 - f1: 0.9167 - val_loss: 0.4173 - val_binary_accuracy: 0.8896 - val_f1: 0.7331\n",
      "Epoch 57/60\n",
      "24/24 [==============================] - 17s 452ms/step - loss: 7.0338e-04 - binary_accuracy: 1.0000 - f1: 0.9167 - val_loss: 0.4246 - val_binary_accuracy: 0.8957 - val_f1: 0.7371\n",
      "Epoch 58/60\n",
      "24/24 [==============================] - 18s 478ms/step - loss: 7.2850e-04 - binary_accuracy: 1.0000 - f1: 0.9167 - val_loss: 0.4279 - val_binary_accuracy: 0.8834 - val_f1: 0.7232\n",
      "Epoch 59/60\n",
      "24/24 [==============================] - 19s 481ms/step - loss: 7.2446e-04 - binary_accuracy: 1.0000 - f1: 0.9167 - val_loss: 0.4190 - val_binary_accuracy: 0.8957 - val_f1: 0.7371\n",
      "Epoch 60/60\n",
      "24/24 [==============================] - 17s 426ms/step - loss: 6.9998e-04 - binary_accuracy: 1.0000 - f1: 0.9167 - val_loss: 0.4168 - val_binary_accuracy: 0.8957 - val_f1: 0.7371\n"
     ]
    },
    {
     "name": "stderr",
     "output_type": "stream",
     "text": [
      "\u001b[32m[I 2021-06-25 14:43:18,937]\u001b[0m Trial 11 finished with value: 0.8956661189719101 and parameters: {'learning_rate': 0.0001, 'optimizer': 'Adam', 'flatten_layer': 'GlobalAveragePooling3D'}. Best is trial 11 with value: 0.8956661189719101.\u001b[0m\n"
     ]
    },
    {
     "name": "stdout",
     "output_type": "stream",
     "text": [
      "Epoch 1/60\n",
      "24/24 [==============================] - 60s 1s/step - loss: 0.6646 - binary_accuracy: 0.6285 - f1: 0.5735 - val_loss: 0.7025 - val_binary_accuracy: 0.4724 - val_f1: 0.0000e+00\n",
      "Epoch 2/60\n",
      "24/24 [==============================] - 20s 497ms/step - loss: 0.6389 - binary_accuracy: 0.6535 - f1: 0.6018 - val_loss: 0.7111 - val_binary_accuracy: 0.4724 - val_f1: 0.0000e+00\n",
      "Epoch 3/60\n",
      "24/24 [==============================] - 17s 455ms/step - loss: 0.6072 - binary_accuracy: 0.6601 - f1: 0.6163 - val_loss: 0.7166 - val_binary_accuracy: 0.4724 - val_f1: 0.0000e+00\n",
      "Epoch 4/60\n",
      "24/24 [==============================] - 18s 492ms/step - loss: 0.5974 - binary_accuracy: 0.6653 - f1: 0.6169 - val_loss: 0.7765 - val_binary_accuracy: 0.4724 - val_f1: 0.0000e+00\n",
      "Epoch 5/60\n",
      "24/24 [==============================] - 17s 448ms/step - loss: 0.5728 - binary_accuracy: 0.6917 - f1: 0.6457 - val_loss: 0.7657 - val_binary_accuracy: 0.4724 - val_f1: 0.0000e+00\n",
      "Epoch 6/60\n",
      "24/24 [==============================] - 18s 424ms/step - loss: 0.5544 - binary_accuracy: 0.7075 - f1: 0.6643 - val_loss: 0.7615 - val_binary_accuracy: 0.4724 - val_f1: 0.0000e+00\n",
      "Epoch 7/60\n",
      "24/24 [==============================] - 18s 497ms/step - loss: 0.5401 - binary_accuracy: 0.7141 - f1: 0.6675 - val_loss: 0.8968 - val_binary_accuracy: 0.4724 - val_f1: 0.0000e+00\n",
      "Epoch 8/60\n",
      "24/24 [==============================] - 17s 434ms/step - loss: 0.5310 - binary_accuracy: 0.7299 - f1: 0.6861 - val_loss: 0.8922 - val_binary_accuracy: 0.4724 - val_f1: 0.0000e+00\n",
      "Epoch 9/60\n",
      "24/24 [==============================] - 19s 500ms/step - loss: 0.4984 - binary_accuracy: 0.7576 - f1: 0.6980 - val_loss: 0.8120 - val_binary_accuracy: 0.4724 - val_f1: 0.0000e+00\n",
      "Epoch 10/60\n",
      "24/24 [==============================] - 18s 519ms/step - loss: 0.4784 - binary_accuracy: 0.7721 - f1: 0.7203 - val_loss: 0.9064 - val_binary_accuracy: 0.4724 - val_f1: 0.0000e+00\n",
      "Epoch 11/60\n",
      "24/24 [==============================] - 24s 628ms/step - loss: 0.4473 - binary_accuracy: 0.8063 - f1: 0.7524 - val_loss: 0.9444 - val_binary_accuracy: 0.4724 - val_f1: 0.0000e+00\n",
      "Epoch 12/60\n",
      "24/24 [==============================] - 21s 544ms/step - loss: 0.4093 - binary_accuracy: 0.8248 - f1: 0.7807 - val_loss: 0.6998 - val_binary_accuracy: 0.5153 - val_f1: 0.1889\n",
      "Epoch 13/60\n",
      "24/24 [==============================] - 18s 482ms/step - loss: 0.3900 - binary_accuracy: 0.8274 - f1: 0.7765 - val_loss: 0.7465 - val_binary_accuracy: 0.5276 - val_f1: 0.5612\n",
      "Epoch 14/60\n",
      "24/24 [==============================] - 26s 680ms/step - loss: 0.3487 - binary_accuracy: 0.8669 - f1: 0.8224 - val_loss: 0.8054 - val_binary_accuracy: 0.4724 - val_f1: 0.0000e+00\n",
      "Epoch 15/60\n",
      "24/24 [==============================] - 23s 547ms/step - loss: 0.2882 - binary_accuracy: 0.8986 - f1: 0.8475 - val_loss: 1.9162 - val_binary_accuracy: 0.4724 - val_f1: 0.0000e+00\n",
      "Epoch 16/60\n",
      "24/24 [==============================] - 25s 704ms/step - loss: 0.2528 - binary_accuracy: 0.9223 - f1: 0.8661 - val_loss: 0.7553 - val_binary_accuracy: 0.4785 - val_f1: 0.4314\n",
      "Epoch 17/60\n",
      "24/24 [==============================] - 29s 773ms/step - loss: 0.2069 - binary_accuracy: 0.9460 - f1: 0.8789 - val_loss: 0.8525 - val_binary_accuracy: 0.4724 - val_f1: 0.0083\n",
      "Epoch 18/60\n",
      "24/24 [==============================] - 27s 672ms/step - loss: 0.1984 - binary_accuracy: 0.9262 - f1: 0.8723 - val_loss: 2.3778 - val_binary_accuracy: 0.4724 - val_f1: 0.0000e+00\n",
      "Epoch 19/60\n",
      "24/24 [==============================] - 19s 490ms/step - loss: 0.2124 - binary_accuracy: 0.9236 - f1: 0.8672 - val_loss: 4.4638 - val_binary_accuracy: 0.4724 - val_f1: 0.0000e+00\n",
      "Epoch 20/60\n",
      "24/24 [==============================] - 18s 488ms/step - loss: 0.1902 - binary_accuracy: 0.9354 - f1: 0.8707 - val_loss: 6.5571 - val_binary_accuracy: 0.4724 - val_f1: 0.0000e+00\n",
      "Epoch 21/60\n",
      "24/24 [==============================] - 17s 453ms/step - loss: 0.1737 - binary_accuracy: 0.9433 - f1: 0.8748 - val_loss: 6.5616 - val_binary_accuracy: 0.4724 - val_f1: 0.0000e+00\n",
      "Epoch 22/60\n",
      "24/24 [==============================] - 17s 444ms/step - loss: 0.1386 - binary_accuracy: 0.9578 - f1: 0.8863 - val_loss: 5.5471 - val_binary_accuracy: 0.4724 - val_f1: 0.0000e+00\n",
      "Epoch 23/60\n",
      "24/24 [==============================] - 16s 472ms/step - loss: 0.1321 - binary_accuracy: 0.9539 - f1: 0.8893 - val_loss: 9.4188 - val_binary_accuracy: 0.4724 - val_f1: 0.0000e+00\n",
      "Epoch 24/60\n",
      "24/24 [==============================] - 18s 412ms/step - loss: 0.1201 - binary_accuracy: 0.9710 - f1: 0.8969 - val_loss: 9.4186 - val_binary_accuracy: 0.4724 - val_f1: 0.0000e+00\n",
      "Epoch 25/60\n",
      "24/24 [==============================] - 19s 531ms/step - loss: 0.1317 - binary_accuracy: 0.9592 - f1: 0.8910 - val_loss: 3.7519 - val_binary_accuracy: 0.5092 - val_f1: 0.0632\n",
      "Epoch 26/60\n",
      "24/24 [==============================] - 18s 560ms/step - loss: 0.1154 - binary_accuracy: 0.9644 - f1: 0.8891 - val_loss: 0.9544 - val_binary_accuracy: 0.6319 - val_f1: 0.4798\n",
      "Epoch 27/60\n",
      "24/24 [==============================] - 19s 482ms/step - loss: 0.2659 - binary_accuracy: 0.9091 - f1: 0.8433 - val_loss: 4.2810 - val_binary_accuracy: 0.4847 - val_f1: 0.0312\n",
      "Epoch 28/60\n",
      "24/24 [==============================] - 19s 477ms/step - loss: 0.1748 - binary_accuracy: 0.9460 - f1: 0.8710 - val_loss: 5.5500 - val_binary_accuracy: 0.4785 - val_f1: 0.0104\n",
      "Epoch 29/60\n",
      "24/24 [==============================] - 21s 532ms/step - loss: 0.0840 - binary_accuracy: 0.9816 - f1: 0.9065 - val_loss: 2.1779 - val_binary_accuracy: 0.6748 - val_f1: 0.6270\n",
      "Epoch 30/60\n",
      "24/24 [==============================] - 17s 469ms/step - loss: 0.0612 - binary_accuracy: 0.9881 - f1: 0.9103 - val_loss: 3.1500 - val_binary_accuracy: 0.5215 - val_f1: 0.0944\n",
      "Epoch 31/60\n",
      "24/24 [==============================] - 22s 560ms/step - loss: 0.0407 - binary_accuracy: 0.9947 - f1: 0.9131 - val_loss: 2.3987 - val_binary_accuracy: 0.6196 - val_f1: 0.2667\n",
      "Epoch 32/60\n",
      "24/24 [==============================] - 18s 449ms/step - loss: 0.0378 - binary_accuracy: 0.9881 - f1: 0.9085 - val_loss: 0.7885 - val_binary_accuracy: 0.6748 - val_f1: 0.4779\n",
      "Epoch 33/60\n",
      "24/24 [==============================] - 18s 492ms/step - loss: 0.0261 - binary_accuracy: 0.9974 - f1: 0.9167 - val_loss: 0.6321 - val_binary_accuracy: 0.7730 - val_f1: 0.6619\n",
      "Epoch 34/60\n",
      "24/24 [==============================] - 24s 660ms/step - loss: 0.0216 - binary_accuracy: 0.9987 - f1: 0.9159 - val_loss: 1.2817 - val_binary_accuracy: 0.6319 - val_f1: 0.3637\n",
      "Epoch 35/60\n",
      "24/24 [==============================] - 25s 544ms/step - loss: 0.0237 - binary_accuracy: 0.9947 - f1: 0.9142 - val_loss: 0.7653 - val_binary_accuracy: 0.7362 - val_f1: 0.5049\n",
      "Epoch 36/60\n",
      "24/24 [==============================] - 18s 506ms/step - loss: 0.0387 - binary_accuracy: 0.9908 - f1: 0.9111 - val_loss: 2.4759 - val_binary_accuracy: 0.5521 - val_f1: 0.1965\n",
      "Epoch 37/60\n",
      "24/24 [==============================] - 22s 609ms/step - loss: 0.0291 - binary_accuracy: 0.9947 - f1: 0.9131 - val_loss: 1.4795 - val_binary_accuracy: 0.6687 - val_f1: 0.4102\n",
      "Epoch 38/60\n",
      "24/24 [==============================] - 17s 476ms/step - loss: 0.0206 - binary_accuracy: 0.9960 - f1: 0.9138 - val_loss: 4.9171 - val_binary_accuracy: 0.5399 - val_f1: 0.5663\n",
      "Epoch 39/60\n",
      "24/24 [==============================] - 16s 401ms/step - loss: 0.0137 - binary_accuracy: 0.9987 - f1: 0.9167 - val_loss: 0.6118 - val_binary_accuracy: 0.8160 - val_f1: 0.6892\n",
      "Epoch 40/60\n",
      "24/24 [==============================] - 20s 546ms/step - loss: 0.0079 - binary_accuracy: 1.0000 - f1: 0.9167 - val_loss: 0.6109 - val_binary_accuracy: 0.8282 - val_f1: 0.6774\n",
      "Epoch 41/60\n",
      "24/24 [==============================] - 19s 488ms/step - loss: 0.0039 - binary_accuracy: 1.0000 - f1: 0.9167 - val_loss: 0.5332 - val_binary_accuracy: 0.8098 - val_f1: 0.6836\n",
      "Epoch 42/60\n",
      "24/24 [==============================] - 18s 495ms/step - loss: 0.0027 - binary_accuracy: 1.0000 - f1: 0.9167 - val_loss: 0.4691 - val_binary_accuracy: 0.8528 - val_f1: 0.7054\n",
      "Epoch 43/60\n",
      "24/24 [==============================] - 17s 436ms/step - loss: 0.0025 - binary_accuracy: 1.0000 - f1: 0.9167 - val_loss: 0.4478 - val_binary_accuracy: 0.8834 - val_f1: 0.7304\n",
      "Epoch 44/60\n",
      "24/24 [==============================] - 20s 552ms/step - loss: 0.0021 - binary_accuracy: 1.0000 - f1: 0.9167 - val_loss: 0.4497 - val_binary_accuracy: 0.8712 - val_f1: 0.7297\n",
      "Epoch 45/60\n",
      "24/24 [==============================] - 18s 464ms/step - loss: 0.0019 - binary_accuracy: 1.0000 - f1: 0.9167 - val_loss: 0.4745 - val_binary_accuracy: 0.8650 - val_f1: 0.7137\n",
      "Epoch 46/60\n",
      "24/24 [==============================] - 16s 401ms/step - loss: 0.0016 - binary_accuracy: 1.0000 - f1: 0.9167 - val_loss: 0.4892 - val_binary_accuracy: 0.8712 - val_f1: 0.7283\n",
      "Epoch 47/60\n",
      "24/24 [==============================] - 18s 487ms/step - loss: 0.0015 - binary_accuracy: 1.0000 - f1: 0.9167 - val_loss: 0.5108 - val_binary_accuracy: 0.8589 - val_f1: 0.7197\n",
      "Epoch 48/60\n",
      "24/24 [==============================] - 16s 471ms/step - loss: 0.0014 - binary_accuracy: 1.0000 - f1: 0.9167 - val_loss: 0.4814 - val_binary_accuracy: 0.8405 - val_f1: 0.7054\n",
      "Epoch 49/60\n",
      "24/24 [==============================] - 19s 520ms/step - loss: 0.0014 - binary_accuracy: 1.0000 - f1: 0.9167 - val_loss: 0.4742 - val_binary_accuracy: 0.8773 - val_f1: 0.7248\n",
      "Epoch 50/60\n",
      "24/24 [==============================] - 15s 458ms/step - loss: 0.0013 - binary_accuracy: 1.0000 - f1: 0.9167 - val_loss: 0.4711 - val_binary_accuracy: 0.8712 - val_f1: 0.7241\n",
      "Epoch 51/60\n",
      "24/24 [==============================] - 19s 483ms/step - loss: 0.0010 - binary_accuracy: 1.0000 - f1: 0.9167 - val_loss: 0.4743 - val_binary_accuracy: 0.8712 - val_f1: 0.7241\n",
      "Epoch 52/60\n",
      "24/24 [==============================] - 20s 542ms/step - loss: 0.0011 - binary_accuracy: 1.0000 - f1: 0.9167 - val_loss: 0.4984 - val_binary_accuracy: 0.8773 - val_f1: 0.7317\n",
      "Epoch 53/60\n",
      "24/24 [==============================] - 19s 477ms/step - loss: 9.8502e-04 - binary_accuracy: 1.0000 - f1: 0.9167 - val_loss: 0.4881 - val_binary_accuracy: 0.8712 - val_f1: 0.7241\n",
      "Epoch 54/60\n",
      "24/24 [==============================] - 30s 819ms/step - loss: 8.9576e-04 - binary_accuracy: 1.0000 - f1: 0.9167 - val_loss: 0.4865 - val_binary_accuracy: 0.8712 - val_f1: 0.7246\n",
      "Epoch 55/60\n",
      "24/24 [==============================] - 28s 825ms/step - loss: 8.4193e-04 - binary_accuracy: 1.0000 - f1: 0.9167 - val_loss: 0.4745 - val_binary_accuracy: 0.8834 - val_f1: 0.7311\n",
      "Epoch 56/60\n",
      "24/24 [==============================] - 27s 682ms/step - loss: 7.9826e-04 - binary_accuracy: 1.0000 - f1: 0.9167 - val_loss: 0.4836 - val_binary_accuracy: 0.8712 - val_f1: 0.7172\n",
      "Epoch 57/60\n",
      "24/24 [==============================] - 24s 695ms/step - loss: 8.2195e-04 - binary_accuracy: 1.0000 - f1: 0.9167 - val_loss: 0.4826 - val_binary_accuracy: 0.8773 - val_f1: 0.7241\n",
      "Epoch 58/60\n",
      "24/24 [==============================] - 24s 619ms/step - loss: 7.2968e-04 - binary_accuracy: 1.0000 - f1: 0.9167 - val_loss: 0.4714 - val_binary_accuracy: 0.8896 - val_f1: 0.7380\n",
      "Epoch 59/60\n",
      "24/24 [==============================] - 21s 536ms/step - loss: 7.1607e-04 - binary_accuracy: 1.0000 - f1: 0.9167 - val_loss: 0.4769 - val_binary_accuracy: 0.8712 - val_f1: 0.7179\n",
      "Epoch 60/60\n",
      "24/24 [==============================] - 20s 530ms/step - loss: 8.1234e-04 - binary_accuracy: 1.0000 - f1: 0.9167 - val_loss: 0.5502 - val_binary_accuracy: 0.8528 - val_f1: 0.7147\n"
     ]
    },
    {
     "name": "stderr",
     "output_type": "stream",
     "text": [
      "\u001b[32m[I 2021-06-25 15:04:44,054]\u001b[0m Trial 12 finished with value: 0.8516932964785726 and parameters: {'learning_rate': 0.0001, 'optimizer': 'Adam', 'flatten_layer': 'GlobalAveragePooling3D'}. Best is trial 11 with value: 0.8956661189719101.\u001b[0m\n"
     ]
    },
    {
     "name": "stdout",
     "output_type": "stream",
     "text": [
      "Epoch 1/60\n",
      "24/24 [==============================] - 70s 2s/step - loss: 0.6778 - binary_accuracy: 0.6034 - f1: 0.5249 - val_loss: 0.6994 - val_binary_accuracy: 0.4724 - val_f1: 0.0000e+00\n",
      "Epoch 2/60\n",
      "24/24 [==============================] - 23s 585ms/step - loss: 0.6327 - binary_accuracy: 0.6509 - f1: 0.5877 - val_loss: 0.6917 - val_binary_accuracy: 0.5399 - val_f1: 0.4149\n",
      "Epoch 3/60\n",
      "24/24 [==============================] - 22s 630ms/step - loss: 0.6104 - binary_accuracy: 0.6706 - f1: 0.6142 - val_loss: 0.7152 - val_binary_accuracy: 0.4724 - val_f1: 0.0000e+00\n",
      "Epoch 4/60\n",
      "24/24 [==============================] - 21s 529ms/step - loss: 0.5808 - binary_accuracy: 0.6943 - f1: 0.6363 - val_loss: 0.8111 - val_binary_accuracy: 0.4724 - val_f1: 0.0000e+00\n",
      "Epoch 5/60\n",
      "24/24 [==============================] - 18s 454ms/step - loss: 0.5730 - binary_accuracy: 0.7049 - f1: 0.6444 - val_loss: 0.8314 - val_binary_accuracy: 0.4724 - val_f1: 0.0000e+00\n",
      "Epoch 6/60\n",
      "24/24 [==============================] - 16s 426ms/step - loss: 0.5616 - binary_accuracy: 0.7115 - f1: 0.6612 - val_loss: 0.8596 - val_binary_accuracy: 0.4724 - val_f1: 0.0000e+00\n",
      "Epoch 7/60\n",
      "24/24 [==============================] - 19s 495ms/step - loss: 0.5579 - binary_accuracy: 0.7260 - f1: 0.6729 - val_loss: 0.8897 - val_binary_accuracy: 0.4724 - val_f1: 0.0000e+00\n",
      "Epoch 8/60\n",
      "24/24 [==============================] - 18s 466ms/step - loss: 0.5339 - binary_accuracy: 0.7286 - f1: 0.6827 - val_loss: 1.0094 - val_binary_accuracy: 0.4724 - val_f1: 0.0000e+00\n",
      "Epoch 9/60\n",
      "24/24 [==============================] - 16s 460ms/step - loss: 0.5134 - binary_accuracy: 0.7404 - f1: 0.6918 - val_loss: 0.8696 - val_binary_accuracy: 0.4724 - val_f1: 0.0000e+00\n",
      "Epoch 10/60\n",
      "24/24 [==============================] - 18s 486ms/step - loss: 0.4921 - binary_accuracy: 0.7721 - f1: 0.7140 - val_loss: 0.9138 - val_binary_accuracy: 0.4724 - val_f1: 0.0000e+00\n",
      "Epoch 11/60\n",
      "24/24 [==============================] - 16s 423ms/step - loss: 0.4778 - binary_accuracy: 0.7787 - f1: 0.7283 - val_loss: 1.2145 - val_binary_accuracy: 0.4724 - val_f1: 0.0000e+00\n",
      "Epoch 12/60\n",
      "24/24 [==============================] - 19s 477ms/step - loss: 0.4335 - binary_accuracy: 0.8024 - f1: 0.7534 - val_loss: 1.0894 - val_binary_accuracy: 0.4724 - val_f1: 0.0000e+00\n",
      "Epoch 13/60\n",
      "24/24 [==============================] - 21s 537ms/step - loss: 0.4068 - binary_accuracy: 0.8116 - f1: 0.7689 - val_loss: 0.8655 - val_binary_accuracy: 0.4724 - val_f1: 0.0000e+00\n",
      "Epoch 14/60\n",
      "24/24 [==============================] - 21s 503ms/step - loss: 0.3652 - binary_accuracy: 0.8458 - f1: 0.8001 - val_loss: 0.8618 - val_binary_accuracy: 0.4724 - val_f1: 0.0000e+00\n",
      "Epoch 15/60\n",
      "24/24 [==============================] - 18s 482ms/step - loss: 0.3295 - binary_accuracy: 0.8564 - f1: 0.8100 - val_loss: 0.8395 - val_binary_accuracy: 0.5276 - val_f1: 0.5612\n",
      "Epoch 16/60\n",
      "24/24 [==============================] - 15s 420ms/step - loss: 0.2818 - binary_accuracy: 0.8946 - f1: 0.8429 - val_loss: 0.7067 - val_binary_accuracy: 0.5031 - val_f1: 0.5054\n",
      "Epoch 17/60\n",
      "24/24 [==============================] - 21s 603ms/step - loss: 0.2752 - binary_accuracy: 0.8999 - f1: 0.8445 - val_loss: 0.7769 - val_binary_accuracy: 0.4785 - val_f1: 0.0208\n",
      "Epoch 18/60\n",
      "24/24 [==============================] - 21s 545ms/step - loss: 0.2524 - binary_accuracy: 0.9117 - f1: 0.8510 - val_loss: 0.8008 - val_binary_accuracy: 0.4908 - val_f1: 0.5005\n",
      "Epoch 19/60\n",
      "24/24 [==============================] - 23s 569ms/step - loss: 0.2481 - binary_accuracy: 0.9144 - f1: 0.8508 - val_loss: 3.5186 - val_binary_accuracy: 0.4724 - val_f1: 0.0000e+00\n",
      "Epoch 20/60\n",
      "24/24 [==============================] - 20s 513ms/step - loss: 0.2912 - binary_accuracy: 0.8880 - f1: 0.8199 - val_loss: 0.6967 - val_binary_accuracy: 0.6135 - val_f1: 0.3947\n",
      "Epoch 21/60\n",
      "24/24 [==============================] - 20s 564ms/step - loss: 0.2318 - binary_accuracy: 0.9078 - f1: 0.8500 - val_loss: 0.8612 - val_binary_accuracy: 0.4969 - val_f1: 0.4625\n",
      "Epoch 22/60\n",
      "24/24 [==============================] - 18s 493ms/step - loss: 0.1983 - binary_accuracy: 0.9381 - f1: 0.8756 - val_loss: 2.7236 - val_binary_accuracy: 0.4724 - val_f1: 0.0000e+00\n",
      "Epoch 23/60\n",
      "24/24 [==============================] - 19s 522ms/step - loss: 0.2287 - binary_accuracy: 0.9223 - f1: 0.8566 - val_loss: 3.5222 - val_binary_accuracy: 0.4724 - val_f1: 0.0000e+00\n",
      "Epoch 24/60\n",
      "24/24 [==============================] - 21s 545ms/step - loss: 0.1877 - binary_accuracy: 0.9381 - f1: 0.8759 - val_loss: 3.4098 - val_binary_accuracy: 0.4785 - val_f1: 0.0139\n",
      "Epoch 25/60\n",
      "24/24 [==============================] - 21s 588ms/step - loss: 0.1421 - binary_accuracy: 0.9592 - f1: 0.8856 - val_loss: 1.0625 - val_binary_accuracy: 0.5460 - val_f1: 0.1299\n",
      "Epoch 26/60\n",
      "24/24 [==============================] - 20s 488ms/step - loss: 0.1325 - binary_accuracy: 0.9513 - f1: 0.8864 - val_loss: 1.4654 - val_binary_accuracy: 0.5399 - val_f1: 0.1699\n",
      "Epoch 27/60\n",
      "24/24 [==============================] - 18s 474ms/step - loss: 0.1058 - binary_accuracy: 0.9763 - f1: 0.8999 - val_loss: 7.2451 - val_binary_accuracy: 0.4724 - val_f1: 0.0000e+00\n",
      "Epoch 28/60\n",
      "24/24 [==============================] - 16s 463ms/step - loss: 0.0624 - binary_accuracy: 0.9921 - f1: 0.9131 - val_loss: 4.1042 - val_binary_accuracy: 0.4908 - val_f1: 0.0375\n",
      "Epoch 29/60\n",
      "24/24 [==============================] - 15s 424ms/step - loss: 0.0656 - binary_accuracy: 0.9868 - f1: 0.9111 - val_loss: 5.2181 - val_binary_accuracy: 0.4785 - val_f1: 0.0208\n",
      "Epoch 30/60\n",
      "24/24 [==============================] - 18s 494ms/step - loss: 0.0437 - binary_accuracy: 0.9908 - f1: 0.9159 - val_loss: 1.3712 - val_binary_accuracy: 0.6810 - val_f1: 0.4959\n",
      "Epoch 31/60\n",
      "24/24 [==============================] - 17s 467ms/step - loss: 0.0597 - binary_accuracy: 0.9855 - f1: 0.9076 - val_loss: 0.8081 - val_binary_accuracy: 0.7117 - val_f1: 0.5151\n",
      "Epoch 32/60\n",
      "24/24 [==============================] - 17s 465ms/step - loss: 0.0422 - binary_accuracy: 0.9947 - f1: 0.9149 - val_loss: 3.5398 - val_binary_accuracy: 0.4969 - val_f1: 0.0535\n",
      "Epoch 33/60\n",
      "24/24 [==============================] - 20s 519ms/step - loss: 0.0596 - binary_accuracy: 0.9829 - f1: 0.8990 - val_loss: 5.3406 - val_binary_accuracy: 0.4785 - val_f1: 0.0208\n",
      "Epoch 34/60\n",
      "24/24 [==============================] - 19s 521ms/step - loss: 0.0466 - binary_accuracy: 0.9908 - f1: 0.9097 - val_loss: 2.4971 - val_binary_accuracy: 0.6196 - val_f1: 0.6002\n",
      "Epoch 35/60\n",
      "24/24 [==============================] - 18s 468ms/step - loss: 0.0512 - binary_accuracy: 0.9881 - f1: 0.9075 - val_loss: 2.8500 - val_binary_accuracy: 0.5215 - val_f1: 0.1104\n",
      "Epoch 36/60\n",
      "24/24 [==============================] - 17s 476ms/step - loss: 0.0358 - binary_accuracy: 0.9921 - f1: 0.9107 - val_loss: 2.3448 - val_binary_accuracy: 0.6074 - val_f1: 0.5967\n",
      "Epoch 37/60\n",
      "24/24 [==============================] - 18s 461ms/step - loss: 0.0331 - binary_accuracy: 0.9934 - f1: 0.9152 - val_loss: 1.2624 - val_binary_accuracy: 0.6258 - val_f1: 0.3521\n",
      "Epoch 38/60\n",
      "24/24 [==============================] - 18s 481ms/step - loss: 0.0314 - binary_accuracy: 0.9921 - f1: 0.9123 - val_loss: 5.3416 - val_binary_accuracy: 0.5276 - val_f1: 0.5612\n",
      "Epoch 39/60\n",
      "24/24 [==============================] - 17s 431ms/step - loss: 0.0277 - binary_accuracy: 0.9934 - f1: 0.9121 - val_loss: 0.8758 - val_binary_accuracy: 0.7362 - val_f1: 0.5896\n",
      "Epoch 40/60\n",
      "24/24 [==============================] - 17s 430ms/step - loss: 0.0283 - binary_accuracy: 0.9921 - f1: 0.9114 - val_loss: 0.7589 - val_binary_accuracy: 0.7607 - val_f1: 0.5911\n",
      "Epoch 41/60\n",
      "24/24 [==============================] - 17s 426ms/step - loss: 0.0238 - binary_accuracy: 0.9947 - f1: 0.9124 - val_loss: 0.7021 - val_binary_accuracy: 0.8037 - val_f1: 0.6199\n",
      "Epoch 42/60\n",
      "24/24 [==============================] - 20s 513ms/step - loss: 0.0265 - binary_accuracy: 0.9947 - f1: 0.9146 - val_loss: 3.8156 - val_binary_accuracy: 0.5276 - val_f1: 0.1118\n",
      "Epoch 43/60\n",
      "24/24 [==============================] - 17s 426ms/step - loss: 0.0243 - binary_accuracy: 0.9947 - f1: 0.9090 - val_loss: 1.1633 - val_binary_accuracy: 0.7730 - val_f1: 0.6818\n",
      "Epoch 44/60\n",
      "24/24 [==============================] - 16s 413ms/step - loss: 0.0086 - binary_accuracy: 0.9987 - f1: 0.9156 - val_loss: 0.4382 - val_binary_accuracy: 0.8282 - val_f1: 0.6579\n",
      "Epoch 45/60\n",
      "24/24 [==============================] - 16s 434ms/step - loss: 0.0044 - binary_accuracy: 1.0000 - f1: 0.9167 - val_loss: 0.6582 - val_binary_accuracy: 0.8098 - val_f1: 0.6774\n",
      "Epoch 46/60\n",
      "24/24 [==============================] - 18s 479ms/step - loss: 0.0028 - binary_accuracy: 1.0000 - f1: 0.9167 - val_loss: 0.5036 - val_binary_accuracy: 0.8282 - val_f1: 0.6838\n",
      "Epoch 47/60\n",
      "24/24 [==============================] - 19s 568ms/step - loss: 0.0023 - binary_accuracy: 1.0000 - f1: 0.9167 - val_loss: 0.4958 - val_binary_accuracy: 0.8344 - val_f1: 0.6908\n",
      "Epoch 48/60\n",
      "24/24 [==============================] - 17s 447ms/step - loss: 0.0017 - binary_accuracy: 1.0000 - f1: 0.9167 - val_loss: 0.4940 - val_binary_accuracy: 0.8650 - val_f1: 0.7218\n",
      "Epoch 49/60\n",
      "24/24 [==============================] - 19s 530ms/step - loss: 0.0018 - binary_accuracy: 1.0000 - f1: 0.9167 - val_loss: 0.5184 - val_binary_accuracy: 0.8528 - val_f1: 0.7158\n",
      "Epoch 50/60\n",
      "24/24 [==============================] - 18s 462ms/step - loss: 0.0014 - binary_accuracy: 1.0000 - f1: 0.9167 - val_loss: 0.4622 - val_binary_accuracy: 0.8712 - val_f1: 0.7121\n",
      "Epoch 51/60\n",
      "24/24 [==============================] - 17s 440ms/step - loss: 0.0012 - binary_accuracy: 1.0000 - f1: 0.9167 - val_loss: 0.4788 - val_binary_accuracy: 0.8834 - val_f1: 0.7336\n",
      "Epoch 52/60\n",
      "24/24 [==============================] - 20s 526ms/step - loss: 0.0012 - binary_accuracy: 1.0000 - f1: 0.9167 - val_loss: 0.5094 - val_binary_accuracy: 0.8712 - val_f1: 0.7288\n",
      "Epoch 53/60\n",
      "24/24 [==============================] - 22s 610ms/step - loss: 0.0011 - binary_accuracy: 1.0000 - f1: 0.9167 - val_loss: 0.5095 - val_binary_accuracy: 0.8589 - val_f1: 0.7081\n",
      "Epoch 54/60\n",
      "24/24 [==============================] - 21s 544ms/step - loss: 0.0010 - binary_accuracy: 1.0000 - f1: 0.9167 - val_loss: 0.4847 - val_binary_accuracy: 0.8589 - val_f1: 0.6940\n",
      "Epoch 55/60\n",
      "24/24 [==============================] - 22s 518ms/step - loss: 9.9359e-04 - binary_accuracy: 1.0000 - f1: 0.9167 - val_loss: 0.4871 - val_binary_accuracy: 0.8712 - val_f1: 0.7190\n",
      "Epoch 56/60\n",
      "24/24 [==============================] - 19s 458ms/step - loss: 8.3402e-04 - binary_accuracy: 1.0000 - f1: 0.9167 - val_loss: 0.4855 - val_binary_accuracy: 0.8650 - val_f1: 0.7052\n",
      "Epoch 57/60\n",
      "24/24 [==============================] - 17s 425ms/step - loss: 8.6718e-04 - binary_accuracy: 1.0000 - f1: 0.9167 - val_loss: 0.4781 - val_binary_accuracy: 0.8589 - val_f1: 0.6843\n",
      "Epoch 58/60\n",
      "24/24 [==============================] - 16s 456ms/step - loss: 8.0561e-04 - binary_accuracy: 1.0000 - f1: 0.9167 - val_loss: 0.4866 - val_binary_accuracy: 0.8650 - val_f1: 0.7052\n",
      "Epoch 59/60\n",
      "24/24 [==============================] - 15s 427ms/step - loss: 7.8066e-04 - binary_accuracy: 1.0000 - f1: 0.9167 - val_loss: 0.4938 - val_binary_accuracy: 0.8773 - val_f1: 0.7190\n",
      "Epoch 60/60\n",
      "24/24 [==============================] - 14s 414ms/step - loss: 6.8981e-04 - binary_accuracy: 1.0000 - f1: 0.9167 - val_loss: 0.4964 - val_binary_accuracy: 0.8712 - val_f1: 0.7121\n"
     ]
    },
    {
     "name": "stderr",
     "output_type": "stream",
     "text": [
      "\u001b[32m[I 2021-06-25 15:24:52,039]\u001b[0m Trial 13 finished with value: 0.8711169704947125 and parameters: {'learning_rate': 0.0001, 'optimizer': 'Adam', 'flatten_layer': 'GlobalAveragePooling3D'}. Best is trial 11 with value: 0.8956661189719101.\u001b[0m\n"
     ]
    }
   ],
   "source": [
    "# Define Optuna study name\n",
    "study_name = path + 'Results/optuna_studies/study_v1'\n",
    "\n",
    "# Specify number of iterations\n",
    "n_trials = 5\n",
    "\n",
    "# Create Optuna study\n",
    "study = optuna.create_study(study_name = study_name, \n",
    "                            direction = 'maximize', \n",
    "                            load_if_exists = True,  \n",
    "                            storage = f'sqlite:///{study_name}.db')\n",
    "    \n",
    "study.optimize(lambda trial: objective(trial, train_dataset, val_dataset, val_true_labels, study_name), \n",
    "               n_trials = n_trials)"
   ]
  },
  {
   "cell_type": "code",
   "execution_count": null,
   "metadata": {
    "colab": {
     "base_uri": "https://localhost:8080/"
    },
    "executionInfo": {
     "elapsed": 296,
     "status": "ok",
     "timestamp": 1624635017136,
     "user": {
      "displayName": "Fernando Herran",
      "photoUrl": "",
      "userId": "09119314463851443877"
     },
     "user_tz": -120
    },
    "id": "MpEPXZx-5JSz",
    "outputId": "bc89bd75-e2f6-4ffb-b579-999a8b0b4301"
   },
   "outputs": [
    {
     "name": "stdout",
     "output_type": "stream",
     "text": [
      "- Best F1 score: 0.8956661189719101\n",
      "- Best hyperparameters: {'flatten_layer': 'GlobalAveragePooling3D', 'learning_rate': 0.0001, 'optimizer': 'Adam'}\n"
     ]
    }
   ],
   "source": [
    "# Check besr hyperparameters setup\n",
    "print('- Best F1 score: {}'.format(study.best_trial.value))\n",
    "print('- Best hyperparameters: {}'.format(study.best_trial.params))"
   ]
  },
  {
   "cell_type": "markdown",
   "metadata": {
    "id": "Dt6980GwceEc"
   },
   "source": [
    "#### Load existing Optuna study"
   ]
  },
  {
   "cell_type": "code",
   "execution_count": 30,
   "metadata": {
    "executionInfo": {
     "elapsed": 856,
     "status": "ok",
     "timestamp": 1624969786545,
     "user": {
      "displayName": "Fernando Herran",
      "photoUrl": "",
      "userId": "09119314463851443877"
     },
     "user_tz": -120
    },
    "id": "xFhiA4YrcgWH"
   },
   "outputs": [],
   "source": [
    "study_name = path + 'Results/optuna_studies/study_v1'\n",
    "storage_name = 'sqlite:///{}.db'.format(study_name)\n",
    "\n",
    "study = optuna.load_study(study_name = study_name, \n",
    "                          storage = storage_name)"
   ]
  },
  {
   "cell_type": "markdown",
   "metadata": {
    "id": "7XI4WV4JcDMl"
   },
   "source": [
    "#### Visualize Optuna study results"
   ]
  },
  {
   "cell_type": "code",
   "execution_count": null,
   "metadata": {
    "id": "tePZ-icXOnu2"
   },
   "outputs": [],
   "source": [
    "!wget https://github.com/plotly/orca/releases/download/v1.2.1/orca-1.2.1-x86_64.AppImage -O /usr/local/bin/orca\n",
    "!chmod +x /usr/local/bin/orca\n",
    "!apt-get install xvfb libgtk2.0-0 libgconf-2-4\n",
    "!apt-get install poppler-utils "
   ]
  },
  {
   "cell_type": "code",
   "execution_count": 34,
   "metadata": {
    "colab": {
     "base_uri": "https://localhost:8080/",
     "height": 542
    },
    "executionInfo": {
     "elapsed": 6849,
     "status": "ok",
     "timestamp": 1624970128788,
     "user": {
      "displayName": "Fernando Herran",
      "photoUrl": "",
      "userId": "09119314463851443877"
     },
     "user_tz": -120
    },
    "id": "TDZrjsvycGgW",
    "outputId": "0d1997dc-1f6a-4924-ee0b-7872b9d4c350"
   },
   "outputs": [
    {
     "data": {
      "text/html": [
       "<html>\n",
       "<head><meta charset=\"utf-8\" /></head>\n",
       "<body>\n",
       "    <div>\n",
       "            <script src=\"https://cdnjs.cloudflare.com/ajax/libs/mathjax/2.7.5/MathJax.js?config=TeX-AMS-MML_SVG\"></script><script type=\"text/javascript\">if (window.MathJax) {MathJax.Hub.Config({SVG: {font: \"STIX-Web\"}});}</script>\n",
       "                <script type=\"text/javascript\">window.PlotlyConfig = {MathJaxConfig: 'local'};</script>\n",
       "        <script src=\"https://cdn.plot.ly/plotly-latest.min.js\"></script>    \n",
       "            <div id=\"8ddfb2f6-42f6-44de-9817-b98cb1c022fb\" class=\"plotly-graph-div\" style=\"height:525px; width:100%;\"></div>\n",
       "            <script type=\"text/javascript\">\n",
       "                \n",
       "                    window.PLOTLYENV=window.PLOTLYENV || {};\n",
       "                    \n",
       "                if (document.getElementById(\"8ddfb2f6-42f6-44de-9817-b98cb1c022fb\")) {\n",
       "                    Plotly.newPlot(\n",
       "                        '8ddfb2f6-42f6-44de-9817-b98cb1c022fb',\n",
       "                        [{\"cliponaxis\": false, \"hovertemplate\": [\"flatten_layer (CategoricalDistribution): 0.008097514207601365<extra></extra>\", \"learning_rate (CategoricalDistribution): 0.32826428299681654<extra></extra>\", \"optimizer (CategoricalDistribution): 0.663638202795582<extra></extra>\"], \"marker\": {\"color\": \"rgb(66,146,198)\"}, \"orientation\": \"h\", \"text\": [\"0.008097514207601365\", \"0.32826428299681654\", \"0.663638202795582\"], \"textposition\": \"outside\", \"texttemplate\": \"%{text:.2f}\", \"type\": \"bar\", \"x\": [0.008097514207601365, 0.32826428299681654, 0.663638202795582], \"y\": [\"flatten_layer\", \"learning_rate\", \"optimizer\"]}],\n",
       "                        {\"showlegend\": false, \"template\": {\"data\": {\"bar\": [{\"error_x\": {\"color\": \"#2a3f5f\"}, \"error_y\": {\"color\": \"#2a3f5f\"}, \"marker\": {\"line\": {\"color\": \"#E5ECF6\", \"width\": 0.5}}, \"type\": \"bar\"}], \"barpolar\": [{\"marker\": {\"line\": {\"color\": \"#E5ECF6\", \"width\": 0.5}}, \"type\": \"barpolar\"}], \"carpet\": [{\"aaxis\": {\"endlinecolor\": \"#2a3f5f\", \"gridcolor\": \"white\", \"linecolor\": \"white\", \"minorgridcolor\": \"white\", \"startlinecolor\": \"#2a3f5f\"}, \"baxis\": {\"endlinecolor\": \"#2a3f5f\", \"gridcolor\": \"white\", \"linecolor\": \"white\", \"minorgridcolor\": \"white\", \"startlinecolor\": \"#2a3f5f\"}, \"type\": \"carpet\"}], \"choropleth\": [{\"colorbar\": {\"outlinewidth\": 0, \"ticks\": \"\"}, \"type\": \"choropleth\"}], \"contour\": [{\"colorbar\": {\"outlinewidth\": 0, \"ticks\": \"\"}, \"colorscale\": [[0.0, \"#0d0887\"], [0.1111111111111111, \"#46039f\"], [0.2222222222222222, \"#7201a8\"], [0.3333333333333333, \"#9c179e\"], [0.4444444444444444, \"#bd3786\"], [0.5555555555555556, \"#d8576b\"], [0.6666666666666666, \"#ed7953\"], [0.7777777777777778, \"#fb9f3a\"], [0.8888888888888888, \"#fdca26\"], [1.0, \"#f0f921\"]], \"type\": \"contour\"}], \"contourcarpet\": [{\"colorbar\": {\"outlinewidth\": 0, \"ticks\": \"\"}, \"type\": \"contourcarpet\"}], \"heatmap\": [{\"colorbar\": {\"outlinewidth\": 0, \"ticks\": \"\"}, \"colorscale\": [[0.0, \"#0d0887\"], [0.1111111111111111, \"#46039f\"], [0.2222222222222222, \"#7201a8\"], [0.3333333333333333, \"#9c179e\"], [0.4444444444444444, \"#bd3786\"], [0.5555555555555556, \"#d8576b\"], [0.6666666666666666, \"#ed7953\"], [0.7777777777777778, \"#fb9f3a\"], [0.8888888888888888, \"#fdca26\"], [1.0, \"#f0f921\"]], \"type\": \"heatmap\"}], \"heatmapgl\": [{\"colorbar\": {\"outlinewidth\": 0, \"ticks\": \"\"}, \"colorscale\": [[0.0, \"#0d0887\"], [0.1111111111111111, \"#46039f\"], [0.2222222222222222, \"#7201a8\"], [0.3333333333333333, \"#9c179e\"], [0.4444444444444444, \"#bd3786\"], [0.5555555555555556, \"#d8576b\"], [0.6666666666666666, \"#ed7953\"], [0.7777777777777778, \"#fb9f3a\"], [0.8888888888888888, \"#fdca26\"], [1.0, \"#f0f921\"]], \"type\": \"heatmapgl\"}], \"histogram\": [{\"marker\": {\"colorbar\": {\"outlinewidth\": 0, \"ticks\": \"\"}}, \"type\": \"histogram\"}], \"histogram2d\": [{\"colorbar\": {\"outlinewidth\": 0, \"ticks\": \"\"}, \"colorscale\": [[0.0, \"#0d0887\"], [0.1111111111111111, \"#46039f\"], [0.2222222222222222, \"#7201a8\"], [0.3333333333333333, \"#9c179e\"], [0.4444444444444444, \"#bd3786\"], [0.5555555555555556, \"#d8576b\"], [0.6666666666666666, \"#ed7953\"], [0.7777777777777778, \"#fb9f3a\"], [0.8888888888888888, \"#fdca26\"], [1.0, \"#f0f921\"]], \"type\": \"histogram2d\"}], \"histogram2dcontour\": [{\"colorbar\": {\"outlinewidth\": 0, \"ticks\": \"\"}, \"colorscale\": [[0.0, \"#0d0887\"], [0.1111111111111111, \"#46039f\"], [0.2222222222222222, \"#7201a8\"], [0.3333333333333333, \"#9c179e\"], [0.4444444444444444, \"#bd3786\"], [0.5555555555555556, \"#d8576b\"], [0.6666666666666666, \"#ed7953\"], [0.7777777777777778, \"#fb9f3a\"], [0.8888888888888888, \"#fdca26\"], [1.0, \"#f0f921\"]], \"type\": \"histogram2dcontour\"}], \"mesh3d\": [{\"colorbar\": {\"outlinewidth\": 0, \"ticks\": \"\"}, \"type\": \"mesh3d\"}], \"parcoords\": [{\"line\": {\"colorbar\": {\"outlinewidth\": 0, \"ticks\": \"\"}}, \"type\": \"parcoords\"}], \"pie\": [{\"automargin\": true, \"type\": \"pie\"}], \"scatter\": [{\"marker\": {\"colorbar\": {\"outlinewidth\": 0, \"ticks\": \"\"}}, \"type\": \"scatter\"}], \"scatter3d\": [{\"line\": {\"colorbar\": {\"outlinewidth\": 0, \"ticks\": \"\"}}, \"marker\": {\"colorbar\": {\"outlinewidth\": 0, \"ticks\": \"\"}}, \"type\": \"scatter3d\"}], \"scattercarpet\": [{\"marker\": {\"colorbar\": {\"outlinewidth\": 0, \"ticks\": \"\"}}, \"type\": \"scattercarpet\"}], \"scattergeo\": [{\"marker\": {\"colorbar\": {\"outlinewidth\": 0, \"ticks\": \"\"}}, \"type\": \"scattergeo\"}], \"scattergl\": [{\"marker\": {\"colorbar\": {\"outlinewidth\": 0, \"ticks\": \"\"}}, \"type\": \"scattergl\"}], \"scattermapbox\": [{\"marker\": {\"colorbar\": {\"outlinewidth\": 0, \"ticks\": \"\"}}, \"type\": \"scattermapbox\"}], \"scatterpolar\": [{\"marker\": {\"colorbar\": {\"outlinewidth\": 0, \"ticks\": \"\"}}, \"type\": \"scatterpolar\"}], \"scatterpolargl\": [{\"marker\": {\"colorbar\": {\"outlinewidth\": 0, \"ticks\": \"\"}}, \"type\": \"scatterpolargl\"}], \"scatterternary\": [{\"marker\": {\"colorbar\": {\"outlinewidth\": 0, \"ticks\": \"\"}}, \"type\": \"scatterternary\"}], \"surface\": [{\"colorbar\": {\"outlinewidth\": 0, \"ticks\": \"\"}, \"colorscale\": [[0.0, \"#0d0887\"], [0.1111111111111111, \"#46039f\"], [0.2222222222222222, \"#7201a8\"], [0.3333333333333333, \"#9c179e\"], [0.4444444444444444, \"#bd3786\"], [0.5555555555555556, \"#d8576b\"], [0.6666666666666666, \"#ed7953\"], [0.7777777777777778, \"#fb9f3a\"], [0.8888888888888888, \"#fdca26\"], [1.0, \"#f0f921\"]], \"type\": \"surface\"}], \"table\": [{\"cells\": {\"fill\": {\"color\": \"#EBF0F8\"}, \"line\": {\"color\": \"white\"}}, \"header\": {\"fill\": {\"color\": \"#C8D4E3\"}, \"line\": {\"color\": \"white\"}}, \"type\": \"table\"}]}, \"layout\": {\"annotationdefaults\": {\"arrowcolor\": \"#2a3f5f\", \"arrowhead\": 0, \"arrowwidth\": 1}, \"coloraxis\": {\"colorbar\": {\"outlinewidth\": 0, \"ticks\": \"\"}}, \"colorscale\": {\"diverging\": [[0, \"#8e0152\"], [0.1, \"#c51b7d\"], [0.2, \"#de77ae\"], [0.3, \"#f1b6da\"], [0.4, \"#fde0ef\"], [0.5, \"#f7f7f7\"], [0.6, \"#e6f5d0\"], [0.7, \"#b8e186\"], [0.8, \"#7fbc41\"], [0.9, \"#4d9221\"], [1, \"#276419\"]], \"sequential\": [[0.0, \"#0d0887\"], [0.1111111111111111, \"#46039f\"], [0.2222222222222222, \"#7201a8\"], [0.3333333333333333, \"#9c179e\"], [0.4444444444444444, \"#bd3786\"], [0.5555555555555556, \"#d8576b\"], [0.6666666666666666, \"#ed7953\"], [0.7777777777777778, \"#fb9f3a\"], [0.8888888888888888, \"#fdca26\"], [1.0, \"#f0f921\"]], \"sequentialminus\": [[0.0, \"#0d0887\"], [0.1111111111111111, \"#46039f\"], [0.2222222222222222, \"#7201a8\"], [0.3333333333333333, \"#9c179e\"], [0.4444444444444444, \"#bd3786\"], [0.5555555555555556, \"#d8576b\"], [0.6666666666666666, \"#ed7953\"], [0.7777777777777778, \"#fb9f3a\"], [0.8888888888888888, \"#fdca26\"], [1.0, \"#f0f921\"]]}, \"colorway\": [\"#636efa\", \"#EF553B\", \"#00cc96\", \"#ab63fa\", \"#FFA15A\", \"#19d3f3\", \"#FF6692\", \"#B6E880\", \"#FF97FF\", \"#FECB52\"], \"font\": {\"color\": \"#2a3f5f\"}, \"geo\": {\"bgcolor\": \"white\", \"lakecolor\": \"white\", \"landcolor\": \"#E5ECF6\", \"showlakes\": true, \"showland\": true, \"subunitcolor\": \"white\"}, \"hoverlabel\": {\"align\": \"left\"}, \"hovermode\": \"closest\", \"mapbox\": {\"style\": \"light\"}, \"paper_bgcolor\": \"white\", \"plot_bgcolor\": \"#E5ECF6\", \"polar\": {\"angularaxis\": {\"gridcolor\": \"white\", \"linecolor\": \"white\", \"ticks\": \"\"}, \"bgcolor\": \"#E5ECF6\", \"radialaxis\": {\"gridcolor\": \"white\", \"linecolor\": \"white\", \"ticks\": \"\"}}, \"scene\": {\"xaxis\": {\"backgroundcolor\": \"#E5ECF6\", \"gridcolor\": \"white\", \"gridwidth\": 2, \"linecolor\": \"white\", \"showbackground\": true, \"ticks\": \"\", \"zerolinecolor\": \"white\"}, \"yaxis\": {\"backgroundcolor\": \"#E5ECF6\", \"gridcolor\": \"white\", \"gridwidth\": 2, \"linecolor\": \"white\", \"showbackground\": true, \"ticks\": \"\", \"zerolinecolor\": \"white\"}, \"zaxis\": {\"backgroundcolor\": \"#E5ECF6\", \"gridcolor\": \"white\", \"gridwidth\": 2, \"linecolor\": \"white\", \"showbackground\": true, \"ticks\": \"\", \"zerolinecolor\": \"white\"}}, \"shapedefaults\": {\"line\": {\"color\": \"#2a3f5f\"}}, \"ternary\": {\"aaxis\": {\"gridcolor\": \"white\", \"linecolor\": \"white\", \"ticks\": \"\"}, \"baxis\": {\"gridcolor\": \"white\", \"linecolor\": \"white\", \"ticks\": \"\"}, \"bgcolor\": \"#E5ECF6\", \"caxis\": {\"gridcolor\": \"white\", \"linecolor\": \"white\", \"ticks\": \"\"}}, \"title\": {\"x\": 0.05}, \"xaxis\": {\"automargin\": true, \"gridcolor\": \"white\", \"linecolor\": \"white\", \"ticks\": \"\", \"title\": {\"standoff\": 15}, \"zerolinecolor\": \"white\", \"zerolinewidth\": 2}, \"yaxis\": {\"automargin\": true, \"gridcolor\": \"white\", \"linecolor\": \"white\", \"ticks\": \"\", \"title\": {\"standoff\": 15}, \"zerolinecolor\": \"white\", \"zerolinewidth\": 2}}}, \"title\": {\"text\": \"Hyperparameter Importances\"}, \"xaxis\": {\"title\": {\"text\": \"Importance for Objective Value\"}}, \"yaxis\": {\"title\": {\"text\": \"Hyperparameter\"}}},\n",
       "                        {\"responsive\": true}\n",
       "                    ).then(function(){\n",
       "                            \n",
       "var gd = document.getElementById('8ddfb2f6-42f6-44de-9817-b98cb1c022fb');\n",
       "var x = new MutationObserver(function (mutations, observer) {{\n",
       "        var display = window.getComputedStyle(gd).display;\n",
       "        if (!display || display === 'none') {{\n",
       "            console.log([gd, 'removed!']);\n",
       "            Plotly.purge(gd);\n",
       "            observer.disconnect();\n",
       "        }}\n",
       "}});\n",
       "\n",
       "// Listen for the removal of the full notebook cells\n",
       "var notebookContainer = gd.closest('#notebook-container');\n",
       "if (notebookContainer) {{\n",
       "    x.observe(notebookContainer, {childList: true});\n",
       "}}\n",
       "\n",
       "// Listen for the clearing of the current output cell\n",
       "var outputEl = gd.closest('.output');\n",
       "if (outputEl) {{\n",
       "    x.observe(outputEl, {childList: true});\n",
       "}}\n",
       "\n",
       "                        })\n",
       "                };\n",
       "                \n",
       "            </script>\n",
       "        </div>\n",
       "</body>\n",
       "</html>"
      ]
     },
     "metadata": {
      "tags": []
     },
     "output_type": "display_data"
    }
   ],
   "source": [
    "fig = optuna.visualization.plot_param_importances(study = study)\n",
    "fig.write_image(path + 'Results/figures/optuna_fig1.eps')\n",
    "fig.show()"
   ]
  },
  {
   "cell_type": "code",
   "execution_count": 35,
   "metadata": {
    "colab": {
     "base_uri": "https://localhost:8080/",
     "height": 542
    },
    "executionInfo": {
     "elapsed": 3238,
     "status": "ok",
     "timestamp": 1624970257436,
     "user": {
      "displayName": "Fernando Herran",
      "photoUrl": "",
      "userId": "09119314463851443877"
     },
     "user_tz": -120
    },
    "id": "AT1reulAcMaN",
    "outputId": "a9bbddfd-c27d-495f-c2b7-8e4e8e9f15c2"
   },
   "outputs": [
    {
     "data": {
      "text/html": [
       "<html>\n",
       "<head><meta charset=\"utf-8\" /></head>\n",
       "<body>\n",
       "    <div>\n",
       "            <script src=\"https://cdnjs.cloudflare.com/ajax/libs/mathjax/2.7.5/MathJax.js?config=TeX-AMS-MML_SVG\"></script><script type=\"text/javascript\">if (window.MathJax) {MathJax.Hub.Config({SVG: {font: \"STIX-Web\"}});}</script>\n",
       "                <script type=\"text/javascript\">window.PlotlyConfig = {MathJaxConfig: 'local'};</script>\n",
       "        <script src=\"https://cdn.plot.ly/plotly-latest.min.js\"></script>    \n",
       "            <div id=\"6a4e1685-62fa-4409-b449-a4a9ce6d6663\" class=\"plotly-graph-div\" style=\"height:525px; width:100%;\"></div>\n",
       "            <script type=\"text/javascript\">\n",
       "                \n",
       "                    window.PLOTLYENV=window.PLOTLYENV || {};\n",
       "                    \n",
       "                if (document.getElementById(\"6a4e1685-62fa-4409-b449-a4a9ce6d6663\")) {\n",
       "                    Plotly.newPlot(\n",
       "                        '6a4e1685-62fa-4409-b449-a4a9ce6d6663',\n",
       "                        [{\"dimensions\": [{\"label\": \"Objective Value\", \"range\": [0.37803386665448807, 0.8956661189719101], \"values\": [0.8528716759671175, 0.6872110019755504, 0.7708414252630723, 0.7485988182707308, 0.37803386665448807, 0.652125399567177, 0.6870977024897998, 0.8465678220175146, 0.7445126107702795, 0.8488394155967365, 0.8956661189719101, 0.8516932964785726, 0.8711169704947125]}, {\"label\": \"flatten_layer\", \"range\": [0, 1], \"ticktext\": [\"GlobalAveragePooling3D\", \"GlobalMaxPooling3D\"], \"tickvals\": [0, 1], \"values\": [0, 0, 0, 1, 1, 1, 0, 1, 1, 1, 0, 0, 0]}, {\"label\": \"learning_rate\", \"range\": [0, 3], \"ticktext\": [0.0001, 1e-05, 0.01, 0.001], \"tickvals\": [0, 1, 2, 3], \"values\": [0, 0, 1, 2, 1, 0, 2, 0, 2, 3, 0, 0, 0]}, {\"label\": \"optimizer\", \"range\": [0, 3], \"ticktext\": [\"Adam\", \"Adagrad\", \"RMSprop\", \"Adadelta\"], \"tickvals\": [0, 1, 2, 3], \"values\": [0, 1, 0, 2, 3, 2, 0, 0, 2, 2, 0, 0, 0]}], \"labelangle\": 30, \"labelside\": \"bottom\", \"line\": {\"color\": [0.8528716759671175, 0.6872110019755504, 0.7708414252630723, 0.7485988182707308, 0.37803386665448807, 0.652125399567177, 0.6870977024897998, 0.8465678220175146, 0.7445126107702795, 0.8488394155967365, 0.8956661189719101, 0.8516932964785726, 0.8711169704947125], \"colorbar\": {\"title\": {\"text\": \"Objective Value\"}}, \"colorscale\": [[0.0, \"rgb(247,251,255)\"], [0.125, \"rgb(222,235,247)\"], [0.25, \"rgb(198,219,239)\"], [0.375, \"rgb(158,202,225)\"], [0.5, \"rgb(107,174,214)\"], [0.625, \"rgb(66,146,198)\"], [0.75, \"rgb(33,113,181)\"], [0.875, \"rgb(8,81,156)\"], [1.0, \"rgb(8,48,107)\"]], \"reversescale\": false, \"showscale\": true}, \"type\": \"parcoords\"}],\n",
       "                        {\"template\": {\"data\": {\"bar\": [{\"error_x\": {\"color\": \"#2a3f5f\"}, \"error_y\": {\"color\": \"#2a3f5f\"}, \"marker\": {\"line\": {\"color\": \"#E5ECF6\", \"width\": 0.5}}, \"type\": \"bar\"}], \"barpolar\": [{\"marker\": {\"line\": {\"color\": \"#E5ECF6\", \"width\": 0.5}}, \"type\": \"barpolar\"}], \"carpet\": [{\"aaxis\": {\"endlinecolor\": \"#2a3f5f\", \"gridcolor\": \"white\", \"linecolor\": \"white\", \"minorgridcolor\": \"white\", \"startlinecolor\": \"#2a3f5f\"}, \"baxis\": {\"endlinecolor\": \"#2a3f5f\", \"gridcolor\": \"white\", \"linecolor\": \"white\", \"minorgridcolor\": \"white\", \"startlinecolor\": \"#2a3f5f\"}, \"type\": \"carpet\"}], \"choropleth\": [{\"colorbar\": {\"outlinewidth\": 0, \"ticks\": \"\"}, \"type\": \"choropleth\"}], \"contour\": [{\"colorbar\": {\"outlinewidth\": 0, \"ticks\": \"\"}, \"colorscale\": [[0.0, \"#0d0887\"], [0.1111111111111111, \"#46039f\"], [0.2222222222222222, \"#7201a8\"], [0.3333333333333333, \"#9c179e\"], [0.4444444444444444, \"#bd3786\"], [0.5555555555555556, \"#d8576b\"], [0.6666666666666666, \"#ed7953\"], [0.7777777777777778, \"#fb9f3a\"], [0.8888888888888888, \"#fdca26\"], [1.0, \"#f0f921\"]], \"type\": \"contour\"}], \"contourcarpet\": [{\"colorbar\": {\"outlinewidth\": 0, \"ticks\": \"\"}, \"type\": \"contourcarpet\"}], \"heatmap\": [{\"colorbar\": {\"outlinewidth\": 0, \"ticks\": \"\"}, \"colorscale\": [[0.0, \"#0d0887\"], [0.1111111111111111, \"#46039f\"], [0.2222222222222222, \"#7201a8\"], [0.3333333333333333, \"#9c179e\"], [0.4444444444444444, \"#bd3786\"], [0.5555555555555556, \"#d8576b\"], [0.6666666666666666, \"#ed7953\"], [0.7777777777777778, \"#fb9f3a\"], [0.8888888888888888, \"#fdca26\"], [1.0, \"#f0f921\"]], \"type\": \"heatmap\"}], \"heatmapgl\": [{\"colorbar\": {\"outlinewidth\": 0, \"ticks\": \"\"}, \"colorscale\": [[0.0, \"#0d0887\"], [0.1111111111111111, \"#46039f\"], [0.2222222222222222, \"#7201a8\"], [0.3333333333333333, \"#9c179e\"], [0.4444444444444444, \"#bd3786\"], [0.5555555555555556, \"#d8576b\"], [0.6666666666666666, \"#ed7953\"], [0.7777777777777778, \"#fb9f3a\"], [0.8888888888888888, \"#fdca26\"], [1.0, \"#f0f921\"]], \"type\": \"heatmapgl\"}], \"histogram\": [{\"marker\": {\"colorbar\": {\"outlinewidth\": 0, \"ticks\": \"\"}}, \"type\": \"histogram\"}], \"histogram2d\": [{\"colorbar\": {\"outlinewidth\": 0, \"ticks\": \"\"}, \"colorscale\": [[0.0, \"#0d0887\"], [0.1111111111111111, \"#46039f\"], [0.2222222222222222, \"#7201a8\"], [0.3333333333333333, \"#9c179e\"], [0.4444444444444444, \"#bd3786\"], [0.5555555555555556, \"#d8576b\"], [0.6666666666666666, \"#ed7953\"], [0.7777777777777778, \"#fb9f3a\"], [0.8888888888888888, \"#fdca26\"], [1.0, \"#f0f921\"]], \"type\": \"histogram2d\"}], \"histogram2dcontour\": [{\"colorbar\": {\"outlinewidth\": 0, \"ticks\": \"\"}, \"colorscale\": [[0.0, \"#0d0887\"], [0.1111111111111111, \"#46039f\"], [0.2222222222222222, \"#7201a8\"], [0.3333333333333333, \"#9c179e\"], [0.4444444444444444, \"#bd3786\"], [0.5555555555555556, \"#d8576b\"], [0.6666666666666666, \"#ed7953\"], [0.7777777777777778, \"#fb9f3a\"], [0.8888888888888888, \"#fdca26\"], [1.0, \"#f0f921\"]], \"type\": \"histogram2dcontour\"}], \"mesh3d\": [{\"colorbar\": {\"outlinewidth\": 0, \"ticks\": \"\"}, \"type\": \"mesh3d\"}], \"parcoords\": [{\"line\": {\"colorbar\": {\"outlinewidth\": 0, \"ticks\": \"\"}}, \"type\": \"parcoords\"}], \"pie\": [{\"automargin\": true, \"type\": \"pie\"}], \"scatter\": [{\"marker\": {\"colorbar\": {\"outlinewidth\": 0, \"ticks\": \"\"}}, \"type\": \"scatter\"}], \"scatter3d\": [{\"line\": {\"colorbar\": {\"outlinewidth\": 0, \"ticks\": \"\"}}, \"marker\": {\"colorbar\": {\"outlinewidth\": 0, \"ticks\": \"\"}}, \"type\": \"scatter3d\"}], \"scattercarpet\": [{\"marker\": {\"colorbar\": {\"outlinewidth\": 0, \"ticks\": \"\"}}, \"type\": \"scattercarpet\"}], \"scattergeo\": [{\"marker\": {\"colorbar\": {\"outlinewidth\": 0, \"ticks\": \"\"}}, \"type\": \"scattergeo\"}], \"scattergl\": [{\"marker\": {\"colorbar\": {\"outlinewidth\": 0, \"ticks\": \"\"}}, \"type\": \"scattergl\"}], \"scattermapbox\": [{\"marker\": {\"colorbar\": {\"outlinewidth\": 0, \"ticks\": \"\"}}, \"type\": \"scattermapbox\"}], \"scatterpolar\": [{\"marker\": {\"colorbar\": {\"outlinewidth\": 0, \"ticks\": \"\"}}, \"type\": \"scatterpolar\"}], \"scatterpolargl\": [{\"marker\": {\"colorbar\": {\"outlinewidth\": 0, \"ticks\": \"\"}}, \"type\": \"scatterpolargl\"}], \"scatterternary\": [{\"marker\": {\"colorbar\": {\"outlinewidth\": 0, \"ticks\": \"\"}}, \"type\": \"scatterternary\"}], \"surface\": [{\"colorbar\": {\"outlinewidth\": 0, \"ticks\": \"\"}, \"colorscale\": [[0.0, \"#0d0887\"], [0.1111111111111111, \"#46039f\"], [0.2222222222222222, \"#7201a8\"], [0.3333333333333333, \"#9c179e\"], [0.4444444444444444, \"#bd3786\"], [0.5555555555555556, \"#d8576b\"], [0.6666666666666666, \"#ed7953\"], [0.7777777777777778, \"#fb9f3a\"], [0.8888888888888888, \"#fdca26\"], [1.0, \"#f0f921\"]], \"type\": \"surface\"}], \"table\": [{\"cells\": {\"fill\": {\"color\": \"#EBF0F8\"}, \"line\": {\"color\": \"white\"}}, \"header\": {\"fill\": {\"color\": \"#C8D4E3\"}, \"line\": {\"color\": \"white\"}}, \"type\": \"table\"}]}, \"layout\": {\"annotationdefaults\": {\"arrowcolor\": \"#2a3f5f\", \"arrowhead\": 0, \"arrowwidth\": 1}, \"coloraxis\": {\"colorbar\": {\"outlinewidth\": 0, \"ticks\": \"\"}}, \"colorscale\": {\"diverging\": [[0, \"#8e0152\"], [0.1, \"#c51b7d\"], [0.2, \"#de77ae\"], [0.3, \"#f1b6da\"], [0.4, \"#fde0ef\"], [0.5, \"#f7f7f7\"], [0.6, \"#e6f5d0\"], [0.7, \"#b8e186\"], [0.8, \"#7fbc41\"], [0.9, \"#4d9221\"], [1, \"#276419\"]], \"sequential\": [[0.0, \"#0d0887\"], [0.1111111111111111, \"#46039f\"], [0.2222222222222222, \"#7201a8\"], [0.3333333333333333, \"#9c179e\"], [0.4444444444444444, \"#bd3786\"], [0.5555555555555556, \"#d8576b\"], [0.6666666666666666, \"#ed7953\"], [0.7777777777777778, \"#fb9f3a\"], [0.8888888888888888, \"#fdca26\"], [1.0, \"#f0f921\"]], \"sequentialminus\": [[0.0, \"#0d0887\"], [0.1111111111111111, \"#46039f\"], [0.2222222222222222, \"#7201a8\"], [0.3333333333333333, \"#9c179e\"], [0.4444444444444444, \"#bd3786\"], [0.5555555555555556, \"#d8576b\"], [0.6666666666666666, \"#ed7953\"], [0.7777777777777778, \"#fb9f3a\"], [0.8888888888888888, \"#fdca26\"], [1.0, \"#f0f921\"]]}, \"colorway\": [\"#636efa\", \"#EF553B\", \"#00cc96\", \"#ab63fa\", \"#FFA15A\", \"#19d3f3\", \"#FF6692\", \"#B6E880\", \"#FF97FF\", \"#FECB52\"], \"font\": {\"color\": \"#2a3f5f\"}, \"geo\": {\"bgcolor\": \"white\", \"lakecolor\": \"white\", \"landcolor\": \"#E5ECF6\", \"showlakes\": true, \"showland\": true, \"subunitcolor\": \"white\"}, \"hoverlabel\": {\"align\": \"left\"}, \"hovermode\": \"closest\", \"mapbox\": {\"style\": \"light\"}, \"paper_bgcolor\": \"white\", \"plot_bgcolor\": \"#E5ECF6\", \"polar\": {\"angularaxis\": {\"gridcolor\": \"white\", \"linecolor\": \"white\", \"ticks\": \"\"}, \"bgcolor\": \"#E5ECF6\", \"radialaxis\": {\"gridcolor\": \"white\", \"linecolor\": \"white\", \"ticks\": \"\"}}, \"scene\": {\"xaxis\": {\"backgroundcolor\": \"#E5ECF6\", \"gridcolor\": \"white\", \"gridwidth\": 2, \"linecolor\": \"white\", \"showbackground\": true, \"ticks\": \"\", \"zerolinecolor\": \"white\"}, \"yaxis\": {\"backgroundcolor\": \"#E5ECF6\", \"gridcolor\": \"white\", \"gridwidth\": 2, \"linecolor\": \"white\", \"showbackground\": true, \"ticks\": \"\", \"zerolinecolor\": \"white\"}, \"zaxis\": {\"backgroundcolor\": \"#E5ECF6\", \"gridcolor\": \"white\", \"gridwidth\": 2, \"linecolor\": \"white\", \"showbackground\": true, \"ticks\": \"\", \"zerolinecolor\": \"white\"}}, \"shapedefaults\": {\"line\": {\"color\": \"#2a3f5f\"}}, \"ternary\": {\"aaxis\": {\"gridcolor\": \"white\", \"linecolor\": \"white\", \"ticks\": \"\"}, \"baxis\": {\"gridcolor\": \"white\", \"linecolor\": \"white\", \"ticks\": \"\"}, \"bgcolor\": \"#E5ECF6\", \"caxis\": {\"gridcolor\": \"white\", \"linecolor\": \"white\", \"ticks\": \"\"}}, \"title\": {\"x\": 0.05}, \"xaxis\": {\"automargin\": true, \"gridcolor\": \"white\", \"linecolor\": \"white\", \"ticks\": \"\", \"title\": {\"standoff\": 15}, \"zerolinecolor\": \"white\", \"zerolinewidth\": 2}, \"yaxis\": {\"automargin\": true, \"gridcolor\": \"white\", \"linecolor\": \"white\", \"ticks\": \"\", \"title\": {\"standoff\": 15}, \"zerolinecolor\": \"white\", \"zerolinewidth\": 2}}}, \"title\": {\"text\": \"Parallel Coordinate Plot\"}},\n",
       "                        {\"responsive\": true}\n",
       "                    ).then(function(){\n",
       "                            \n",
       "var gd = document.getElementById('6a4e1685-62fa-4409-b449-a4a9ce6d6663');\n",
       "var x = new MutationObserver(function (mutations, observer) {{\n",
       "        var display = window.getComputedStyle(gd).display;\n",
       "        if (!display || display === 'none') {{\n",
       "            console.log([gd, 'removed!']);\n",
       "            Plotly.purge(gd);\n",
       "            observer.disconnect();\n",
       "        }}\n",
       "}});\n",
       "\n",
       "// Listen for the removal of the full notebook cells\n",
       "var notebookContainer = gd.closest('#notebook-container');\n",
       "if (notebookContainer) {{\n",
       "    x.observe(notebookContainer, {childList: true});\n",
       "}}\n",
       "\n",
       "// Listen for the clearing of the current output cell\n",
       "var outputEl = gd.closest('.output');\n",
       "if (outputEl) {{\n",
       "    x.observe(outputEl, {childList: true});\n",
       "}}\n",
       "\n",
       "                        })\n",
       "                };\n",
       "                \n",
       "            </script>\n",
       "        </div>\n",
       "</body>\n",
       "</html>"
      ]
     },
     "metadata": {
      "tags": []
     },
     "output_type": "display_data"
    }
   ],
   "source": [
    "fig = optuna.visualization.plot_parallel_coordinate(study = study)\n",
    "fig.write_image(path + 'Results/figures/optuna_fig2.eps')\n",
    "fig.show()"
   ]
  },
  {
   "cell_type": "code",
   "execution_count": 36,
   "metadata": {
    "colab": {
     "base_uri": "https://localhost:8080/",
     "height": 542
    },
    "executionInfo": {
     "elapsed": 1020,
     "status": "ok",
     "timestamp": 1624970258451,
     "user": {
      "displayName": "Fernando Herran",
      "photoUrl": "",
      "userId": "09119314463851443877"
     },
     "user_tz": -120
    },
    "id": "rCSXKcSscMmG",
    "outputId": "84849b2f-738e-44b7-8dfb-ba45fc7306bc"
   },
   "outputs": [
    {
     "data": {
      "text/html": [
       "<html>\n",
       "<head><meta charset=\"utf-8\" /></head>\n",
       "<body>\n",
       "    <div>\n",
       "            <script src=\"https://cdnjs.cloudflare.com/ajax/libs/mathjax/2.7.5/MathJax.js?config=TeX-AMS-MML_SVG\"></script><script type=\"text/javascript\">if (window.MathJax) {MathJax.Hub.Config({SVG: {font: \"STIX-Web\"}});}</script>\n",
       "                <script type=\"text/javascript\">window.PlotlyConfig = {MathJaxConfig: 'local'};</script>\n",
       "        <script src=\"https://cdn.plot.ly/plotly-latest.min.js\"></script>    \n",
       "            <div id=\"d9fac39a-dd9b-49ac-93e9-4f05d085dc48\" class=\"plotly-graph-div\" style=\"height:525px; width:100%;\"></div>\n",
       "            <script type=\"text/javascript\">\n",
       "                \n",
       "                    window.PLOTLYENV=window.PLOTLYENV || {};\n",
       "                    \n",
       "                if (document.getElementById(\"d9fac39a-dd9b-49ac-93e9-4f05d085dc48\")) {\n",
       "                    Plotly.newPlot(\n",
       "                        'd9fac39a-dd9b-49ac-93e9-4f05d085dc48',\n",
       "                        [{\"marker\": {\"color\": [0, 1, 2, 3, 4, 5, 6, 7, 9, 10, 11, 12, 13], \"colorbar\": {\"title\": {\"text\": \"#Trials\"}, \"x\": 1.0, \"xpad\": 40}, \"colorscale\": [[0.0, \"rgb(247,251,255)\"], [0.125, \"rgb(222,235,247)\"], [0.25, \"rgb(198,219,239)\"], [0.375, \"rgb(158,202,225)\"], [0.5, \"rgb(107,174,214)\"], [0.625, \"rgb(66,146,198)\"], [0.75, \"rgb(33,113,181)\"], [0.875, \"rgb(8,81,156)\"], [1.0, \"rgb(8,48,107)\"]], \"line\": {\"color\": \"Grey\", \"width\": 0.5}, \"showscale\": true}, \"mode\": \"markers\", \"showlegend\": false, \"type\": \"scatter\", \"x\": [\"GlobalAveragePooling3D\", \"GlobalAveragePooling3D\", \"GlobalAveragePooling3D\", \"GlobalMaxPooling3D\", \"GlobalMaxPooling3D\", \"GlobalMaxPooling3D\", \"GlobalAveragePooling3D\", \"GlobalMaxPooling3D\", \"GlobalMaxPooling3D\", \"GlobalMaxPooling3D\", \"GlobalAveragePooling3D\", \"GlobalAveragePooling3D\", \"GlobalAveragePooling3D\"], \"xaxis\": \"x\", \"y\": [0.8528716759671175, 0.6872110019755504, 0.7708414252630723, 0.7485988182707308, 0.37803386665448807, 0.652125399567177, 0.6870977024897998, 0.8465678220175146, 0.7445126107702795, 0.8488394155967365, 0.8956661189719101, 0.8516932964785726, 0.8711169704947125], \"yaxis\": \"y\"}, {\"marker\": {\"color\": [0, 1, 2, 3, 4, 5, 6, 7, 9, 10, 11, 12, 13], \"colorbar\": {\"title\": {\"text\": \"#Trials\"}, \"x\": 1.0, \"xpad\": 40}, \"colorscale\": [[0.0, \"rgb(247,251,255)\"], [0.125, \"rgb(222,235,247)\"], [0.25, \"rgb(198,219,239)\"], [0.375, \"rgb(158,202,225)\"], [0.5, \"rgb(107,174,214)\"], [0.625, \"rgb(66,146,198)\"], [0.75, \"rgb(33,113,181)\"], [0.875, \"rgb(8,81,156)\"], [1.0, \"rgb(8,48,107)\"]], \"line\": {\"color\": \"Grey\", \"width\": 0.5}, \"showscale\": false}, \"mode\": \"markers\", \"showlegend\": false, \"type\": \"scatter\", \"x\": [0.0001, 0.0001, 1e-05, 0.01, 1e-05, 0.0001, 0.01, 0.0001, 0.01, 0.001, 0.0001, 0.0001, 0.0001], \"xaxis\": \"x2\", \"y\": [0.8528716759671175, 0.6872110019755504, 0.7708414252630723, 0.7485988182707308, 0.37803386665448807, 0.652125399567177, 0.6870977024897998, 0.8465678220175146, 0.7445126107702795, 0.8488394155967365, 0.8956661189719101, 0.8516932964785726, 0.8711169704947125], \"yaxis\": \"y2\"}, {\"marker\": {\"color\": [0, 1, 2, 3, 4, 5, 6, 7, 9, 10, 11, 12, 13], \"colorbar\": {\"title\": {\"text\": \"#Trials\"}, \"x\": 1.0, \"xpad\": 40}, \"colorscale\": [[0.0, \"rgb(247,251,255)\"], [0.125, \"rgb(222,235,247)\"], [0.25, \"rgb(198,219,239)\"], [0.375, \"rgb(158,202,225)\"], [0.5, \"rgb(107,174,214)\"], [0.625, \"rgb(66,146,198)\"], [0.75, \"rgb(33,113,181)\"], [0.875, \"rgb(8,81,156)\"], [1.0, \"rgb(8,48,107)\"]], \"line\": {\"color\": \"Grey\", \"width\": 0.5}, \"showscale\": false}, \"mode\": \"markers\", \"showlegend\": false, \"type\": \"scatter\", \"x\": [\"Adam\", \"Adagrad\", \"Adam\", \"RMSprop\", \"Adadelta\", \"RMSprop\", \"Adam\", \"Adam\", \"RMSprop\", \"RMSprop\", \"Adam\", \"Adam\", \"Adam\"], \"xaxis\": \"x3\", \"y\": [0.8528716759671175, 0.6872110019755504, 0.7708414252630723, 0.7485988182707308, 0.37803386665448807, 0.652125399567177, 0.6870977024897998, 0.8465678220175146, 0.7445126107702795, 0.8488394155967365, 0.8956661189719101, 0.8516932964785726, 0.8711169704947125], \"yaxis\": \"y3\"}],\n",
       "                        {\"template\": {\"data\": {\"bar\": [{\"error_x\": {\"color\": \"#2a3f5f\"}, \"error_y\": {\"color\": \"#2a3f5f\"}, \"marker\": {\"line\": {\"color\": \"#E5ECF6\", \"width\": 0.5}}, \"type\": \"bar\"}], \"barpolar\": [{\"marker\": {\"line\": {\"color\": \"#E5ECF6\", \"width\": 0.5}}, \"type\": \"barpolar\"}], \"carpet\": [{\"aaxis\": {\"endlinecolor\": \"#2a3f5f\", \"gridcolor\": \"white\", \"linecolor\": \"white\", \"minorgridcolor\": \"white\", \"startlinecolor\": \"#2a3f5f\"}, \"baxis\": {\"endlinecolor\": \"#2a3f5f\", \"gridcolor\": \"white\", \"linecolor\": \"white\", \"minorgridcolor\": \"white\", \"startlinecolor\": \"#2a3f5f\"}, \"type\": \"carpet\"}], \"choropleth\": [{\"colorbar\": {\"outlinewidth\": 0, \"ticks\": \"\"}, \"type\": \"choropleth\"}], \"contour\": [{\"colorbar\": {\"outlinewidth\": 0, \"ticks\": \"\"}, \"colorscale\": [[0.0, \"#0d0887\"], [0.1111111111111111, \"#46039f\"], [0.2222222222222222, \"#7201a8\"], [0.3333333333333333, \"#9c179e\"], [0.4444444444444444, \"#bd3786\"], [0.5555555555555556, \"#d8576b\"], [0.6666666666666666, \"#ed7953\"], [0.7777777777777778, \"#fb9f3a\"], [0.8888888888888888, \"#fdca26\"], [1.0, \"#f0f921\"]], \"type\": \"contour\"}], \"contourcarpet\": [{\"colorbar\": {\"outlinewidth\": 0, \"ticks\": \"\"}, \"type\": \"contourcarpet\"}], \"heatmap\": [{\"colorbar\": {\"outlinewidth\": 0, \"ticks\": \"\"}, \"colorscale\": [[0.0, \"#0d0887\"], [0.1111111111111111, \"#46039f\"], [0.2222222222222222, \"#7201a8\"], [0.3333333333333333, \"#9c179e\"], [0.4444444444444444, \"#bd3786\"], [0.5555555555555556, \"#d8576b\"], [0.6666666666666666, \"#ed7953\"], [0.7777777777777778, \"#fb9f3a\"], [0.8888888888888888, \"#fdca26\"], [1.0, \"#f0f921\"]], \"type\": \"heatmap\"}], \"heatmapgl\": [{\"colorbar\": {\"outlinewidth\": 0, \"ticks\": \"\"}, \"colorscale\": [[0.0, \"#0d0887\"], [0.1111111111111111, \"#46039f\"], [0.2222222222222222, \"#7201a8\"], [0.3333333333333333, \"#9c179e\"], [0.4444444444444444, \"#bd3786\"], [0.5555555555555556, \"#d8576b\"], [0.6666666666666666, \"#ed7953\"], [0.7777777777777778, \"#fb9f3a\"], [0.8888888888888888, \"#fdca26\"], [1.0, \"#f0f921\"]], \"type\": \"heatmapgl\"}], \"histogram\": [{\"marker\": {\"colorbar\": {\"outlinewidth\": 0, \"ticks\": \"\"}}, \"type\": \"histogram\"}], \"histogram2d\": [{\"colorbar\": {\"outlinewidth\": 0, \"ticks\": \"\"}, \"colorscale\": [[0.0, \"#0d0887\"], [0.1111111111111111, \"#46039f\"], [0.2222222222222222, \"#7201a8\"], [0.3333333333333333, \"#9c179e\"], [0.4444444444444444, \"#bd3786\"], [0.5555555555555556, \"#d8576b\"], [0.6666666666666666, \"#ed7953\"], [0.7777777777777778, \"#fb9f3a\"], [0.8888888888888888, \"#fdca26\"], [1.0, \"#f0f921\"]], \"type\": \"histogram2d\"}], \"histogram2dcontour\": [{\"colorbar\": {\"outlinewidth\": 0, \"ticks\": \"\"}, \"colorscale\": [[0.0, \"#0d0887\"], [0.1111111111111111, \"#46039f\"], [0.2222222222222222, \"#7201a8\"], [0.3333333333333333, \"#9c179e\"], [0.4444444444444444, \"#bd3786\"], [0.5555555555555556, \"#d8576b\"], [0.6666666666666666, \"#ed7953\"], [0.7777777777777778, \"#fb9f3a\"], [0.8888888888888888, \"#fdca26\"], [1.0, \"#f0f921\"]], \"type\": \"histogram2dcontour\"}], \"mesh3d\": [{\"colorbar\": {\"outlinewidth\": 0, \"ticks\": \"\"}, \"type\": \"mesh3d\"}], \"parcoords\": [{\"line\": {\"colorbar\": {\"outlinewidth\": 0, \"ticks\": \"\"}}, \"type\": \"parcoords\"}], \"pie\": [{\"automargin\": true, \"type\": \"pie\"}], \"scatter\": [{\"marker\": {\"colorbar\": {\"outlinewidth\": 0, \"ticks\": \"\"}}, \"type\": \"scatter\"}], \"scatter3d\": [{\"line\": {\"colorbar\": {\"outlinewidth\": 0, \"ticks\": \"\"}}, \"marker\": {\"colorbar\": {\"outlinewidth\": 0, \"ticks\": \"\"}}, \"type\": \"scatter3d\"}], \"scattercarpet\": [{\"marker\": {\"colorbar\": {\"outlinewidth\": 0, \"ticks\": \"\"}}, \"type\": \"scattercarpet\"}], \"scattergeo\": [{\"marker\": {\"colorbar\": {\"outlinewidth\": 0, \"ticks\": \"\"}}, \"type\": \"scattergeo\"}], \"scattergl\": [{\"marker\": {\"colorbar\": {\"outlinewidth\": 0, \"ticks\": \"\"}}, \"type\": \"scattergl\"}], \"scattermapbox\": [{\"marker\": {\"colorbar\": {\"outlinewidth\": 0, \"ticks\": \"\"}}, \"type\": \"scattermapbox\"}], \"scatterpolar\": [{\"marker\": {\"colorbar\": {\"outlinewidth\": 0, \"ticks\": \"\"}}, \"type\": \"scatterpolar\"}], \"scatterpolargl\": [{\"marker\": {\"colorbar\": {\"outlinewidth\": 0, \"ticks\": \"\"}}, \"type\": \"scatterpolargl\"}], \"scatterternary\": [{\"marker\": {\"colorbar\": {\"outlinewidth\": 0, \"ticks\": \"\"}}, \"type\": \"scatterternary\"}], \"surface\": [{\"colorbar\": {\"outlinewidth\": 0, \"ticks\": \"\"}, \"colorscale\": [[0.0, \"#0d0887\"], [0.1111111111111111, \"#46039f\"], [0.2222222222222222, \"#7201a8\"], [0.3333333333333333, \"#9c179e\"], [0.4444444444444444, \"#bd3786\"], [0.5555555555555556, \"#d8576b\"], [0.6666666666666666, \"#ed7953\"], [0.7777777777777778, \"#fb9f3a\"], [0.8888888888888888, \"#fdca26\"], [1.0, \"#f0f921\"]], \"type\": \"surface\"}], \"table\": [{\"cells\": {\"fill\": {\"color\": \"#EBF0F8\"}, \"line\": {\"color\": \"white\"}}, \"header\": {\"fill\": {\"color\": \"#C8D4E3\"}, \"line\": {\"color\": \"white\"}}, \"type\": \"table\"}]}, \"layout\": {\"annotationdefaults\": {\"arrowcolor\": \"#2a3f5f\", \"arrowhead\": 0, \"arrowwidth\": 1}, \"coloraxis\": {\"colorbar\": {\"outlinewidth\": 0, \"ticks\": \"\"}}, \"colorscale\": {\"diverging\": [[0, \"#8e0152\"], [0.1, \"#c51b7d\"], [0.2, \"#de77ae\"], [0.3, \"#f1b6da\"], [0.4, \"#fde0ef\"], [0.5, \"#f7f7f7\"], [0.6, \"#e6f5d0\"], [0.7, \"#b8e186\"], [0.8, \"#7fbc41\"], [0.9, \"#4d9221\"], [1, \"#276419\"]], \"sequential\": [[0.0, \"#0d0887\"], [0.1111111111111111, \"#46039f\"], [0.2222222222222222, \"#7201a8\"], [0.3333333333333333, \"#9c179e\"], [0.4444444444444444, \"#bd3786\"], [0.5555555555555556, \"#d8576b\"], [0.6666666666666666, \"#ed7953\"], [0.7777777777777778, \"#fb9f3a\"], [0.8888888888888888, \"#fdca26\"], [1.0, \"#f0f921\"]], \"sequentialminus\": [[0.0, \"#0d0887\"], [0.1111111111111111, \"#46039f\"], [0.2222222222222222, \"#7201a8\"], [0.3333333333333333, \"#9c179e\"], [0.4444444444444444, \"#bd3786\"], [0.5555555555555556, \"#d8576b\"], [0.6666666666666666, \"#ed7953\"], [0.7777777777777778, \"#fb9f3a\"], [0.8888888888888888, \"#fdca26\"], [1.0, \"#f0f921\"]]}, \"colorway\": [\"#636efa\", \"#EF553B\", \"#00cc96\", \"#ab63fa\", \"#FFA15A\", \"#19d3f3\", \"#FF6692\", \"#B6E880\", \"#FF97FF\", \"#FECB52\"], \"font\": {\"color\": \"#2a3f5f\"}, \"geo\": {\"bgcolor\": \"white\", \"lakecolor\": \"white\", \"landcolor\": \"#E5ECF6\", \"showlakes\": true, \"showland\": true, \"subunitcolor\": \"white\"}, \"hoverlabel\": {\"align\": \"left\"}, \"hovermode\": \"closest\", \"mapbox\": {\"style\": \"light\"}, \"paper_bgcolor\": \"white\", \"plot_bgcolor\": \"#E5ECF6\", \"polar\": {\"angularaxis\": {\"gridcolor\": \"white\", \"linecolor\": \"white\", \"ticks\": \"\"}, \"bgcolor\": \"#E5ECF6\", \"radialaxis\": {\"gridcolor\": \"white\", \"linecolor\": \"white\", \"ticks\": \"\"}}, \"scene\": {\"xaxis\": {\"backgroundcolor\": \"#E5ECF6\", \"gridcolor\": \"white\", \"gridwidth\": 2, \"linecolor\": \"white\", \"showbackground\": true, \"ticks\": \"\", \"zerolinecolor\": \"white\"}, \"yaxis\": {\"backgroundcolor\": \"#E5ECF6\", \"gridcolor\": \"white\", \"gridwidth\": 2, \"linecolor\": \"white\", \"showbackground\": true, \"ticks\": \"\", \"zerolinecolor\": \"white\"}, \"zaxis\": {\"backgroundcolor\": \"#E5ECF6\", \"gridcolor\": \"white\", \"gridwidth\": 2, \"linecolor\": \"white\", \"showbackground\": true, \"ticks\": \"\", \"zerolinecolor\": \"white\"}}, \"shapedefaults\": {\"line\": {\"color\": \"#2a3f5f\"}}, \"ternary\": {\"aaxis\": {\"gridcolor\": \"white\", \"linecolor\": \"white\", \"ticks\": \"\"}, \"baxis\": {\"gridcolor\": \"white\", \"linecolor\": \"white\", \"ticks\": \"\"}, \"bgcolor\": \"#E5ECF6\", \"caxis\": {\"gridcolor\": \"white\", \"linecolor\": \"white\", \"ticks\": \"\"}}, \"title\": {\"x\": 0.05}, \"xaxis\": {\"automargin\": true, \"gridcolor\": \"white\", \"linecolor\": \"white\", \"ticks\": \"\", \"title\": {\"standoff\": 15}, \"zerolinecolor\": \"white\", \"zerolinewidth\": 2}, \"yaxis\": {\"automargin\": true, \"gridcolor\": \"white\", \"linecolor\": \"white\", \"ticks\": \"\", \"title\": {\"standoff\": 15}, \"zerolinecolor\": \"white\", \"zerolinewidth\": 2}}}, \"title\": {\"text\": \"Slice Plot\"}, \"xaxis\": {\"anchor\": \"y\", \"domain\": [0.0, 0.2888888888888889], \"title\": {\"text\": \"flatten_layer\"}}, \"xaxis2\": {\"anchor\": \"y2\", \"domain\": [0.35555555555555557, 0.6444444444444445], \"title\": {\"text\": \"learning_rate\"}}, \"xaxis3\": {\"anchor\": \"y3\", \"domain\": [0.7111111111111111, 1.0], \"title\": {\"text\": \"optimizer\"}}, \"yaxis\": {\"anchor\": \"x\", \"domain\": [0.0, 1.0], \"title\": {\"text\": \"Objective Value\"}}, \"yaxis2\": {\"anchor\": \"x2\", \"domain\": [0.0, 1.0], \"matches\": \"y\", \"showticklabels\": false}, \"yaxis3\": {\"anchor\": \"x3\", \"domain\": [0.0, 1.0], \"matches\": \"y\", \"showticklabels\": false}},\n",
       "                        {\"responsive\": true}\n",
       "                    ).then(function(){\n",
       "                            \n",
       "var gd = document.getElementById('d9fac39a-dd9b-49ac-93e9-4f05d085dc48');\n",
       "var x = new MutationObserver(function (mutations, observer) {{\n",
       "        var display = window.getComputedStyle(gd).display;\n",
       "        if (!display || display === 'none') {{\n",
       "            console.log([gd, 'removed!']);\n",
       "            Plotly.purge(gd);\n",
       "            observer.disconnect();\n",
       "        }}\n",
       "}});\n",
       "\n",
       "// Listen for the removal of the full notebook cells\n",
       "var notebookContainer = gd.closest('#notebook-container');\n",
       "if (notebookContainer) {{\n",
       "    x.observe(notebookContainer, {childList: true});\n",
       "}}\n",
       "\n",
       "// Listen for the clearing of the current output cell\n",
       "var outputEl = gd.closest('.output');\n",
       "if (outputEl) {{\n",
       "    x.observe(outputEl, {childList: true});\n",
       "}}\n",
       "\n",
       "                        })\n",
       "                };\n",
       "                \n",
       "            </script>\n",
       "        </div>\n",
       "</body>\n",
       "</html>"
      ]
     },
     "metadata": {
      "tags": []
     },
     "output_type": "display_data"
    }
   ],
   "source": [
    "fig = optuna.visualization.plot_slice(study = study)\n",
    "fig.write_image(path + 'Results/figures/optuna_fig3.eps')\n",
    "fig.show()"
   ]
  },
  {
   "cell_type": "code",
   "execution_count": 37,
   "metadata": {
    "colab": {
     "base_uri": "https://localhost:8080/",
     "height": 542
    },
    "executionInfo": {
     "elapsed": 2508,
     "status": "ok",
     "timestamp": 1624970261329,
     "user": {
      "displayName": "Fernando Herran",
      "photoUrl": "",
      "userId": "09119314463851443877"
     },
     "user_tz": -120
    },
    "id": "gIq_gpB4cMu-",
    "outputId": "eb941c2c-70e2-47aa-a1f4-5162d1d7e21f"
   },
   "outputs": [
    {
     "data": {
      "text/html": [
       "<html>\n",
       "<head><meta charset=\"utf-8\" /></head>\n",
       "<body>\n",
       "    <div>\n",
       "            <script src=\"https://cdnjs.cloudflare.com/ajax/libs/mathjax/2.7.5/MathJax.js?config=TeX-AMS-MML_SVG\"></script><script type=\"text/javascript\">if (window.MathJax) {MathJax.Hub.Config({SVG: {font: \"STIX-Web\"}});}</script>\n",
       "                <script type=\"text/javascript\">window.PlotlyConfig = {MathJaxConfig: 'local'};</script>\n",
       "        <script src=\"https://cdn.plot.ly/plotly-latest.min.js\"></script>    \n",
       "            <div id=\"65661d1e-a039-4fe8-9db0-81830096e49e\" class=\"plotly-graph-div\" style=\"height:525px; width:100%;\"></div>\n",
       "            <script type=\"text/javascript\">\n",
       "                \n",
       "                    window.PLOTLYENV=window.PLOTLYENV || {};\n",
       "                    \n",
       "                if (document.getElementById(\"65661d1e-a039-4fe8-9db0-81830096e49e\")) {\n",
       "                    Plotly.newPlot(\n",
       "                        '65661d1e-a039-4fe8-9db0-81830096e49e',\n",
       "                        [{\"mode\": \"markers\", \"name\": \"Objective Value\", \"type\": \"scatter\", \"x\": [0, 1, 2, 3, 4, 5, 6, 7, 9, 10, 11, 12, 13], \"y\": [0.8528716759671175, 0.6872110019755504, 0.7708414252630723, 0.7485988182707308, 0.37803386665448807, 0.652125399567177, 0.6870977024897998, 0.8465678220175146, 0.7445126107702795, 0.8488394155967365, 0.8956661189719101, 0.8516932964785726, 0.8711169704947125]}, {\"name\": \"Best Value\", \"type\": \"scatter\", \"x\": [0, 1, 2, 3, 4, 5, 6, 7, 9, 10, 11, 12, 13], \"y\": [0.8528716759671175, 0.8528716759671175, 0.8528716759671175, 0.8528716759671175, 0.8528716759671175, 0.8528716759671175, 0.8528716759671175, 0.8528716759671175, 0.8528716759671175, 0.8528716759671175, 0.8956661189719101, 0.8956661189719101, 0.8956661189719101]}],\n",
       "                        {\"template\": {\"data\": {\"bar\": [{\"error_x\": {\"color\": \"#2a3f5f\"}, \"error_y\": {\"color\": \"#2a3f5f\"}, \"marker\": {\"line\": {\"color\": \"#E5ECF6\", \"width\": 0.5}}, \"type\": \"bar\"}], \"barpolar\": [{\"marker\": {\"line\": {\"color\": \"#E5ECF6\", \"width\": 0.5}}, \"type\": \"barpolar\"}], \"carpet\": [{\"aaxis\": {\"endlinecolor\": \"#2a3f5f\", \"gridcolor\": \"white\", \"linecolor\": \"white\", \"minorgridcolor\": \"white\", \"startlinecolor\": \"#2a3f5f\"}, \"baxis\": {\"endlinecolor\": \"#2a3f5f\", \"gridcolor\": \"white\", \"linecolor\": \"white\", \"minorgridcolor\": \"white\", \"startlinecolor\": \"#2a3f5f\"}, \"type\": \"carpet\"}], \"choropleth\": [{\"colorbar\": {\"outlinewidth\": 0, \"ticks\": \"\"}, \"type\": \"choropleth\"}], \"contour\": [{\"colorbar\": {\"outlinewidth\": 0, \"ticks\": \"\"}, \"colorscale\": [[0.0, \"#0d0887\"], [0.1111111111111111, \"#46039f\"], [0.2222222222222222, \"#7201a8\"], [0.3333333333333333, \"#9c179e\"], [0.4444444444444444, \"#bd3786\"], [0.5555555555555556, \"#d8576b\"], [0.6666666666666666, \"#ed7953\"], [0.7777777777777778, \"#fb9f3a\"], [0.8888888888888888, \"#fdca26\"], [1.0, \"#f0f921\"]], \"type\": \"contour\"}], \"contourcarpet\": [{\"colorbar\": {\"outlinewidth\": 0, \"ticks\": \"\"}, \"type\": \"contourcarpet\"}], \"heatmap\": [{\"colorbar\": {\"outlinewidth\": 0, \"ticks\": \"\"}, \"colorscale\": [[0.0, \"#0d0887\"], [0.1111111111111111, \"#46039f\"], [0.2222222222222222, \"#7201a8\"], [0.3333333333333333, \"#9c179e\"], [0.4444444444444444, \"#bd3786\"], [0.5555555555555556, \"#d8576b\"], [0.6666666666666666, \"#ed7953\"], [0.7777777777777778, \"#fb9f3a\"], [0.8888888888888888, \"#fdca26\"], [1.0, \"#f0f921\"]], \"type\": \"heatmap\"}], \"heatmapgl\": [{\"colorbar\": {\"outlinewidth\": 0, \"ticks\": \"\"}, \"colorscale\": [[0.0, \"#0d0887\"], [0.1111111111111111, \"#46039f\"], [0.2222222222222222, \"#7201a8\"], [0.3333333333333333, \"#9c179e\"], [0.4444444444444444, \"#bd3786\"], [0.5555555555555556, \"#d8576b\"], [0.6666666666666666, \"#ed7953\"], [0.7777777777777778, \"#fb9f3a\"], [0.8888888888888888, \"#fdca26\"], [1.0, \"#f0f921\"]], \"type\": \"heatmapgl\"}], \"histogram\": [{\"marker\": {\"colorbar\": {\"outlinewidth\": 0, \"ticks\": \"\"}}, \"type\": \"histogram\"}], \"histogram2d\": [{\"colorbar\": {\"outlinewidth\": 0, \"ticks\": \"\"}, \"colorscale\": [[0.0, \"#0d0887\"], [0.1111111111111111, \"#46039f\"], [0.2222222222222222, \"#7201a8\"], [0.3333333333333333, \"#9c179e\"], [0.4444444444444444, \"#bd3786\"], [0.5555555555555556, \"#d8576b\"], [0.6666666666666666, \"#ed7953\"], [0.7777777777777778, \"#fb9f3a\"], [0.8888888888888888, \"#fdca26\"], [1.0, \"#f0f921\"]], \"type\": \"histogram2d\"}], \"histogram2dcontour\": [{\"colorbar\": {\"outlinewidth\": 0, \"ticks\": \"\"}, \"colorscale\": [[0.0, \"#0d0887\"], [0.1111111111111111, \"#46039f\"], [0.2222222222222222, \"#7201a8\"], [0.3333333333333333, \"#9c179e\"], [0.4444444444444444, \"#bd3786\"], [0.5555555555555556, \"#d8576b\"], [0.6666666666666666, \"#ed7953\"], [0.7777777777777778, \"#fb9f3a\"], [0.8888888888888888, \"#fdca26\"], [1.0, \"#f0f921\"]], \"type\": \"histogram2dcontour\"}], \"mesh3d\": [{\"colorbar\": {\"outlinewidth\": 0, \"ticks\": \"\"}, \"type\": \"mesh3d\"}], \"parcoords\": [{\"line\": {\"colorbar\": {\"outlinewidth\": 0, \"ticks\": \"\"}}, \"type\": \"parcoords\"}], \"pie\": [{\"automargin\": true, \"type\": \"pie\"}], \"scatter\": [{\"marker\": {\"colorbar\": {\"outlinewidth\": 0, \"ticks\": \"\"}}, \"type\": \"scatter\"}], \"scatter3d\": [{\"line\": {\"colorbar\": {\"outlinewidth\": 0, \"ticks\": \"\"}}, \"marker\": {\"colorbar\": {\"outlinewidth\": 0, \"ticks\": \"\"}}, \"type\": \"scatter3d\"}], \"scattercarpet\": [{\"marker\": {\"colorbar\": {\"outlinewidth\": 0, \"ticks\": \"\"}}, \"type\": \"scattercarpet\"}], \"scattergeo\": [{\"marker\": {\"colorbar\": {\"outlinewidth\": 0, \"ticks\": \"\"}}, \"type\": \"scattergeo\"}], \"scattergl\": [{\"marker\": {\"colorbar\": {\"outlinewidth\": 0, \"ticks\": \"\"}}, \"type\": \"scattergl\"}], \"scattermapbox\": [{\"marker\": {\"colorbar\": {\"outlinewidth\": 0, \"ticks\": \"\"}}, \"type\": \"scattermapbox\"}], \"scatterpolar\": [{\"marker\": {\"colorbar\": {\"outlinewidth\": 0, \"ticks\": \"\"}}, \"type\": \"scatterpolar\"}], \"scatterpolargl\": [{\"marker\": {\"colorbar\": {\"outlinewidth\": 0, \"ticks\": \"\"}}, \"type\": \"scatterpolargl\"}], \"scatterternary\": [{\"marker\": {\"colorbar\": {\"outlinewidth\": 0, \"ticks\": \"\"}}, \"type\": \"scatterternary\"}], \"surface\": [{\"colorbar\": {\"outlinewidth\": 0, \"ticks\": \"\"}, \"colorscale\": [[0.0, \"#0d0887\"], [0.1111111111111111, \"#46039f\"], [0.2222222222222222, \"#7201a8\"], [0.3333333333333333, \"#9c179e\"], [0.4444444444444444, \"#bd3786\"], [0.5555555555555556, \"#d8576b\"], [0.6666666666666666, \"#ed7953\"], [0.7777777777777778, \"#fb9f3a\"], [0.8888888888888888, \"#fdca26\"], [1.0, \"#f0f921\"]], \"type\": \"surface\"}], \"table\": [{\"cells\": {\"fill\": {\"color\": \"#EBF0F8\"}, \"line\": {\"color\": \"white\"}}, \"header\": {\"fill\": {\"color\": \"#C8D4E3\"}, \"line\": {\"color\": \"white\"}}, \"type\": \"table\"}]}, \"layout\": {\"annotationdefaults\": {\"arrowcolor\": \"#2a3f5f\", \"arrowhead\": 0, \"arrowwidth\": 1}, \"coloraxis\": {\"colorbar\": {\"outlinewidth\": 0, \"ticks\": \"\"}}, \"colorscale\": {\"diverging\": [[0, \"#8e0152\"], [0.1, \"#c51b7d\"], [0.2, \"#de77ae\"], [0.3, \"#f1b6da\"], [0.4, \"#fde0ef\"], [0.5, \"#f7f7f7\"], [0.6, \"#e6f5d0\"], [0.7, \"#b8e186\"], [0.8, \"#7fbc41\"], [0.9, \"#4d9221\"], [1, \"#276419\"]], \"sequential\": [[0.0, \"#0d0887\"], [0.1111111111111111, \"#46039f\"], [0.2222222222222222, \"#7201a8\"], [0.3333333333333333, \"#9c179e\"], [0.4444444444444444, \"#bd3786\"], [0.5555555555555556, \"#d8576b\"], [0.6666666666666666, \"#ed7953\"], [0.7777777777777778, \"#fb9f3a\"], [0.8888888888888888, \"#fdca26\"], [1.0, \"#f0f921\"]], \"sequentialminus\": [[0.0, \"#0d0887\"], [0.1111111111111111, \"#46039f\"], [0.2222222222222222, \"#7201a8\"], [0.3333333333333333, \"#9c179e\"], [0.4444444444444444, \"#bd3786\"], [0.5555555555555556, \"#d8576b\"], [0.6666666666666666, \"#ed7953\"], [0.7777777777777778, \"#fb9f3a\"], [0.8888888888888888, \"#fdca26\"], [1.0, \"#f0f921\"]]}, \"colorway\": [\"#636efa\", \"#EF553B\", \"#00cc96\", \"#ab63fa\", \"#FFA15A\", \"#19d3f3\", \"#FF6692\", \"#B6E880\", \"#FF97FF\", \"#FECB52\"], \"font\": {\"color\": \"#2a3f5f\"}, \"geo\": {\"bgcolor\": \"white\", \"lakecolor\": \"white\", \"landcolor\": \"#E5ECF6\", \"showlakes\": true, \"showland\": true, \"subunitcolor\": \"white\"}, \"hoverlabel\": {\"align\": \"left\"}, \"hovermode\": \"closest\", \"mapbox\": {\"style\": \"light\"}, \"paper_bgcolor\": \"white\", \"plot_bgcolor\": \"#E5ECF6\", \"polar\": {\"angularaxis\": {\"gridcolor\": \"white\", \"linecolor\": \"white\", \"ticks\": \"\"}, \"bgcolor\": \"#E5ECF6\", \"radialaxis\": {\"gridcolor\": \"white\", \"linecolor\": \"white\", \"ticks\": \"\"}}, \"scene\": {\"xaxis\": {\"backgroundcolor\": \"#E5ECF6\", \"gridcolor\": \"white\", \"gridwidth\": 2, \"linecolor\": \"white\", \"showbackground\": true, \"ticks\": \"\", \"zerolinecolor\": \"white\"}, \"yaxis\": {\"backgroundcolor\": \"#E5ECF6\", \"gridcolor\": \"white\", \"gridwidth\": 2, \"linecolor\": \"white\", \"showbackground\": true, \"ticks\": \"\", \"zerolinecolor\": \"white\"}, \"zaxis\": {\"backgroundcolor\": \"#E5ECF6\", \"gridcolor\": \"white\", \"gridwidth\": 2, \"linecolor\": \"white\", \"showbackground\": true, \"ticks\": \"\", \"zerolinecolor\": \"white\"}}, \"shapedefaults\": {\"line\": {\"color\": \"#2a3f5f\"}}, \"ternary\": {\"aaxis\": {\"gridcolor\": \"white\", \"linecolor\": \"white\", \"ticks\": \"\"}, \"baxis\": {\"gridcolor\": \"white\", \"linecolor\": \"white\", \"ticks\": \"\"}, \"bgcolor\": \"#E5ECF6\", \"caxis\": {\"gridcolor\": \"white\", \"linecolor\": \"white\", \"ticks\": \"\"}}, \"title\": {\"x\": 0.05}, \"xaxis\": {\"automargin\": true, \"gridcolor\": \"white\", \"linecolor\": \"white\", \"ticks\": \"\", \"title\": {\"standoff\": 15}, \"zerolinecolor\": \"white\", \"zerolinewidth\": 2}, \"yaxis\": {\"automargin\": true, \"gridcolor\": \"white\", \"linecolor\": \"white\", \"ticks\": \"\", \"title\": {\"standoff\": 15}, \"zerolinecolor\": \"white\", \"zerolinewidth\": 2}}}, \"title\": {\"text\": \"Optimization History Plot\"}, \"xaxis\": {\"title\": {\"text\": \"#Trials\"}}, \"yaxis\": {\"title\": {\"text\": \"Objective Value\"}}},\n",
       "                        {\"responsive\": true}\n",
       "                    ).then(function(){\n",
       "                            \n",
       "var gd = document.getElementById('65661d1e-a039-4fe8-9db0-81830096e49e');\n",
       "var x = new MutationObserver(function (mutations, observer) {{\n",
       "        var display = window.getComputedStyle(gd).display;\n",
       "        if (!display || display === 'none') {{\n",
       "            console.log([gd, 'removed!']);\n",
       "            Plotly.purge(gd);\n",
       "            observer.disconnect();\n",
       "        }}\n",
       "}});\n",
       "\n",
       "// Listen for the removal of the full notebook cells\n",
       "var notebookContainer = gd.closest('#notebook-container');\n",
       "if (notebookContainer) {{\n",
       "    x.observe(notebookContainer, {childList: true});\n",
       "}}\n",
       "\n",
       "// Listen for the clearing of the current output cell\n",
       "var outputEl = gd.closest('.output');\n",
       "if (outputEl) {{\n",
       "    x.observe(outputEl, {childList: true});\n",
       "}}\n",
       "\n",
       "                        })\n",
       "                };\n",
       "                \n",
       "            </script>\n",
       "        </div>\n",
       "</body>\n",
       "</html>"
      ]
     },
     "metadata": {
      "tags": []
     },
     "output_type": "display_data"
    }
   ],
   "source": [
    "fig = optuna.visualization.plot_optimization_history(study = study)\n",
    "fig.write_image(path + 'Results/figures/optuna_fig4.eps')\n",
    "fig.show()"
   ]
  },
  {
   "cell_type": "markdown",
   "metadata": {
    "id": "0fxyIUbS95Fe"
   },
   "source": [
    "### Cross-validation"
   ]
  },
  {
   "cell_type": "markdown",
   "metadata": {
    "id": "jbpBynWMZcOT"
   },
   "source": [
    "#### Get TFRecords files paths"
   ]
  },
  {
   "cell_type": "code",
   "execution_count": 108,
   "metadata": {
    "executionInfo": {
     "elapsed": 2227,
     "status": "ok",
     "timestamp": 1624889155536,
     "user": {
      "displayName": "Fernando Herran",
      "photoUrl": "",
      "userId": "09119314463851443877"
     },
     "user_tz": -120
    },
    "id": "z2SCVcfzlo1y"
   },
   "outputs": [],
   "source": [
    "files = tf.io.gfile.glob(gcs_path + 'Train/*_train_volumes.tfrecords')\n",
    "files = files + tf.io.gfile.glob(gcs_path + 'Validation/*_val_volumes.tfrecords')"
   ]
  },
  {
   "cell_type": "code",
   "execution_count": 109,
   "metadata": {
    "colab": {
     "base_uri": "https://localhost:8080/"
    },
    "executionInfo": {
     "elapsed": 335,
     "status": "ok",
     "timestamp": 1624889157148,
     "user": {
      "displayName": "Fernando Herran",
      "photoUrl": "",
      "userId": "09119314463851443877"
     },
     "user_tz": -120
    },
    "id": "k7_muTZebAKe",
    "outputId": "1e22937c-fe99-4230-a526-349d1fc3a713"
   },
   "outputs": [
    {
     "name": "stdout",
     "output_type": "stream",
     "text": [
      "[+] Number of TFRecords: 32\n"
     ]
    }
   ],
   "source": [
    "print(f'[+] Number of TFRecords:', len(files))"
   ]
  },
  {
   "cell_type": "markdown",
   "metadata": {
    "id": "zbM8RjCYZl8h"
   },
   "source": [
    "#### Specify cross-validation setup"
   ]
  },
  {
   "cell_type": "code",
   "execution_count": 110,
   "metadata": {
    "executionInfo": {
     "elapsed": 182,
     "status": "ok",
     "timestamp": 1624889159079,
     "user": {
      "displayName": "Fernando Herran",
      "photoUrl": "",
      "userId": "09119314463851443877"
     },
     "user_tz": -120
    },
    "id": "ahwqyHAx98tV"
   },
   "outputs": [],
   "source": [
    "# Specify number of folds\n",
    "num_folds = 5\n",
    "\n",
    "np.random.seed(123)\n",
    "tf.random.set_seed(123) \n",
    "\n",
    "# Define the K-fold Cross Validator\n",
    "kfold = KFold(n_splits = num_folds,\n",
    "              shuffle = True)"
   ]
  },
  {
   "cell_type": "markdown",
   "metadata": {
    "id": "ESBx39nuZzXb"
   },
   "source": [
    "#### Run cross-validation analysis"
   ]
  },
  {
   "cell_type": "code",
   "execution_count": 112,
   "metadata": {
    "colab": {
     "base_uri": "https://localhost:8080/"
    },
    "executionInfo": {
     "elapsed": 908526,
     "status": "ok",
     "timestamp": 1624895109607,
     "user": {
      "displayName": "Fernando Herran",
      "photoUrl": "",
      "userId": "09119314463851443877"
     },
     "user_tz": -120
    },
    "id": "AEgOCsxJGvkn",
    "outputId": "eb29218c-6422-4728-84a3-a65a027fcf95"
   },
   "outputs": [
    {
     "name": "stdout",
     "output_type": "stream",
     "text": [
      "------------------------------------------------------------------------\n",
      "Training for fold 0 ...\n",
      "Epoch 1/50\n",
      "23/23 [==============================] - 72s 2s/step - loss: 0.6672 - binary_accuracy: 0.6132 - f1: 0.5686 - val_loss: 0.6952 - val_binary_accuracy: 0.4922 - val_f1: 0.0000e+00\n",
      "Epoch 2/50\n",
      "23/23 [==============================] - 24s 630ms/step - loss: 0.6301 - binary_accuracy: 0.6598 - f1: 0.6055 - val_loss: 0.6939 - val_binary_accuracy: 0.5026 - val_f1: 0.0530\n",
      "Epoch 3/50\n",
      "23/23 [==============================] - 22s 674ms/step - loss: 0.6062 - binary_accuracy: 0.6804 - f1: 0.6352 - val_loss: 0.6908 - val_binary_accuracy: 0.5026 - val_f1: 0.2171\n",
      "Epoch 4/50\n",
      "23/23 [==============================] - 23s 613ms/step - loss: 0.5796 - binary_accuracy: 0.6955 - f1: 0.6646 - val_loss: 0.7156 - val_binary_accuracy: 0.4922 - val_f1: 0.0000e+00\n",
      "Epoch 5/50\n",
      "23/23 [==============================] - 22s 580ms/step - loss: 0.5734 - binary_accuracy: 0.6996 - f1: 0.6624 - val_loss: 0.6872 - val_binary_accuracy: 0.5389 - val_f1: 0.5063\n",
      "Epoch 6/50\n",
      "23/23 [==============================] - 24s 635ms/step - loss: 0.5472 - binary_accuracy: 0.7147 - f1: 0.6745 - val_loss: 0.7109 - val_binary_accuracy: 0.4922 - val_f1: 0.0000e+00\n",
      "Epoch 7/50\n",
      "23/23 [==============================] - 25s 698ms/step - loss: 0.5164 - binary_accuracy: 0.7462 - f1: 0.7075 - val_loss: 0.7277 - val_binary_accuracy: 0.4922 - val_f1: 0.0000e+00\n",
      "Epoch 8/50\n",
      "23/23 [==============================] - 23s 692ms/step - loss: 0.5293 - binary_accuracy: 0.7407 - f1: 0.7036 - val_loss: 0.8665 - val_binary_accuracy: 0.4922 - val_f1: 0.0000e+00\n",
      "Epoch 9/50\n",
      "23/23 [==============================] - 24s 612ms/step - loss: 0.5052 - binary_accuracy: 0.7641 - f1: 0.7305 - val_loss: 1.5483 - val_binary_accuracy: 0.4922 - val_f1: 0.0000e+00\n",
      "Epoch 10/50\n",
      "23/23 [==============================] - 23s 698ms/step - loss: 0.4720 - binary_accuracy: 0.7613 - f1: 0.7310 - val_loss: 1.7177 - val_binary_accuracy: 0.4922 - val_f1: 0.0000e+00\n",
      "Epoch 11/50\n",
      "23/23 [==============================] - 21s 614ms/step - loss: 0.4501 - binary_accuracy: 0.7929 - f1: 0.7629 - val_loss: 1.6238 - val_binary_accuracy: 0.4922 - val_f1: 0.0000e+00\n",
      "Epoch 12/50\n",
      "23/23 [==============================] - 22s 610ms/step - loss: 0.4267 - binary_accuracy: 0.8025 - f1: 0.7605 - val_loss: 1.7398 - val_binary_accuracy: 0.4922 - val_f1: 0.0000e+00\n",
      "Epoch 13/50\n",
      "23/23 [==============================] - 24s 665ms/step - loss: 0.3834 - binary_accuracy: 0.8436 - f1: 0.8059 - val_loss: 1.6350 - val_binary_accuracy: 0.4922 - val_f1: 0.0000e+00\n",
      "Epoch 14/50\n",
      "23/23 [==============================] - 22s 592ms/step - loss: 0.3617 - binary_accuracy: 0.8532 - f1: 0.8149 - val_loss: 2.2600 - val_binary_accuracy: 0.4922 - val_f1: 0.0000e+00\n",
      "Epoch 15/50\n",
      "23/23 [==============================] - 23s 634ms/step - loss: 0.3230 - binary_accuracy: 0.8765 - f1: 0.8385 - val_loss: 3.0372 - val_binary_accuracy: 0.4922 - val_f1: 0.0000e+00\n",
      "Epoch 16/50\n",
      "23/23 [==============================] - 24s 712ms/step - loss: 0.2699 - binary_accuracy: 0.9122 - f1: 0.8724 - val_loss: 3.0294 - val_binary_accuracy: 0.4922 - val_f1: 0.0000e+00\n",
      "Epoch 17/50\n",
      "23/23 [==============================] - 23s 595ms/step - loss: 0.2721 - binary_accuracy: 0.9136 - f1: 0.8773 - val_loss: 2.4229 - val_binary_accuracy: 0.4922 - val_f1: 0.0000e+00\n",
      "Epoch 18/50\n",
      "23/23 [==============================] - 22s 595ms/step - loss: 0.2506 - binary_accuracy: 0.9177 - f1: 0.8800 - val_loss: 6.8828 - val_binary_accuracy: 0.4922 - val_f1: 0.0000e+00\n",
      "Epoch 19/50\n",
      "23/23 [==============================] - 26s 714ms/step - loss: 0.2652 - binary_accuracy: 0.9136 - f1: 0.8741 - val_loss: 5.0372 - val_binary_accuracy: 0.4922 - val_f1: 0.0000e+00\n",
      "Epoch 20/50\n",
      "23/23 [==============================] - 22s 586ms/step - loss: 0.1856 - binary_accuracy: 0.9492 - f1: 0.9023 - val_loss: 6.2612 - val_binary_accuracy: 0.4922 - val_f1: 0.0000e+00\n",
      "Epoch 21/50\n",
      "23/23 [==============================] - 23s 699ms/step - loss: 0.1399 - binary_accuracy: 0.9698 - f1: 0.9193 - val_loss: 5.5932 - val_binary_accuracy: 0.4922 - val_f1: 0.0000e+00\n",
      "Epoch 22/50\n",
      "23/23 [==============================] - 24s 684ms/step - loss: 0.1203 - binary_accuracy: 0.9698 - f1: 0.9167 - val_loss: 5.0450 - val_binary_accuracy: 0.4922 - val_f1: 0.0000e+00\n",
      "Epoch 23/50\n",
      "23/23 [==============================] - 25s 693ms/step - loss: 0.1362 - binary_accuracy: 0.9575 - f1: 0.9036 - val_loss: 4.6634 - val_binary_accuracy: 0.4922 - val_f1: 0.0000e+00\n",
      "Epoch 24/50\n",
      "23/23 [==============================] - 24s 705ms/step - loss: 0.1492 - binary_accuracy: 0.9575 - f1: 0.9087 - val_loss: 1.5888 - val_binary_accuracy: 0.5130 - val_f1: 0.0446\n",
      "Epoch 25/50\n",
      "23/23 [==============================] - 25s 650ms/step - loss: 0.1620 - binary_accuracy: 0.9534 - f1: 0.9068 - val_loss: 2.2029 - val_binary_accuracy: 0.4922 - val_f1: 0.0000e+00\n",
      "Epoch 26/50\n",
      "23/23 [==============================] - 27s 744ms/step - loss: 0.1742 - binary_accuracy: 0.9410 - f1: 0.8929 - val_loss: 1.9719 - val_binary_accuracy: 0.5130 - val_f1: 0.0577\n",
      "Epoch 27/50\n",
      "23/23 [==============================] - 23s 642ms/step - loss: 0.1498 - binary_accuracy: 0.9438 - f1: 0.8978 - val_loss: 4.7666 - val_binary_accuracy: 0.4922 - val_f1: 0.0000e+00\n",
      "Epoch 28/50\n",
      "23/23 [==============================] - 24s 690ms/step - loss: 0.1724 - binary_accuracy: 0.9438 - f1: 0.8898 - val_loss: 5.8201 - val_binary_accuracy: 0.4922 - val_f1: 0.0000e+00\n",
      "Epoch 29/50\n",
      "23/23 [==============================] - 24s 679ms/step - loss: 0.0641 - binary_accuracy: 0.9931 - f1: 0.9369 - val_loss: 4.0733 - val_binary_accuracy: 0.4974 - val_f1: 0.0089\n",
      "Epoch 30/50\n",
      "23/23 [==============================] - 22s 570ms/step - loss: 0.0512 - binary_accuracy: 0.9945 - f1: 0.9355 - val_loss: 2.5682 - val_binary_accuracy: 0.5233 - val_f1: 0.0827\n",
      "Epoch 31/50\n",
      "23/23 [==============================] - 23s 677ms/step - loss: 0.0346 - binary_accuracy: 0.9959 - f1: 0.9376 - val_loss: 1.2630 - val_binary_accuracy: 0.6839 - val_f1: 0.3952\n",
      "Epoch 32/50\n",
      "23/23 [==============================] - 23s 658ms/step - loss: 0.0269 - binary_accuracy: 0.9986 - f1: 0.9384 - val_loss: 1.1933 - val_binary_accuracy: 0.6995 - val_f1: 0.4405\n",
      "Epoch 33/50\n",
      "23/23 [==============================] - 23s 651ms/step - loss: 0.0261 - binary_accuracy: 0.9986 - f1: 0.9402 - val_loss: 3.6904 - val_binary_accuracy: 0.5130 - val_f1: 0.0565\n",
      "Epoch 34/50\n",
      "23/23 [==============================] - 24s 654ms/step - loss: 0.0163 - binary_accuracy: 1.0000 - f1: 0.9402 - val_loss: 0.7013 - val_binary_accuracy: 0.7617 - val_f1: 0.5108\n",
      "Epoch 35/50\n",
      "23/23 [==============================] - 20s 528ms/step - loss: 0.0166 - binary_accuracy: 0.9986 - f1: 0.9384 - val_loss: 0.7217 - val_binary_accuracy: 0.8083 - val_f1: 0.5923\n",
      "Epoch 36/50\n",
      "23/23 [==============================] - 26s 671ms/step - loss: 0.0104 - binary_accuracy: 1.0000 - f1: 0.9402 - val_loss: 0.9868 - val_binary_accuracy: 0.7772 - val_f1: 0.5604\n",
      "Epoch 37/50\n",
      "23/23 [==============================] - 23s 601ms/step - loss: 0.0062 - binary_accuracy: 1.0000 - f1: 0.9402 - val_loss: 1.2755 - val_binary_accuracy: 0.7047 - val_f1: 0.4355\n",
      "Epoch 38/50\n",
      "23/23 [==============================] - 25s 705ms/step - loss: 0.0050 - binary_accuracy: 1.0000 - f1: 0.9402 - val_loss: 0.6981 - val_binary_accuracy: 0.8083 - val_f1: 0.6039\n",
      "Epoch 39/50\n",
      "23/23 [==============================] - 23s 693ms/step - loss: 0.0038 - binary_accuracy: 1.0000 - f1: 0.9402 - val_loss: 0.6310 - val_binary_accuracy: 0.8290 - val_f1: 0.6267\n",
      "Epoch 40/50\n",
      "23/23 [==============================] - 25s 655ms/step - loss: 0.0033 - binary_accuracy: 1.0000 - f1: 0.9402 - val_loss: 0.6571 - val_binary_accuracy: 0.8394 - val_f1: 0.6301\n",
      "Epoch 41/50\n",
      "23/23 [==============================] - 25s 660ms/step - loss: 0.0027 - binary_accuracy: 1.0000 - f1: 0.9402 - val_loss: 0.6654 - val_binary_accuracy: 0.8290 - val_f1: 0.6267\n",
      "Epoch 42/50\n",
      "23/23 [==============================] - 22s 640ms/step - loss: 0.0027 - binary_accuracy: 1.0000 - f1: 0.9402 - val_loss: 0.6392 - val_binary_accuracy: 0.8342 - val_f1: 0.6293\n",
      "Epoch 43/50\n",
      "23/23 [==============================] - 24s 684ms/step - loss: 0.0023 - binary_accuracy: 1.0000 - f1: 0.9402 - val_loss: 0.7247 - val_binary_accuracy: 0.8342 - val_f1: 0.6283\n",
      "Epoch 44/50\n",
      "23/23 [==============================] - 24s 639ms/step - loss: 0.0021 - binary_accuracy: 1.0000 - f1: 0.9402 - val_loss: 0.6992 - val_binary_accuracy: 0.8187 - val_f1: 0.6144\n",
      "Epoch 45/50\n",
      "23/23 [==============================] - 21s 521ms/step - loss: 0.0023 - binary_accuracy: 1.0000 - f1: 0.9402 - val_loss: 0.7392 - val_binary_accuracy: 0.8342 - val_f1: 0.6249\n",
      "Epoch 46/50\n",
      "23/23 [==============================] - 22s 610ms/step - loss: 0.0020 - binary_accuracy: 1.0000 - f1: 0.9402 - val_loss: 0.6835 - val_binary_accuracy: 0.8342 - val_f1: 0.6264\n",
      "Epoch 47/50\n",
      "23/23 [==============================] - 22s 609ms/step - loss: 0.0019 - binary_accuracy: 1.0000 - f1: 0.9402 - val_loss: 0.7188 - val_binary_accuracy: 0.8238 - val_f1: 0.6179\n",
      "Epoch 48/50\n",
      "23/23 [==============================] - 19s 507ms/step - loss: 0.0019 - binary_accuracy: 1.0000 - f1: 0.9402 - val_loss: 0.7609 - val_binary_accuracy: 0.8290 - val_f1: 0.6215\n",
      "Epoch 49/50\n",
      "23/23 [==============================] - 23s 626ms/step - loss: 0.0017 - binary_accuracy: 1.0000 - f1: 0.9402 - val_loss: 0.7224 - val_binary_accuracy: 0.8394 - val_f1: 0.6336\n",
      "Epoch 50/50\n",
      "23/23 [==============================] - 29s 771ms/step - loss: 0.0015 - binary_accuracy: 1.0000 - f1: 0.9402 - val_loss: 0.7252 - val_binary_accuracy: 0.8290 - val_f1: 0.6229\n",
      "------------------------------------------------------------------------\n",
      "Training for fold 1 ...\n",
      "Epoch 1/50\n",
      "23/23 [==============================] - 60s 1s/step - loss: 0.6703 - binary_accuracy: 0.5927 - f1: 0.5431 - val_loss: 0.6938 - val_binary_accuracy: 0.4952 - val_f1: 0.5934\n",
      "Epoch 2/50\n",
      "23/23 [==============================] - 24s 665ms/step - loss: 0.6179 - binary_accuracy: 0.6643 - f1: 0.6213 - val_loss: 0.6928 - val_binary_accuracy: 0.4952 - val_f1: 0.5934\n",
      "Epoch 3/50\n",
      "23/23 [==============================] - 24s 687ms/step - loss: 0.5963 - binary_accuracy: 0.6980 - f1: 0.6452 - val_loss: 0.6907 - val_binary_accuracy: 0.4952 - val_f1: 0.5934\n",
      "Epoch 4/50\n",
      "23/23 [==============================] - 23s 660ms/step - loss: 0.5732 - binary_accuracy: 0.7065 - f1: 0.6593 - val_loss: 0.6907 - val_binary_accuracy: 0.5143 - val_f1: 0.5967\n",
      "Epoch 5/50\n",
      "23/23 [==============================] - 24s 611ms/step - loss: 0.5584 - binary_accuracy: 0.7177 - f1: 0.6684 - val_loss: 0.7065 - val_binary_accuracy: 0.4952 - val_f1: 0.5934\n",
      "Epoch 6/50\n",
      "23/23 [==============================] - 22s 598ms/step - loss: 0.5276 - binary_accuracy: 0.7458 - f1: 0.6980 - val_loss: 0.7915 - val_binary_accuracy: 0.4952 - val_f1: 0.5934\n",
      "Epoch 7/50\n",
      "23/23 [==============================] - 22s 557ms/step - loss: 0.5085 - binary_accuracy: 0.7598 - f1: 0.7141 - val_loss: 0.8043 - val_binary_accuracy: 0.4952 - val_f1: 0.5934\n",
      "Epoch 8/50\n",
      "23/23 [==============================] - 22s 559ms/step - loss: 0.4888 - binary_accuracy: 0.7598 - f1: 0.7144 - val_loss: 0.8515 - val_binary_accuracy: 0.4952 - val_f1: 0.5934\n",
      "Epoch 9/50\n",
      "23/23 [==============================] - 21s 603ms/step - loss: 0.4522 - binary_accuracy: 0.7865 - f1: 0.7362 - val_loss: 0.7230 - val_binary_accuracy: 0.4952 - val_f1: 0.5934\n",
      "Epoch 10/50\n",
      "23/23 [==============================] - 22s 659ms/step - loss: 0.4319 - binary_accuracy: 0.8118 - f1: 0.7629 - val_loss: 0.8253 - val_binary_accuracy: 0.4952 - val_f1: 0.5934\n",
      "Epoch 11/50\n",
      "23/23 [==============================] - 23s 645ms/step - loss: 0.3858 - binary_accuracy: 0.8385 - f1: 0.7826 - val_loss: 0.6881 - val_binary_accuracy: 0.5095 - val_f1: 0.5981\n",
      "Epoch 12/50\n",
      "23/23 [==============================] - 21s 563ms/step - loss: 0.3519 - binary_accuracy: 0.8610 - f1: 0.8047 - val_loss: 1.0723 - val_binary_accuracy: 0.4952 - val_f1: 0.5934\n",
      "Epoch 13/50\n",
      "23/23 [==============================] - 23s 632ms/step - loss: 0.3262 - binary_accuracy: 0.8666 - f1: 0.8109 - val_loss: 1.6363 - val_binary_accuracy: 0.4952 - val_f1: 0.5934\n",
      "Epoch 14/50\n",
      "23/23 [==============================] - 22s 590ms/step - loss: 0.2624 - binary_accuracy: 0.9087 - f1: 0.8462 - val_loss: 1.1099 - val_binary_accuracy: 0.5048 - val_f1: 0.0000e+00\n",
      "Epoch 15/50\n",
      "23/23 [==============================] - 22s 602ms/step - loss: 0.2345 - binary_accuracy: 0.9213 - f1: 0.8597 - val_loss: 1.0805 - val_binary_accuracy: 0.5048 - val_f1: 0.0000e+00\n",
      "Epoch 16/50\n",
      "23/23 [==============================] - 25s 690ms/step - loss: 0.1920 - binary_accuracy: 0.9410 - f1: 0.8703 - val_loss: 1.8269 - val_binary_accuracy: 0.5048 - val_f1: 0.0000e+00\n",
      "Epoch 17/50\n",
      "23/23 [==============================] - 20s 563ms/step - loss: 0.1777 - binary_accuracy: 0.9396 - f1: 0.8695 - val_loss: 1.0096 - val_binary_accuracy: 0.4952 - val_f1: 0.5934\n",
      "Epoch 18/50\n",
      "23/23 [==============================] - 22s 618ms/step - loss: 0.1935 - binary_accuracy: 0.9284 - f1: 0.8560 - val_loss: 0.8605 - val_binary_accuracy: 0.4857 - val_f1: 0.5804\n",
      "Epoch 19/50\n",
      "23/23 [==============================] - 23s 573ms/step - loss: 0.2146 - binary_accuracy: 0.9284 - f1: 0.8593 - val_loss: 4.4763 - val_binary_accuracy: 0.4952 - val_f1: 0.5934\n",
      "Epoch 20/50\n",
      "23/23 [==============================] - 21s 583ms/step - loss: 0.2102 - binary_accuracy: 0.9242 - f1: 0.8525 - val_loss: 1.1144 - val_binary_accuracy: 0.4952 - val_f1: 0.5934\n",
      "Epoch 21/50\n",
      "23/23 [==============================] - 23s 599ms/step - loss: 0.1863 - binary_accuracy: 0.9354 - f1: 0.8584 - val_loss: 1.2565 - val_binary_accuracy: 0.5333 - val_f1: 0.0667\n",
      "Epoch 22/50\n",
      "23/23 [==============================] - 25s 706ms/step - loss: 0.1196 - binary_accuracy: 0.9747 - f1: 0.8950 - val_loss: 0.6398 - val_binary_accuracy: 0.6095 - val_f1: 0.3012\n",
      "Epoch 23/50\n",
      "23/23 [==============================] - 21s 585ms/step - loss: 0.0886 - binary_accuracy: 0.9789 - f1: 0.9005 - val_loss: 2.6839 - val_binary_accuracy: 0.5095 - val_f1: 0.0089\n",
      "Epoch 24/50\n",
      "23/23 [==============================] - 23s 640ms/step - loss: 0.0683 - binary_accuracy: 0.9874 - f1: 0.9075 - val_loss: 2.7971 - val_binary_accuracy: 0.5048 - val_f1: 0.0000e+00\n",
      "Epoch 25/50\n",
      "23/23 [==============================] - 21s 579ms/step - loss: 0.0575 - binary_accuracy: 0.9930 - f1: 0.9096 - val_loss: 0.9117 - val_binary_accuracy: 0.6238 - val_f1: 0.2780\n",
      "Epoch 26/50\n",
      "23/23 [==============================] - 21s 648ms/step - loss: 0.0557 - binary_accuracy: 0.9916 - f1: 0.9076 - val_loss: 1.8116 - val_binary_accuracy: 0.5000 - val_f1: 0.5934\n",
      "Epoch 27/50\n",
      "23/23 [==============================] - 22s 573ms/step - loss: 0.0487 - binary_accuracy: 0.9888 - f1: 0.9054 - val_loss: 3.5655 - val_binary_accuracy: 0.5095 - val_f1: 0.0089\n",
      "Epoch 28/50\n",
      "23/23 [==============================] - 23s 637ms/step - loss: 0.0621 - binary_accuracy: 0.9831 - f1: 0.8977 - val_loss: 1.7343 - val_binary_accuracy: 0.5619 - val_f1: 0.6217\n",
      "Epoch 29/50\n",
      "23/23 [==============================] - 22s 560ms/step - loss: 0.0468 - binary_accuracy: 0.9902 - f1: 0.9032 - val_loss: 1.4312 - val_binary_accuracy: 0.6524 - val_f1: 0.3213\n",
      "Epoch 30/50\n",
      "23/23 [==============================] - 22s 586ms/step - loss: 0.0329 - binary_accuracy: 0.9944 - f1: 0.9079 - val_loss: 1.7726 - val_binary_accuracy: 0.5667 - val_f1: 0.1375\n",
      "Epoch 31/50\n",
      "23/23 [==============================] - 22s 618ms/step - loss: 0.0293 - binary_accuracy: 0.9930 - f1: 0.9083 - val_loss: 0.3957 - val_binary_accuracy: 0.8667 - val_f1: 0.7014\n",
      "Epoch 32/50\n",
      "23/23 [==============================] - 21s 577ms/step - loss: 0.0223 - binary_accuracy: 0.9986 - f1: 0.9123 - val_loss: 0.4091 - val_binary_accuracy: 0.7905 - val_f1: 0.6844\n",
      "Epoch 33/50\n",
      "23/23 [==============================] - 23s 628ms/step - loss: 0.0157 - binary_accuracy: 0.9986 - f1: 0.9112 - val_loss: 0.4908 - val_binary_accuracy: 0.7762 - val_f1: 0.6912\n",
      "Epoch 34/50\n",
      "23/23 [==============================] - 24s 635ms/step - loss: 0.0129 - binary_accuracy: 1.0000 - f1: 0.9130 - val_loss: 1.2333 - val_binary_accuracy: 0.6238 - val_f1: 0.6482\n",
      "Epoch 35/50\n",
      "23/23 [==============================] - 23s 603ms/step - loss: 0.0090 - binary_accuracy: 1.0000 - f1: 0.9130 - val_loss: 1.9688 - val_binary_accuracy: 0.5762 - val_f1: 0.1738\n",
      "Epoch 36/50\n",
      "23/23 [==============================] - 25s 680ms/step - loss: 0.0048 - binary_accuracy: 1.0000 - f1: 0.9130 - val_loss: 0.6500 - val_binary_accuracy: 0.7762 - val_f1: 0.7410\n",
      "Epoch 37/50\n",
      "23/23 [==============================] - 21s 535ms/step - loss: 0.0032 - binary_accuracy: 1.0000 - f1: 0.9130 - val_loss: 0.4013 - val_binary_accuracy: 0.8381 - val_f1: 0.6880\n",
      "Epoch 38/50\n",
      "23/23 [==============================] - 23s 604ms/step - loss: 0.0027 - binary_accuracy: 1.0000 - f1: 0.9130 - val_loss: 0.6252 - val_binary_accuracy: 0.8143 - val_f1: 0.6253\n",
      "Epoch 39/50\n",
      "23/23 [==============================] - 23s 611ms/step - loss: 0.0024 - binary_accuracy: 1.0000 - f1: 0.9130 - val_loss: 1.2168 - val_binary_accuracy: 0.7190 - val_f1: 0.4786\n",
      "Epoch 40/50\n",
      "23/23 [==============================] - 23s 608ms/step - loss: 0.0023 - binary_accuracy: 1.0000 - f1: 0.9130 - val_loss: 0.4731 - val_binary_accuracy: 0.8429 - val_f1: 0.6787\n",
      "Epoch 41/50\n",
      "23/23 [==============================] - 22s 616ms/step - loss: 0.0017 - binary_accuracy: 1.0000 - f1: 0.9130 - val_loss: 0.5326 - val_binary_accuracy: 0.8429 - val_f1: 0.6929\n",
      "Epoch 42/50\n",
      "23/23 [==============================] - 22s 547ms/step - loss: 0.0015 - binary_accuracy: 1.0000 - f1: 0.9130 - val_loss: 0.5424 - val_binary_accuracy: 0.8238 - val_f1: 0.6628\n",
      "Epoch 43/50\n",
      "23/23 [==============================] - 19s 532ms/step - loss: 0.0014 - binary_accuracy: 1.0000 - f1: 0.9130 - val_loss: 0.4976 - val_binary_accuracy: 0.8524 - val_f1: 0.7074\n",
      "Epoch 44/50\n",
      "23/23 [==============================] - 23s 588ms/step - loss: 0.0012 - binary_accuracy: 1.0000 - f1: 0.9130 - val_loss: 0.5190 - val_binary_accuracy: 0.8524 - val_f1: 0.7098\n",
      "Epoch 45/50\n",
      "23/23 [==============================] - 19s 554ms/step - loss: 0.0013 - binary_accuracy: 1.0000 - f1: 0.9130 - val_loss: 0.5484 - val_binary_accuracy: 0.8333 - val_f1: 0.6912\n",
      "Epoch 46/50\n",
      "23/23 [==============================] - 22s 561ms/step - loss: 0.0012 - binary_accuracy: 1.0000 - f1: 0.9130 - val_loss: 0.5430 - val_binary_accuracy: 0.8524 - val_f1: 0.7086\n",
      "Epoch 47/50\n",
      "23/23 [==============================] - 21s 579ms/step - loss: 0.0010 - binary_accuracy: 1.0000 - f1: 0.9130 - val_loss: 0.4732 - val_binary_accuracy: 0.8667 - val_f1: 0.7382\n",
      "Epoch 48/50\n",
      "23/23 [==============================] - 23s 589ms/step - loss: 9.8553e-04 - binary_accuracy: 1.0000 - f1: 0.9130 - val_loss: 0.5159 - val_binary_accuracy: 0.8571 - val_f1: 0.7298\n",
      "Epoch 49/50\n",
      "23/23 [==============================] - 20s 552ms/step - loss: 0.0011 - binary_accuracy: 1.0000 - f1: 0.9130 - val_loss: 0.5336 - val_binary_accuracy: 0.8571 - val_f1: 0.7360\n",
      "Epoch 50/50\n",
      "23/23 [==============================] - 22s 573ms/step - loss: 9.3090e-04 - binary_accuracy: 1.0000 - f1: 0.9130 - val_loss: 0.5576 - val_binary_accuracy: 0.8571 - val_f1: 0.7139\n",
      "------------------------------------------------------------------------\n",
      "Training for fold 2 ...\n",
      "Epoch 1/50\n",
      "24/24 [==============================] - 57s 1s/step - loss: 0.6692 - binary_accuracy: 0.6105 - f1: 0.5518 - val_loss: 0.6955 - val_binary_accuracy: 0.5000 - val_f1: 0.0000e+00\n",
      "Epoch 2/50\n",
      "24/24 [==============================] - 19s 522ms/step - loss: 0.6528 - binary_accuracy: 0.6267 - f1: 0.5777 - val_loss: 0.6909 - val_binary_accuracy: 0.5000 - val_f1: 0.0000e+00\n",
      "Epoch 3/50\n",
      "24/24 [==============================] - 22s 556ms/step - loss: 0.6328 - binary_accuracy: 0.6536 - f1: 0.6048 - val_loss: 0.6882 - val_binary_accuracy: 0.5278 - val_f1: 0.5694\n",
      "Epoch 4/50\n",
      "24/24 [==============================] - 22s 517ms/step - loss: 0.6253 - binary_accuracy: 0.6590 - f1: 0.6185 - val_loss: 0.7005 - val_binary_accuracy: 0.5000 - val_f1: 0.0000e+00\n",
      "Epoch 5/50\n",
      "24/24 [==============================] - 23s 611ms/step - loss: 0.6088 - binary_accuracy: 0.6941 - f1: 0.6437 - val_loss: 0.7022 - val_binary_accuracy: 0.5000 - val_f1: 0.0000e+00\n",
      "Epoch 6/50\n",
      "24/24 [==============================] - 21s 552ms/step - loss: 0.5935 - binary_accuracy: 0.6927 - f1: 0.6456 - val_loss: 0.6819 - val_binary_accuracy: 0.5667 - val_f1: 0.5830\n",
      "Epoch 7/50\n",
      "24/24 [==============================] - 23s 542ms/step - loss: 0.5808 - binary_accuracy: 0.6981 - f1: 0.6570 - val_loss: 0.7683 - val_binary_accuracy: 0.5000 - val_f1: 0.0000e+00\n",
      "Epoch 8/50\n",
      "24/24 [==============================] - 21s 562ms/step - loss: 0.5712 - binary_accuracy: 0.7049 - f1: 0.6518 - val_loss: 0.6881 - val_binary_accuracy: 0.5111 - val_f1: 0.0243\n",
      "Epoch 9/50\n",
      "24/24 [==============================] - 21s 528ms/step - loss: 0.5492 - binary_accuracy: 0.7278 - f1: 0.6794 - val_loss: 0.6884 - val_binary_accuracy: 0.5556 - val_f1: 0.5986\n",
      "Epoch 10/50\n",
      "24/24 [==============================] - 18s 448ms/step - loss: 0.5280 - binary_accuracy: 0.7372 - f1: 0.6854 - val_loss: 0.6832 - val_binary_accuracy: 0.5889 - val_f1: 0.4985\n",
      "Epoch 11/50\n",
      "24/24 [==============================] - 22s 651ms/step - loss: 0.5046 - binary_accuracy: 0.7601 - f1: 0.7062 - val_loss: 0.6861 - val_binary_accuracy: 0.5278 - val_f1: 0.0687\n",
      "Epoch 12/50\n",
      "24/24 [==============================] - 22s 577ms/step - loss: 0.4778 - binary_accuracy: 0.7844 - f1: 0.7230 - val_loss: 0.7063 - val_binary_accuracy: 0.5000 - val_f1: 0.5937\n",
      "Epoch 13/50\n",
      "24/24 [==============================] - 22s 604ms/step - loss: 0.4366 - binary_accuracy: 0.8181 - f1: 0.7571 - val_loss: 0.8236 - val_binary_accuracy: 0.5000 - val_f1: 0.0000e+00\n",
      "Epoch 14/50\n",
      "24/24 [==============================] - 20s 523ms/step - loss: 0.4033 - binary_accuracy: 0.8248 - f1: 0.7667 - val_loss: 0.6953 - val_binary_accuracy: 0.5056 - val_f1: 0.0139\n",
      "Epoch 15/50\n",
      "24/24 [==============================] - 23s 587ms/step - loss: 0.3664 - binary_accuracy: 0.8571 - f1: 0.7905 - val_loss: 0.7132 - val_binary_accuracy: 0.5111 - val_f1: 0.0382\n",
      "Epoch 16/50\n",
      "24/24 [==============================] - 17s 471ms/step - loss: 0.3183 - binary_accuracy: 0.8935 - f1: 0.8283 - val_loss: 0.6885 - val_binary_accuracy: 0.5389 - val_f1: 0.0910\n",
      "Epoch 17/50\n",
      "24/24 [==============================] - 21s 557ms/step - loss: 0.2905 - binary_accuracy: 0.9003 - f1: 0.8346 - val_loss: 0.7556 - val_binary_accuracy: 0.5000 - val_f1: 0.0000e+00\n",
      "Epoch 18/50\n",
      "24/24 [==============================] - 21s 503ms/step - loss: 0.2453 - binary_accuracy: 0.9178 - f1: 0.8488 - val_loss: 0.7748 - val_binary_accuracy: 0.5000 - val_f1: 0.0000e+00\n",
      "Epoch 19/50\n",
      "24/24 [==============================] - 21s 546ms/step - loss: 0.1815 - binary_accuracy: 0.9555 - f1: 0.8778 - val_loss: 0.7136 - val_binary_accuracy: 0.5000 - val_f1: 0.4912\n",
      "Epoch 20/50\n",
      "24/24 [==============================] - 19s 514ms/step - loss: 0.1671 - binary_accuracy: 0.9609 - f1: 0.8858 - val_loss: 4.4208 - val_binary_accuracy: 0.5000 - val_f1: 0.0000e+00\n",
      "Epoch 21/50\n",
      "24/24 [==============================] - 20s 542ms/step - loss: 0.1975 - binary_accuracy: 0.9353 - f1: 0.8647 - val_loss: 1.4494 - val_binary_accuracy: 0.5000 - val_f1: 0.0000e+00\n",
      "Epoch 22/50\n",
      "24/24 [==============================] - 20s 532ms/step - loss: 0.1636 - binary_accuracy: 0.9501 - f1: 0.8685 - val_loss: 2.6567 - val_binary_accuracy: 0.5000 - val_f1: 0.0000e+00\n",
      "Epoch 23/50\n",
      "24/24 [==============================] - 21s 600ms/step - loss: 0.1217 - binary_accuracy: 0.9757 - f1: 0.8902 - val_loss: 2.7868 - val_binary_accuracy: 0.5000 - val_f1: 0.0000e+00\n",
      "Epoch 24/50\n",
      "24/24 [==============================] - 19s 486ms/step - loss: 0.1183 - binary_accuracy: 0.9650 - f1: 0.8768 - val_loss: 4.1049 - val_binary_accuracy: 0.5000 - val_f1: 0.0000e+00\n",
      "Epoch 25/50\n",
      "24/24 [==============================] - 22s 513ms/step - loss: 0.0891 - binary_accuracy: 0.9757 - f1: 0.8905 - val_loss: 2.5209 - val_binary_accuracy: 0.5389 - val_f1: 0.0736\n",
      "Epoch 26/50\n",
      "24/24 [==============================] - 24s 603ms/step - loss: 0.0743 - binary_accuracy: 0.9784 - f1: 0.8873 - val_loss: 0.7166 - val_binary_accuracy: 0.6611 - val_f1: 0.4262\n",
      "Epoch 27/50\n",
      "24/24 [==============================] - 25s 625ms/step - loss: 0.0561 - binary_accuracy: 0.9879 - f1: 0.8981 - val_loss: 0.7258 - val_binary_accuracy: 0.6833 - val_f1: 0.4081\n",
      "Epoch 28/50\n",
      "24/24 [==============================] - 24s 621ms/step - loss: 0.0401 - binary_accuracy: 0.9906 - f1: 0.9017 - val_loss: 0.9790 - val_binary_accuracy: 0.6444 - val_f1: 0.3283\n",
      "Epoch 29/50\n",
      "24/24 [==============================] - 24s 684ms/step - loss: 0.0296 - binary_accuracy: 0.9946 - f1: 0.9029 - val_loss: 0.5461 - val_binary_accuracy: 0.7833 - val_f1: 0.6448\n",
      "Epoch 30/50\n",
      "24/24 [==============================] - 22s 524ms/step - loss: 0.0259 - binary_accuracy: 0.9946 - f1: 0.9017 - val_loss: 1.6715 - val_binary_accuracy: 0.5667 - val_f1: 0.1701\n",
      "Epoch 31/50\n",
      "24/24 [==============================] - 23s 565ms/step - loss: 0.0282 - binary_accuracy: 0.9933 - f1: 0.9027 - val_loss: 0.6430 - val_binary_accuracy: 0.7889 - val_f1: 0.6654\n",
      "Epoch 32/50\n",
      "24/24 [==============================] - 21s 553ms/step - loss: 0.0392 - binary_accuracy: 0.9906 - f1: 0.8975 - val_loss: 0.9743 - val_binary_accuracy: 0.7444 - val_f1: 0.5713\n",
      "Epoch 33/50\n",
      "24/24 [==============================] - 18s 504ms/step - loss: 0.0216 - binary_accuracy: 0.9973 - f1: 0.9045 - val_loss: 2.9443 - val_binary_accuracy: 0.5444 - val_f1: 0.1160\n",
      "Epoch 34/50\n",
      "24/24 [==============================] - 19s 549ms/step - loss: 0.0208 - binary_accuracy: 0.9973 - f1: 0.9048 - val_loss: 0.7659 - val_binary_accuracy: 0.7889 - val_f1: 0.6982\n",
      "Epoch 35/50\n",
      "24/24 [==============================] - 16s 465ms/step - loss: 0.0130 - binary_accuracy: 1.0000 - f1: 0.9062 - val_loss: 0.6740 - val_binary_accuracy: 0.8000 - val_f1: 0.7001\n",
      "Epoch 36/50\n",
      "24/24 [==============================] - 22s 566ms/step - loss: 0.0089 - binary_accuracy: 0.9987 - f1: 0.9052 - val_loss: 1.6703 - val_binary_accuracy: 0.6667 - val_f1: 0.4144\n",
      "Epoch 37/50\n",
      "24/24 [==============================] - 23s 610ms/step - loss: 0.0163 - binary_accuracy: 0.9960 - f1: 0.9035 - val_loss: 1.3963 - val_binary_accuracy: 0.6778 - val_f1: 0.4498\n",
      "Epoch 38/50\n",
      "24/24 [==============================] - 25s 637ms/step - loss: 0.0228 - binary_accuracy: 0.9933 - f1: 0.9009 - val_loss: 0.7655 - val_binary_accuracy: 0.8167 - val_f1: 0.6910\n",
      "Epoch 39/50\n",
      "24/24 [==============================] - 24s 572ms/step - loss: 0.0192 - binary_accuracy: 0.9960 - f1: 0.9038 - val_loss: 1.3235 - val_binary_accuracy: 0.8000 - val_f1: 0.7351\n",
      "Epoch 40/50\n",
      "24/24 [==============================] - 26s 601ms/step - loss: 0.0118 - binary_accuracy: 0.9987 - f1: 0.9055 - val_loss: 1.1703 - val_binary_accuracy: 0.7833 - val_f1: 0.7339\n",
      "Epoch 41/50\n",
      "24/24 [==============================] - 20s 560ms/step - loss: 0.0292 - binary_accuracy: 0.9919 - f1: 0.8986 - val_loss: 0.7378 - val_binary_accuracy: 0.7778 - val_f1: 0.6257\n",
      "Epoch 42/50\n",
      "24/24 [==============================] - 23s 597ms/step - loss: 0.0226 - binary_accuracy: 0.9960 - f1: 0.9035 - val_loss: 0.7511 - val_binary_accuracy: 0.7944 - val_f1: 0.6611\n",
      "Epoch 43/50\n",
      "24/24 [==============================] - 22s 595ms/step - loss: 0.0119 - binary_accuracy: 0.9987 - f1: 0.9062 - val_loss: 0.9539 - val_binary_accuracy: 0.7000 - val_f1: 0.6580\n",
      "Epoch 44/50\n",
      "24/24 [==============================] - 29s 756ms/step - loss: 0.0154 - binary_accuracy: 0.9946 - f1: 0.9024 - val_loss: 2.2298 - val_binary_accuracy: 0.6056 - val_f1: 0.6077\n",
      "Epoch 45/50\n",
      "24/24 [==============================] - 26s 717ms/step - loss: 0.0084 - binary_accuracy: 1.0000 - f1: 0.9062 - val_loss: 0.6958 - val_binary_accuracy: 0.8278 - val_f1: 0.7137\n",
      "Epoch 46/50\n",
      "24/24 [==============================] - 26s 633ms/step - loss: 0.0036 - binary_accuracy: 1.0000 - f1: 0.9062 - val_loss: 0.9606 - val_binary_accuracy: 0.7833 - val_f1: 0.7221\n",
      "Epoch 47/50\n",
      "24/24 [==============================] - 21s 459ms/step - loss: 0.0016 - binary_accuracy: 1.0000 - f1: 0.9062 - val_loss: 0.9438 - val_binary_accuracy: 0.7944 - val_f1: 0.7195\n",
      "Epoch 48/50\n",
      "24/24 [==============================] - 21s 538ms/step - loss: 0.0013 - binary_accuracy: 1.0000 - f1: 0.9062 - val_loss: 0.8149 - val_binary_accuracy: 0.8000 - val_f1: 0.7265\n",
      "Epoch 49/50\n",
      "24/24 [==============================] - 20s 536ms/step - loss: 0.0010 - binary_accuracy: 1.0000 - f1: 0.9062 - val_loss: 0.8139 - val_binary_accuracy: 0.8111 - val_f1: 0.7327\n",
      "Epoch 50/50\n",
      "24/24 [==============================] - 20s 541ms/step - loss: 9.4179e-04 - binary_accuracy: 1.0000 - f1: 0.9062 - val_loss: 0.6863 - val_binary_accuracy: 0.8111 - val_f1: 0.7105\n",
      "------------------------------------------------------------------------\n",
      "Training for fold 3 ...\n",
      "Epoch 1/50\n",
      "24/24 [==============================] - 55s 1s/step - loss: 0.6822 - binary_accuracy: 0.5806 - f1: 0.5364 - val_loss: 0.6911 - val_binary_accuracy: 0.5220 - val_f1: 0.6436\n",
      "Epoch 2/50\n",
      "24/24 [==============================] - 20s 546ms/step - loss: 0.6403 - binary_accuracy: 0.6566 - f1: 0.6335 - val_loss: 0.6917 - val_binary_accuracy: 0.5220 - val_f1: 0.6436\n",
      "Epoch 3/50\n",
      "24/24 [==============================] - 22s 590ms/step - loss: 0.6186 - binary_accuracy: 0.6658 - f1: 0.6361 - val_loss: 0.6946 - val_binary_accuracy: 0.5220 - val_f1: 0.6436\n",
      "Epoch 4/50\n",
      "24/24 [==============================] - 22s 584ms/step - loss: 0.5927 - binary_accuracy: 0.6894 - f1: 0.6660 - val_loss: 0.6940 - val_binary_accuracy: 0.4780 - val_f1: 0.0850\n",
      "Epoch 5/50\n",
      "24/24 [==============================] - 23s 593ms/step - loss: 0.5739 - binary_accuracy: 0.7090 - f1: 0.6846 - val_loss: 0.6969 - val_binary_accuracy: 0.5220 - val_f1: 0.6436\n",
      "Epoch 6/50\n",
      "24/24 [==============================] - 20s 515ms/step - loss: 0.5617 - binary_accuracy: 0.7248 - f1: 0.6938 - val_loss: 0.7094 - val_binary_accuracy: 0.5220 - val_f1: 0.6436\n",
      "Epoch 7/50\n",
      "24/24 [==============================] - 22s 633ms/step - loss: 0.5332 - binary_accuracy: 0.7444 - f1: 0.7137 - val_loss: 0.6925 - val_binary_accuracy: 0.5283 - val_f1: 0.2564\n",
      "Epoch 8/50\n",
      "24/24 [==============================] - 20s 523ms/step - loss: 0.5252 - binary_accuracy: 0.7549 - f1: 0.7180 - val_loss: 0.7523 - val_binary_accuracy: 0.4780 - val_f1: 0.0000e+00\n",
      "Epoch 9/50\n",
      "24/24 [==============================] - 19s 450ms/step - loss: 0.4812 - binary_accuracy: 0.7864 - f1: 0.7534 - val_loss: 0.6913 - val_binary_accuracy: 0.4528 - val_f1: 0.3287\n",
      "Epoch 10/50\n",
      "24/24 [==============================] - 20s 543ms/step - loss: 0.4640 - binary_accuracy: 0.7969 - f1: 0.7609 - val_loss: 0.9632 - val_binary_accuracy: 0.4780 - val_f1: 0.0000e+00\n",
      "Epoch 11/50\n",
      "24/24 [==============================] - 19s 502ms/step - loss: 0.4253 - binary_accuracy: 0.8283 - f1: 0.7953 - val_loss: 0.7403 - val_binary_accuracy: 0.4780 - val_f1: 0.0000e+00\n",
      "Epoch 12/50\n",
      "24/24 [==============================] - 21s 518ms/step - loss: 0.3955 - binary_accuracy: 0.8296 - f1: 0.7999 - val_loss: 0.6983 - val_binary_accuracy: 0.4969 - val_f1: 0.0648\n",
      "Epoch 13/50\n",
      "24/24 [==============================] - 20s 589ms/step - loss: 0.3643 - binary_accuracy: 0.8467 - f1: 0.8218 - val_loss: 0.7642 - val_binary_accuracy: 0.4780 - val_f1: 0.0000e+00\n",
      "Epoch 14/50\n",
      "24/24 [==============================] - 21s 618ms/step - loss: 0.3434 - binary_accuracy: 0.8702 - f1: 0.8396 - val_loss: 0.6945 - val_binary_accuracy: 0.5283 - val_f1: 0.1314\n",
      "Epoch 15/50\n",
      "24/24 [==============================] - 19s 459ms/step - loss: 0.2611 - binary_accuracy: 0.9030 - f1: 0.8742 - val_loss: 0.6831 - val_binary_accuracy: 0.5723 - val_f1: 0.2356\n",
      "Epoch 16/50\n",
      "24/24 [==============================] - 22s 576ms/step - loss: 0.1955 - binary_accuracy: 0.9502 - f1: 0.9176 - val_loss: 0.7626 - val_binary_accuracy: 0.4780 - val_f1: 0.0000e+00\n",
      "Epoch 17/50\n",
      "24/24 [==============================] - 22s 588ms/step - loss: 0.1944 - binary_accuracy: 0.9318 - f1: 0.8986 - val_loss: 0.6835 - val_binary_accuracy: 0.5535 - val_f1: 0.6557\n",
      "Epoch 18/50\n",
      "24/24 [==============================] - 19s 526ms/step - loss: 0.2340 - binary_accuracy: 0.9096 - f1: 0.8714 - val_loss: 2.8345 - val_binary_accuracy: 0.4780 - val_f1: 0.0000e+00\n",
      "Epoch 19/50\n",
      "24/24 [==============================] - 20s 551ms/step - loss: 0.2147 - binary_accuracy: 0.9227 - f1: 0.8912 - val_loss: 0.7357 - val_binary_accuracy: 0.5094 - val_f1: 0.3468\n",
      "Epoch 20/50\n",
      "24/24 [==============================] - 21s 534ms/step - loss: 0.1880 - binary_accuracy: 0.9423 - f1: 0.9045 - val_loss: 3.1769 - val_binary_accuracy: 0.5220 - val_f1: 0.6436\n",
      "Epoch 21/50\n",
      "24/24 [==============================] - 21s 562ms/step - loss: 0.1880 - binary_accuracy: 0.9489 - f1: 0.9152 - val_loss: 1.9538 - val_binary_accuracy: 0.5220 - val_f1: 0.6436\n",
      "Epoch 22/50\n",
      "24/24 [==============================] - 24s 651ms/step - loss: 0.2404 - binary_accuracy: 0.9017 - f1: 0.8604 - val_loss: 5.2190 - val_binary_accuracy: 0.4780 - val_f1: 0.0000e+00\n",
      "Epoch 23/50\n",
      "24/24 [==============================] - 21s 575ms/step - loss: 0.1935 - binary_accuracy: 0.9436 - f1: 0.9075 - val_loss: 3.1666 - val_binary_accuracy: 0.4717 - val_f1: 0.0000e+00\n",
      "Epoch 24/50\n",
      "24/24 [==============================] - 20s 529ms/step - loss: 0.2012 - binary_accuracy: 0.9358 - f1: 0.8978 - val_loss: 1.2015 - val_binary_accuracy: 0.6101 - val_f1: 0.4008\n",
      "Epoch 25/50\n",
      "24/24 [==============================] - 18s 458ms/step - loss: 0.1585 - binary_accuracy: 0.9554 - f1: 0.9141 - val_loss: 1.1579 - val_binary_accuracy: 0.5535 - val_f1: 0.2689\n",
      "Epoch 26/50\n",
      "24/24 [==============================] - 19s 508ms/step - loss: 0.0700 - binary_accuracy: 0.9921 - f1: 0.9489 - val_loss: 0.5599 - val_binary_accuracy: 0.7358 - val_f1: 0.7124\n",
      "Epoch 27/50\n",
      "24/24 [==============================] - 21s 506ms/step - loss: 0.0559 - binary_accuracy: 0.9895 - f1: 0.9484 - val_loss: 0.9199 - val_binary_accuracy: 0.6730 - val_f1: 0.4581\n",
      "Epoch 28/50\n",
      "24/24 [==============================] - 21s 584ms/step - loss: 0.0470 - binary_accuracy: 0.9921 - f1: 0.9503 - val_loss: 1.4717 - val_binary_accuracy: 0.5786 - val_f1: 0.2792\n",
      "Epoch 29/50\n",
      "24/24 [==============================] - 19s 480ms/step - loss: 0.0375 - binary_accuracy: 0.9948 - f1: 0.9486 - val_loss: 0.6397 - val_binary_accuracy: 0.7673 - val_f1: 0.7307\n",
      "Epoch 30/50\n",
      "24/24 [==============================] - 23s 623ms/step - loss: 0.0236 - binary_accuracy: 1.0000 - f1: 0.9531 - val_loss: 0.7017 - val_binary_accuracy: 0.7421 - val_f1: 0.5918\n",
      "Epoch 31/50\n",
      "24/24 [==============================] - 19s 512ms/step - loss: 0.0152 - binary_accuracy: 1.0000 - f1: 0.9531 - val_loss: 1.1134 - val_binary_accuracy: 0.6541 - val_f1: 0.7095\n",
      "Epoch 32/50\n",
      "24/24 [==============================] - 18s 470ms/step - loss: 0.0135 - binary_accuracy: 0.9987 - f1: 0.9531 - val_loss: 2.1938 - val_binary_accuracy: 0.5849 - val_f1: 0.6726\n",
      "Epoch 33/50\n",
      "24/24 [==============================] - 20s 509ms/step - loss: 0.0100 - binary_accuracy: 1.0000 - f1: 0.9531 - val_loss: 0.5391 - val_binary_accuracy: 0.8365 - val_f1: 0.7824\n",
      "Epoch 34/50\n",
      "24/24 [==============================] - 17s 435ms/step - loss: 0.0062 - binary_accuracy: 1.0000 - f1: 0.9531 - val_loss: 0.7740 - val_binary_accuracy: 0.7925 - val_f1: 0.7805\n",
      "Epoch 35/50\n",
      "24/24 [==============================] - 23s 622ms/step - loss: 0.0042 - binary_accuracy: 1.0000 - f1: 0.9531 - val_loss: 0.6392 - val_binary_accuracy: 0.8050 - val_f1: 0.7621\n",
      "Epoch 36/50\n",
      "24/24 [==============================] - 18s 476ms/step - loss: 0.0033 - binary_accuracy: 1.0000 - f1: 0.9531 - val_loss: 0.5360 - val_binary_accuracy: 0.8491 - val_f1: 0.7924\n",
      "Epoch 37/50\n",
      "24/24 [==============================] - 20s 526ms/step - loss: 0.0027 - binary_accuracy: 1.0000 - f1: 0.9531 - val_loss: 0.5825 - val_binary_accuracy: 0.8491 - val_f1: 0.7974\n",
      "Epoch 38/50\n",
      "24/24 [==============================] - 21s 557ms/step - loss: 0.0024 - binary_accuracy: 1.0000 - f1: 0.9531 - val_loss: 0.5109 - val_binary_accuracy: 0.8491 - val_f1: 0.7757\n",
      "Epoch 39/50\n",
      "24/24 [==============================] - 20s 578ms/step - loss: 0.0023 - binary_accuracy: 1.0000 - f1: 0.9531 - val_loss: 0.5201 - val_binary_accuracy: 0.8491 - val_f1: 0.7807\n",
      "Epoch 40/50\n",
      "24/24 [==============================] - 22s 528ms/step - loss: 0.0021 - binary_accuracy: 1.0000 - f1: 0.9531 - val_loss: 0.5560 - val_binary_accuracy: 0.8553 - val_f1: 0.7974\n",
      "Epoch 41/50\n",
      "24/24 [==============================] - 18s 527ms/step - loss: 0.0018 - binary_accuracy: 1.0000 - f1: 0.9531 - val_loss: 0.4751 - val_binary_accuracy: 0.8616 - val_f1: 0.8010\n",
      "Epoch 42/50\n",
      "24/24 [==============================] - 19s 497ms/step - loss: 0.0016 - binary_accuracy: 1.0000 - f1: 0.9531 - val_loss: 0.4728 - val_binary_accuracy: 0.8553 - val_f1: 0.7960\n",
      "Epoch 43/50\n",
      "24/24 [==============================] - 17s 458ms/step - loss: 0.0016 - binary_accuracy: 1.0000 - f1: 0.9531 - val_loss: 0.4406 - val_binary_accuracy: 0.8616 - val_f1: 0.7926\n",
      "Epoch 44/50\n",
      "24/24 [==============================] - 21s 591ms/step - loss: 0.0014 - binary_accuracy: 1.0000 - f1: 0.9531 - val_loss: 0.4372 - val_binary_accuracy: 0.8679 - val_f1: 0.7926\n",
      "Epoch 45/50\n",
      "24/24 [==============================] - 19s 498ms/step - loss: 0.0013 - binary_accuracy: 1.0000 - f1: 0.9531 - val_loss: 0.4212 - val_binary_accuracy: 0.8679 - val_f1: 0.8093\n",
      "Epoch 46/50\n",
      "24/24 [==============================] - 20s 529ms/step - loss: 0.0011 - binary_accuracy: 1.0000 - f1: 0.9531 - val_loss: 0.4327 - val_binary_accuracy: 0.8616 - val_f1: 0.7926\n",
      "Epoch 47/50\n",
      "24/24 [==============================] - 20s 509ms/step - loss: 0.0011 - binary_accuracy: 1.0000 - f1: 0.9531 - val_loss: 0.4436 - val_binary_accuracy: 0.8616 - val_f1: 0.8018\n",
      "Epoch 48/50\n",
      "24/24 [==============================] - 21s 561ms/step - loss: 0.0011 - binary_accuracy: 1.0000 - f1: 0.9531 - val_loss: 0.3974 - val_binary_accuracy: 0.8742 - val_f1: 0.8026\n",
      "Epoch 49/50\n",
      "24/24 [==============================] - 20s 504ms/step - loss: 9.8116e-04 - binary_accuracy: 1.0000 - f1: 0.9531 - val_loss: 0.4127 - val_binary_accuracy: 0.8679 - val_f1: 0.7976\n",
      "Epoch 50/50\n",
      "24/24 [==============================] - 22s 591ms/step - loss: 8.7686e-04 - binary_accuracy: 1.0000 - f1: 0.9531 - val_loss: 0.4100 - val_binary_accuracy: 0.8616 - val_f1: 0.7926\n",
      "------------------------------------------------------------------------\n",
      "Training for fold 4 ...\n",
      "Epoch 1/50\n",
      "24/24 [==============================] - 57s 1s/step - loss: 0.6574 - binary_accuracy: 0.6092 - f1: 0.5673 - val_loss: 0.7149 - val_binary_accuracy: 0.4778 - val_f1: 0.0000e+00\n",
      "Epoch 2/50\n",
      "24/24 [==============================] - 21s 599ms/step - loss: 0.6215 - binary_accuracy: 0.6712 - f1: 0.6091 - val_loss: 0.7124 - val_binary_accuracy: 0.4778 - val_f1: 0.0000e+00\n",
      "Epoch 3/50\n",
      "24/24 [==============================] - 21s 517ms/step - loss: 0.6087 - binary_accuracy: 0.6685 - f1: 0.5990 - val_loss: 0.7732 - val_binary_accuracy: 0.4778 - val_f1: 0.0000e+00\n",
      "Epoch 4/50\n",
      "24/24 [==============================] - 21s 500ms/step - loss: 0.5910 - binary_accuracy: 0.6927 - f1: 0.6302 - val_loss: 0.7733 - val_binary_accuracy: 0.4778 - val_f1: 0.0000e+00\n",
      "Epoch 5/50\n",
      "24/24 [==============================] - 21s 541ms/step - loss: 0.5701 - binary_accuracy: 0.7102 - f1: 0.6404 - val_loss: 0.7552 - val_binary_accuracy: 0.4778 - val_f1: 0.0000e+00\n",
      "Epoch 6/50\n",
      "24/24 [==============================] - 17s 439ms/step - loss: 0.5532 - binary_accuracy: 0.7332 - f1: 0.6710 - val_loss: 0.7114 - val_binary_accuracy: 0.4778 - val_f1: 0.0000e+00\n",
      "Epoch 7/50\n",
      "24/24 [==============================] - 21s 531ms/step - loss: 0.5431 - binary_accuracy: 0.7264 - f1: 0.6629 - val_loss: 0.7071 - val_binary_accuracy: 0.4889 - val_f1: 0.0437\n",
      "Epoch 8/50\n",
      "24/24 [==============================] - 21s 548ms/step - loss: 0.5129 - binary_accuracy: 0.7547 - f1: 0.6920 - val_loss: 0.7149 - val_binary_accuracy: 0.4889 - val_f1: 0.0278\n",
      "Epoch 9/50\n",
      "24/24 [==============================] - 21s 531ms/step - loss: 0.5044 - binary_accuracy: 0.7668 - f1: 0.7087 - val_loss: 0.6954 - val_binary_accuracy: 0.5000 - val_f1: 0.5527\n",
      "Epoch 10/50\n",
      "24/24 [==============================] - 17s 488ms/step - loss: 0.4758 - binary_accuracy: 0.7938 - f1: 0.7282 - val_loss: 0.7003 - val_binary_accuracy: 0.4889 - val_f1: 0.2538\n",
      "Epoch 11/50\n",
      "24/24 [==============================] - 19s 497ms/step - loss: 0.4599 - binary_accuracy: 0.7857 - f1: 0.7274 - val_loss: 0.7916 - val_binary_accuracy: 0.5222 - val_f1: 0.5994\n",
      "Epoch 12/50\n",
      "24/24 [==============================] - 20s 494ms/step - loss: 0.4374 - binary_accuracy: 0.8221 - f1: 0.7560 - val_loss: 0.7338 - val_binary_accuracy: 0.4944 - val_f1: 0.0764\n",
      "Epoch 13/50\n",
      "24/24 [==============================] - 20s 483ms/step - loss: 0.4109 - binary_accuracy: 0.8383 - f1: 0.7753 - val_loss: 0.7004 - val_binary_accuracy: 0.5000 - val_f1: 0.4072\n",
      "Epoch 14/50\n",
      "24/24 [==============================] - 18s 518ms/step - loss: 0.3752 - binary_accuracy: 0.8558 - f1: 0.7870 - val_loss: 0.7591 - val_binary_accuracy: 0.5222 - val_f1: 0.5994\n",
      "Epoch 15/50\n",
      "24/24 [==============================] - 20s 583ms/step - loss: 0.3327 - binary_accuracy: 0.8841 - f1: 0.8097 - val_loss: 0.9644 - val_binary_accuracy: 0.5222 - val_f1: 0.5994\n",
      "Epoch 16/50\n",
      "24/24 [==============================] - 20s 532ms/step - loss: 0.2726 - binary_accuracy: 0.9097 - f1: 0.8380 - val_loss: 1.1386 - val_binary_accuracy: 0.5222 - val_f1: 0.5994\n",
      "Epoch 17/50\n",
      "24/24 [==============================] - 20s 496ms/step - loss: 0.2314 - binary_accuracy: 0.9326 - f1: 0.8620 - val_loss: 0.7927 - val_binary_accuracy: 0.5278 - val_f1: 0.4229\n",
      "Epoch 18/50\n",
      "24/24 [==============================] - 20s 514ms/step - loss: 0.1783 - binary_accuracy: 0.9488 - f1: 0.8746 - val_loss: 1.0246 - val_binary_accuracy: 0.4833 - val_f1: 0.0347\n",
      "Epoch 19/50\n",
      "24/24 [==============================] - 19s 477ms/step - loss: 0.1902 - binary_accuracy: 0.9434 - f1: 0.8638 - val_loss: 2.7290 - val_binary_accuracy: 0.4778 - val_f1: 0.0000e+00\n",
      "Epoch 20/50\n",
      "24/24 [==============================] - 20s 489ms/step - loss: 0.2053 - binary_accuracy: 0.9340 - f1: 0.8566 - val_loss: 2.8078 - val_binary_accuracy: 0.4889 - val_f1: 0.0590\n",
      "Epoch 21/50\n",
      "24/24 [==============================] - 20s 518ms/step - loss: 0.1592 - binary_accuracy: 0.9596 - f1: 0.8736 - val_loss: 7.1108 - val_binary_accuracy: 0.4778 - val_f1: 0.0000e+00\n",
      "Epoch 22/50\n",
      "24/24 [==============================] - 18s 451ms/step - loss: 0.1259 - binary_accuracy: 0.9717 - f1: 0.8821 - val_loss: 5.6508 - val_binary_accuracy: 0.4778 - val_f1: 0.0000e+00\n",
      "Epoch 23/50\n",
      "24/24 [==============================] - 23s 591ms/step - loss: 0.1020 - binary_accuracy: 0.9771 - f1: 0.8900 - val_loss: 8.5816 - val_binary_accuracy: 0.4778 - val_f1: 0.0000e+00\n",
      "Epoch 24/50\n",
      "24/24 [==============================] - 19s 514ms/step - loss: 0.0811 - binary_accuracy: 0.9757 - f1: 0.8896 - val_loss: 7.3303 - val_binary_accuracy: 0.4778 - val_f1: 0.0000e+00\n",
      "Epoch 25/50\n",
      "24/24 [==============================] - 20s 541ms/step - loss: 0.1266 - binary_accuracy: 0.9555 - f1: 0.8744 - val_loss: 0.9459 - val_binary_accuracy: 0.6889 - val_f1: 0.5480\n",
      "Epoch 26/50\n",
      "24/24 [==============================] - 18s 482ms/step - loss: 0.1045 - binary_accuracy: 0.9690 - f1: 0.8831 - val_loss: 1.3321 - val_binary_accuracy: 0.6278 - val_f1: 0.3151\n",
      "Epoch 27/50\n",
      "24/24 [==============================] - 20s 482ms/step - loss: 0.0755 - binary_accuracy: 0.9825 - f1: 0.8953 - val_loss: 5.1058 - val_binary_accuracy: 0.4889 - val_f1: 0.0312\n",
      "Epoch 28/50\n",
      "24/24 [==============================] - 19s 466ms/step - loss: 0.0585 - binary_accuracy: 0.9825 - f1: 0.8949 - val_loss: 1.2223 - val_binary_accuracy: 0.7000 - val_f1: 0.4366\n",
      "Epoch 29/50\n",
      "24/24 [==============================] - 20s 506ms/step - loss: 0.0496 - binary_accuracy: 0.9933 - f1: 0.9020 - val_loss: 2.2589 - val_binary_accuracy: 0.6056 - val_f1: 0.6150\n",
      "Epoch 30/50\n",
      "24/24 [==============================] - 19s 472ms/step - loss: 0.0401 - binary_accuracy: 0.9906 - f1: 0.9000 - val_loss: 3.0460 - val_binary_accuracy: 0.5278 - val_f1: 0.1319\n",
      "Epoch 31/50\n",
      "24/24 [==============================] - 21s 518ms/step - loss: 0.0723 - binary_accuracy: 0.9717 - f1: 0.8838 - val_loss: 2.8840 - val_binary_accuracy: 0.6333 - val_f1: 0.3486\n",
      "Epoch 32/50\n",
      "24/24 [==============================] - 22s 538ms/step - loss: 0.0584 - binary_accuracy: 0.9798 - f1: 0.8897 - val_loss: 1.5120 - val_binary_accuracy: 0.6667 - val_f1: 0.3806\n",
      "Epoch 33/50\n",
      "24/24 [==============================] - 19s 493ms/step - loss: 0.0320 - binary_accuracy: 0.9973 - f1: 0.9052 - val_loss: 3.0294 - val_binary_accuracy: 0.6000 - val_f1: 0.6139\n",
      "Epoch 34/50\n",
      "24/24 [==============================] - 23s 624ms/step - loss: 0.0233 - binary_accuracy: 0.9973 - f1: 0.9045 - val_loss: 0.8482 - val_binary_accuracy: 0.7000 - val_f1: 0.6413\n",
      "Epoch 35/50\n",
      "24/24 [==============================] - 21s 533ms/step - loss: 0.0226 - binary_accuracy: 0.9973 - f1: 0.9052 - val_loss: 0.6237 - val_binary_accuracy: 0.7778 - val_f1: 0.6156\n",
      "Epoch 36/50\n",
      "24/24 [==============================] - 19s 425ms/step - loss: 0.0536 - binary_accuracy: 0.9811 - f1: 0.8925 - val_loss: 5.4112 - val_binary_accuracy: 0.5222 - val_f1: 0.5994\n",
      "Epoch 37/50\n",
      "24/24 [==============================] - 19s 490ms/step - loss: 0.0250 - binary_accuracy: 0.9946 - f1: 0.9045 - val_loss: 2.6256 - val_binary_accuracy: 0.5722 - val_f1: 0.6169\n",
      "Epoch 38/50\n",
      "24/24 [==============================] - 21s 559ms/step - loss: 0.0213 - binary_accuracy: 0.9960 - f1: 0.9024 - val_loss: 9.1043 - val_binary_accuracy: 0.5222 - val_f1: 0.5994\n",
      "Epoch 39/50\n",
      "24/24 [==============================] - 19s 543ms/step - loss: 0.0137 - binary_accuracy: 0.9987 - f1: 0.9052 - val_loss: 1.0643 - val_binary_accuracy: 0.7778 - val_f1: 0.5617\n",
      "Epoch 40/50\n",
      "24/24 [==============================] - 18s 436ms/step - loss: 0.0059 - binary_accuracy: 1.0000 - f1: 0.9062 - val_loss: 0.9296 - val_binary_accuracy: 0.7500 - val_f1: 0.5478\n",
      "Epoch 41/50\n",
      "24/24 [==============================] - 20s 497ms/step - loss: 0.0034 - binary_accuracy: 1.0000 - f1: 0.9062 - val_loss: 0.9745 - val_binary_accuracy: 0.7889 - val_f1: 0.6591\n",
      "Epoch 42/50\n",
      "24/24 [==============================] - 20s 572ms/step - loss: 0.0025 - binary_accuracy: 1.0000 - f1: 0.9062 - val_loss: 0.8882 - val_binary_accuracy: 0.7833 - val_f1: 0.6214\n",
      "Epoch 43/50\n",
      "24/24 [==============================] - 18s 454ms/step - loss: 0.0020 - binary_accuracy: 1.0000 - f1: 0.9062 - val_loss: 0.9685 - val_binary_accuracy: 0.7889 - val_f1: 0.6596\n",
      "Epoch 44/50\n",
      "24/24 [==============================] - 20s 484ms/step - loss: 0.0022 - binary_accuracy: 1.0000 - f1: 0.9062 - val_loss: 0.8726 - val_binary_accuracy: 0.8000 - val_f1: 0.6305\n",
      "Epoch 45/50\n",
      "24/24 [==============================] - 18s 471ms/step - loss: 0.0018 - binary_accuracy: 1.0000 - f1: 0.9062 - val_loss: 0.8600 - val_binary_accuracy: 0.8000 - val_f1: 0.6277\n",
      "Epoch 46/50\n",
      "24/24 [==============================] - 18s 481ms/step - loss: 0.0017 - binary_accuracy: 1.0000 - f1: 0.9062 - val_loss: 0.9069 - val_binary_accuracy: 0.7944 - val_f1: 0.6437\n",
      "Epoch 47/50\n",
      "24/24 [==============================] - 21s 579ms/step - loss: 0.0014 - binary_accuracy: 1.0000 - f1: 0.9062 - val_loss: 0.9199 - val_binary_accuracy: 0.7944 - val_f1: 0.6501\n",
      "Epoch 48/50\n",
      "24/24 [==============================] - 20s 530ms/step - loss: 0.0011 - binary_accuracy: 1.0000 - f1: 0.9062 - val_loss: 0.8937 - val_binary_accuracy: 0.8056 - val_f1: 0.6584\n",
      "Epoch 49/50\n",
      "24/24 [==============================] - 19s 486ms/step - loss: 0.0011 - binary_accuracy: 1.0000 - f1: 0.9062 - val_loss: 0.9201 - val_binary_accuracy: 0.7944 - val_f1: 0.6501\n",
      "Epoch 50/50\n",
      "24/24 [==============================] - 19s 447ms/step - loss: 9.9722e-04 - binary_accuracy: 1.0000 - f1: 0.9062 - val_loss: 0.9314 - val_binary_accuracy: 0.7944 - val_f1: 0.6485\n"
     ]
    }
   ],
   "source": [
    "train_metrics = []\n",
    "val_metrics = []\n",
    "fold_no = 0\n",
    "\n",
    "for (train_index, val_index) in kfold.split(files):\n",
    "\n",
    "    # Get train & validation paths\n",
    "    train_files = [files[item] for item in train_index]\n",
    "    val_files = [files[item] for item in val_index]\n",
    "\n",
    "    # Load fold train & validation datasets\n",
    "    train_fold_dataset = load_tfr_dataset(files = train_files)\n",
    "    val_fold_dataset = load_tfr_dataset(files = val_files)\n",
    "\n",
    "    # Batch datasets\n",
    "    batch_size = 32\n",
    "    train_fold_dataset = train_fold_dataset.batch(batch_size).prefetch(1)\n",
    "    val_fold_dataset = val_fold_dataset.batch(batch_size).prefetch(1)\n",
    "    \n",
    "    # Define inputs\n",
    "    model_name = 'cnn_model_cross_validation'\n",
    "    input_shape = (110, 130, 80)\n",
    "\n",
    "    # Define optimizer\n",
    "    optimizer = Adam(learning_rate = 0.0001, decay = 1e-6)\n",
    "\n",
    "    # TPU strategy\n",
    "    with tpu_strategy.scope(): \n",
    "        \n",
    "        # Build model\n",
    "        model = build_model_3d(model_name, input_shape)\n",
    "\n",
    "        # Compile model\n",
    "        model.compile(loss = 'binary_crossentropy',\n",
    "                      optimizer = optimizer,\n",
    "                      metrics = [BinaryAccuracy(), f1])\n",
    "    \n",
    "    # Generate a print\n",
    "    print('------------------------------------------------------------------------')\n",
    "    print(f'Training for fold {fold_no} ...')\n",
    "\n",
    "    # Train model\n",
    "    history = model.fit(train_fold_dataset,\n",
    "                        epochs = 50,\n",
    "                        validation_data = val_fold_dataset,\n",
    "                        verbose = 1)\n",
    "\n",
    "    # Get training true & predicted labels\n",
    "    train_true_labels = get_true_labels(train_fold_dataset)\n",
    "    train_predicted_labels = get_predicted_labels(model, train_fold_dataset)\n",
    "\n",
    "    # Get validation true & predicted labels\n",
    "    val_true_labels = get_true_labels(val_fold_dataset)\n",
    "    val_predicted_labels = get_predicted_labels(model, val_fold_dataset)\n",
    "\n",
    "    # Calculate metrics\n",
    "    accuracy_train, precision_train, recall_train, f1_train =  get_metrics(train_true_labels, \n",
    "                                                                           train_predicted_labels)\n",
    "    \n",
    "    accuracy_val, precision_val, recall_val, f1_val =  get_metrics(val_true_labels, \n",
    "                                                                   val_predicted_labels)\n",
    "\n",
    "    # Save metrics to lists\n",
    "    train_metrics.append([accuracy_train, precision_train, recall_train, f1_train])\n",
    "    val_metrics.append([accuracy_val, precision_val, recall_val, f1_val])\n",
    "\n",
    "    tf.keras.backend.clear_session()\n",
    "    \n",
    "    fold_no += 1"
   ]
  },
  {
   "cell_type": "markdown",
   "metadata": {
    "id": "yTnzeY8Naz3A"
   },
   "source": [
    "#### Cross-validation evaluation"
   ]
  },
  {
   "cell_type": "code",
   "execution_count": 155,
   "metadata": {
    "colab": {
     "base_uri": "https://localhost:8080/",
     "height": 629
    },
    "executionInfo": {
     "elapsed": 4950,
     "status": "ok",
     "timestamp": 1624905590451,
     "user": {
      "displayName": "Fernando Herran",
      "photoUrl": "",
      "userId": "09119314463851443877"
     },
     "user_tz": -120
    },
    "id": "K0Tqo283ynWC",
    "outputId": "03edaa91-8a71-4cac-dc6c-1af0b13d4f24"
   },
   "outputs": [
    {
     "data": {
      "image/png": "[encoded data removed]",
      "text/plain": [
       "<Figure size 720x720 with 4 Axes>"
      ]
     },
     "metadata": {
      "tags": []
     },
     "output_type": "display_data"
    }
   ],
   "source": [
    "number_folds = list(range(5))\n",
    "\n",
    "# Build figure\n",
    "fig, axes = plt.subplots(2,2,figsize = (10, 10), sharey=True, sharex=True)\n",
    "  \n",
    "axes[0][0].plot(number_folds, [item[0] for item in train_metrics], 'o-', linewidth=1.5, markersize=6)\n",
    "axes[0][0].plot(number_folds, [item[0] for item in val_metrics], 'o-', linewidth=1.5, markersize=6)\n",
    "axes[0][0].set_title('Accuracy', fontsize = 14, fontweight = 'bold');\n",
    "axes[0][0].legend(['Train', 'Validation'], loc = 'lower right')\n",
    "\n",
    "axes[0][1].plot(number_folds, [item[1] for item in train_metrics], 'o-', linewidth=1.5, markersize=6)\n",
    "axes[0][1].plot(number_folds, [item[1] for item in val_metrics], 'o-', linewidth=1.5, markersize=6)\n",
    "axes[0][1].set_title('Precision', fontsize = 14, fontweight = 'bold');\n",
    "\n",
    "axes[1][0].plot(number_folds, [item[2] for item in train_metrics], 'o-', linewidth=1.5, markersize=6)\n",
    "axes[1][0].plot(number_folds, [item[2] for item in val_metrics], 'o-', linewidth=1.5, markersize=6)\n",
    "axes[1][0].set_title('Recall', fontsize = 14, fontweight = 'bold');\n",
    "axes[1][0].set_xlabel('Fold', fontsize=14)\n",
    "\n",
    "axes[1][1].plot(number_folds, [item[3] for item in train_metrics], 'o-', linewidth=1.5, markersize=6)\n",
    "axes[1][1].plot(number_folds, [item[3] for item in val_metrics], 'o-', linewidth=1.5, markersize=6)\n",
    "axes[1][1].set_title('F1-score', fontsize = 14, fontweight = 'bold')\n",
    "axes[1][1].set_xlabel('Fold', fontsize=14)\n",
    "\n",
    "# Set y axis limits\n",
    "plt.setp(axes, ylim=[0.5,1.05])\n",
    "\n",
    "# Save figure\n",
    "plt.savefig(path + 'Results/figures/cross_validation.png', dpi = 500, transparent = False)\n",
    "\n",
    "# Show figure\n",
    "fig.show()"
   ]
  }
 ],
 "metadata": {
  "accelerator": "TPU",
  "colab": {
   "collapsed_sections": [
    "4kYw8MBtobxI"
   ],
   "machine_shape": "hm",
   "name": "4_CNN_creation.ipynb",
   "provenance": [],
   "toc_visible": true
  },
  "kernelspec": {
   "display_name": "Python 3",
   "language": "python",
   "name": "python3"
  },
  "language_info": {
   "codemirror_mode": {
    "name": "ipython",
    "version": 3
   },
   "file_extension": ".py",
   "mimetype": "text/x-python",
   "name": "python",
   "nbconvert_exporter": "python",
   "pygments_lexer": "ipython3",
   "version": "3.8.5"
  }
 },
 "nbformat": 4,
 "nbformat_minor": 1
}
